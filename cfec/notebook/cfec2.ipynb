{
 "cells": [
  {
   "cell_type": "code",
   "execution_count": 1,
   "metadata": {},
   "outputs": [],
   "source": [
    "%load_ext autoreload\n",
    "%autoreload 2"
   ]
  },
  {
   "cell_type": "code",
   "execution_count": 2,
   "metadata": {},
   "outputs": [],
   "source": [
    "import pandas as pd"
   ]
  },
  {
   "cell_type": "code",
   "execution_count": 3,
   "metadata": {},
   "outputs": [],
   "source": [
    "df = pd.read_csv('../data/train.csv')\n",
    "df_test = pd.read_csv('../data/test.csv')"
   ]
  },
  {
   "cell_type": "code",
   "execution_count": 4,
   "metadata": {},
   "outputs": [
    {
     "data": {
      "text/html": [
       "<div>\n",
       "<style scoped>\n",
       "    .dataframe tbody tr th:only-of-type {\n",
       "        vertical-align: middle;\n",
       "    }\n",
       "\n",
       "    .dataframe tbody tr th {\n",
       "        vertical-align: top;\n",
       "    }\n",
       "\n",
       "    .dataframe thead th {\n",
       "        text-align: right;\n",
       "    }\n",
       "</style>\n",
       "<table border=\"1\" class=\"dataframe\">\n",
       "  <thead>\n",
       "    <tr style=\"text-align: right;\">\n",
       "      <th></th>\n",
       "      <th>id</th>\n",
       "      <th>bin_0</th>\n",
       "      <th>bin_1</th>\n",
       "      <th>bin_2</th>\n",
       "      <th>bin_3</th>\n",
       "      <th>bin_4</th>\n",
       "      <th>nom_0</th>\n",
       "      <th>nom_1</th>\n",
       "      <th>nom_2</th>\n",
       "      <th>nom_3</th>\n",
       "      <th>...</th>\n",
       "      <th>nom_9</th>\n",
       "      <th>ord_0</th>\n",
       "      <th>ord_1</th>\n",
       "      <th>ord_2</th>\n",
       "      <th>ord_3</th>\n",
       "      <th>ord_4</th>\n",
       "      <th>ord_5</th>\n",
       "      <th>day</th>\n",
       "      <th>month</th>\n",
       "      <th>target</th>\n",
       "    </tr>\n",
       "  </thead>\n",
       "  <tbody>\n",
       "    <tr>\n",
       "      <th>0</th>\n",
       "      <td>0</td>\n",
       "      <td>0.0</td>\n",
       "      <td>0.0</td>\n",
       "      <td>0.0</td>\n",
       "      <td>F</td>\n",
       "      <td>N</td>\n",
       "      <td>Red</td>\n",
       "      <td>Trapezoid</td>\n",
       "      <td>Hamster</td>\n",
       "      <td>Russia</td>\n",
       "      <td>...</td>\n",
       "      <td>02e7c8990</td>\n",
       "      <td>3.0</td>\n",
       "      <td>Contributor</td>\n",
       "      <td>Hot</td>\n",
       "      <td>c</td>\n",
       "      <td>U</td>\n",
       "      <td>Pw</td>\n",
       "      <td>6.0</td>\n",
       "      <td>3.0</td>\n",
       "      <td>0</td>\n",
       "    </tr>\n",
       "    <tr>\n",
       "      <th>1</th>\n",
       "      <td>1</td>\n",
       "      <td>1.0</td>\n",
       "      <td>1.0</td>\n",
       "      <td>0.0</td>\n",
       "      <td>F</td>\n",
       "      <td>Y</td>\n",
       "      <td>Red</td>\n",
       "      <td>Star</td>\n",
       "      <td>Axolotl</td>\n",
       "      <td>NaN</td>\n",
       "      <td>...</td>\n",
       "      <td>f37df64af</td>\n",
       "      <td>3.0</td>\n",
       "      <td>Grandmaster</td>\n",
       "      <td>Warm</td>\n",
       "      <td>e</td>\n",
       "      <td>X</td>\n",
       "      <td>pE</td>\n",
       "      <td>7.0</td>\n",
       "      <td>7.0</td>\n",
       "      <td>0</td>\n",
       "    </tr>\n",
       "    <tr>\n",
       "      <th>2</th>\n",
       "      <td>2</td>\n",
       "      <td>0.0</td>\n",
       "      <td>1.0</td>\n",
       "      <td>0.0</td>\n",
       "      <td>F</td>\n",
       "      <td>N</td>\n",
       "      <td>Red</td>\n",
       "      <td>NaN</td>\n",
       "      <td>Hamster</td>\n",
       "      <td>Canada</td>\n",
       "      <td>...</td>\n",
       "      <td>NaN</td>\n",
       "      <td>3.0</td>\n",
       "      <td>NaN</td>\n",
       "      <td>Freezing</td>\n",
       "      <td>n</td>\n",
       "      <td>P</td>\n",
       "      <td>eN</td>\n",
       "      <td>5.0</td>\n",
       "      <td>9.0</td>\n",
       "      <td>0</td>\n",
       "    </tr>\n",
       "    <tr>\n",
       "      <th>3</th>\n",
       "      <td>3</td>\n",
       "      <td>NaN</td>\n",
       "      <td>0.0</td>\n",
       "      <td>0.0</td>\n",
       "      <td>F</td>\n",
       "      <td>N</td>\n",
       "      <td>Red</td>\n",
       "      <td>Circle</td>\n",
       "      <td>Hamster</td>\n",
       "      <td>Finland</td>\n",
       "      <td>...</td>\n",
       "      <td>f9d456e57</td>\n",
       "      <td>1.0</td>\n",
       "      <td>Novice</td>\n",
       "      <td>Lava Hot</td>\n",
       "      <td>a</td>\n",
       "      <td>C</td>\n",
       "      <td>NaN</td>\n",
       "      <td>3.0</td>\n",
       "      <td>3.0</td>\n",
       "      <td>0</td>\n",
       "    </tr>\n",
       "    <tr>\n",
       "      <th>4</th>\n",
       "      <td>4</td>\n",
       "      <td>0.0</td>\n",
       "      <td>NaN</td>\n",
       "      <td>0.0</td>\n",
       "      <td>T</td>\n",
       "      <td>N</td>\n",
       "      <td>Red</td>\n",
       "      <td>Triangle</td>\n",
       "      <td>Hamster</td>\n",
       "      <td>Costa Rica</td>\n",
       "      <td>...</td>\n",
       "      <td>c5361037c</td>\n",
       "      <td>3.0</td>\n",
       "      <td>Grandmaster</td>\n",
       "      <td>Cold</td>\n",
       "      <td>h</td>\n",
       "      <td>C</td>\n",
       "      <td>OZ</td>\n",
       "      <td>5.0</td>\n",
       "      <td>12.0</td>\n",
       "      <td>0</td>\n",
       "    </tr>\n",
       "  </tbody>\n",
       "</table>\n",
       "<p>5 rows × 25 columns</p>\n",
       "</div>"
      ],
      "text/plain": [
       "   id  bin_0  bin_1  bin_2 bin_3 bin_4 nom_0      nom_1    nom_2       nom_3  \\\n",
       "0   0    0.0    0.0    0.0     F     N   Red  Trapezoid  Hamster      Russia   \n",
       "1   1    1.0    1.0    0.0     F     Y   Red       Star  Axolotl         NaN   \n",
       "2   2    0.0    1.0    0.0     F     N   Red        NaN  Hamster      Canada   \n",
       "3   3    NaN    0.0    0.0     F     N   Red     Circle  Hamster     Finland   \n",
       "4   4    0.0    NaN    0.0     T     N   Red   Triangle  Hamster  Costa Rica   \n",
       "\n",
       "   ...      nom_9 ord_0        ord_1     ord_2 ord_3 ord_4  ord_5  day month  \\\n",
       "0  ...  02e7c8990   3.0  Contributor       Hot     c     U     Pw  6.0   3.0   \n",
       "1  ...  f37df64af   3.0  Grandmaster      Warm     e     X     pE  7.0   7.0   \n",
       "2  ...        NaN   3.0          NaN  Freezing     n     P     eN  5.0   9.0   \n",
       "3  ...  f9d456e57   1.0       Novice  Lava Hot     a     C    NaN  3.0   3.0   \n",
       "4  ...  c5361037c   3.0  Grandmaster      Cold     h     C     OZ  5.0  12.0   \n",
       "\n",
       "  target  \n",
       "0      0  \n",
       "1      0  \n",
       "2      0  \n",
       "3      0  \n",
       "4      0  \n",
       "\n",
       "[5 rows x 25 columns]"
      ]
     },
     "execution_count": 4,
     "metadata": {},
     "output_type": "execute_result"
    }
   ],
   "source": [
    "df.head()"
   ]
  },
  {
   "cell_type": "markdown",
   "metadata": {},
   "source": [
    "# Preporcess data"
   ]
  },
  {
   "cell_type": "code",
   "execution_count": 5,
   "metadata": {},
   "outputs": [],
   "source": [
    "from sklearn.model_selection import StratifiedKFold\n",
    "import category_encoders as ce\n",
    "import numpy as np\n",
    "import datetime\n",
    "\n",
    "mapping_ord1 = {'Unknown': 0, 'Novice': 1, 'Expert': 2, 'Contributor': 3, 'Master': 4, 'Grandmaster': 5}\n",
    "mapping_ord2 = {'Unknown': 0, 'Freezing': 1, 'Cold': 2, 'Warm': 3, 'Hot': 4, 'Boiling Hot': 5, 'Lava Hot': 6}\n",
    "mapping_ord3 = dict([(v, i) for i, v in enumerate(sorted(set(df['ord_3'].fillna(\"0\"))))])\n",
    "mapping_ord4 = dict([(v, i) for i, v in enumerate(sorted(set(df['ord_4'].fillna(\"0\"))))])\n",
    "mapping_ord5 = dict([(v, i) for i, v in enumerate(sorted(set(df['ord_5'].fillna(\"0\"))))])\n",
    "\n",
    "def preprocess_data(df):\n",
    "    df['ord_0'] = df['ord_0'].fillna(0)\n",
    "    df['ord_1'] =  df['ord_1'].fillna('Unknown').map(mapping_ord1)\n",
    "    df['ord_2'] =  df['ord_2'].fillna('Unknown').map(mapping_ord2)\n",
    "    df['ord_3'] =  df['ord_3'].fillna('0').map(mapping_ord3)\n",
    "    df['ord_4'] =  df['ord_4'].fillna('0').map(mapping_ord4)\n",
    "    df['ord_5'] =  df['ord_5'].fillna('0').map(mapping_ord5)\n",
    "    df['bin_3'] = df['bin_3'].fillna('U').map({\"T\": 1, \"F\": 0, \"U\": np.nan})\n",
    "    df['bin_4'] = df['bin_4'].fillna('U').map({\"Y\": 1, \"N\": 0, \"U\": np.nan})\n",
    "    return df\n",
    "\n",
    "def encode(df, df_test, cols):\n",
    "    cols_enc = list(map(lambda x: x + \"_enc\", cols))\n",
    "    for c in cols_enc:\n",
    "        df[c] = np.nan\n",
    "        df_test[c] = np.nan\n",
    "        \n",
    "    skf = StratifiedKFold(n_splits=5, random_state=42, shuffle=True)\n",
    "    \n",
    "    for train_idx, oof_idx in skf.split(df, df[\"target\"]):\n",
    "        enc = ce.TargetEncoder(cols = cols, smoothing=0.3)\n",
    "        enc.fit(df.loc[train_idx, cols], df.loc[train_idx, \"target\"])\n",
    "        df.loc[oof_idx, cols_enc] = enc.transform(df.loc[oof_idx, cols]).values\n",
    "    \n",
    "    enc = ce.TargetEncoder(cols = cols, smoothing=0.3)\n",
    "    enc.fit(df[cols], df[\"target\"])\n",
    "    df_test[cols_enc] = enc.transform(df_test[cols])\n",
    "    return df, df_test, cols_enc\n",
    "    \n",
    "df = preprocess_data(df)\n",
    "df_test = preprocess_data(df_test)\n",
    "\n",
    "binary = ['bin_0', 'bin_1', 'bin_2', 'bin_3', 'bin_4']\n",
    "ordinal  = ['ord_0', 'ord_1', 'ord_2', 'ord_3', 'ord_4', 'ord_5']\n",
    "low_card = ['nom_0', 'nom_1', 'nom_2', 'nom_3', 'nom_4']\n",
    "high_card = ['nom_5', 'nom_6', 'nom_7', 'nom_8', 'nom_9']\n",
    "date = ['day', 'month']\n",
    "\n",
    "df, df_test, cat_enc =  encode(df, df_test, high_card + low_card + date)\n",
    "features = high_card + binary + ordinal + cat_enc + low_card + date"
   ]
  },
  {
   "cell_type": "code",
   "execution_count": 6,
   "metadata": {},
   "outputs": [
    {
     "data": {
      "text/html": [
       "<div>\n",
       "<style scoped>\n",
       "    .dataframe tbody tr th:only-of-type {\n",
       "        vertical-align: middle;\n",
       "    }\n",
       "\n",
       "    .dataframe tbody tr th {\n",
       "        vertical-align: top;\n",
       "    }\n",
       "\n",
       "    .dataframe thead th {\n",
       "        text-align: right;\n",
       "    }\n",
       "</style>\n",
       "<table border=\"1\" class=\"dataframe\">\n",
       "  <thead>\n",
       "    <tr style=\"text-align: right;\">\n",
       "      <th></th>\n",
       "      <th>id</th>\n",
       "      <th>bin_0</th>\n",
       "      <th>bin_1</th>\n",
       "      <th>bin_2</th>\n",
       "      <th>bin_3</th>\n",
       "      <th>bin_4</th>\n",
       "      <th>nom_0</th>\n",
       "      <th>nom_1</th>\n",
       "      <th>nom_2</th>\n",
       "      <th>nom_3</th>\n",
       "      <th>...</th>\n",
       "      <th>nom_7_enc</th>\n",
       "      <th>nom_8_enc</th>\n",
       "      <th>nom_9_enc</th>\n",
       "      <th>nom_0_enc</th>\n",
       "      <th>nom_1_enc</th>\n",
       "      <th>nom_2_enc</th>\n",
       "      <th>nom_3_enc</th>\n",
       "      <th>nom_4_enc</th>\n",
       "      <th>day_enc</th>\n",
       "      <th>month_enc</th>\n",
       "    </tr>\n",
       "  </thead>\n",
       "  <tbody>\n",
       "    <tr>\n",
       "      <th>0</th>\n",
       "      <td>0</td>\n",
       "      <td>0.0</td>\n",
       "      <td>0.0</td>\n",
       "      <td>0.0</td>\n",
       "      <td>0.0</td>\n",
       "      <td>0.0</td>\n",
       "      <td>Red</td>\n",
       "      <td>Trapezoid</td>\n",
       "      <td>Hamster</td>\n",
       "      <td>Russia</td>\n",
       "      <td>...</td>\n",
       "      <td>0.098296</td>\n",
       "      <td>0.129236</td>\n",
       "      <td>0.177914</td>\n",
       "      <td>0.183158</td>\n",
       "      <td>0.225096</td>\n",
       "      <td>0.167919</td>\n",
       "      <td>0.219491</td>\n",
       "      <td>0.207147</td>\n",
       "      <td>0.200424</td>\n",
       "      <td>0.146475</td>\n",
       "    </tr>\n",
       "    <tr>\n",
       "      <th>1</th>\n",
       "      <td>1</td>\n",
       "      <td>1.0</td>\n",
       "      <td>1.0</td>\n",
       "      <td>0.0</td>\n",
       "      <td>0.0</td>\n",
       "      <td>1.0</td>\n",
       "      <td>Red</td>\n",
       "      <td>Star</td>\n",
       "      <td>Axolotl</td>\n",
       "      <td>NaN</td>\n",
       "      <td>...</td>\n",
       "      <td>0.128414</td>\n",
       "      <td>0.191517</td>\n",
       "      <td>0.155502</td>\n",
       "      <td>0.183176</td>\n",
       "      <td>0.130233</td>\n",
       "      <td>0.200552</td>\n",
       "      <td>0.185771</td>\n",
       "      <td>0.179593</td>\n",
       "      <td>0.212892</td>\n",
       "      <td>0.208686</td>\n",
       "    </tr>\n",
       "    <tr>\n",
       "      <th>2</th>\n",
       "      <td>2</td>\n",
       "      <td>0.0</td>\n",
       "      <td>1.0</td>\n",
       "      <td>0.0</td>\n",
       "      <td>0.0</td>\n",
       "      <td>0.0</td>\n",
       "      <td>Red</td>\n",
       "      <td>NaN</td>\n",
       "      <td>Hamster</td>\n",
       "      <td>Canada</td>\n",
       "      <td>...</td>\n",
       "      <td>0.266392</td>\n",
       "      <td>0.169176</td>\n",
       "      <td>0.188439</td>\n",
       "      <td>0.183158</td>\n",
       "      <td>0.181900</td>\n",
       "      <td>0.167919</td>\n",
       "      <td>0.159677</td>\n",
       "      <td>0.207147</td>\n",
       "      <td>0.164081</td>\n",
       "      <td>0.213645</td>\n",
       "    </tr>\n",
       "    <tr>\n",
       "      <th>3</th>\n",
       "      <td>3</td>\n",
       "      <td>NaN</td>\n",
       "      <td>0.0</td>\n",
       "      <td>0.0</td>\n",
       "      <td>0.0</td>\n",
       "      <td>0.0</td>\n",
       "      <td>Red</td>\n",
       "      <td>Circle</td>\n",
       "      <td>Hamster</td>\n",
       "      <td>Finland</td>\n",
       "      <td>...</td>\n",
       "      <td>0.139367</td>\n",
       "      <td>0.222915</td>\n",
       "      <td>0.271186</td>\n",
       "      <td>0.182968</td>\n",
       "      <td>0.179723</td>\n",
       "      <td>0.168632</td>\n",
       "      <td>0.178692</td>\n",
       "      <td>0.179306</td>\n",
       "      <td>0.163514</td>\n",
       "      <td>0.146270</td>\n",
       "    </tr>\n",
       "    <tr>\n",
       "      <th>4</th>\n",
       "      <td>4</td>\n",
       "      <td>0.0</td>\n",
       "      <td>NaN</td>\n",
       "      <td>0.0</td>\n",
       "      <td>1.0</td>\n",
       "      <td>0.0</td>\n",
       "      <td>Red</td>\n",
       "      <td>Triangle</td>\n",
       "      <td>Hamster</td>\n",
       "      <td>Costa Rica</td>\n",
       "      <td>...</td>\n",
       "      <td>0.195893</td>\n",
       "      <td>0.191633</td>\n",
       "      <td>0.261851</td>\n",
       "      <td>0.183176</td>\n",
       "      <td>0.157501</td>\n",
       "      <td>0.167905</td>\n",
       "      <td>0.202839</td>\n",
       "      <td>0.188604</td>\n",
       "      <td>0.163069</td>\n",
       "      <td>0.224929</td>\n",
       "    </tr>\n",
       "  </tbody>\n",
       "</table>\n",
       "<p>5 rows × 37 columns</p>\n",
       "</div>"
      ],
      "text/plain": [
       "   id  bin_0  bin_1  bin_2  bin_3  bin_4 nom_0      nom_1    nom_2  \\\n",
       "0   0    0.0    0.0    0.0    0.0    0.0   Red  Trapezoid  Hamster   \n",
       "1   1    1.0    1.0    0.0    0.0    1.0   Red       Star  Axolotl   \n",
       "2   2    0.0    1.0    0.0    0.0    0.0   Red        NaN  Hamster   \n",
       "3   3    NaN    0.0    0.0    0.0    0.0   Red     Circle  Hamster   \n",
       "4   4    0.0    NaN    0.0    1.0    0.0   Red   Triangle  Hamster   \n",
       "\n",
       "        nom_3  ... nom_7_enc nom_8_enc nom_9_enc nom_0_enc nom_1_enc  \\\n",
       "0      Russia  ...  0.098296  0.129236  0.177914  0.183158  0.225096   \n",
       "1         NaN  ...  0.128414  0.191517  0.155502  0.183176  0.130233   \n",
       "2      Canada  ...  0.266392  0.169176  0.188439  0.183158  0.181900   \n",
       "3     Finland  ...  0.139367  0.222915  0.271186  0.182968  0.179723   \n",
       "4  Costa Rica  ...  0.195893  0.191633  0.261851  0.183176  0.157501   \n",
       "\n",
       "  nom_2_enc  nom_3_enc  nom_4_enc   day_enc  month_enc  \n",
       "0  0.167919   0.219491   0.207147  0.200424   0.146475  \n",
       "1  0.200552   0.185771   0.179593  0.212892   0.208686  \n",
       "2  0.167919   0.159677   0.207147  0.164081   0.213645  \n",
       "3  0.168632   0.178692   0.179306  0.163514   0.146270  \n",
       "4  0.167905   0.202839   0.188604  0.163069   0.224929  \n",
       "\n",
       "[5 rows x 37 columns]"
      ]
     },
     "execution_count": 6,
     "metadata": {},
     "output_type": "execute_result"
    }
   ],
   "source": [
    "df.head()"
   ]
  },
  {
   "cell_type": "code",
   "execution_count": 7,
   "metadata": {},
   "outputs": [],
   "source": [
    "from sklearn.base import BaseEstimator, TransformerMixin\n",
    "\n",
    "class ColumnSelector(BaseEstimator, TransformerMixin):\n",
    "    \n",
    "    def __init__(self, columns):\n",
    "        self.columns = columns\n",
    "\n",
    "    def fit(self, X, y=None):\n",
    "        return self\n",
    "\n",
    "    def transform(self, X):\n",
    "        assert isinstance(X, pd.DataFrame)\n",
    "\n",
    "        try:\n",
    "            return X[self.columns]\n",
    "        except KeyError:\n",
    "            cols_error = list(set(self.columns) - set(X.columns))\n",
    "            raise KeyError(\"The DataFrame does not include the columns: %s\" % cols_error)"
   ]
  },
  {
   "cell_type": "code",
   "execution_count": 8,
   "metadata": {},
   "outputs": [],
   "source": [
    "from lightgbm import LGBMClassifier\n",
    "from sklearn.pipeline import Pipeline\n",
    "from sklearn.compose import make_column_transformer\n",
    "import category_encoders as ce\n",
    " \n",
    "params = {\n",
    "        'clf__objective': 'binary',\n",
    "        'clf__boosting_type': 'gbdt', \n",
    "        'clf__metric': 'auc',\n",
    "        'clf__learning_rate': 0.01,\n",
    "        \"clf__bagging_freq\": 5,\n",
    "        \"clf__bagging_fraction\": 0.8,\n",
    "        \"clf__min_data_in_leaf\": 30,\n",
    "        \"clf__min_sum_hessian_in_leaf\": 5,\n",
    "        \"clf__use_two_round_loading\": False,\n",
    "        \"clf__feature_fraction\": 0.8,\n",
    "        'clf__verbose': 1,\n",
    "        \"clf__lambda_l1\": 0.1,\n",
    "        \"clf__n_estimators\": 5000,\n",
    "        \"clf__max_depth\": 3,\n",
    "        \"clf__reg_alpha\": 1,\n",
    "        \"clf__reg_lambda\": 1,\n",
    "        \"enc__a\": 0.2\n",
    "    }\n",
    "\n",
    "                        \n",
    "pipeline = Pipeline(steps=[('sel', ColumnSelector(features)), \n",
    "                           ('enc', ce.CatBoostEncoder(cols=high_card + low_card + date)),\n",
    "                           ('clf', LGBMClassifier())]).set_params(**params)"
   ]
  },
  {
   "cell_type": "code",
   "execution_count": null,
   "metadata": {
    "scrolled": true
   },
   "outputs": [],
   "source": [
    "from hyperopt import hp, tpe\n",
    "from hyperopt.fmin import fmin\n",
    "from hyperopt.pyll.base import scope\n",
    "from hyperopt import space_eval\n",
    "import numpy as np\n",
    "from tqdm import tqdm\n",
    "from sklearn.metrics import roc_auc_score\n",
    "from sklearn.model_selection import StratifiedKFold\n",
    "\n",
    "\n",
    "def make_objective(pipeline, df):\n",
    "    \n",
    "    def objective(params):\n",
    "                \n",
    "        pipeline.set_params(**params)\n",
    "        skf = StratifiedKFold(n_splits=5, shuffle=True, random_state=42)\n",
    "        \n",
    "        scores = []\n",
    "        for train_idx, val_idx in tqdm(skf.split(df, df[\"target\"])):\n",
    "            \n",
    "            df_train, df_val = df.loc[train_idx, :], df.loc[val_idx, :]\n",
    "            transformers = Pipeline(pipeline.steps[:-1]).fit(df_train, df_train['target'])\n",
    "            X_val, y_val = transformers.transform(df_val), df_val['target']\n",
    "            \n",
    "            fit_args = {\n",
    "                \"clf__early_stopping_rounds\": 1000, \n",
    "                \"clf__eval_set\": (X_val, y_val),\n",
    "                \"clf__verbose\": 500,\n",
    "                \"clf__eval_metric\": 'auc',\n",
    "            }\n",
    "            \n",
    "            pipeline.fit(df_train, df_train['target'], **fit_args)\n",
    "            prob = pipeline.predict_proba(df_val)[:, 1]\n",
    "            scores.append(roc_auc_score(y_val, prob))\n",
    "            \n",
    "        score = np.mean(scores)\n",
    "        print(\"AUC {:.5f}+-{:.5f}.\\n\".format(np.mean(scores), np.std(scores)) + \n",
    "              \"Params: \\n\" + \n",
    "              \"\\n\".join([\"{}: {:.3f}\".format(k, params[k]) for k in params]))\n",
    "        return 1 - score\n",
    "    \n",
    "    return objective\n",
    "\n",
    "space = {\n",
    "        \"clf__learning_rate\": hp.loguniform(\"clf__learning_rate\", np.log(0.005), np.log(0.5)),\n",
    "        \"clf__num_leaves\": hp.choice(\"clf__num_leaves\", np.linspace(8, 128, 50, dtype=int)),\n",
    "        \"clf__feature_fraction\": hp.quniform(\"clf__feature_fraction\", 0.5, 1.0, 0.1),\n",
    "        \"clf__bagging_fraction\": hp.quniform(\"clf__bagging_fraction\", 0.5, 1.0, 0.1),\n",
    "        \"clf__min_child_weight\": hp.uniform('clf__min_child_weight', 0.5, 10),\n",
    "        'clf__lambda_l1': hp.loguniform('clf__lambda_l1', np.log(0.005), np.log(0.5)),\n",
    "        'clf__colsample_bytree': hp.uniform('clf__colsample_bytree', 0.3, 1.0),\n",
    "    }\n",
    "\n",
    "best = fmin(fn=make_objective(pipeline, df),\n",
    "            space=space,\n",
    "            algo=tpe.suggest,\n",
    "            max_evals=10)\n",
    "\n",
    "best_params = space_eval(space, best)"
   ]
  },
  {
   "cell_type": "code",
   "execution_count": 11,
   "metadata": {},
   "outputs": [
    {
     "name": "stdout",
     "output_type": "stream",
     "text": [
      "Best params: \n",
      "clf__bagging_fraction: 0.800\n",
      "clf__colsample_bytree: 0.360\n",
      "clf__feature_fraction: 0.500\n",
      "clf__lambda_l1: 0.114\n",
      "clf__learning_rate: 0.032\n",
      "clf__min_child_weight: 6.257\n",
      "clf__num_leaves: 115.000\n"
     ]
    }
   ],
   "source": [
    "print(\"Best params: \\n\" + \"\\n\".join([\"{}: {:.3f}\".format(k, best_params[k]) for k in best_params]))"
   ]
  },
  {
   "cell_type": "code",
   "execution_count": 12,
   "metadata": {
    "scrolled": true
   },
   "outputs": [
    {
     "name": "stderr",
     "output_type": "stream",
     "text": [
      "\r",
      "0it [00:00, ?it/s]"
     ]
    },
    {
     "name": "stdout",
     "output_type": "stream",
     "text": [
      "Training until validation scores don't improve for 1000 rounds\n",
      "[500]\tvalid_0's auc: 0.787208\n",
      "[1000]\tvalid_0's auc: 0.78949\n",
      "[1500]\tvalid_0's auc: 0.789686\n",
      "[2000]\tvalid_0's auc: 0.789571\n",
      "Early stopping, best iteration is:\n",
      "[1466]\tvalid_0's auc: 0.789719\n"
     ]
    },
    {
     "name": "stderr",
     "output_type": "stream",
     "text": [
      "\r",
      "1it [00:49, 49.85s/it]"
     ]
    },
    {
     "name": "stdout",
     "output_type": "stream",
     "text": [
      "Training until validation scores don't improve for 1000 rounds\n",
      "[500]\tvalid_0's auc: 0.78049\n",
      "[1000]\tvalid_0's auc: 0.783273\n",
      "[1500]\tvalid_0's auc: 0.783661\n",
      "[2000]\tvalid_0's auc: 0.783725\n",
      "[2500]\tvalid_0's auc: 0.783653\n",
      "Early stopping, best iteration is:\n",
      "[1786]\tvalid_0's auc: 0.783779\n"
     ]
    },
    {
     "name": "stderr",
     "output_type": "stream",
     "text": [
      "\r",
      "2it [01:47, 52.28s/it]"
     ]
    },
    {
     "name": "stdout",
     "output_type": "stream",
     "text": [
      "Training until validation scores don't improve for 1000 rounds\n",
      "[500]\tvalid_0's auc: 0.786196\n",
      "[1000]\tvalid_0's auc: 0.789378\n",
      "[1500]\tvalid_0's auc: 0.789867\n",
      "[2000]\tvalid_0's auc: 0.789761\n",
      "[2500]\tvalid_0's auc: 0.789635\n",
      "Early stopping, best iteration is:\n",
      "[1504]\tvalid_0's auc: 0.789875\n"
     ]
    },
    {
     "name": "stderr",
     "output_type": "stream",
     "text": [
      "\r",
      "3it [02:38, 51.80s/it]"
     ]
    },
    {
     "name": "stdout",
     "output_type": "stream",
     "text": [
      "Training until validation scores don't improve for 1000 rounds\n",
      "[500]\tvalid_0's auc: 0.78019\n",
      "[1000]\tvalid_0's auc: 0.783809\n",
      "[1500]\tvalid_0's auc: 0.784184\n",
      "[2000]\tvalid_0's auc: 0.784061\n",
      "Early stopping, best iteration is:\n",
      "[1489]\tvalid_0's auc: 0.784186\n"
     ]
    },
    {
     "name": "stderr",
     "output_type": "stream",
     "text": [
      "\r",
      "4it [03:33, 52.63s/it]"
     ]
    },
    {
     "name": "stdout",
     "output_type": "stream",
     "text": [
      "Training until validation scores don't improve for 1000 rounds\n",
      "[500]\tvalid_0's auc: 0.79043\n",
      "[1000]\tvalid_0's auc: 0.792844\n",
      "[1500]\tvalid_0's auc: 0.79292\n",
      "[2000]\tvalid_0's auc: 0.792794\n",
      "Early stopping, best iteration is:\n",
      "[1149]\tvalid_0's auc: 0.792969\n"
     ]
    },
    {
     "name": "stderr",
     "output_type": "stream",
     "text": [
      "\r",
      "5it [04:16, 49.91s/it]"
     ]
    },
    {
     "name": "stdout",
     "output_type": "stream",
     "text": [
      "Training until validation scores don't improve for 1000 rounds\n",
      "[500]\tvalid_0's auc: 0.783371\n",
      "[1000]\tvalid_0's auc: 0.786605\n",
      "[1500]\tvalid_0's auc: 0.787\n",
      "[2000]\tvalid_0's auc: 0.787074\n",
      "[2500]\tvalid_0's auc: 0.787018\n",
      "Early stopping, best iteration is:\n",
      "[1950]\tvalid_0's auc: 0.787091\n"
     ]
    },
    {
     "name": "stderr",
     "output_type": "stream",
     "text": [
      "\r",
      "6it [05:08, 50.64s/it]"
     ]
    },
    {
     "name": "stdout",
     "output_type": "stream",
     "text": [
      "Training until validation scores don't improve for 1000 rounds\n",
      "[500]\tvalid_0's auc: 0.786153\n",
      "[1000]\tvalid_0's auc: 0.788859\n",
      "[1500]\tvalid_0's auc: 0.789253\n",
      "[2000]\tvalid_0's auc: 0.789253\n",
      "[2500]\tvalid_0's auc: 0.789173\n",
      "[3000]\tvalid_0's auc: 0.789057\n",
      "Early stopping, best iteration is:\n",
      "[2185]\tvalid_0's auc: 0.789305\n"
     ]
    },
    {
     "name": "stderr",
     "output_type": "stream",
     "text": [
      "\r",
      "7it [06:04, 51.98s/it]"
     ]
    },
    {
     "name": "stdout",
     "output_type": "stream",
     "text": [
      "Training until validation scores don't improve for 1000 rounds\n",
      "[500]\tvalid_0's auc: 0.783541\n",
      "[1000]\tvalid_0's auc: 0.787276\n",
      "[1500]\tvalid_0's auc: 0.787719\n",
      "[2000]\tvalid_0's auc: 0.787777\n",
      "[2500]\tvalid_0's auc: 0.787816\n",
      "[3000]\tvalid_0's auc: 0.787764\n",
      "[3500]\tvalid_0's auc: 0.787713\n",
      "Early stopping, best iteration is:\n",
      "[2708]\tvalid_0's auc: 0.787891\n"
     ]
    },
    {
     "name": "stderr",
     "output_type": "stream",
     "text": [
      "\r",
      "8it [07:05, 54.90s/it]"
     ]
    },
    {
     "name": "stdout",
     "output_type": "stream",
     "text": [
      "Training until validation scores don't improve for 1000 rounds\n",
      "[500]\tvalid_0's auc: 0.782134\n",
      "[1000]\tvalid_0's auc: 0.785299\n",
      "[1500]\tvalid_0's auc: 0.785754\n",
      "[2000]\tvalid_0's auc: 0.78575\n",
      "[2500]\tvalid_0's auc: 0.785794\n",
      "[3000]\tvalid_0's auc: 0.785792\n",
      "[3500]\tvalid_0's auc: 0.785811\n",
      "Early stopping, best iteration is:\n",
      "[2771]\tvalid_0's auc: 0.785844\n"
     ]
    },
    {
     "name": "stderr",
     "output_type": "stream",
     "text": [
      "\r",
      "9it [08:08, 57.25s/it]"
     ]
    },
    {
     "name": "stdout",
     "output_type": "stream",
     "text": [
      "Training until validation scores don't improve for 1000 rounds\n",
      "[500]\tvalid_0's auc: 0.785192\n",
      "[1000]\tvalid_0's auc: 0.788119\n",
      "[1500]\tvalid_0's auc: 0.788424\n",
      "[2000]\tvalid_0's auc: 0.788489\n",
      "[2500]\tvalid_0's auc: 0.788432\n",
      "Early stopping, best iteration is:\n",
      "[1936]\tvalid_0's auc: 0.78853\n"
     ]
    },
    {
     "name": "stderr",
     "output_type": "stream",
     "text": [
      "\r",
      "10it [09:01, 56.09s/it]"
     ]
    },
    {
     "name": "stdout",
     "output_type": "stream",
     "text": [
      "Training until validation scores don't improve for 1000 rounds\n",
      "[500]\tvalid_0's auc: 0.789861\n",
      "[1000]\tvalid_0's auc: 0.792735\n",
      "[1500]\tvalid_0's auc: 0.792807\n",
      "[2000]\tvalid_0's auc: 0.79272\n",
      "Early stopping, best iteration is:\n",
      "[1335]\tvalid_0's auc: 0.792913\n"
     ]
    },
    {
     "name": "stderr",
     "output_type": "stream",
     "text": [
      "\r",
      "11it [09:47, 52.85s/it]"
     ]
    },
    {
     "name": "stdout",
     "output_type": "stream",
     "text": [
      "Training until validation scores don't improve for 1000 rounds\n",
      "[500]\tvalid_0's auc: 0.78792\n",
      "[1000]\tvalid_0's auc: 0.790735\n",
      "[1500]\tvalid_0's auc: 0.790719\n",
      "[2000]\tvalid_0's auc: 0.790601\n",
      "Early stopping, best iteration is:\n",
      "[1234]\tvalid_0's auc: 0.790825\n"
     ]
    },
    {
     "name": "stderr",
     "output_type": "stream",
     "text": [
      "\r",
      "12it [10:31, 50.33s/it]"
     ]
    },
    {
     "name": "stdout",
     "output_type": "stream",
     "text": [
      "Training until validation scores don't improve for 1000 rounds\n",
      "[500]\tvalid_0's auc: 0.779974\n",
      "[1000]\tvalid_0's auc: 0.782488\n",
      "[1500]\tvalid_0's auc: 0.782567\n",
      "[2000]\tvalid_0's auc: 0.782477\n",
      "Early stopping, best iteration is:\n",
      "[1217]\tvalid_0's auc: 0.782648\n"
     ]
    },
    {
     "name": "stderr",
     "output_type": "stream",
     "text": [
      "\r",
      "13it [11:15, 48.52s/it]"
     ]
    },
    {
     "name": "stdout",
     "output_type": "stream",
     "text": [
      "Training until validation scores don't improve for 1000 rounds\n",
      "[500]\tvalid_0's auc: 0.780734\n",
      "[1000]\tvalid_0's auc: 0.78417\n",
      "[1500]\tvalid_0's auc: 0.784597\n",
      "[2000]\tvalid_0's auc: 0.7845\n",
      "Early stopping, best iteration is:\n",
      "[1329]\tvalid_0's auc: 0.784622\n"
     ]
    },
    {
     "name": "stderr",
     "output_type": "stream",
     "text": [
      "\r",
      "14it [12:01, 47.59s/it]"
     ]
    },
    {
     "name": "stdout",
     "output_type": "stream",
     "text": [
      "Training until validation scores don't improve for 1000 rounds\n",
      "[500]\tvalid_0's auc: 0.789442\n",
      "[1000]\tvalid_0's auc: 0.792009\n",
      "[1500]\tvalid_0's auc: 0.79222\n",
      "[2000]\tvalid_0's auc: 0.792107\n",
      "Early stopping, best iteration is:\n",
      "[1411]\tvalid_0's auc: 0.792235\n"
     ]
    },
    {
     "name": "stderr",
     "output_type": "stream",
     "text": [
      "\r",
      "15it [12:47, 47.16s/it]"
     ]
    },
    {
     "name": "stdout",
     "output_type": "stream",
     "text": [
      "Training until validation scores don't improve for 1000 rounds\n",
      "[500]\tvalid_0's auc: 0.784488\n",
      "[1000]\tvalid_0's auc: 0.786929\n",
      "[1500]\tvalid_0's auc: 0.787013\n",
      "[2000]\tvalid_0's auc: 0.786982\n",
      "[2500]\tvalid_0's auc: 0.786897\n",
      "Early stopping, best iteration is:\n",
      "[1553]\tvalid_0's auc: 0.787043\n"
     ]
    },
    {
     "name": "stderr",
     "output_type": "stream",
     "text": [
      "\r",
      "16it [13:35, 47.54s/it]"
     ]
    },
    {
     "name": "stdout",
     "output_type": "stream",
     "text": [
      "Training until validation scores don't improve for 1000 rounds\n",
      "[500]\tvalid_0's auc: 0.783846\n",
      "[1000]\tvalid_0's auc: 0.787149\n",
      "[1500]\tvalid_0's auc: 0.787475\n",
      "[2000]\tvalid_0's auc: 0.787428\n",
      "Early stopping, best iteration is:\n",
      "[1404]\tvalid_0's auc: 0.787516\n"
     ]
    },
    {
     "name": "stderr",
     "output_type": "stream",
     "text": [
      "\r",
      "17it [14:22, 47.10s/it]"
     ]
    },
    {
     "name": "stdout",
     "output_type": "stream",
     "text": [
      "Training until validation scores don't improve for 1000 rounds\n",
      "[500]\tvalid_0's auc: 0.782541\n",
      "[1000]\tvalid_0's auc: 0.786009\n",
      "[1500]\tvalid_0's auc: 0.786229\n",
      "[2000]\tvalid_0's auc: 0.78619\n",
      "[2500]\tvalid_0's auc: 0.786124\n",
      "Early stopping, best iteration is:\n",
      "[1690]\tvalid_0's auc: 0.786272\n"
     ]
    },
    {
     "name": "stderr",
     "output_type": "stream",
     "text": [
      "\r",
      "18it [15:11, 47.83s/it]"
     ]
    },
    {
     "name": "stdout",
     "output_type": "stream",
     "text": [
      "Training until validation scores don't improve for 1000 rounds\n",
      "[500]\tvalid_0's auc: 0.780215\n",
      "[1000]\tvalid_0's auc: 0.782948\n",
      "[1500]\tvalid_0's auc: 0.78329\n",
      "[2000]\tvalid_0's auc: 0.783182\n",
      "Early stopping, best iteration is:\n",
      "[1428]\tvalid_0's auc: 0.783316\n"
     ]
    },
    {
     "name": "stderr",
     "output_type": "stream",
     "text": [
      "\r",
      "19it [16:06, 49.97s/it]"
     ]
    },
    {
     "name": "stdout",
     "output_type": "stream",
     "text": [
      "Training until validation scores don't improve for 1000 rounds\n",
      "[500]\tvalid_0's auc: 0.785332\n",
      "[1000]\tvalid_0's auc: 0.788821\n",
      "[1500]\tvalid_0's auc: 0.789235\n",
      "[2000]\tvalid_0's auc: 0.789183\n",
      "[2500]\tvalid_0's auc: 0.789093\n",
      "Early stopping, best iteration is:\n",
      "[1827]\tvalid_0's auc: 0.789314\n"
     ]
    },
    {
     "name": "stderr",
     "output_type": "stream",
     "text": [
      "20it [16:57, 50.89s/it]\n"
     ]
    }
   ],
   "source": [
    "from sklearn.model_selection import StratifiedKFold\n",
    "from tqdm import tqdm\n",
    "\n",
    "folds = 20\n",
    "skf = StratifiedKFold(n_splits=folds, shuffle=True, random_state=42)\n",
    "pipeline.set_params(**best_params)\n",
    "df_test['target'] = 0\n",
    "\n",
    "for train_idx, val_idx in tqdm(skf.split(df, df['target'])):\n",
    "    df_train = df.loc[train_idx, :]\n",
    "    df_val = df.loc[val_idx, :]\n",
    "    X_val, y_val = Pipeline(pipeline.steps[:-1]).fit(df_train, df_train['target'])\\\n",
    "                                                    .transform(df_val), df_val['target']\n",
    "    fit_args = {\n",
    "        \"clf__early_stopping_rounds\": 1000, \n",
    "        \"clf__eval_set\": (X_val, y_val),\n",
    "        \"clf__verbose\": 500,\n",
    "        \"clf__eval_metric\": 'auc'\n",
    "    }\n",
    "        \n",
    "    pipeline.fit(df_train, df_train['target'], **fit_args)\n",
    "    prob = pipeline.predict_proba(df_val)[:, 1]\n",
    "    score = roc_auc_score(y_val, prob)\n",
    "    \n",
    "    df_test['target'] += pipeline.predict_proba(df_test)[:, 1]\n"
   ]
  },
  {
   "cell_type": "code",
   "execution_count": 18,
   "metadata": {},
   "outputs": [
    {
     "name": "stdout",
     "output_type": "stream",
     "text": [
      "id,target\r\n",
      "600000,0.11854787835141165\r\n",
      "600001,0.2686114339297638\r\n",
      "600002,0.17125694474430989\r\n",
      "600003,0.11825015887986522\r\n"
     ]
    }
   ],
   "source": [
    "df_test['target'] /= folds\n",
    "df_test[['id', 'target']].to_csv('../data/submission.csv', index=False)\n",
    "!head -n 5 ../data/submission.csv"
   ]
  },
  {
   "cell_type": "code",
   "execution_count": null,
   "metadata": {},
   "outputs": [],
   "source": []
  }
 ],
 "metadata": {
  "kernelspec": {
   "display_name": "cfec2",
   "language": "python",
   "name": "cfec2"
  },
  "language_info": {
   "codemirror_mode": {
    "name": "ipython",
    "version": 3
   },
   "file_extension": ".py",
   "mimetype": "text/x-python",
   "name": "python",
   "nbconvert_exporter": "python",
   "pygments_lexer": "ipython3",
   "version": "3.7.6"
  }
 },
 "nbformat": 4,
 "nbformat_minor": 4
}
