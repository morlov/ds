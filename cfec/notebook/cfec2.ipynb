{
 "cells": [
  {
   "cell_type": "code",
   "execution_count": 1,
   "metadata": {},
   "outputs": [],
   "source": [
    "%load_ext autoreload\n",
    "%autoreload 2"
   ]
  },
  {
   "cell_type": "code",
   "execution_count": 2,
   "metadata": {},
   "outputs": [],
   "source": [
    "import pandas as pd"
   ]
  },
  {
   "cell_type": "code",
   "execution_count": 3,
   "metadata": {},
   "outputs": [],
   "source": [
    "df = pd.read_csv('../data/train.csv')\n",
    "df_test = pd.read_csv('../data/test.csv')"
   ]
  },
  {
   "cell_type": "code",
   "execution_count": 4,
   "metadata": {},
   "outputs": [
    {
     "data": {
      "text/html": [
       "<div>\n",
       "<style scoped>\n",
       "    .dataframe tbody tr th:only-of-type {\n",
       "        vertical-align: middle;\n",
       "    }\n",
       "\n",
       "    .dataframe tbody tr th {\n",
       "        vertical-align: top;\n",
       "    }\n",
       "\n",
       "    .dataframe thead th {\n",
       "        text-align: right;\n",
       "    }\n",
       "</style>\n",
       "<table border=\"1\" class=\"dataframe\">\n",
       "  <thead>\n",
       "    <tr style=\"text-align: right;\">\n",
       "      <th></th>\n",
       "      <th>id</th>\n",
       "      <th>bin_0</th>\n",
       "      <th>bin_1</th>\n",
       "      <th>bin_2</th>\n",
       "      <th>bin_3</th>\n",
       "      <th>bin_4</th>\n",
       "      <th>nom_0</th>\n",
       "      <th>nom_1</th>\n",
       "      <th>nom_2</th>\n",
       "      <th>nom_3</th>\n",
       "      <th>...</th>\n",
       "      <th>nom_9</th>\n",
       "      <th>ord_0</th>\n",
       "      <th>ord_1</th>\n",
       "      <th>ord_2</th>\n",
       "      <th>ord_3</th>\n",
       "      <th>ord_4</th>\n",
       "      <th>ord_5</th>\n",
       "      <th>day</th>\n",
       "      <th>month</th>\n",
       "      <th>target</th>\n",
       "    </tr>\n",
       "  </thead>\n",
       "  <tbody>\n",
       "    <tr>\n",
       "      <th>0</th>\n",
       "      <td>0</td>\n",
       "      <td>0.0</td>\n",
       "      <td>0.0</td>\n",
       "      <td>0.0</td>\n",
       "      <td>F</td>\n",
       "      <td>N</td>\n",
       "      <td>Red</td>\n",
       "      <td>Trapezoid</td>\n",
       "      <td>Hamster</td>\n",
       "      <td>Russia</td>\n",
       "      <td>...</td>\n",
       "      <td>02e7c8990</td>\n",
       "      <td>3.0</td>\n",
       "      <td>Contributor</td>\n",
       "      <td>Hot</td>\n",
       "      <td>c</td>\n",
       "      <td>U</td>\n",
       "      <td>Pw</td>\n",
       "      <td>6.0</td>\n",
       "      <td>3.0</td>\n",
       "      <td>0</td>\n",
       "    </tr>\n",
       "    <tr>\n",
       "      <th>1</th>\n",
       "      <td>1</td>\n",
       "      <td>1.0</td>\n",
       "      <td>1.0</td>\n",
       "      <td>0.0</td>\n",
       "      <td>F</td>\n",
       "      <td>Y</td>\n",
       "      <td>Red</td>\n",
       "      <td>Star</td>\n",
       "      <td>Axolotl</td>\n",
       "      <td>NaN</td>\n",
       "      <td>...</td>\n",
       "      <td>f37df64af</td>\n",
       "      <td>3.0</td>\n",
       "      <td>Grandmaster</td>\n",
       "      <td>Warm</td>\n",
       "      <td>e</td>\n",
       "      <td>X</td>\n",
       "      <td>pE</td>\n",
       "      <td>7.0</td>\n",
       "      <td>7.0</td>\n",
       "      <td>0</td>\n",
       "    </tr>\n",
       "    <tr>\n",
       "      <th>2</th>\n",
       "      <td>2</td>\n",
       "      <td>0.0</td>\n",
       "      <td>1.0</td>\n",
       "      <td>0.0</td>\n",
       "      <td>F</td>\n",
       "      <td>N</td>\n",
       "      <td>Red</td>\n",
       "      <td>NaN</td>\n",
       "      <td>Hamster</td>\n",
       "      <td>Canada</td>\n",
       "      <td>...</td>\n",
       "      <td>NaN</td>\n",
       "      <td>3.0</td>\n",
       "      <td>NaN</td>\n",
       "      <td>Freezing</td>\n",
       "      <td>n</td>\n",
       "      <td>P</td>\n",
       "      <td>eN</td>\n",
       "      <td>5.0</td>\n",
       "      <td>9.0</td>\n",
       "      <td>0</td>\n",
       "    </tr>\n",
       "    <tr>\n",
       "      <th>3</th>\n",
       "      <td>3</td>\n",
       "      <td>NaN</td>\n",
       "      <td>0.0</td>\n",
       "      <td>0.0</td>\n",
       "      <td>F</td>\n",
       "      <td>N</td>\n",
       "      <td>Red</td>\n",
       "      <td>Circle</td>\n",
       "      <td>Hamster</td>\n",
       "      <td>Finland</td>\n",
       "      <td>...</td>\n",
       "      <td>f9d456e57</td>\n",
       "      <td>1.0</td>\n",
       "      <td>Novice</td>\n",
       "      <td>Lava Hot</td>\n",
       "      <td>a</td>\n",
       "      <td>C</td>\n",
       "      <td>NaN</td>\n",
       "      <td>3.0</td>\n",
       "      <td>3.0</td>\n",
       "      <td>0</td>\n",
       "    </tr>\n",
       "    <tr>\n",
       "      <th>4</th>\n",
       "      <td>4</td>\n",
       "      <td>0.0</td>\n",
       "      <td>NaN</td>\n",
       "      <td>0.0</td>\n",
       "      <td>T</td>\n",
       "      <td>N</td>\n",
       "      <td>Red</td>\n",
       "      <td>Triangle</td>\n",
       "      <td>Hamster</td>\n",
       "      <td>Costa Rica</td>\n",
       "      <td>...</td>\n",
       "      <td>c5361037c</td>\n",
       "      <td>3.0</td>\n",
       "      <td>Grandmaster</td>\n",
       "      <td>Cold</td>\n",
       "      <td>h</td>\n",
       "      <td>C</td>\n",
       "      <td>OZ</td>\n",
       "      <td>5.0</td>\n",
       "      <td>12.0</td>\n",
       "      <td>0</td>\n",
       "    </tr>\n",
       "  </tbody>\n",
       "</table>\n",
       "<p>5 rows × 25 columns</p>\n",
       "</div>"
      ],
      "text/plain": [
       "   id  bin_0  bin_1  bin_2 bin_3 bin_4 nom_0      nom_1    nom_2       nom_3  \\\n",
       "0   0    0.0    0.0    0.0     F     N   Red  Trapezoid  Hamster      Russia   \n",
       "1   1    1.0    1.0    0.0     F     Y   Red       Star  Axolotl         NaN   \n",
       "2   2    0.0    1.0    0.0     F     N   Red        NaN  Hamster      Canada   \n",
       "3   3    NaN    0.0    0.0     F     N   Red     Circle  Hamster     Finland   \n",
       "4   4    0.0    NaN    0.0     T     N   Red   Triangle  Hamster  Costa Rica   \n",
       "\n",
       "   ...      nom_9 ord_0        ord_1     ord_2 ord_3 ord_4  ord_5  day month  \\\n",
       "0  ...  02e7c8990   3.0  Contributor       Hot     c     U     Pw  6.0   3.0   \n",
       "1  ...  f37df64af   3.0  Grandmaster      Warm     e     X     pE  7.0   7.0   \n",
       "2  ...        NaN   3.0          NaN  Freezing     n     P     eN  5.0   9.0   \n",
       "3  ...  f9d456e57   1.0       Novice  Lava Hot     a     C    NaN  3.0   3.0   \n",
       "4  ...  c5361037c   3.0  Grandmaster      Cold     h     C     OZ  5.0  12.0   \n",
       "\n",
       "  target  \n",
       "0      0  \n",
       "1      0  \n",
       "2      0  \n",
       "3      0  \n",
       "4      0  \n",
       "\n",
       "[5 rows x 25 columns]"
      ]
     },
     "execution_count": 4,
     "metadata": {},
     "output_type": "execute_result"
    }
   ],
   "source": [
    "df.head()"
   ]
  },
  {
   "cell_type": "markdown",
   "metadata": {},
   "source": [
    "# Preporcess data"
   ]
  },
  {
   "cell_type": "code",
   "execution_count": 5,
   "metadata": {},
   "outputs": [],
   "source": [
    "from sklearn.model_selection import StratifiedKFold\n",
    "import category_encoders as ce\n",
    "import numpy as np\n",
    "import datetime\n",
    "\n",
    "mapping_ord1 = {'Unknown': 0, 'Novice': 1, 'Expert': 2, 'Contributor': 3, 'Master': 4, 'Grandmaster': 5}\n",
    "mapping_ord2 = {'Unknown': 0, 'Freezing': 1, 'Cold': 2, 'Warm': 3, 'Hot': 4, 'Boiling Hot': 5, 'Lava Hot': 6}\n",
    "mapping_ord3 = dict([(v, i) for i, v in enumerate(sorted(set(df['ord_3'].fillna(\"0\"))))])\n",
    "mapping_ord4 = dict([(v, i) for i, v in enumerate(sorted(set(df['ord_4'].fillna(\"0\"))))])\n",
    "mapping_ord5 = dict([(v, i) for i, v in enumerate(sorted(set(df['ord_5'].fillna(\"0\"))))])\n",
    "\n",
    "def preprocess_data(df):\n",
    "    df['ord_0'] = df['ord_0'].fillna(0)\n",
    "    df['ord_1'] =  df['ord_1'].fillna('Unknown').map(mapping_ord1)\n",
    "    df['ord_2'] =  df['ord_2'].fillna('Unknown').map(mapping_ord2)\n",
    "    df['ord_3'] =  df['ord_3'].fillna('0').map(mapping_ord3)\n",
    "    df['ord_4'] =  df['ord_4'].fillna('0').map(mapping_ord4)\n",
    "    df['ord_5'] =  df['ord_5'].fillna('0').map(mapping_ord5)\n",
    "    df['bin_3'] = df['bin_3'].fillna('U').map({\"T\": 1, \"F\": 0, \"U\": np.nan})\n",
    "    df['bin_4'] = df['bin_4'].fillna('U').map({\"Y\": 1, \"N\": 0, \"U\": np.nan})\n",
    "    return df\n",
    "\n",
    "def encode(df, df_test, cols):\n",
    "    cols_enc = list(map(lambda x: x + \"_enc\", cols))\n",
    "    for c in cols_enc:\n",
    "        df[c] = np.nan\n",
    "        df_test[c] = np.nan\n",
    "        \n",
    "    skf = StratifiedKFold(n_splits=5, random_state=42, shuffle=True)\n",
    "    \n",
    "    for train_idx, oof_idx in skf.split(df, df[\"target\"]):\n",
    "        enc = ce.TargetEncoder(cols = cols, smoothing=0.3)\n",
    "        enc.fit(df.loc[train_idx, cols], df.loc[train_idx, \"target\"])\n",
    "        df.loc[oof_idx, cols_enc] = enc.transform(df.loc[oof_idx, cols]).values\n",
    "    \n",
    "    enc = ce.TargetEncoder(cols = cols, smoothing=0.3)\n",
    "    enc.fit(df[cols], df[\"target\"])\n",
    "    df_test[cols_enc] = enc.transform(df_test[cols])\n",
    "    return df, df_test, cols_enc\n",
    "    \n",
    "df = preprocess_data(df)\n",
    "df_test = preprocess_data(df_test)\n",
    "\n",
    "binary = ['bin_0', 'bin_1', 'bin_2', 'bin_3', 'bin_4']\n",
    "ordinal  = ['ord_0', 'ord_1', 'ord_2', 'ord_3', 'ord_4', 'ord_5']\n",
    "low_card = ['nom_0', 'nom_1', 'nom_2', 'nom_3', 'nom_4']\n",
    "high_card = ['nom_5', 'nom_6', 'nom_7', 'nom_8', 'nom_9']\n",
    "date = ['day', 'month']\n",
    "\n",
    "df, df_test, cat_enc =  encode(df, df_test, high_card + low_card + date)\n",
    "# features = high_card + binary + ordinal + cat_enc + low_card + date\n",
    "features = binary + ordinal + cat_enc"
   ]
  },
  {
   "cell_type": "code",
   "execution_count": 6,
   "metadata": {},
   "outputs": [
    {
     "data": {
      "text/html": [
       "<div>\n",
       "<style scoped>\n",
       "    .dataframe tbody tr th:only-of-type {\n",
       "        vertical-align: middle;\n",
       "    }\n",
       "\n",
       "    .dataframe tbody tr th {\n",
       "        vertical-align: top;\n",
       "    }\n",
       "\n",
       "    .dataframe thead th {\n",
       "        text-align: right;\n",
       "    }\n",
       "</style>\n",
       "<table border=\"1\" class=\"dataframe\">\n",
       "  <thead>\n",
       "    <tr style=\"text-align: right;\">\n",
       "      <th></th>\n",
       "      <th>id</th>\n",
       "      <th>bin_0</th>\n",
       "      <th>bin_1</th>\n",
       "      <th>bin_2</th>\n",
       "      <th>bin_3</th>\n",
       "      <th>bin_4</th>\n",
       "      <th>nom_0</th>\n",
       "      <th>nom_1</th>\n",
       "      <th>nom_2</th>\n",
       "      <th>nom_3</th>\n",
       "      <th>...</th>\n",
       "      <th>nom_7_enc</th>\n",
       "      <th>nom_8_enc</th>\n",
       "      <th>nom_9_enc</th>\n",
       "      <th>nom_0_enc</th>\n",
       "      <th>nom_1_enc</th>\n",
       "      <th>nom_2_enc</th>\n",
       "      <th>nom_3_enc</th>\n",
       "      <th>nom_4_enc</th>\n",
       "      <th>day_enc</th>\n",
       "      <th>month_enc</th>\n",
       "    </tr>\n",
       "  </thead>\n",
       "  <tbody>\n",
       "    <tr>\n",
       "      <th>0</th>\n",
       "      <td>0</td>\n",
       "      <td>0.0</td>\n",
       "      <td>0.0</td>\n",
       "      <td>0.0</td>\n",
       "      <td>0.0</td>\n",
       "      <td>0.0</td>\n",
       "      <td>Red</td>\n",
       "      <td>Trapezoid</td>\n",
       "      <td>Hamster</td>\n",
       "      <td>Russia</td>\n",
       "      <td>...</td>\n",
       "      <td>0.098296</td>\n",
       "      <td>0.129236</td>\n",
       "      <td>0.177914</td>\n",
       "      <td>0.183158</td>\n",
       "      <td>0.225096</td>\n",
       "      <td>0.167919</td>\n",
       "      <td>0.219491</td>\n",
       "      <td>0.207147</td>\n",
       "      <td>0.200424</td>\n",
       "      <td>0.146475</td>\n",
       "    </tr>\n",
       "    <tr>\n",
       "      <th>1</th>\n",
       "      <td>1</td>\n",
       "      <td>1.0</td>\n",
       "      <td>1.0</td>\n",
       "      <td>0.0</td>\n",
       "      <td>0.0</td>\n",
       "      <td>1.0</td>\n",
       "      <td>Red</td>\n",
       "      <td>Star</td>\n",
       "      <td>Axolotl</td>\n",
       "      <td>NaN</td>\n",
       "      <td>...</td>\n",
       "      <td>0.128414</td>\n",
       "      <td>0.191517</td>\n",
       "      <td>0.155502</td>\n",
       "      <td>0.183176</td>\n",
       "      <td>0.130233</td>\n",
       "      <td>0.200552</td>\n",
       "      <td>0.185771</td>\n",
       "      <td>0.179593</td>\n",
       "      <td>0.212892</td>\n",
       "      <td>0.208686</td>\n",
       "    </tr>\n",
       "    <tr>\n",
       "      <th>2</th>\n",
       "      <td>2</td>\n",
       "      <td>0.0</td>\n",
       "      <td>1.0</td>\n",
       "      <td>0.0</td>\n",
       "      <td>0.0</td>\n",
       "      <td>0.0</td>\n",
       "      <td>Red</td>\n",
       "      <td>NaN</td>\n",
       "      <td>Hamster</td>\n",
       "      <td>Canada</td>\n",
       "      <td>...</td>\n",
       "      <td>0.266392</td>\n",
       "      <td>0.169176</td>\n",
       "      <td>0.188439</td>\n",
       "      <td>0.183158</td>\n",
       "      <td>0.181900</td>\n",
       "      <td>0.167919</td>\n",
       "      <td>0.159677</td>\n",
       "      <td>0.207147</td>\n",
       "      <td>0.164081</td>\n",
       "      <td>0.213645</td>\n",
       "    </tr>\n",
       "    <tr>\n",
       "      <th>3</th>\n",
       "      <td>3</td>\n",
       "      <td>NaN</td>\n",
       "      <td>0.0</td>\n",
       "      <td>0.0</td>\n",
       "      <td>0.0</td>\n",
       "      <td>0.0</td>\n",
       "      <td>Red</td>\n",
       "      <td>Circle</td>\n",
       "      <td>Hamster</td>\n",
       "      <td>Finland</td>\n",
       "      <td>...</td>\n",
       "      <td>0.139367</td>\n",
       "      <td>0.222915</td>\n",
       "      <td>0.271186</td>\n",
       "      <td>0.182968</td>\n",
       "      <td>0.179723</td>\n",
       "      <td>0.168632</td>\n",
       "      <td>0.178692</td>\n",
       "      <td>0.179306</td>\n",
       "      <td>0.163514</td>\n",
       "      <td>0.146270</td>\n",
       "    </tr>\n",
       "    <tr>\n",
       "      <th>4</th>\n",
       "      <td>4</td>\n",
       "      <td>0.0</td>\n",
       "      <td>NaN</td>\n",
       "      <td>0.0</td>\n",
       "      <td>1.0</td>\n",
       "      <td>0.0</td>\n",
       "      <td>Red</td>\n",
       "      <td>Triangle</td>\n",
       "      <td>Hamster</td>\n",
       "      <td>Costa Rica</td>\n",
       "      <td>...</td>\n",
       "      <td>0.195893</td>\n",
       "      <td>0.191633</td>\n",
       "      <td>0.261851</td>\n",
       "      <td>0.183176</td>\n",
       "      <td>0.157501</td>\n",
       "      <td>0.167905</td>\n",
       "      <td>0.202839</td>\n",
       "      <td>0.188604</td>\n",
       "      <td>0.163069</td>\n",
       "      <td>0.224929</td>\n",
       "    </tr>\n",
       "  </tbody>\n",
       "</table>\n",
       "<p>5 rows × 37 columns</p>\n",
       "</div>"
      ],
      "text/plain": [
       "   id  bin_0  bin_1  bin_2  bin_3  bin_4 nom_0      nom_1    nom_2  \\\n",
       "0   0    0.0    0.0    0.0    0.0    0.0   Red  Trapezoid  Hamster   \n",
       "1   1    1.0    1.0    0.0    0.0    1.0   Red       Star  Axolotl   \n",
       "2   2    0.0    1.0    0.0    0.0    0.0   Red        NaN  Hamster   \n",
       "3   3    NaN    0.0    0.0    0.0    0.0   Red     Circle  Hamster   \n",
       "4   4    0.0    NaN    0.0    1.0    0.0   Red   Triangle  Hamster   \n",
       "\n",
       "        nom_3  ... nom_7_enc nom_8_enc nom_9_enc nom_0_enc nom_1_enc  \\\n",
       "0      Russia  ...  0.098296  0.129236  0.177914  0.183158  0.225096   \n",
       "1         NaN  ...  0.128414  0.191517  0.155502  0.183176  0.130233   \n",
       "2      Canada  ...  0.266392  0.169176  0.188439  0.183158  0.181900   \n",
       "3     Finland  ...  0.139367  0.222915  0.271186  0.182968  0.179723   \n",
       "4  Costa Rica  ...  0.195893  0.191633  0.261851  0.183176  0.157501   \n",
       "\n",
       "  nom_2_enc  nom_3_enc  nom_4_enc   day_enc  month_enc  \n",
       "0  0.167919   0.219491   0.207147  0.200424   0.146475  \n",
       "1  0.200552   0.185771   0.179593  0.212892   0.208686  \n",
       "2  0.167919   0.159677   0.207147  0.164081   0.213645  \n",
       "3  0.168632   0.178692   0.179306  0.163514   0.146270  \n",
       "4  0.167905   0.202839   0.188604  0.163069   0.224929  \n",
       "\n",
       "[5 rows x 37 columns]"
      ]
     },
     "execution_count": 6,
     "metadata": {},
     "output_type": "execute_result"
    }
   ],
   "source": [
    "df.head()"
   ]
  },
  {
   "cell_type": "markdown",
   "metadata": {},
   "source": [
    "# Learn model"
   ]
  },
  {
   "cell_type": "code",
   "execution_count": 7,
   "metadata": {},
   "outputs": [],
   "source": [
    "from sklearn.base import BaseEstimator, TransformerMixin\n",
    "\n",
    "class ColumnSelector(BaseEstimator, TransformerMixin):\n",
    "    \n",
    "    def __init__(self, columns):\n",
    "        self.columns = columns\n",
    "\n",
    "    def fit(self, X, y=None):\n",
    "        return self\n",
    "\n",
    "    def transform(self, X):\n",
    "        assert isinstance(X, pd.DataFrame)\n",
    "\n",
    "        try:\n",
    "            return X[self.columns]\n",
    "        except KeyError:\n",
    "            cols_error = list(set(self.columns) - set(X.columns))\n",
    "            raise KeyError(\"The DataFrame does not include the columns: %s\" % cols_error)"
   ]
  },
  {
   "cell_type": "code",
   "execution_count": 8,
   "metadata": {},
   "outputs": [],
   "source": [
    "from lightgbm import LGBMClassifier\n",
    "from sklearn.pipeline import Pipeline\n",
    "from sklearn.compose import make_column_transformer\n",
    "import category_encoders as ce\n",
    " \n",
    "params = {\n",
    "        'clf__objective': 'binary',\n",
    "        'clf__boosting_type': 'gbdt', \n",
    "        'clf__metric': 'auc',\n",
    "        'clf__learning_rate': 0.01,\n",
    "        \"clf__bagging_freq\": 5,\n",
    "        \"clf__bagging_fraction\": 0.8,\n",
    "        \"clf__min_data_in_leaf\": 30,\n",
    "        \"clf__min_sum_hessian_in_leaf\": 5,\n",
    "        \"clf__use_two_round_loading\": False,\n",
    "        \"clf__feature_fraction\": 0.8,\n",
    "        'clf__verbose': 1,\n",
    "        \"clf__lambda_l1\": 0.1,\n",
    "        \"clf__n_estimators\": 5000,\n",
    "        \"clf__max_depth\": 3,\n",
    "        \"clf__reg_alpha\": 1,\n",
    "        \"clf__reg_lambda\": 1,\n",
    "        #\"enc__a\": 0.2\n",
    "    }\n",
    "\n",
    "                        \n",
    "pipeline = Pipeline(steps=[('sel', ColumnSelector(features)), \n",
    "                           #('enc', ce.CatBoostEncoder(cols=high_card + low_card + date)),\n",
    "                           ('clf', LGBMClassifier())]).set_params(**params)"
   ]
  },
  {
   "cell_type": "code",
   "execution_count": 9,
   "metadata": {
    "scrolled": true
   },
   "outputs": [
    {
     "name": "stdout",
     "output_type": "stream",
     "text": [
      "\r",
      "  0%|          | 0/10 [00:00<?, ?trial/s, best loss=?]"
     ]
    },
    {
     "name": "stderr",
     "output_type": "stream",
     "text": [
      "0it [00:00, ?it/s]\n",
      "\u001b[A\n"
     ]
    },
    {
     "name": "stdout",
     "output_type": "stream",
     "text": [
      "Training until validation scores don't improve for 1000 rounds\n",
      "[500]\tvalid_0's auc: 0.781489                         \n",
      "[1000]\tvalid_0's auc: 0.785834                        \n",
      "[1500]\tvalid_0's auc: 0.786576                        \n",
      "[2000]\tvalid_0's auc: 0.786656                        \n",
      "[2500]\tvalid_0's auc: 0.786585                        \n",
      "[3000]\tvalid_0's auc: 0.786487                        \n",
      "Early stopping, best iteration is:                    \n",
      "[2041]\tvalid_0's auc: 0.786666\n",
      "  0%|          | 0/10 [00:34<?, ?trial/s, best loss=?]"
     ]
    },
    {
     "name": "stderr",
     "output_type": "stream",
     "text": [
      "1it [00:35, 35.83s/it]\n",
      "\u001b[A\n"
     ]
    },
    {
     "name": "stdout",
     "output_type": "stream",
     "text": [
      "Training until validation scores don't improve for 1000 rounds\n",
      "[500]\tvalid_0's auc: 0.783714                         \n",
      "[1000]\tvalid_0's auc: 0.788265                        \n",
      "[1500]\tvalid_0's auc: 0.788985                        \n",
      "[2000]\tvalid_0's auc: 0.789063                        \n",
      "[2500]\tvalid_0's auc: 0.789016                        \n",
      "Early stopping, best iteration is:                    \n",
      "[1943]\tvalid_0's auc: 0.789096\n",
      "  0%|          | 0/10 [01:09<?, ?trial/s, best loss=?]"
     ]
    },
    {
     "name": "stderr",
     "output_type": "stream",
     "text": [
      "2it [01:10, 35.62s/it]\n",
      "\u001b[A\n"
     ]
    },
    {
     "name": "stdout",
     "output_type": "stream",
     "text": [
      "Training until validation scores don't improve for 1000 rounds\n",
      "[500]\tvalid_0's auc: 0.784501                         \n",
      "[1000]\tvalid_0's auc: 0.788693                        \n",
      "[1500]\tvalid_0's auc: 0.78922                         \n",
      "[2000]\tvalid_0's auc: 0.789179                        \n",
      "[2500]\tvalid_0's auc: 0.789105                        \n",
      "Early stopping, best iteration is:                    \n",
      "[1684]\tvalid_0's auc: 0.789279\n",
      "  0%|          | 0/10 [01:42<?, ?trial/s, best loss=?]"
     ]
    },
    {
     "name": "stderr",
     "output_type": "stream",
     "text": [
      "3it [01:43, 34.61s/it]\n",
      "\u001b[A\n"
     ]
    },
    {
     "name": "stdout",
     "output_type": "stream",
     "text": [
      "Training until validation scores don't improve for 1000 rounds\n",
      "[500]\tvalid_0's auc: 0.781946                         \n",
      "[1000]\tvalid_0's auc: 0.786031                        \n",
      "[1500]\tvalid_0's auc: 0.786543                        \n",
      "[2000]\tvalid_0's auc: 0.786591                        \n",
      "[2500]\tvalid_0's auc: 0.786515                        \n",
      "[3000]\tvalid_0's auc: 0.786444                        \n",
      "Early stopping, best iteration is:                    \n",
      "[2146]\tvalid_0's auc: 0.786624\n",
      "  0%|          | 0/10 [02:18<?, ?trial/s, best loss=?]"
     ]
    },
    {
     "name": "stderr",
     "output_type": "stream",
     "text": [
      "4it [02:20, 35.29s/it]\n",
      "\u001b[A\n"
     ]
    },
    {
     "name": "stdout",
     "output_type": "stream",
     "text": [
      "Training until validation scores don't improve for 1000 rounds\n",
      "[500]\tvalid_0's auc: 0.781055                         \n",
      "[1000]\tvalid_0's auc: 0.785682                        \n",
      "[1500]\tvalid_0's auc: 0.786405                        \n",
      "[2000]\tvalid_0's auc: 0.786468                        \n",
      "[2500]\tvalid_0's auc: 0.786377                        \n",
      "Early stopping, best iteration is:                    \n",
      "[1840]\tvalid_0's auc: 0.7865\n",
      "  0%|          | 0/10 [02:52<?, ?trial/s, best loss=?]"
     ]
    },
    {
     "name": "stderr",
     "output_type": "stream",
     "text": [
      "5it [02:53, 34.63s/it]\n",
      "\u001b[A\n",
      "5it [02:53, 34.64s/it]\n"
     ]
    },
    {
     "name": "stdout",
     "output_type": "stream",
     "text": [
      "AUC 0.78763+-0.00127.                                 \n",
      "Params: \n",
      "clf__bagging_fraction: 0.700\n",
      "clf__colsample_bytree: 0.387\n",
      "clf__feature_fraction: 0.600\n",
      "clf__lambda_l1: 0.034\n",
      "clf__learning_rate: 0.026\n",
      "clf__min_child_weight: 4.014\n",
      "clf__num_leaves: 101.000\n",
      " 10%|█         | 1/10 [02:53<25:58, 173.21s/trial, best loss: 0.21236703645197186]"
     ]
    },
    {
     "name": "stderr",
     "output_type": "stream",
     "text": [
      "0it [00:00, ?it/s]\n",
      "\u001b[A\n"
     ]
    },
    {
     "name": "stdout",
     "output_type": "stream",
     "text": [
      "Training until validation scores don't improve for 1000 rounds                    \n",
      "[500]\tvalid_0's auc: 0.778392                                                     \n",
      "[1000]\tvalid_0's auc: 0.784618                                                    \n",
      "[1500]\tvalid_0's auc: 0.786177                                                    \n",
      "[2000]\tvalid_0's auc: 0.786529                                                    \n",
      "[2500]\tvalid_0's auc: 0.786545                                                    \n",
      "[3000]\tvalid_0's auc: 0.786495                                                    \n",
      "Early stopping, best iteration is:                                                \n",
      "[2260]\tvalid_0's auc: 0.786575\n",
      " 10%|█         | 1/10 [03:30<25:58, 173.21s/trial, best loss: 0.21236703645197186]"
     ]
    },
    {
     "name": "stderr",
     "output_type": "stream",
     "text": [
      "1it [00:38, 38.45s/it]\n",
      "\u001b[A\n"
     ]
    },
    {
     "name": "stdout",
     "output_type": "stream",
     "text": [
      "Training until validation scores don't improve for 1000 rounds                    \n",
      "[500]\tvalid_0's auc: 0.780253                                                     \n",
      "[1000]\tvalid_0's auc: 0.78693                                                     \n",
      "[1500]\tvalid_0's auc: 0.788534                                                    \n",
      "[2000]\tvalid_0's auc: 0.788918                                                    \n",
      "[2500]\tvalid_0's auc: 0.788971                                                    \n",
      "[3000]\tvalid_0's auc: 0.788971                                                    \n",
      "Early stopping, best iteration is:                                                \n",
      "[2268]\tvalid_0's auc: 0.788999\n",
      " 10%|█         | 1/10 [04:09<25:58, 173.21s/trial, best loss: 0.21236703645197186]"
     ]
    },
    {
     "name": "stderr",
     "output_type": "stream",
     "text": [
      "2it [01:17, 38.63s/it]\n",
      "\u001b[A\n"
     ]
    },
    {
     "name": "stdout",
     "output_type": "stream",
     "text": [
      "Training until validation scores don't improve for 1000 rounds                    \n",
      "[500]\tvalid_0's auc: 0.781064                                                     \n",
      "[1000]\tvalid_0's auc: 0.787443                                                    \n",
      "[1500]\tvalid_0's auc: 0.788821                                                    \n",
      "[2000]\tvalid_0's auc: 0.789104                                                    \n",
      "[2500]\tvalid_0's auc: 0.7891                                                      \n",
      "[3000]\tvalid_0's auc: 0.789034                                                    \n",
      "Early stopping, best iteration is:                                                \n",
      "[2121]\tvalid_0's auc: 0.789121\n",
      " 10%|█         | 1/10 [04:49<25:58, 173.21s/trial, best loss: 0.21236703645197186]"
     ]
    },
    {
     "name": "stderr",
     "output_type": "stream",
     "text": [
      "3it [01:57, 39.00s/it]\n",
      "\u001b[A\n"
     ]
    },
    {
     "name": "stdout",
     "output_type": "stream",
     "text": [
      "Training until validation scores don't improve for 1000 rounds                    \n",
      "[500]\tvalid_0's auc: 0.778513                                                     \n",
      "[1000]\tvalid_0's auc: 0.784749                                                    \n",
      "[1500]\tvalid_0's auc: 0.786173                                                    \n",
      "[2000]\tvalid_0's auc: 0.786445                                                    \n",
      "[2500]\tvalid_0's auc: 0.786507                                                    \n",
      "[3000]\tvalid_0's auc: 0.786459                                                    \n",
      "Early stopping, best iteration is:                                                \n",
      "[2313]\tvalid_0's auc: 0.786524\n",
      " 10%|█         | 1/10 [05:29<25:58, 173.21s/trial, best loss: 0.21236703645197186]"
     ]
    },
    {
     "name": "stderr",
     "output_type": "stream",
     "text": [
      "4it [02:37, 39.37s/it]\n",
      "\u001b[A\n"
     ]
    },
    {
     "name": "stdout",
     "output_type": "stream",
     "text": [
      "Training until validation scores don't improve for 1000 rounds                    \n",
      "[500]\tvalid_0's auc: 0.777585                                                     \n",
      "[1000]\tvalid_0's auc: 0.784417                                                    \n",
      "[1500]\tvalid_0's auc: 0.786042                                                    \n",
      "[2000]\tvalid_0's auc: 0.786389                                                    \n",
      "[2500]\tvalid_0's auc: 0.786509                                                    \n",
      "[3000]\tvalid_0's auc: 0.786469                                                    \n",
      "Early stopping, best iteration is:                                                \n",
      "[2409]\tvalid_0's auc: 0.786527\n",
      " 10%|█         | 1/10 [06:09<25:58, 173.21s/trial, best loss: 0.21236703645197186]"
     ]
    },
    {
     "name": "stderr",
     "output_type": "stream",
     "text": [
      "5it [03:18, 39.71s/it]\n",
      "\u001b[A\n",
      "5it [03:18, 39.62s/it]\n"
     ]
    },
    {
     "name": "stdout",
     "output_type": "stream",
     "text": [
      "AUC 0.78755+-0.00123.                                                             \n",
      "Params: \n",
      "clf__bagging_fraction: 0.700\n",
      "clf__colsample_bytree: 0.309\n",
      "clf__feature_fraction: 0.800\n",
      "clf__lambda_l1: 0.239\n",
      "clf__learning_rate: 0.019\n",
      "clf__min_child_weight: 3.802\n",
      "clf__num_leaves: 54.000\n",
      " 20%|██        | 2/10 [06:11<24:05, 180.69s/trial, best loss: 0.21236703645197186]"
     ]
    },
    {
     "name": "stderr",
     "output_type": "stream",
     "text": [
      "0it [00:00, ?it/s]\n",
      "\u001b[A\n"
     ]
    },
    {
     "name": "stdout",
     "output_type": "stream",
     "text": [
      "Training until validation scores don't improve for 1000 rounds                    \n",
      "[500]\tvalid_0's auc: 0.786143                                                     \n",
      "[1000]\tvalid_0's auc: 0.785465                                                    \n",
      "[1500]\tvalid_0's auc: 0.784904                                                    \n",
      "Early stopping, best iteration is:                                                \n",
      "[508]\tvalid_0's auc: 0.786192\n",
      " 20%|██        | 2/10 [06:32<24:05, 180.69s/trial, best loss: 0.21236703645197186]"
     ]
    },
    {
     "name": "stderr",
     "output_type": "stream",
     "text": [
      "1it [00:21, 21.50s/it]\n",
      "\u001b[A\n"
     ]
    },
    {
     "name": "stdout",
     "output_type": "stream",
     "text": [
      "Training until validation scores don't improve for 1000 rounds                    \n",
      "[500]\tvalid_0's auc: 0.78846                                                      \n",
      "[1000]\tvalid_0's auc: 0.788132                                                    \n",
      "Early stopping, best iteration is:                                                \n",
      "[420]\tvalid_0's auc: 0.788512\n",
      " 20%|██        | 2/10 [06:51<24:05, 180.69s/trial, best loss: 0.21236703645197186]"
     ]
    },
    {
     "name": "stderr",
     "output_type": "stream",
     "text": [
      "2it [00:40, 20.75s/it]\n",
      "\u001b[A\n"
     ]
    },
    {
     "name": "stdout",
     "output_type": "stream",
     "text": [
      "Training until validation scores don't improve for 1000 rounds                    \n",
      "[500]\tvalid_0's auc: 0.788668                                                     \n",
      "[1000]\tvalid_0's auc: 0.787897                                                    \n",
      "[1500]\tvalid_0's auc: 0.787225                                                    \n",
      "Early stopping, best iteration is:                                                \n",
      "[504]\tvalid_0's auc: 0.788682\n",
      " 20%|██        | 2/10 [07:11<24:05, 180.69s/trial, best loss: 0.21236703645197186]"
     ]
    },
    {
     "name": "stderr",
     "output_type": "stream",
     "text": [
      "3it [01:01, 20.69s/it]\n",
      "\u001b[A\n"
     ]
    },
    {
     "name": "stdout",
     "output_type": "stream",
     "text": [
      "Training until validation scores don't improve for 1000 rounds                    \n",
      "[500]\tvalid_0's auc: 0.785718                                                     \n",
      "[1000]\tvalid_0's auc: 0.785219                                                    \n",
      "Early stopping, best iteration is:                                                \n",
      "[467]\tvalid_0's auc: 0.785756\n",
      " 20%|██        | 2/10 [07:33<24:05, 180.69s/trial, best loss: 0.21236703645197186]"
     ]
    },
    {
     "name": "stderr",
     "output_type": "stream",
     "text": [
      "4it [01:22, 21.00s/it]\n",
      "\u001b[A\n"
     ]
    },
    {
     "name": "stdout",
     "output_type": "stream",
     "text": [
      "Training until validation scores don't improve for 1000 rounds                    \n",
      "[500]\tvalid_0's auc: 0.785803                                                     \n",
      "[1000]\tvalid_0's auc: 0.785411                                                    \n",
      "Early stopping, best iteration is:                                                \n",
      "[497]\tvalid_0's auc: 0.785812\n",
      " 20%|██        | 2/10 [07:55<24:05, 180.69s/trial, best loss: 0.21236703645197186]"
     ]
    },
    {
     "name": "stderr",
     "output_type": "stream",
     "text": [
      "5it [01:44, 21.32s/it]\n",
      "\u001b[A\n",
      "5it [01:44, 20.97s/it]\n"
     ]
    },
    {
     "name": "stdout",
     "output_type": "stream",
     "text": [
      "AUC 0.78699+-0.00132.                                                             \n",
      "Params: \n",
      "clf__bagging_fraction: 0.800\n",
      "clf__colsample_bytree: 0.796\n",
      "clf__feature_fraction: 1.000\n",
      "clf__lambda_l1: 0.478\n",
      "clf__learning_rate: 0.101\n",
      "clf__min_child_weight: 5.890\n",
      "clf__num_leaves: 105.000\n",
      " 30%|███       | 3/10 [07:56<18:25, 157.95s/trial, best loss: 0.21236703645197186]"
     ]
    },
    {
     "name": "stderr",
     "output_type": "stream",
     "text": [
      "0it [00:00, ?it/s]\n",
      "\u001b[A\n"
     ]
    },
    {
     "name": "stdout",
     "output_type": "stream",
     "text": [
      "Training until validation scores don't improve for 1000 rounds                    \n",
      "[500]\tvalid_0's auc: 0.786366                                                     \n",
      "[1000]\tvalid_0's auc: 0.786083                                                    \n",
      "[1500]\tvalid_0's auc: 0.785671                                                    \n",
      "Early stopping, best iteration is:                                                \n",
      "[602]\tvalid_0's auc: 0.786402\n",
      " 30%|███       | 3/10 [08:17<18:25, 157.95s/trial, best loss: 0.21236703645197186]"
     ]
    },
    {
     "name": "stderr",
     "output_type": "stream",
     "text": [
      "1it [00:21, 21.43s/it]\n",
      "\u001b[A\n"
     ]
    },
    {
     "name": "stdout",
     "output_type": "stream",
     "text": [
      "Training until validation scores don't improve for 1000 rounds                    \n",
      "[500]\tvalid_0's auc: 0.788338                                                     \n",
      "[1000]\tvalid_0's auc: 0.788235                                                    \n",
      "[1500]\tvalid_0's auc: 0.787875                                                    \n",
      "Early stopping, best iteration is:                                                \n",
      "[663]\tvalid_0's auc: 0.788383\n",
      " 30%|███       | 3/10 [08:39<18:25, 157.95s/trial, best loss: 0.21236703645197186]"
     ]
    },
    {
     "name": "stderr",
     "output_type": "stream",
     "text": [
      "2it [00:43, 21.63s/it]\n",
      "\u001b[A\n"
     ]
    },
    {
     "name": "stdout",
     "output_type": "stream",
     "text": [
      "Training until validation scores don't improve for 1000 rounds                    \n",
      "[500]\tvalid_0's auc: 0.788587                                                     \n",
      "[1000]\tvalid_0's auc: 0.788238                                                    \n",
      "Early stopping, best iteration is:                                                \n",
      "[464]\tvalid_0's auc: 0.788606\n",
      " 30%|███       | 3/10 [08:59<18:25, 157.95s/trial, best loss: 0.21236703645197186]"
     ]
    },
    {
     "name": "stderr",
     "output_type": "stream",
     "text": [
      "3it [01:03, 21.13s/it]\n",
      "\u001b[A\n"
     ]
    },
    {
     "name": "stdout",
     "output_type": "stream",
     "text": [
      "Training until validation scores don't improve for 1000 rounds                    \n",
      "[500]\tvalid_0's auc: 0.785869                                                     \n",
      "[1000]\tvalid_0's auc: 0.78549                                                     \n",
      "Early stopping, best iteration is:                                                \n",
      "[482]\tvalid_0's auc: 0.785899\n",
      " 30%|███       | 3/10 [09:18<18:25, 157.95s/trial, best loss: 0.21236703645197186]"
     ]
    },
    {
     "name": "stderr",
     "output_type": "stream",
     "text": [
      "4it [01:23, 20.69s/it]\n",
      "\u001b[A\n"
     ]
    },
    {
     "name": "stdout",
     "output_type": "stream",
     "text": [
      "Training until validation scores don't improve for 1000 rounds                    \n",
      "[500]\tvalid_0's auc: 0.785918                                                     \n",
      "[1000]\tvalid_0's auc: 0.78582                                                     \n",
      "[1500]\tvalid_0's auc: 0.785308                                                    \n",
      "Early stopping, best iteration is:                                                \n",
      "[536]\tvalid_0's auc: 0.78596\n",
      " 30%|███       | 3/10 [09:40<18:25, 157.95s/trial, best loss: 0.21236703645197186]"
     ]
    },
    {
     "name": "stderr",
     "output_type": "stream",
     "text": [
      "5it [01:44, 20.83s/it]\n",
      "\u001b[A\n",
      "5it [01:44, 20.86s/it]\n"
     ]
    },
    {
     "name": "stdout",
     "output_type": "stream",
     "text": [
      "AUC 0.78705+-0.00119.                                                             \n",
      "Params: \n",
      "clf__bagging_fraction: 1.000\n",
      "clf__colsample_bytree: 0.557\n",
      "clf__feature_fraction: 0.900\n",
      "clf__lambda_l1: 0.028\n",
      "clf__learning_rate: 0.090\n",
      "clf__min_child_weight: 3.152\n",
      "clf__num_leaves: 49.000\n",
      " 40%|████      | 4/10 [09:40<14:11, 141.86s/trial, best loss: 0.21236703645197186]"
     ]
    },
    {
     "name": "stderr",
     "output_type": "stream",
     "text": [
      "0it [00:00, ?it/s]\n",
      "\u001b[A\n"
     ]
    },
    {
     "name": "stdout",
     "output_type": "stream",
     "text": [
      "Training until validation scores don't improve for 1000 rounds                    \n",
      "[500]\tvalid_0's auc: 0.761926                                                     \n",
      "[1000]\tvalid_0's auc: 0.776656                                                    \n",
      "[1500]\tvalid_0's auc: 0.781459                                                    \n",
      "[2000]\tvalid_0's auc: 0.783803                                                    \n",
      "[2500]\tvalid_0's auc: 0.785106                                                    \n",
      "[3000]\tvalid_0's auc: 0.785807                                                    \n",
      "[3500]\tvalid_0's auc: 0.786165                                                    \n",
      "[4000]\tvalid_0's auc: 0.786334                                                    \n",
      "[4500]\tvalid_0's auc: 0.786452                                                    \n",
      "[5000]\tvalid_0's auc: 0.786506                                                    \n",
      "Did not meet early stopping. Best iteration is:                                   \n",
      "[4960]\tvalid_0's auc: 0.786512\n",
      " 40%|████      | 4/10 [11:00<14:11, 141.86s/trial, best loss: 0.21236703645197186]"
     ]
    },
    {
     "name": "stderr",
     "output_type": "stream",
     "text": [
      "1it [01:23, 83.02s/it]\n",
      "\u001b[A\n"
     ]
    },
    {
     "name": "stdout",
     "output_type": "stream",
     "text": [
      "Training until validation scores don't improve for 1000 rounds                    \n",
      "[500]\tvalid_0's auc: 0.763862                                                     \n",
      "[1000]\tvalid_0's auc: 0.7786                                                      \n",
      "[1500]\tvalid_0's auc: 0.783667                                                    \n",
      "[2000]\tvalid_0's auc: 0.786201                                                    \n",
      "[2500]\tvalid_0's auc: 0.787464                                                    \n",
      "[3000]\tvalid_0's auc: 0.788189                                                    \n",
      "[3500]\tvalid_0's auc: 0.788585                                                    \n",
      "[4000]\tvalid_0's auc: 0.788802                                                    \n",
      "[4500]\tvalid_0's auc: 0.788932                                                    \n",
      "[5000]\tvalid_0's auc: 0.788985                                                    \n",
      "Did not meet early stopping. Best iteration is:                                   \n",
      "[5000]\tvalid_0's auc: 0.788985\n",
      " 40%|████      | 4/10 [12:26<14:11, 141.86s/trial, best loss: 0.21236703645197186]"
     ]
    },
    {
     "name": "stderr",
     "output_type": "stream",
     "text": [
      "2it [02:49, 84.00s/it]\n",
      "\u001b[A\n"
     ]
    },
    {
     "name": "stdout",
     "output_type": "stream",
     "text": [
      "Training until validation scores don't improve for 1000 rounds                    \n",
      "[500]\tvalid_0's auc: 0.764543                                                     \n",
      "[1000]\tvalid_0's auc: 0.779606                                                    \n",
      "[1500]\tvalid_0's auc: 0.784573                                                    \n",
      "[2000]\tvalid_0's auc: 0.786815                                                    \n",
      "[2500]\tvalid_0's auc: 0.787976                                                    \n",
      "[3000]\tvalid_0's auc: 0.788573                                                    \n",
      "[3500]\tvalid_0's auc: 0.788865                                                    \n",
      "[4000]\tvalid_0's auc: 0.789024                                                    \n",
      "[4500]\tvalid_0's auc: 0.789099                                                    \n",
      "[5000]\tvalid_0's auc: 0.789124                                                    \n",
      "Did not meet early stopping. Best iteration is:                                   \n",
      "[4985]\tvalid_0's auc: 0.789128\n",
      " 40%|████      | 4/10 [13:54<14:11, 141.86s/trial, best loss: 0.21236703645197186]"
     ]
    },
    {
     "name": "stderr",
     "output_type": "stream",
     "text": [
      "3it [04:17, 85.11s/it]\n",
      "\u001b[A\n"
     ]
    },
    {
     "name": "stdout",
     "output_type": "stream",
     "text": [
      "Training until validation scores don't improve for 1000 rounds                    \n",
      "[500]\tvalid_0's auc: 0.763206                                                     \n",
      "[1000]\tvalid_0's auc: 0.776957                                                    \n",
      "[1500]\tvalid_0's auc: 0.781704                                                    \n",
      "[2000]\tvalid_0's auc: 0.783949                                                    \n",
      "[2500]\tvalid_0's auc: 0.785215                                                    \n",
      "[3000]\tvalid_0's auc: 0.785854                                                    \n",
      "[3500]\tvalid_0's auc: 0.786179                                                    \n",
      "[4000]\tvalid_0's auc: 0.786326                                                    \n",
      "[4500]\tvalid_0's auc: 0.786383                                                    \n",
      "[5000]\tvalid_0's auc: 0.786393                                                    \n",
      "Did not meet early stopping. Best iteration is:                                   \n",
      "[4715]\tvalid_0's auc: 0.786401\n",
      " 40%|████      | 4/10 [15:22<14:11, 141.86s/trial, best loss: 0.21236703645197186]"
     ]
    },
    {
     "name": "stderr",
     "output_type": "stream",
     "text": [
      "4it [05:45, 86.06s/it]\n",
      "\u001b[A\n"
     ]
    },
    {
     "name": "stdout",
     "output_type": "stream",
     "text": [
      "Training until validation scores don't improve for 1000 rounds                    \n",
      "[500]\tvalid_0's auc: 0.761118                                                     \n",
      "[1000]\tvalid_0's auc: 0.775939                                                    \n",
      "[1500]\tvalid_0's auc: 0.780997                                                    \n",
      "[2000]\tvalid_0's auc: 0.783625                                                    \n",
      "[2500]\tvalid_0's auc: 0.785013                                                    \n",
      "[3000]\tvalid_0's auc: 0.785724                                                    \n",
      "[3500]\tvalid_0's auc: 0.786078                                                    \n",
      "[4000]\tvalid_0's auc: 0.786295                                                    \n",
      "[4500]\tvalid_0's auc: 0.786374                                                    \n",
      "[5000]\tvalid_0's auc: 0.786402                                                    \n",
      "Did not meet early stopping. Best iteration is:                                   \n",
      "[4805]\tvalid_0's auc: 0.786417\n",
      " 40%|████      | 4/10 [16:48<14:11, 141.86s/trial, best loss: 0.21236703645197186]"
     ]
    },
    {
     "name": "stderr",
     "output_type": "stream",
     "text": [
      "5it [07:11, 86.10s/it]\n",
      "\u001b[A\n",
      "5it [07:11, 86.29s/it]\n"
     ]
    },
    {
     "name": "stdout",
     "output_type": "stream",
     "text": [
      "AUC 0.78749+-0.00128.                                                             \n",
      "Params: \n",
      "clf__bagging_fraction: 0.800\n",
      "clf__colsample_bytree: 0.675\n",
      "clf__feature_fraction: 1.000\n",
      "clf__lambda_l1: 0.084\n",
      "clf__learning_rate: 0.009\n",
      "clf__min_child_weight: 3.053\n",
      "clf__num_leaves: 125.000\n",
      " 50%|█████     | 5/10 [16:52<19:03, 228.75s/trial, best loss: 0.21236703645197186]"
     ]
    },
    {
     "name": "stderr",
     "output_type": "stream",
     "text": [
      "0it [00:00, ?it/s]\n",
      "\u001b[A\n"
     ]
    },
    {
     "name": "stdout",
     "output_type": "stream",
     "text": [
      "Training until validation scores don't improve for 1000 rounds                    \n",
      "[500]\tvalid_0's auc: 0.784856                                                     \n",
      "[1000]\tvalid_0's auc: 0.786231                                                    \n",
      "[1500]\tvalid_0's auc: 0.786146                                                    \n",
      "[2000]\tvalid_0's auc: 0.785941                                                    \n",
      "Early stopping, best iteration is:                                                \n",
      "[1135]\tvalid_0's auc: 0.786274\n",
      " 50%|█████     | 5/10 [17:29<19:03, 228.75s/trial, best loss: 0.21236703645197186]"
     ]
    },
    {
     "name": "stderr",
     "output_type": "stream",
     "text": [
      "1it [00:37, 37.97s/it]\n",
      "\u001b[A\n"
     ]
    },
    {
     "name": "stdout",
     "output_type": "stream",
     "text": [
      "Training until validation scores don't improve for 1000 rounds                    \n",
      "[500]\tvalid_0's auc: 0.787166                                                     \n",
      "[1000]\tvalid_0's auc: 0.788679                                                    \n",
      "[1500]\tvalid_0's auc: 0.788648                                                    \n",
      "[2000]\tvalid_0's auc: 0.788499                                                    \n",
      "Early stopping, best iteration is:                                                \n",
      "[1413]\tvalid_0's auc: 0.788706\n",
      " 50%|█████     | 5/10 [18:09<19:03, 228.75s/trial, best loss: 0.21236703645197186]"
     ]
    },
    {
     "name": "stderr",
     "output_type": "stream",
     "text": [
      "2it [01:18, 38.88s/it]\n",
      "\u001b[A\n"
     ]
    },
    {
     "name": "stdout",
     "output_type": "stream",
     "text": [
      "Training until validation scores don't improve for 1000 rounds                    \n",
      "[500]\tvalid_0's auc: 0.787811                                                     \n",
      "[1000]\tvalid_0's auc: 0.788872                                                    \n",
      "[1500]\tvalid_0's auc: 0.788697                                                    \n",
      "Early stopping, best iteration is:                                                \n",
      "[960]\tvalid_0's auc: 0.788879\n",
      " 50%|█████     | 5/10 [18:43<19:03, 228.75s/trial, best loss: 0.21236703645197186]"
     ]
    },
    {
     "name": "stderr",
     "output_type": "stream",
     "text": [
      "3it [01:52, 37.34s/it]\n",
      "\u001b[A\n"
     ]
    },
    {
     "name": "stdout",
     "output_type": "stream",
     "text": [
      "Training until validation scores don't improve for 1000 rounds                    \n",
      "[500]\tvalid_0's auc: 0.785046                                                     \n",
      "[1000]\tvalid_0's auc: 0.78613                                                     \n",
      "[1500]\tvalid_0's auc: 0.786018                                                    \n",
      "Early stopping, best iteration is:                                                \n",
      "[931]\tvalid_0's auc: 0.786149\n",
      " 50%|█████     | 5/10 [19:16<19:03, 228.75s/trial, best loss: 0.21236703645197186]"
     ]
    },
    {
     "name": "stderr",
     "output_type": "stream",
     "text": [
      "4it [02:24, 35.74s/it]\n",
      "\u001b[A\n"
     ]
    },
    {
     "name": "stdout",
     "output_type": "stream",
     "text": [
      "Training until validation scores don't improve for 1000 rounds                    \n",
      "[500]\tvalid_0's auc: 0.784622                                                     \n",
      "[1000]\tvalid_0's auc: 0.786102                                                    \n",
      "[1500]\tvalid_0's auc: 0.786083                                                    \n",
      "[2000]\tvalid_0's auc: 0.785913                                                    \n",
      "Early stopping, best iteration is:                                                \n",
      "[1244]\tvalid_0's auc: 0.786139\n",
      " 50%|█████     | 5/10 [19:52<19:03, 228.75s/trial, best loss: 0.21236703645197186]"
     ]
    },
    {
     "name": "stderr",
     "output_type": "stream",
     "text": [
      "5it [03:01, 36.00s/it]\n",
      "\u001b[A\n",
      "5it [03:01, 36.27s/it]\n"
     ]
    },
    {
     "name": "stdout",
     "output_type": "stream",
     "text": [
      "AUC 0.78723+-0.00128.                                                             \n",
      "Params: \n",
      "clf__bagging_fraction: 0.900\n",
      "clf__colsample_bytree: 0.960\n",
      "clf__feature_fraction: 1.000\n",
      "clf__lambda_l1: 0.427\n",
      "clf__learning_rate: 0.045\n",
      "clf__min_child_weight: 4.624\n",
      "clf__num_leaves: 71.000\n",
      " 60%|██████    | 6/10 [19:53<14:18, 214.54s/trial, best loss: 0.21236703645197186]"
     ]
    },
    {
     "name": "stderr",
     "output_type": "stream",
     "text": [
      "0it [00:00, ?it/s]\n",
      "\u001b[A\n"
     ]
    },
    {
     "name": "stdout",
     "output_type": "stream",
     "text": [
      "Training until validation scores don't improve for 1000 rounds                    \n",
      "[500]\tvalid_0's auc: 0.783016                                                     \n",
      "[1000]\tvalid_0's auc: 0.781087                                                    \n",
      "Early stopping, best iteration is:                                                \n",
      "[153]\tvalid_0's auc: 0.78446\n",
      " 60%|██████    | 6/10 [20:11<14:18, 214.54s/trial, best loss: 0.21236703645197186]"
     ]
    },
    {
     "name": "stderr",
     "output_type": "stream",
     "text": [
      "1it [00:18, 18.01s/it]\n",
      "\u001b[A\n"
     ]
    },
    {
     "name": "stdout",
     "output_type": "stream",
     "text": [
      "Training until validation scores don't improve for 1000 rounds                    \n",
      "[500]\tvalid_0's auc: 0.785191                                                     \n",
      "[1000]\tvalid_0's auc: 0.783182                                                    \n",
      "Early stopping, best iteration is:                                                \n",
      "[183]\tvalid_0's auc: 0.786363\n",
      " 60%|██████    | 6/10 [20:29<14:18, 214.54s/trial, best loss: 0.21236703645197186]"
     ]
    },
    {
     "name": "stderr",
     "output_type": "stream",
     "text": [
      "2it [00:36, 18.01s/it]\n",
      "\u001b[A\n"
     ]
    },
    {
     "name": "stdout",
     "output_type": "stream",
     "text": [
      "Training until validation scores don't improve for 1000 rounds                    \n",
      "[500]\tvalid_0's auc: 0.784883                                                     \n",
      "[1000]\tvalid_0's auc: 0.782498                                                    \n",
      "Early stopping, best iteration is:                                                \n",
      "[145]\tvalid_0's auc: 0.786663\n",
      " 60%|██████    | 6/10 [20:46<14:18, 214.54s/trial, best loss: 0.21236703645197186]"
     ]
    },
    {
     "name": "stderr",
     "output_type": "stream",
     "text": [
      "3it [00:52, 17.65s/it]\n",
      "\u001b[A\n"
     ]
    },
    {
     "name": "stdout",
     "output_type": "stream",
     "text": [
      "Training until validation scores don't improve for 1000 rounds                    \n",
      "[500]\tvalid_0's auc: 0.782966                                                     \n",
      "[1000]\tvalid_0's auc: 0.779928                                                    \n",
      "Early stopping, best iteration is:                                                \n",
      "[123]\tvalid_0's auc: 0.784199\n",
      " 60%|██████    | 6/10 [21:03<14:18, 214.54s/trial, best loss: 0.21236703645197186]"
     ]
    },
    {
     "name": "stderr",
     "output_type": "stream",
     "text": [
      "4it [01:09, 17.47s/it]\n",
      "\u001b[A\n"
     ]
    },
    {
     "name": "stdout",
     "output_type": "stream",
     "text": [
      "Training until validation scores don't improve for 1000 rounds                    \n",
      "[500]\tvalid_0's auc: 0.782399                                                     \n",
      "[1000]\tvalid_0's auc: 0.780372                                                    \n",
      "Early stopping, best iteration is:                                                \n",
      "[193]\tvalid_0's auc: 0.783915\n",
      " 60%|██████    | 6/10 [21:22<14:18, 214.54s/trial, best loss: 0.21236703645197186]"
     ]
    },
    {
     "name": "stderr",
     "output_type": "stream",
     "text": [
      "5it [01:29, 18.06s/it]\n",
      "\u001b[A\n",
      "5it [01:29, 17.86s/it]\n"
     ]
    },
    {
     "name": "stdout",
     "output_type": "stream",
     "text": [
      "AUC 0.78512+-0.00115.                                                             \n",
      "Params: \n",
      "clf__bagging_fraction: 0.800\n",
      "clf__colsample_bytree: 0.885\n",
      "clf__feature_fraction: 1.000\n",
      "clf__lambda_l1: 0.006\n",
      "clf__learning_rate: 0.310\n",
      "clf__min_child_weight: 9.962\n",
      "clf__num_leaves: 108.000\n",
      " 70%|███████   | 7/10 [21:22<08:50, 176.98s/trial, best loss: 0.21236703645197186]"
     ]
    },
    {
     "name": "stderr",
     "output_type": "stream",
     "text": [
      "0it [00:00, ?it/s]\n",
      "\u001b[A\n"
     ]
    },
    {
     "name": "stdout",
     "output_type": "stream",
     "text": [
      "Training until validation scores don't improve for 1000 rounds                    \n",
      "[500]\tvalid_0's auc: 0.785945                                                     \n",
      "[1000]\tvalid_0's auc: 0.785435                                                    \n",
      "Early stopping, best iteration is:                                                \n",
      "[456]\tvalid_0's auc: 0.78599\n",
      " 70%|███████   | 7/10 [21:43<08:50, 176.98s/trial, best loss: 0.21236703645197186]"
     ]
    },
    {
     "name": "stderr",
     "output_type": "stream",
     "text": [
      "1it [00:21, 21.45s/it]\n",
      "\u001b[A\n"
     ]
    },
    {
     "name": "stdout",
     "output_type": "stream",
     "text": [
      "Training until validation scores don't improve for 1000 rounds                    \n",
      "[500]\tvalid_0's auc: 0.788376                                                     \n",
      "[1000]\tvalid_0's auc: 0.787954                                                    \n",
      "Early stopping, best iteration is:                                                \n",
      "[469]\tvalid_0's auc: 0.788449\n",
      " 70%|███████   | 7/10 [22:06<08:50, 176.98s/trial, best loss: 0.21236703645197186]"
     ]
    },
    {
     "name": "stderr",
     "output_type": "stream",
     "text": [
      "2it [00:43, 21.75s/it]\n",
      "\u001b[A\n"
     ]
    },
    {
     "name": "stdout",
     "output_type": "stream",
     "text": [
      "Training until validation scores don't improve for 1000 rounds                    \n",
      "[500]\tvalid_0's auc: 0.788636                                                     \n",
      "[1000]\tvalid_0's auc: 0.787978                                                    \n",
      "[1500]\tvalid_0's auc: 0.787195                                                    \n",
      "Early stopping, best iteration is:                                                \n",
      "[515]\tvalid_0's auc: 0.788641\n",
      " 70%|███████   | 7/10 [22:29<08:50, 176.98s/trial, best loss: 0.21236703645197186]"
     ]
    },
    {
     "name": "stderr",
     "output_type": "stream",
     "text": [
      "3it [01:06, 22.15s/it]\n",
      "\u001b[A\n"
     ]
    },
    {
     "name": "stdout",
     "output_type": "stream",
     "text": [
      "Training until validation scores don't improve for 1000 rounds                    \n",
      "[500]\tvalid_0's auc: 0.786293                                                     \n",
      "[1000]\tvalid_0's auc: 0.785462                                                    \n",
      "Early stopping, best iteration is:                                                \n",
      "[413]\tvalid_0's auc: 0.786355\n",
      " 70%|███████   | 7/10 [22:51<08:50, 176.98s/trial, best loss: 0.21236703645197186]"
     ]
    },
    {
     "name": "stderr",
     "output_type": "stream",
     "text": [
      "4it [01:29, 22.15s/it]\n",
      "\u001b[A\n"
     ]
    },
    {
     "name": "stdout",
     "output_type": "stream",
     "text": [
      "Training until validation scores don't improve for 1000 rounds                    \n",
      "[500]\tvalid_0's auc: 0.785791                                                     \n",
      "[1000]\tvalid_0's auc: 0.785384                                                    \n",
      "Early stopping, best iteration is:                                                \n",
      "[426]\tvalid_0's auc: 0.785858\n",
      " 70%|███████   | 7/10 [23:12<08:50, 176.98s/trial, best loss: 0.21236703645197186]"
     ]
    },
    {
     "name": "stderr",
     "output_type": "stream",
     "text": [
      "5it [01:50, 21.91s/it]\n",
      "\u001b[A\n",
      "5it [01:50, 22.10s/it]\n"
     ]
    },
    {
     "name": "stdout",
     "output_type": "stream",
     "text": [
      "AUC 0.78706+-0.00123.                                                             \n",
      "Params: \n",
      "clf__bagging_fraction: 0.800\n",
      "clf__colsample_bytree: 0.692\n",
      "clf__feature_fraction: 0.600\n",
      "clf__lambda_l1: 0.011\n",
      "clf__learning_rate: 0.110\n",
      "clf__min_child_weight: 5.505\n",
      "clf__num_leaves: 10.000\n",
      " 80%|████████  | 8/10 [23:13<05:14, 157.05s/trial, best loss: 0.21236703645197186]"
     ]
    },
    {
     "name": "stderr",
     "output_type": "stream",
     "text": [
      "0it [00:00, ?it/s]\n",
      "\u001b[A\n"
     ]
    },
    {
     "name": "stdout",
     "output_type": "stream",
     "text": [
      "Training until validation scores don't improve for 1000 rounds                    \n",
      "[500]\tvalid_0's auc: 0.78248                                                      \n",
      "[1000]\tvalid_0's auc: 0.785885                                                    \n",
      "[1500]\tvalid_0's auc: 0.786311                                                    \n",
      "[2000]\tvalid_0's auc: 0.786294                                                    \n",
      "[2500]\tvalid_0's auc: 0.786177                                                    \n",
      "Early stopping, best iteration is:                                                \n",
      "[1623]\tvalid_0's auc: 0.786324\n",
      " 80%|████████  | 8/10 [23:54<05:14, 157.05s/trial, best loss: 0.21236703645197186]"
     ]
    },
    {
     "name": "stderr",
     "output_type": "stream",
     "text": [
      "1it [00:42, 42.80s/it]\n",
      "\u001b[A\n"
     ]
    },
    {
     "name": "stdout",
     "output_type": "stream",
     "text": [
      "Training until validation scores don't improve for 1000 rounds                    \n",
      "[500]\tvalid_0's auc: 0.784418                                                     \n",
      "[1000]\tvalid_0's auc: 0.788209                                                    \n",
      "[1500]\tvalid_0's auc: 0.788674                                                    \n",
      "[2000]\tvalid_0's auc: 0.788692                                                    \n",
      "[2500]\tvalid_0's auc: 0.788644                                                    \n",
      "Early stopping, best iteration is:                                                \n",
      "[1801]\tvalid_0's auc: 0.788728\n",
      " 80%|████████  | 8/10 [24:46<05:14, 157.05s/trial, best loss: 0.21236703645197186]"
     ]
    },
    {
     "name": "stderr",
     "output_type": "stream",
     "text": [
      "2it [01:34, 45.45s/it]\n",
      "\u001b[A\n"
     ]
    },
    {
     "name": "stdout",
     "output_type": "stream",
     "text": [
      "Training until validation scores don't improve for 1000 rounds                    \n",
      "[500]\tvalid_0's auc: 0.785307                                                     \n",
      "[1000]\tvalid_0's auc: 0.788491                                                    \n",
      "[1500]\tvalid_0's auc: 0.788728                                                    \n",
      "[2000]\tvalid_0's auc: 0.788623                                                    \n",
      "Early stopping, best iteration is:                                                \n",
      "[1469]\tvalid_0's auc: 0.788741\n",
      " 80%|████████  | 8/10 [25:31<05:14, 157.05s/trial, best loss: 0.21236703645197186]"
     ]
    },
    {
     "name": "stderr",
     "output_type": "stream",
     "text": [
      "3it [02:19, 45.40s/it]\n",
      "\u001b[A\n"
     ]
    },
    {
     "name": "stdout",
     "output_type": "stream",
     "text": [
      "Training until validation scores don't improve for 1000 rounds                    \n",
      "[500]\tvalid_0's auc: 0.782602                                                     \n",
      "[1000]\tvalid_0's auc: 0.785808                                                    \n",
      "[1500]\tvalid_0's auc: 0.786122                                                    \n",
      "[2000]\tvalid_0's auc: 0.786089                                                    \n",
      "[2500]\tvalid_0's auc: 0.785981                                                    \n",
      "Early stopping, best iteration is:                                                \n",
      "[1686]\tvalid_0's auc: 0.786134\n",
      " 80%|████████  | 8/10 [26:21<05:14, 157.05s/trial, best loss: 0.21236703645197186]"
     ]
    },
    {
     "name": "stderr",
     "output_type": "stream",
     "text": [
      "4it [03:09, 46.67s/it]\n",
      "\u001b[A\n"
     ]
    },
    {
     "name": "stdout",
     "output_type": "stream",
     "text": [
      "Training until validation scores don't improve for 1000 rounds                    \n",
      "[500]\tvalid_0's auc: 0.78206                                                      \n",
      "[1000]\tvalid_0's auc: 0.785685                                                    \n",
      "[1500]\tvalid_0's auc: 0.786091                                                    \n",
      "[2000]\tvalid_0's auc: 0.786091                                                    \n",
      "[2500]\tvalid_0's auc: 0.786051                                                    \n",
      "Early stopping, best iteration is:                                                \n",
      "[1893]\tvalid_0's auc: 0.786116\n",
      " 80%|████████  | 8/10 [27:13<05:14, 157.05s/trial, best loss: 0.21236703645197186]"
     ]
    },
    {
     "name": "stderr",
     "output_type": "stream",
     "text": [
      "5it [04:01, 48.41s/it]\n",
      "\u001b[A\n",
      "5it [04:01, 48.37s/it]\n"
     ]
    },
    {
     "name": "stdout",
     "output_type": "stream",
     "text": [
      "AUC 0.78721+-0.00125.                                                             \n",
      "Params: \n",
      "clf__bagging_fraction: 1.000\n",
      "clf__colsample_bytree: 0.921\n",
      "clf__feature_fraction: 0.900\n",
      "clf__lambda_l1: 0.014\n",
      "clf__learning_rate: 0.030\n",
      "clf__min_child_weight: 7.126\n",
      "clf__num_leaves: 64.000\n",
      " 90%|█████████ | 9/10 [27:15<03:02, 182.49s/trial, best loss: 0.21236703645197186]"
     ]
    },
    {
     "name": "stderr",
     "output_type": "stream",
     "text": [
      "0it [00:00, ?it/s]\n",
      "\u001b[A\n"
     ]
    },
    {
     "name": "stdout",
     "output_type": "stream",
     "text": [
      "Training until validation scores don't improve for 1000 rounds                    \n",
      "[500]\tvalid_0's auc: 0.766568                                                     \n",
      "[1000]\tvalid_0's auc: 0.77885                                                     \n",
      "[1500]\tvalid_0's auc: 0.782753                                                    \n",
      "[2000]\tvalid_0's auc: 0.784521                                                    \n",
      "[2500]\tvalid_0's auc: 0.785404                                                    \n",
      "[3000]\tvalid_0's auc: 0.785876                                                    \n",
      "[3500]\tvalid_0's auc: 0.786099                                                    \n",
      "[4000]\tvalid_0's auc: 0.786223                                                    \n",
      "[4500]\tvalid_0's auc: 0.786261                                                    \n",
      "[5000]\tvalid_0's auc: 0.786246                                                    \n",
      "Did not meet early stopping. Best iteration is:                                   \n",
      "[4604]\tvalid_0's auc: 0.786266\n",
      " 90%|█████████ | 9/10 [28:44<03:02, 182.49s/trial, best loss: 0.21236703645197186]"
     ]
    },
    {
     "name": "stderr",
     "output_type": "stream",
     "text": [
      "1it [01:32, 92.73s/it]\n",
      "\u001b[A\n"
     ]
    },
    {
     "name": "stdout",
     "output_type": "stream",
     "text": [
      "Training until validation scores don't improve for 1000 rounds                    \n",
      "[500]\tvalid_0's auc: 0.768539                                                     \n",
      "[1000]\tvalid_0's auc: 0.780574                                                    \n",
      "[1500]\tvalid_0's auc: 0.784899                                                    \n",
      "[2000]\tvalid_0's auc: 0.786854                                                    \n",
      "[2500]\tvalid_0's auc: 0.787838                                                    \n",
      "[3000]\tvalid_0's auc: 0.788339                                                    \n",
      "[3500]\tvalid_0's auc: 0.788543                                                    \n",
      "[4000]\tvalid_0's auc: 0.788666                                                    \n",
      "[4500]\tvalid_0's auc: 0.788713                                                    \n",
      "[5000]\tvalid_0's auc: 0.788731                                                    \n",
      "Did not meet early stopping. Best iteration is:                                   \n",
      "[4997]\tvalid_0's auc: 0.788732\n",
      " 90%|█████████ | 9/10 [30:18<03:02, 182.49s/trial, best loss: 0.21236703645197186]"
     ]
    },
    {
     "name": "stderr",
     "output_type": "stream",
     "text": [
      "2it [03:06, 93.01s/it]\n",
      "\u001b[A\n"
     ]
    },
    {
     "name": "stdout",
     "output_type": "stream",
     "text": [
      "Training until validation scores don't improve for 1000 rounds                    \n",
      "[500]\tvalid_0's auc: 0.769237                                                     \n",
      "[1000]\tvalid_0's auc: 0.781871                                                    \n",
      "[1500]\tvalid_0's auc: 0.785801                                                    \n",
      "[2000]\tvalid_0's auc: 0.787476                                                    \n",
      "[2500]\tvalid_0's auc: 0.788285                                                    \n",
      "[3000]\tvalid_0's auc: 0.788657                                                    \n",
      "[3500]\tvalid_0's auc: 0.788809                                                    \n",
      "[4000]\tvalid_0's auc: 0.788859                                                    \n",
      "[4500]\tvalid_0's auc: 0.78884                                                     \n",
      "Early stopping, best iteration is:                                                \n",
      "[3994]\tvalid_0's auc: 0.788861\n",
      " 90%|█████████ | 9/10 [31:45<03:02, 182.49s/trial, best loss: 0.21236703645197186]"
     ]
    },
    {
     "name": "stderr",
     "output_type": "stream",
     "text": [
      "3it [04:32, 91.08s/it]\n",
      "\u001b[A\n"
     ]
    },
    {
     "name": "stdout",
     "output_type": "stream",
     "text": [
      "Training until validation scores don't improve for 1000 rounds                    \n",
      "[500]\tvalid_0's auc: 0.767507                                                     \n",
      "[1000]\tvalid_0's auc: 0.779066                                                    \n",
      "[1500]\tvalid_0's auc: 0.782995                                                    \n",
      "[2000]\tvalid_0's auc: 0.784749                                                    \n",
      "[2500]\tvalid_0's auc: 0.785567                                                    \n",
      "[3000]\tvalid_0's auc: 0.785928                                                    \n",
      "[3500]\tvalid_0's auc: 0.786119                                                    \n",
      "[4000]\tvalid_0's auc: 0.786173                                                    \n",
      "[4500]\tvalid_0's auc: 0.78618                                                     \n",
      "[5000]\tvalid_0's auc: 0.786148                                                    \n",
      "Did not meet early stopping. Best iteration is:                                   \n",
      "[4363]\tvalid_0's auc: 0.786183\n",
      " 90%|█████████ | 9/10 [32:56<03:02, 182.49s/trial, best loss: 0.21236703645197186]"
     ]
    },
    {
     "name": "stderr",
     "output_type": "stream",
     "text": [
      "4it [05:44, 85.09s/it]\n",
      "\u001b[A\n"
     ]
    },
    {
     "name": "stdout",
     "output_type": "stream",
     "text": [
      "Training until validation scores don't improve for 1000 rounds                    \n",
      "[500]\tvalid_0's auc: 0.765501                                                     \n",
      "[1000]\tvalid_0's auc: 0.778072                                                    \n",
      "[1500]\tvalid_0's auc: 0.782429                                                    \n",
      "[2000]\tvalid_0's auc: 0.784385                                                    \n",
      "[2500]\tvalid_0's auc: 0.785352                                                    \n",
      "[3000]\tvalid_0's auc: 0.785816                                                    \n",
      "[3500]\tvalid_0's auc: 0.786035                                                    \n",
      "[4000]\tvalid_0's auc: 0.786086                                                    \n",
      "[4500]\tvalid_0's auc: 0.786116                                                    \n",
      "[5000]\tvalid_0's auc: 0.786124                                                    \n",
      "Did not meet early stopping. Best iteration is:                                   \n",
      "[4940]\tvalid_0's auc: 0.786129\n",
      " 90%|█████████ | 9/10 [34:11<03:02, 182.49s/trial, best loss: 0.21236703645197186]"
     ]
    },
    {
     "name": "stderr",
     "output_type": "stream",
     "text": [
      "5it [06:58, 82.02s/it]\n",
      "\u001b[A\n",
      "5it [06:58, 83.79s/it]\n"
     ]
    },
    {
     "name": "stdout",
     "output_type": "stream",
     "text": [
      "AUC 0.78723+-0.00128.                                                             \n",
      "Params: \n",
      "clf__bagging_fraction: 1.000\n",
      "clf__colsample_bytree: 0.532\n",
      "clf__feature_fraction: 0.900\n",
      "clf__lambda_l1: 0.059\n",
      "clf__learning_rate: 0.011\n",
      "clf__min_child_weight: 7.889\n",
      "clf__num_leaves: 79.000\n",
      "100%|██████████| 10/10 [34:14<00:00, 205.42s/trial, best loss: 0.21236703645197186]\n"
     ]
    }
   ],
   "source": [
    "from hyperopt import hp, tpe\n",
    "from hyperopt.fmin import fmin\n",
    "from hyperopt.pyll.base import scope\n",
    "from hyperopt import space_eval\n",
    "import numpy as np\n",
    "from tqdm import tqdm\n",
    "from sklearn.metrics import roc_auc_score\n",
    "from sklearn.model_selection import StratifiedKFold\n",
    "\n",
    "\n",
    "def make_objective(pipeline, df):\n",
    "    \n",
    "    def objective(params):\n",
    "                \n",
    "        pipeline.set_params(**params)\n",
    "        skf = StratifiedKFold(n_splits=5, shuffle=True, random_state=42)\n",
    "        \n",
    "        scores = []\n",
    "        for train_idx, val_idx in tqdm(skf.split(df, df[\"target\"])):\n",
    "            \n",
    "            df_train, df_val = df.loc[train_idx, :], df.loc[val_idx, :]\n",
    "            transformers = Pipeline(pipeline.steps[:-1]).fit(df_train, df_train['target'])\n",
    "            X_val, y_val = transformers.transform(df_val), df_val['target']\n",
    "            \n",
    "            fit_args = {\n",
    "                \"clf__early_stopping_rounds\": 1000, \n",
    "                \"clf__eval_set\": (X_val, y_val),\n",
    "                \"clf__verbose\": 500,\n",
    "                \"clf__eval_metric\": 'auc',\n",
    "            }\n",
    "            \n",
    "            pipeline.fit(df_train, df_train['target'], **fit_args)\n",
    "            prob = pipeline.predict_proba(df_val)[:, 1]\n",
    "            scores.append(roc_auc_score(y_val, prob))\n",
    "            \n",
    "        score = np.mean(scores)\n",
    "        print(\"AUC {:.5f}+-{:.5f}.\\n\".format(np.mean(scores), np.std(scores)) + \n",
    "              \"Params: \\n\" + \n",
    "              \"\\n\".join([\"{}: {:.3f}\".format(k, params[k]) for k in params]))\n",
    "        return 1 - score\n",
    "    \n",
    "    return objective\n",
    "\n",
    "space = {\n",
    "        \"clf__learning_rate\": hp.loguniform(\"clf__learning_rate\", np.log(0.005), np.log(0.5)),\n",
    "        'clf__lambda_l1': hp.loguniform('clf__lambda_l1', np.log(0.005), np.log(0.5)),\n",
    "        \"clf__num_leaves\": hp.choice(\"clf__num_leaves\", np.linspace(8, 128, 50, dtype=int)),\n",
    "        \"clf__feature_fraction\": hp.quniform(\"clf__feature_fraction\", 0.5, 1.0, 0.1),\n",
    "        \"clf__bagging_fraction\": hp.quniform(\"clf__bagging_fraction\", 0.5, 1.0, 0.1),\n",
    "        \"clf__min_child_weight\": hp.uniform('clf__min_child_weight', 0.5, 10),\n",
    "        'clf__colsample_bytree': hp.uniform('clf__colsample_bytree', 0.3, 1.0),\n",
    "    }\n",
    "\n",
    "best = fmin(fn=make_objective(pipeline, df),\n",
    "            space=space,\n",
    "            algo=tpe.suggest,\n",
    "            max_evals=10)\n",
    "\n",
    "best_params = space_eval(space, best)"
   ]
  },
  {
   "cell_type": "code",
   "execution_count": 10,
   "metadata": {},
   "outputs": [
    {
     "name": "stdout",
     "output_type": "stream",
     "text": [
      "Best params: \n",
      "clf__bagging_fraction: 0.700\n",
      "clf__colsample_bytree: 0.387\n",
      "clf__feature_fraction: 0.600\n",
      "clf__lambda_l1: 0.034\n",
      "clf__learning_rate: 0.026\n",
      "clf__min_child_weight: 4.014\n",
      "clf__num_leaves: 101.000\n"
     ]
    }
   ],
   "source": [
    "print(\"Best params: \\n\" + \"\\n\".join([\"{}: {:.3f}\".format(k, best_params[k]) for k in best_params]))"
   ]
  },
  {
   "cell_type": "code",
   "execution_count": 11,
   "metadata": {
    "scrolled": true
   },
   "outputs": [
    {
     "name": "stderr",
     "output_type": "stream",
     "text": [
      "\r",
      "0it [00:00, ?it/s]"
     ]
    },
    {
     "name": "stdout",
     "output_type": "stream",
     "text": [
      "Training until validation scores don't improve for 1000 rounds\n",
      "[500]\tvalid_0's auc: 0.785194\n",
      "[1000]\tvalid_0's auc: 0.788848\n",
      "[1500]\tvalid_0's auc: 0.7894\n",
      "[2000]\tvalid_0's auc: 0.789405\n",
      "[2500]\tvalid_0's auc: 0.789371\n",
      "Early stopping, best iteration is:\n",
      "[1835]\tvalid_0's auc: 0.789476\n"
     ]
    },
    {
     "name": "stderr",
     "output_type": "stream",
     "text": [
      "\r",
      "1it [00:32, 32.88s/it]"
     ]
    },
    {
     "name": "stdout",
     "output_type": "stream",
     "text": [
      "Training until validation scores don't improve for 1000 rounds\n",
      "[500]\tvalid_0's auc: 0.77889\n",
      "[1000]\tvalid_0's auc: 0.782994\n",
      "[1500]\tvalid_0's auc: 0.78367\n",
      "[2000]\tvalid_0's auc: 0.783726\n",
      "[2500]\tvalid_0's auc: 0.783602\n",
      "Early stopping, best iteration is:\n",
      "[1751]\tvalid_0's auc: 0.783775\n"
     ]
    },
    {
     "name": "stderr",
     "output_type": "stream",
     "text": [
      "\r",
      "2it [01:06, 33.09s/it]"
     ]
    },
    {
     "name": "stdout",
     "output_type": "stream",
     "text": [
      "Training until validation scores don't improve for 1000 rounds\n",
      "[500]\tvalid_0's auc: 0.78394\n",
      "[1000]\tvalid_0's auc: 0.788725\n",
      "[1500]\tvalid_0's auc: 0.789631\n",
      "[2000]\tvalid_0's auc: 0.789641\n",
      "[2500]\tvalid_0's auc: 0.789551\n",
      "Early stopping, best iteration is:\n",
      "[1717]\tvalid_0's auc: 0.789719\n"
     ]
    },
    {
     "name": "stderr",
     "output_type": "stream",
     "text": [
      "\r",
      "3it [01:38, 32.84s/it]"
     ]
    },
    {
     "name": "stdout",
     "output_type": "stream",
     "text": [
      "Training until validation scores don't improve for 1000 rounds\n",
      "[500]\tvalid_0's auc: 0.777847\n",
      "[1000]\tvalid_0's auc: 0.782904\n",
      "[1500]\tvalid_0's auc: 0.783807\n",
      "[2000]\tvalid_0's auc: 0.783842\n",
      "[2500]\tvalid_0's auc: 0.783745\n",
      "Early stopping, best iteration is:\n",
      "[1853]\tvalid_0's auc: 0.783906\n"
     ]
    },
    {
     "name": "stderr",
     "output_type": "stream",
     "text": [
      "\r",
      "4it [02:13, 33.53s/it]"
     ]
    },
    {
     "name": "stdout",
     "output_type": "stream",
     "text": [
      "Training until validation scores don't improve for 1000 rounds\n",
      "[500]\tvalid_0's auc: 0.788658\n",
      "[1000]\tvalid_0's auc: 0.792444\n",
      "[1500]\tvalid_0's auc: 0.792809\n",
      "[2000]\tvalid_0's auc: 0.792853\n",
      "[2500]\tvalid_0's auc: 0.792822\n",
      "Early stopping, best iteration is:\n",
      "[1677]\tvalid_0's auc: 0.792887\n"
     ]
    },
    {
     "name": "stderr",
     "output_type": "stream",
     "text": [
      "\r",
      "5it [02:47, 33.57s/it]"
     ]
    },
    {
     "name": "stdout",
     "output_type": "stream",
     "text": [
      "Training until validation scores don't improve for 1000 rounds\n",
      "[500]\tvalid_0's auc: 0.781107\n",
      "[1000]\tvalid_0's auc: 0.785921\n",
      "[1500]\tvalid_0's auc: 0.786659\n",
      "[2000]\tvalid_0's auc: 0.786758\n",
      "[2500]\tvalid_0's auc: 0.786712\n",
      "[3000]\tvalid_0's auc: 0.786703\n",
      "Early stopping, best iteration is:\n",
      "[2075]\tvalid_0's auc: 0.786778\n"
     ]
    },
    {
     "name": "stderr",
     "output_type": "stream",
     "text": [
      "\r",
      "6it [03:25, 34.96s/it]"
     ]
    },
    {
     "name": "stdout",
     "output_type": "stream",
     "text": [
      "Training until validation scores don't improve for 1000 rounds\n",
      "[500]\tvalid_0's auc: 0.783794\n",
      "[1000]\tvalid_0's auc: 0.788154\n",
      "[1500]\tvalid_0's auc: 0.788799\n",
      "[2000]\tvalid_0's auc: 0.788914\n",
      "[2500]\tvalid_0's auc: 0.788829\n",
      "[3000]\tvalid_0's auc: 0.788767\n",
      "Early stopping, best iteration is:\n",
      "[2243]\tvalid_0's auc: 0.788943\n"
     ]
    },
    {
     "name": "stderr",
     "output_type": "stream",
     "text": [
      "\r",
      "7it [04:03, 35.70s/it]"
     ]
    },
    {
     "name": "stdout",
     "output_type": "stream",
     "text": [
      "Training until validation scores don't improve for 1000 rounds\n",
      "[500]\tvalid_0's auc: 0.78102\n",
      "[1000]\tvalid_0's auc: 0.786465\n",
      "[1500]\tvalid_0's auc: 0.787692\n",
      "[2000]\tvalid_0's auc: 0.787872\n",
      "[2500]\tvalid_0's auc: 0.787856\n",
      "Early stopping, best iteration is:\n",
      "[1992]\tvalid_0's auc: 0.787878\n"
     ]
    },
    {
     "name": "stderr",
     "output_type": "stream",
     "text": [
      "\r",
      "8it [04:37, 35.24s/it]"
     ]
    },
    {
     "name": "stdout",
     "output_type": "stream",
     "text": [
      "Training until validation scores don't improve for 1000 rounds\n",
      "[500]\tvalid_0's auc: 0.780475\n",
      "[1000]\tvalid_0's auc: 0.784553\n",
      "[1500]\tvalid_0's auc: 0.785371\n",
      "[2000]\tvalid_0's auc: 0.785608\n",
      "[2500]\tvalid_0's auc: 0.785577\n",
      "[3000]\tvalid_0's auc: 0.78552\n",
      "Early stopping, best iteration is:\n",
      "[2078]\tvalid_0's auc: 0.785647\n"
     ]
    },
    {
     "name": "stderr",
     "output_type": "stream",
     "text": [
      "\r",
      "9it [05:12, 35.17s/it]"
     ]
    },
    {
     "name": "stdout",
     "output_type": "stream",
     "text": [
      "Training until validation scores don't improve for 1000 rounds\n",
      "[500]\tvalid_0's auc: 0.783502\n",
      "[1000]\tvalid_0's auc: 0.787422\n",
      "[1500]\tvalid_0's auc: 0.788076\n",
      "[2000]\tvalid_0's auc: 0.78816\n",
      "[2500]\tvalid_0's auc: 0.788075\n",
      "Early stopping, best iteration is:\n",
      "[1696]\tvalid_0's auc: 0.788216\n"
     ]
    },
    {
     "name": "stderr",
     "output_type": "stream",
     "text": [
      "\r",
      "10it [05:43, 34.08s/it]"
     ]
    },
    {
     "name": "stdout",
     "output_type": "stream",
     "text": [
      "Training until validation scores don't improve for 1000 rounds\n",
      "[500]\tvalid_0's auc: 0.788298\n",
      "[1000]\tvalid_0's auc: 0.792683\n",
      "[1500]\tvalid_0's auc: 0.793134\n",
      "[2000]\tvalid_0's auc: 0.793132\n",
      "[2500]\tvalid_0's auc: 0.793037\n",
      "Early stopping, best iteration is:\n",
      "[1580]\tvalid_0's auc: 0.793202\n"
     ]
    },
    {
     "name": "stderr",
     "output_type": "stream",
     "text": [
      "\r",
      "11it [06:13, 32.69s/it]"
     ]
    },
    {
     "name": "stdout",
     "output_type": "stream",
     "text": [
      "Training until validation scores don't improve for 1000 rounds\n",
      "[500]\tvalid_0's auc: 0.786053\n",
      "[1000]\tvalid_0's auc: 0.79039\n",
      "[1500]\tvalid_0's auc: 0.790767\n",
      "[2000]\tvalid_0's auc: 0.790648\n",
      "[2500]\tvalid_0's auc: 0.79049\n",
      "Early stopping, best iteration is:\n",
      "[1577]\tvalid_0's auc: 0.790811\n"
     ]
    },
    {
     "name": "stderr",
     "output_type": "stream",
     "text": [
      "\r",
      "12it [06:42, 31.71s/it]"
     ]
    },
    {
     "name": "stdout",
     "output_type": "stream",
     "text": [
      "Training until validation scores don't improve for 1000 rounds\n",
      "[500]\tvalid_0's auc: 0.778166\n",
      "[1000]\tvalid_0's auc: 0.782141\n",
      "[1500]\tvalid_0's auc: 0.782637\n",
      "[2000]\tvalid_0's auc: 0.782508\n",
      "[2500]\tvalid_0's auc: 0.782329\n",
      "Early stopping, best iteration is:\n",
      "[1554]\tvalid_0's auc: 0.782675\n"
     ]
    },
    {
     "name": "stderr",
     "output_type": "stream",
     "text": [
      "\r",
      "13it [07:11, 30.95s/it]"
     ]
    },
    {
     "name": "stdout",
     "output_type": "stream",
     "text": [
      "Training until validation scores don't improve for 1000 rounds\n",
      "[500]\tvalid_0's auc: 0.778647\n",
      "[1000]\tvalid_0's auc: 0.783359\n",
      "[1500]\tvalid_0's auc: 0.784328\n",
      "[2000]\tvalid_0's auc: 0.784521\n",
      "[2500]\tvalid_0's auc: 0.784476\n",
      "[3000]\tvalid_0's auc: 0.784416\n",
      "Early stopping, best iteration is:\n",
      "[2145]\tvalid_0's auc: 0.784527\n"
     ]
    },
    {
     "name": "stderr",
     "output_type": "stream",
     "text": [
      "\r",
      "14it [07:47, 32.41s/it]"
     ]
    },
    {
     "name": "stdout",
     "output_type": "stream",
     "text": [
      "Training until validation scores don't improve for 1000 rounds\n",
      "[500]\tvalid_0's auc: 0.788142\n",
      "[1000]\tvalid_0's auc: 0.791678\n",
      "[1500]\tvalid_0's auc: 0.792259\n",
      "[2000]\tvalid_0's auc: 0.792254\n",
      "[2500]\tvalid_0's auc: 0.792138\n",
      "Early stopping, best iteration is:\n",
      "[1851]\tvalid_0's auc: 0.792294\n"
     ]
    },
    {
     "name": "stderr",
     "output_type": "stream",
     "text": [
      "\r",
      "15it [08:20, 32.51s/it]"
     ]
    },
    {
     "name": "stdout",
     "output_type": "stream",
     "text": [
      "Training until validation scores don't improve for 1000 rounds\n",
      "[500]\tvalid_0's auc: 0.782776\n",
      "[1000]\tvalid_0's auc: 0.786762\n",
      "[1500]\tvalid_0's auc: 0.787092\n",
      "[2000]\tvalid_0's auc: 0.787047\n",
      "Early stopping, best iteration is:\n",
      "[1470]\tvalid_0's auc: 0.787114\n"
     ]
    },
    {
     "name": "stderr",
     "output_type": "stream",
     "text": [
      "\r",
      "16it [08:48, 31.20s/it]"
     ]
    },
    {
     "name": "stdout",
     "output_type": "stream",
     "text": [
      "Training until validation scores don't improve for 1000 rounds\n",
      "[500]\tvalid_0's auc: 0.782107\n",
      "[1000]\tvalid_0's auc: 0.786685\n",
      "[1500]\tvalid_0's auc: 0.787651\n",
      "[2000]\tvalid_0's auc: 0.787777\n",
      "[2500]\tvalid_0's auc: 0.7878\n",
      "[3000]\tvalid_0's auc: 0.787726\n",
      "Early stopping, best iteration is:\n",
      "[2389]\tvalid_0's auc: 0.787842\n"
     ]
    },
    {
     "name": "stderr",
     "output_type": "stream",
     "text": [
      "\r",
      "17it [09:26, 33.31s/it]"
     ]
    },
    {
     "name": "stdout",
     "output_type": "stream",
     "text": [
      "Training until validation scores don't improve for 1000 rounds\n",
      "[500]\tvalid_0's auc: 0.780768\n",
      "[1000]\tvalid_0's auc: 0.785591\n",
      "[1500]\tvalid_0's auc: 0.786307\n",
      "[2000]\tvalid_0's auc: 0.786327\n",
      "[2500]\tvalid_0's auc: 0.786239\n",
      "Early stopping, best iteration is:\n",
      "[1636]\tvalid_0's auc: 0.786432\n"
     ]
    },
    {
     "name": "stderr",
     "output_type": "stream",
     "text": [
      "\r",
      "18it [09:56, 32.33s/it]"
     ]
    },
    {
     "name": "stdout",
     "output_type": "stream",
     "text": [
      "Training until validation scores don't improve for 1000 rounds\n",
      "[500]\tvalid_0's auc: 0.778824\n",
      "[1000]\tvalid_0's auc: 0.782711\n",
      "[1500]\tvalid_0's auc: 0.783298\n",
      "[2000]\tvalid_0's auc: 0.783272\n",
      "[2500]\tvalid_0's auc: 0.783147\n",
      "Early stopping, best iteration is:\n",
      "[1624]\tvalid_0's auc: 0.783326\n"
     ]
    },
    {
     "name": "stderr",
     "output_type": "stream",
     "text": [
      "\r",
      "19it [10:26, 31.60s/it]"
     ]
    },
    {
     "name": "stdout",
     "output_type": "stream",
     "text": [
      "Training until validation scores don't improve for 1000 rounds\n",
      "[500]\tvalid_0's auc: 0.783127\n",
      "[1000]\tvalid_0's auc: 0.788\n",
      "[1500]\tvalid_0's auc: 0.788778\n",
      "[2000]\tvalid_0's auc: 0.78878\n",
      "[2500]\tvalid_0's auc: 0.788732\n",
      "Early stopping, best iteration is:\n",
      "[1677]\tvalid_0's auc: 0.788879\n"
     ]
    },
    {
     "name": "stderr",
     "output_type": "stream",
     "text": [
      "20it [11:02, 33.11s/it]\n"
     ]
    }
   ],
   "source": [
    "from sklearn.model_selection import StratifiedKFold\n",
    "from tqdm import tqdm\n",
    "\n",
    "folds = 20\n",
    "skf = StratifiedKFold(n_splits=folds, shuffle=True, random_state=42)\n",
    "pipeline.set_params(**best_params)\n",
    "df_test['target'] = 0\n",
    "\n",
    "for train_idx, val_idx in tqdm(skf.split(df, df['target'])):\n",
    "    df_train = df.loc[train_idx, :]\n",
    "    df_val = df.loc[val_idx, :]\n",
    "    X_val, y_val = Pipeline(pipeline.steps[:-1]).fit(df_train, df_train['target'])\\\n",
    "                                                    .transform(df_val), df_val['target']\n",
    "    fit_args = {\n",
    "        \"clf__early_stopping_rounds\": 1000, \n",
    "        \"clf__eval_set\": (X_val, y_val),\n",
    "        \"clf__verbose\": 500,\n",
    "        \"clf__eval_metric\": 'auc'\n",
    "    }\n",
    "        \n",
    "    pipeline.fit(df_train, df_train['target'], **fit_args)\n",
    "    prob = pipeline.predict_proba(df_val)[:, 1]\n",
    "    score = roc_auc_score(y_val, prob)\n",
    "    \n",
    "    df_test['target'] += pipeline.predict_proba(df_test)[:, 1]\n"
   ]
  },
  {
   "cell_type": "code",
   "execution_count": 12,
   "metadata": {},
   "outputs": [
    {
     "name": "stdout",
     "output_type": "stream",
     "text": [
      "id,target\r\n",
      "600000,0.12409889844630224\r\n",
      "600001,0.2602588890606694\r\n",
      "600002,0.1844708873922944\r\n",
      "600003,0.11899949368513063\r\n"
     ]
    }
   ],
   "source": [
    "# df_test['target'] /= folds\n",
    "df_test[['id', 'target']].to_csv('../data/submission.csv', index=False)\n",
    "!head -n 5 ../data/submission.csv"
   ]
  },
  {
   "cell_type": "code",
   "execution_count": null,
   "metadata": {},
   "outputs": [],
   "source": []
  }
 ],
 "metadata": {
  "kernelspec": {
   "display_name": "cfec2",
   "language": "python",
   "name": "cfec2"
  },
  "language_info": {
   "codemirror_mode": {
    "name": "ipython",
    "version": 3
   },
   "file_extension": ".py",
   "mimetype": "text/x-python",
   "name": "python",
   "nbconvert_exporter": "python",
   "pygments_lexer": "ipython3",
   "version": "3.7.6"
  }
 },
 "nbformat": 4,
 "nbformat_minor": 4
}
