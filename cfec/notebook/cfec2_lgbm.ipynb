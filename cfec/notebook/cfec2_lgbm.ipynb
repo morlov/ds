{
 "cells": [
  {
   "cell_type": "code",
   "execution_count": 1,
   "metadata": {},
   "outputs": [],
   "source": [
    "%load_ext autoreload\n",
    "%autoreload 2"
   ]
  },
  {
   "cell_type": "code",
   "execution_count": 2,
   "metadata": {},
   "outputs": [],
   "source": [
    "import pandas as pd"
   ]
  },
  {
   "cell_type": "code",
   "execution_count": 3,
   "metadata": {},
   "outputs": [
    {
     "name": "stdout",
     "output_type": "stream",
     "text": [
      "CPU times: user 2.27 s, sys: 184 ms, total: 2.45 s\n",
      "Wall time: 2.46 s\n"
     ]
    },
    {
     "data": {
      "text/html": [
       "<div>\n",
       "<style scoped>\n",
       "    .dataframe tbody tr th:only-of-type {\n",
       "        vertical-align: middle;\n",
       "    }\n",
       "\n",
       "    .dataframe tbody tr th {\n",
       "        vertical-align: top;\n",
       "    }\n",
       "\n",
       "    .dataframe thead th {\n",
       "        text-align: right;\n",
       "    }\n",
       "</style>\n",
       "<table border=\"1\" class=\"dataframe\">\n",
       "  <thead>\n",
       "    <tr style=\"text-align: right;\">\n",
       "      <th></th>\n",
       "      <th>id</th>\n",
       "      <th>bin_0</th>\n",
       "      <th>bin_1</th>\n",
       "      <th>bin_2</th>\n",
       "      <th>bin_3</th>\n",
       "      <th>bin_4</th>\n",
       "      <th>nom_0</th>\n",
       "      <th>nom_1</th>\n",
       "      <th>nom_2</th>\n",
       "      <th>nom_3</th>\n",
       "      <th>...</th>\n",
       "      <th>nom_9</th>\n",
       "      <th>ord_0</th>\n",
       "      <th>ord_1</th>\n",
       "      <th>ord_2</th>\n",
       "      <th>ord_3</th>\n",
       "      <th>ord_4</th>\n",
       "      <th>ord_5</th>\n",
       "      <th>day</th>\n",
       "      <th>month</th>\n",
       "      <th>target</th>\n",
       "    </tr>\n",
       "  </thead>\n",
       "  <tbody>\n",
       "    <tr>\n",
       "      <th>0</th>\n",
       "      <td>0</td>\n",
       "      <td>0.0</td>\n",
       "      <td>0.0</td>\n",
       "      <td>0.0</td>\n",
       "      <td>F</td>\n",
       "      <td>N</td>\n",
       "      <td>Red</td>\n",
       "      <td>Trapezoid</td>\n",
       "      <td>Hamster</td>\n",
       "      <td>Russia</td>\n",
       "      <td>...</td>\n",
       "      <td>02e7c8990</td>\n",
       "      <td>3.0</td>\n",
       "      <td>Contributor</td>\n",
       "      <td>Hot</td>\n",
       "      <td>c</td>\n",
       "      <td>U</td>\n",
       "      <td>Pw</td>\n",
       "      <td>6.0</td>\n",
       "      <td>3.0</td>\n",
       "      <td>0</td>\n",
       "    </tr>\n",
       "    <tr>\n",
       "      <th>1</th>\n",
       "      <td>1</td>\n",
       "      <td>1.0</td>\n",
       "      <td>1.0</td>\n",
       "      <td>0.0</td>\n",
       "      <td>F</td>\n",
       "      <td>Y</td>\n",
       "      <td>Red</td>\n",
       "      <td>Star</td>\n",
       "      <td>Axolotl</td>\n",
       "      <td>NaN</td>\n",
       "      <td>...</td>\n",
       "      <td>f37df64af</td>\n",
       "      <td>3.0</td>\n",
       "      <td>Grandmaster</td>\n",
       "      <td>Warm</td>\n",
       "      <td>e</td>\n",
       "      <td>X</td>\n",
       "      <td>pE</td>\n",
       "      <td>7.0</td>\n",
       "      <td>7.0</td>\n",
       "      <td>0</td>\n",
       "    </tr>\n",
       "    <tr>\n",
       "      <th>2</th>\n",
       "      <td>2</td>\n",
       "      <td>0.0</td>\n",
       "      <td>1.0</td>\n",
       "      <td>0.0</td>\n",
       "      <td>F</td>\n",
       "      <td>N</td>\n",
       "      <td>Red</td>\n",
       "      <td>NaN</td>\n",
       "      <td>Hamster</td>\n",
       "      <td>Canada</td>\n",
       "      <td>...</td>\n",
       "      <td>NaN</td>\n",
       "      <td>3.0</td>\n",
       "      <td>NaN</td>\n",
       "      <td>Freezing</td>\n",
       "      <td>n</td>\n",
       "      <td>P</td>\n",
       "      <td>eN</td>\n",
       "      <td>5.0</td>\n",
       "      <td>9.0</td>\n",
       "      <td>0</td>\n",
       "    </tr>\n",
       "    <tr>\n",
       "      <th>3</th>\n",
       "      <td>3</td>\n",
       "      <td>NaN</td>\n",
       "      <td>0.0</td>\n",
       "      <td>0.0</td>\n",
       "      <td>F</td>\n",
       "      <td>N</td>\n",
       "      <td>Red</td>\n",
       "      <td>Circle</td>\n",
       "      <td>Hamster</td>\n",
       "      <td>Finland</td>\n",
       "      <td>...</td>\n",
       "      <td>f9d456e57</td>\n",
       "      <td>1.0</td>\n",
       "      <td>Novice</td>\n",
       "      <td>Lava Hot</td>\n",
       "      <td>a</td>\n",
       "      <td>C</td>\n",
       "      <td>NaN</td>\n",
       "      <td>3.0</td>\n",
       "      <td>3.0</td>\n",
       "      <td>0</td>\n",
       "    </tr>\n",
       "    <tr>\n",
       "      <th>4</th>\n",
       "      <td>4</td>\n",
       "      <td>0.0</td>\n",
       "      <td>NaN</td>\n",
       "      <td>0.0</td>\n",
       "      <td>T</td>\n",
       "      <td>N</td>\n",
       "      <td>Red</td>\n",
       "      <td>Triangle</td>\n",
       "      <td>Hamster</td>\n",
       "      <td>Costa Rica</td>\n",
       "      <td>...</td>\n",
       "      <td>c5361037c</td>\n",
       "      <td>3.0</td>\n",
       "      <td>Grandmaster</td>\n",
       "      <td>Cold</td>\n",
       "      <td>h</td>\n",
       "      <td>C</td>\n",
       "      <td>OZ</td>\n",
       "      <td>5.0</td>\n",
       "      <td>12.0</td>\n",
       "      <td>0</td>\n",
       "    </tr>\n",
       "  </tbody>\n",
       "</table>\n",
       "<p>5 rows × 25 columns</p>\n",
       "</div>"
      ],
      "text/plain": [
       "   id  bin_0  bin_1  bin_2 bin_3 bin_4 nom_0      nom_1    nom_2       nom_3  \\\n",
       "0   0    0.0    0.0    0.0     F     N   Red  Trapezoid  Hamster      Russia   \n",
       "1   1    1.0    1.0    0.0     F     Y   Red       Star  Axolotl         NaN   \n",
       "2   2    0.0    1.0    0.0     F     N   Red        NaN  Hamster      Canada   \n",
       "3   3    NaN    0.0    0.0     F     N   Red     Circle  Hamster     Finland   \n",
       "4   4    0.0    NaN    0.0     T     N   Red   Triangle  Hamster  Costa Rica   \n",
       "\n",
       "   ...      nom_9 ord_0        ord_1     ord_2 ord_3 ord_4  ord_5  day month  \\\n",
       "0  ...  02e7c8990   3.0  Contributor       Hot     c     U     Pw  6.0   3.0   \n",
       "1  ...  f37df64af   3.0  Grandmaster      Warm     e     X     pE  7.0   7.0   \n",
       "2  ...        NaN   3.0          NaN  Freezing     n     P     eN  5.0   9.0   \n",
       "3  ...  f9d456e57   1.0       Novice  Lava Hot     a     C    NaN  3.0   3.0   \n",
       "4  ...  c5361037c   3.0  Grandmaster      Cold     h     C     OZ  5.0  12.0   \n",
       "\n",
       "  target  \n",
       "0      0  \n",
       "1      0  \n",
       "2      0  \n",
       "3      0  \n",
       "4      0  \n",
       "\n",
       "[5 rows x 25 columns]"
      ]
     },
     "execution_count": 3,
     "metadata": {},
     "output_type": "execute_result"
    }
   ],
   "source": [
    "%%time\n",
    "df = pd.read_csv('../data/train.csv')\n",
    "df_test = pd.read_csv('../data/test.csv')\n",
    "df.head()"
   ]
  },
  {
   "cell_type": "markdown",
   "metadata": {},
   "source": [
    "# Preporcess data"
   ]
  },
  {
   "cell_type": "code",
   "execution_count": 4,
   "metadata": {},
   "outputs": [
    {
     "name": "stderr",
     "output_type": "stream",
     "text": [
      "5it [00:15,  3.01s/it]\n"
     ]
    }
   ],
   "source": [
    "from sklearn.model_selection import StratifiedKFold\n",
    "import category_encoders as ce\n",
    "from tqdm import tqdm\n",
    "import numpy as np\n",
    "import datetime\n",
    "import itertools\n",
    "\n",
    "mapping_ord1 = {'Unknown': 0, 'Novice': 1, 'Expert': 2, 'Contributor': 3, 'Master': 4, 'Grandmaster': 5}\n",
    "mapping_ord2 = {'Unknown': 0, 'Freezing': 1, 'Cold': 2, 'Warm': 3, 'Hot': 4, 'Boiling Hot': 5, 'Lava Hot': 6}\n",
    "mapping_ord3 = dict([(v, i) for i, v in enumerate(sorted(set(df['ord_3'].fillna(\"0\"))))])\n",
    "mapping_ord4 = dict([(v, i) for i, v in enumerate(sorted(set(df['ord_4'].fillna(\"0\"))))])\n",
    "mapping_ord5 = dict([(v, i) for i, v in enumerate(sorted(set(df['ord_5'].fillna(\"0\"))))])\n",
    "\n",
    "\n",
    "def combine_cols(df, cols):\n",
    "    comb_cols = []\n",
    "    for i, j in tqdm(itertools.combinations(cols, 2)):\n",
    "        c = i + \"_\" + j\n",
    "        df[c] = (df[i].fillna(\"Unknown\").astype(str) + \"_\" + df[j].fillna(\"Unknown\").astype(str)).values\n",
    "        comb_cols.append(c)\n",
    "    return df, comb_cols\n",
    "\n",
    "def preprocess_data(df):\n",
    "    df['ord_0'] = df['ord_0'].fillna(0)\n",
    "    df['ord_1'] =  df['ord_1'].fillna('Unknown').map(mapping_ord1)\n",
    "    df['ord_2'] =  df['ord_2'].fillna('Unknown').map(mapping_ord2)\n",
    "    df['ord_3'] =  df['ord_3'].fillna('0').map(mapping_ord3)\n",
    "    df['ord_4'] =  df['ord_4'].fillna('0').map(mapping_ord4)\n",
    "    df['ord_5'] =  df['ord_5'].fillna('0').map(mapping_ord5)\n",
    "    df['bin_3'] = df['bin_3'].fillna('U').map({\"T\": 1, \"F\": 0, \"U\": np.nan})\n",
    "    df['bin_4'] = df['bin_4'].fillna('U').map({\"Y\": 1, \"N\": 0, \"U\": np.nan})\n",
    "    return df\n",
    "\n",
    "def encode(df, df_test, cols):\n",
    "    cols_enc = list(map(lambda x: x + \"_enc\", cols))\n",
    "    for c in cols_enc:\n",
    "        df[c] = np.nan\n",
    "        df_test[c] = np.nan\n",
    "        \n",
    "    skf = StratifiedKFold(n_splits=5, random_state=42, shuffle=True)\n",
    "    \n",
    "    for train_idx, oof_idx in tqdm(skf.split(df, df[\"target\"])):\n",
    "        enc = ce.TargetEncoder(cols = cols, smoothing=0.3)\n",
    "        enc.fit(df.loc[train_idx, cols], df.loc[train_idx, \"target\"])\n",
    "        df.loc[oof_idx, cols_enc] = enc.transform(df.loc[oof_idx, cols]).values\n",
    "    \n",
    "    enc = ce.TargetEncoder(cols = cols, smoothing=0.3)\n",
    "    enc.fit(df[cols], df[\"target\"])\n",
    "    df_test[cols_enc] = enc.transform(df_test[cols])\n",
    "    return df, df_test, cols_enc\n",
    "    \n",
    "df = preprocess_data(df)\n",
    "df_test = preprocess_data(df_test)\n",
    "\n",
    "binary = ['bin_0', 'bin_1', 'bin_2', 'bin_3', 'bin_4']\n",
    "ordinal  = ['ord_0', 'ord_1', 'ord_2', 'ord_3', 'ord_4', 'ord_5']\n",
    "low_card = ['nom_0', 'nom_1', 'nom_2', 'nom_3', 'nom_4']\n",
    "high_card = ['nom_5', 'nom_6', 'nom_7', 'nom_8', 'nom_9']\n",
    "date = ['day', 'month']\n",
    "\n",
    "df, df_test, cat_enc =  encode(df, df_test, high_card + low_card + date)\n",
    "features = binary + ordinal + cat_enc"
   ]
  },
  {
   "cell_type": "code",
   "execution_count": 5,
   "metadata": {},
   "outputs": [
    {
     "data": {
      "text/html": [
       "<div>\n",
       "<style scoped>\n",
       "    .dataframe tbody tr th:only-of-type {\n",
       "        vertical-align: middle;\n",
       "    }\n",
       "\n",
       "    .dataframe tbody tr th {\n",
       "        vertical-align: top;\n",
       "    }\n",
       "\n",
       "    .dataframe thead th {\n",
       "        text-align: right;\n",
       "    }\n",
       "</style>\n",
       "<table border=\"1\" class=\"dataframe\">\n",
       "  <thead>\n",
       "    <tr style=\"text-align: right;\">\n",
       "      <th></th>\n",
       "      <th>id</th>\n",
       "      <th>bin_0</th>\n",
       "      <th>bin_1</th>\n",
       "      <th>bin_2</th>\n",
       "      <th>bin_3</th>\n",
       "      <th>bin_4</th>\n",
       "      <th>nom_0</th>\n",
       "      <th>nom_1</th>\n",
       "      <th>nom_2</th>\n",
       "      <th>nom_3</th>\n",
       "      <th>...</th>\n",
       "      <th>nom_7_enc</th>\n",
       "      <th>nom_8_enc</th>\n",
       "      <th>nom_9_enc</th>\n",
       "      <th>nom_0_enc</th>\n",
       "      <th>nom_1_enc</th>\n",
       "      <th>nom_2_enc</th>\n",
       "      <th>nom_3_enc</th>\n",
       "      <th>nom_4_enc</th>\n",
       "      <th>day_enc</th>\n",
       "      <th>month_enc</th>\n",
       "    </tr>\n",
       "  </thead>\n",
       "  <tbody>\n",
       "    <tr>\n",
       "      <th>0</th>\n",
       "      <td>0</td>\n",
       "      <td>0.0</td>\n",
       "      <td>0.0</td>\n",
       "      <td>0.0</td>\n",
       "      <td>0.0</td>\n",
       "      <td>0.0</td>\n",
       "      <td>Red</td>\n",
       "      <td>Trapezoid</td>\n",
       "      <td>Hamster</td>\n",
       "      <td>Russia</td>\n",
       "      <td>...</td>\n",
       "      <td>0.098296</td>\n",
       "      <td>0.129236</td>\n",
       "      <td>0.177914</td>\n",
       "      <td>0.183158</td>\n",
       "      <td>0.225096</td>\n",
       "      <td>0.167919</td>\n",
       "      <td>0.219491</td>\n",
       "      <td>0.207147</td>\n",
       "      <td>0.200424</td>\n",
       "      <td>0.146475</td>\n",
       "    </tr>\n",
       "    <tr>\n",
       "      <th>1</th>\n",
       "      <td>1</td>\n",
       "      <td>1.0</td>\n",
       "      <td>1.0</td>\n",
       "      <td>0.0</td>\n",
       "      <td>0.0</td>\n",
       "      <td>1.0</td>\n",
       "      <td>Red</td>\n",
       "      <td>Star</td>\n",
       "      <td>Axolotl</td>\n",
       "      <td>NaN</td>\n",
       "      <td>...</td>\n",
       "      <td>0.128414</td>\n",
       "      <td>0.191517</td>\n",
       "      <td>0.155502</td>\n",
       "      <td>0.183176</td>\n",
       "      <td>0.130233</td>\n",
       "      <td>0.200552</td>\n",
       "      <td>0.185771</td>\n",
       "      <td>0.179593</td>\n",
       "      <td>0.212892</td>\n",
       "      <td>0.208686</td>\n",
       "    </tr>\n",
       "    <tr>\n",
       "      <th>2</th>\n",
       "      <td>2</td>\n",
       "      <td>0.0</td>\n",
       "      <td>1.0</td>\n",
       "      <td>0.0</td>\n",
       "      <td>0.0</td>\n",
       "      <td>0.0</td>\n",
       "      <td>Red</td>\n",
       "      <td>NaN</td>\n",
       "      <td>Hamster</td>\n",
       "      <td>Canada</td>\n",
       "      <td>...</td>\n",
       "      <td>0.266392</td>\n",
       "      <td>0.169176</td>\n",
       "      <td>0.188439</td>\n",
       "      <td>0.183158</td>\n",
       "      <td>0.181900</td>\n",
       "      <td>0.167919</td>\n",
       "      <td>0.159677</td>\n",
       "      <td>0.207147</td>\n",
       "      <td>0.164081</td>\n",
       "      <td>0.213645</td>\n",
       "    </tr>\n",
       "    <tr>\n",
       "      <th>3</th>\n",
       "      <td>3</td>\n",
       "      <td>NaN</td>\n",
       "      <td>0.0</td>\n",
       "      <td>0.0</td>\n",
       "      <td>0.0</td>\n",
       "      <td>0.0</td>\n",
       "      <td>Red</td>\n",
       "      <td>Circle</td>\n",
       "      <td>Hamster</td>\n",
       "      <td>Finland</td>\n",
       "      <td>...</td>\n",
       "      <td>0.139367</td>\n",
       "      <td>0.222915</td>\n",
       "      <td>0.271186</td>\n",
       "      <td>0.182968</td>\n",
       "      <td>0.179723</td>\n",
       "      <td>0.168632</td>\n",
       "      <td>0.178692</td>\n",
       "      <td>0.179306</td>\n",
       "      <td>0.163514</td>\n",
       "      <td>0.146270</td>\n",
       "    </tr>\n",
       "    <tr>\n",
       "      <th>4</th>\n",
       "      <td>4</td>\n",
       "      <td>0.0</td>\n",
       "      <td>NaN</td>\n",
       "      <td>0.0</td>\n",
       "      <td>1.0</td>\n",
       "      <td>0.0</td>\n",
       "      <td>Red</td>\n",
       "      <td>Triangle</td>\n",
       "      <td>Hamster</td>\n",
       "      <td>Costa Rica</td>\n",
       "      <td>...</td>\n",
       "      <td>0.195893</td>\n",
       "      <td>0.191633</td>\n",
       "      <td>0.261851</td>\n",
       "      <td>0.183176</td>\n",
       "      <td>0.157501</td>\n",
       "      <td>0.167905</td>\n",
       "      <td>0.202839</td>\n",
       "      <td>0.188604</td>\n",
       "      <td>0.163069</td>\n",
       "      <td>0.224929</td>\n",
       "    </tr>\n",
       "  </tbody>\n",
       "</table>\n",
       "<p>5 rows × 37 columns</p>\n",
       "</div>"
      ],
      "text/plain": [
       "   id  bin_0  bin_1  bin_2  bin_3  bin_4 nom_0      nom_1    nom_2  \\\n",
       "0   0    0.0    0.0    0.0    0.0    0.0   Red  Trapezoid  Hamster   \n",
       "1   1    1.0    1.0    0.0    0.0    1.0   Red       Star  Axolotl   \n",
       "2   2    0.0    1.0    0.0    0.0    0.0   Red        NaN  Hamster   \n",
       "3   3    NaN    0.0    0.0    0.0    0.0   Red     Circle  Hamster   \n",
       "4   4    0.0    NaN    0.0    1.0    0.0   Red   Triangle  Hamster   \n",
       "\n",
       "        nom_3  ... nom_7_enc nom_8_enc nom_9_enc nom_0_enc nom_1_enc  \\\n",
       "0      Russia  ...  0.098296  0.129236  0.177914  0.183158  0.225096   \n",
       "1         NaN  ...  0.128414  0.191517  0.155502  0.183176  0.130233   \n",
       "2      Canada  ...  0.266392  0.169176  0.188439  0.183158  0.181900   \n",
       "3     Finland  ...  0.139367  0.222915  0.271186  0.182968  0.179723   \n",
       "4  Costa Rica  ...  0.195893  0.191633  0.261851  0.183176  0.157501   \n",
       "\n",
       "  nom_2_enc  nom_3_enc  nom_4_enc   day_enc  month_enc  \n",
       "0  0.167919   0.219491   0.207147  0.200424   0.146475  \n",
       "1  0.200552   0.185771   0.179593  0.212892   0.208686  \n",
       "2  0.167919   0.159677   0.207147  0.164081   0.213645  \n",
       "3  0.168632   0.178692   0.179306  0.163514   0.146270  \n",
       "4  0.167905   0.202839   0.188604  0.163069   0.224929  \n",
       "\n",
       "[5 rows x 37 columns]"
      ]
     },
     "execution_count": 5,
     "metadata": {},
     "output_type": "execute_result"
    }
   ],
   "source": [
    "df.head()"
   ]
  },
  {
   "cell_type": "code",
   "execution_count": 6,
   "metadata": {},
   "outputs": [
    {
     "data": {
      "text/plain": [
       "(600000, 37)"
      ]
     },
     "execution_count": 6,
     "metadata": {},
     "output_type": "execute_result"
    }
   ],
   "source": [
    "df.shape"
   ]
  },
  {
   "cell_type": "markdown",
   "metadata": {},
   "source": [
    "# Learn model"
   ]
  },
  {
   "cell_type": "code",
   "execution_count": 7,
   "metadata": {},
   "outputs": [],
   "source": [
    "from sklearn.base import BaseEstimator, TransformerMixin\n",
    "\n",
    "class ColumnSelector(BaseEstimator, TransformerMixin):\n",
    "    \n",
    "    def __init__(self, columns):\n",
    "        self.columns = columns\n",
    "\n",
    "    def fit(self, X, y=None):\n",
    "        return self\n",
    "\n",
    "    def transform(self, X):\n",
    "        assert isinstance(X, pd.DataFrame)\n",
    "\n",
    "        try:\n",
    "            return X[self.columns]\n",
    "        except KeyError:\n",
    "            cols_error = list(set(self.columns) - set(X.columns))\n",
    "            raise KeyError(\"The DataFrame does not include the columns: %s\" % cols_error)"
   ]
  },
  {
   "cell_type": "code",
   "execution_count": 8,
   "metadata": {},
   "outputs": [],
   "source": [
    "from lightgbm import LGBMClassifier\n",
    "from sklearn.pipeline import Pipeline\n",
    "from sklearn.compose import make_column_transformer\n",
    "import category_encoders as ce\n",
    " \n",
    "params = {\n",
    "        'clf__objective': 'binary',\n",
    "        'clf__boosting_type': 'gbdt', \n",
    "        'clf__metric': 'auc',\n",
    "        'clf__learning_rate': 0.01,\n",
    "        \"clf__bagging_freq\": 5,\n",
    "        \"clf__bagging_fraction\": 0.8,\n",
    "        \"clf__min_data_in_leaf\": 30,\n",
    "        \"clf__min_sum_hessian_in_leaf\": 5,\n",
    "        \"clf__use_two_round_loading\": False,\n",
    "        \"clf__feature_fraction\": 0.8,\n",
    "        'clf__verbose': 1,\n",
    "        \"clf__lambda_l1\": 0.1,\n",
    "        \"clf__n_estimators\": 5000,\n",
    "        \"clf__max_depth\": 3,\n",
    "    }\n",
    "\n",
    "                        \n",
    "pipeline = Pipeline(steps=[('sel', ColumnSelector(features)), \n",
    "                           ('clf', LGBMClassifier())]).set_params(**params)"
   ]
  },
  {
   "cell_type": "code",
   "execution_count": 9,
   "metadata": {
    "scrolled": true
   },
   "outputs": [
    {
     "name": "stdout",
     "output_type": "stream",
     "text": [
      "\r",
      "  0%|          | 0/10 [00:00<?, ?trial/s, best loss=?]"
     ]
    },
    {
     "name": "stderr",
     "output_type": "stream",
     "text": [
      "0it [00:00, ?it/s]\n",
      "\u001b[A\n"
     ]
    },
    {
     "name": "stdout",
     "output_type": "stream",
     "text": [
      "Training until validation scores don't improve for 1000 rounds\n",
      "[500]\tvalid_0's auc: 0.775119                         \n",
      "[1000]\tvalid_0's auc: 0.783153                        \n",
      "[1500]\tvalid_0's auc: 0.785433                        \n",
      "[2000]\tvalid_0's auc: 0.786188                        \n",
      "[2500]\tvalid_0's auc: 0.786422                        \n",
      "[3000]\tvalid_0's auc: 0.78645                         \n",
      "[3500]\tvalid_0's auc: 0.786444                        \n",
      "Early stopping, best iteration is:                    \n",
      "[2853]\tvalid_0's auc: 0.78648\n",
      "  0%|          | 0/10 [00:47<?, ?trial/s, best loss=?]"
     ]
    },
    {
     "name": "stderr",
     "output_type": "stream",
     "text": [
      "1it [00:49, 49.55s/it]\n",
      "\u001b[A\n"
     ]
    },
    {
     "name": "stdout",
     "output_type": "stream",
     "text": [
      "Training until validation scores don't improve for 1000 rounds\n",
      "[500]\tvalid_0's auc: 0.777409                         \n",
      "[1000]\tvalid_0's auc: 0.785385                        \n",
      "[1500]\tvalid_0's auc: 0.787817                        \n",
      "[2000]\tvalid_0's auc: 0.788578                        \n",
      "[2500]\tvalid_0's auc: 0.788816                        \n",
      "[3000]\tvalid_0's auc: 0.788879                        \n",
      "[3500]\tvalid_0's auc: 0.788864                        \n",
      "[4000]\tvalid_0's auc: 0.788847                        \n",
      "[4500]\tvalid_0's auc: 0.788772                        \n",
      "Early stopping, best iteration is:                    \n",
      "[3590]\tvalid_0's auc: 0.788897\n",
      "  0%|          | 0/10 [01:48<?, ?trial/s, best loss=?]"
     ]
    },
    {
     "name": "stderr",
     "output_type": "stream",
     "text": [
      "2it [01:50, 52.90s/it]\n",
      "\u001b[A\n"
     ]
    },
    {
     "name": "stdout",
     "output_type": "stream",
     "text": [
      "Training until validation scores don't improve for 1000 rounds\n",
      "[500]\tvalid_0's auc: 0.778128                         \n",
      "[1000]\tvalid_0's auc: 0.786227                        \n",
      "[1500]\tvalid_0's auc: 0.78842                         \n",
      "[2000]\tvalid_0's auc: 0.789015                        \n",
      "[2500]\tvalid_0's auc: 0.789156                        \n",
      "[3000]\tvalid_0's auc: 0.789139                        \n",
      "[3500]\tvalid_0's auc: 0.789091                        \n",
      "Early stopping, best iteration is:                    \n",
      "[2755]\tvalid_0's auc: 0.789192\n",
      "  0%|          | 0/10 [02:38<?, ?trial/s, best loss=?]"
     ]
    },
    {
     "name": "stderr",
     "output_type": "stream",
     "text": [
      "3it [02:40, 52.09s/it]\n",
      "\u001b[A\n"
     ]
    },
    {
     "name": "stdout",
     "output_type": "stream",
     "text": [
      "Training until validation scores don't improve for 1000 rounds\n",
      "[500]\tvalid_0's auc: 0.775846                         \n",
      "[1000]\tvalid_0's auc: 0.783484                        \n",
      "[1500]\tvalid_0's auc: 0.785708                        \n",
      "[2000]\tvalid_0's auc: 0.786332                        \n",
      "[2500]\tvalid_0's auc: 0.786478                        \n",
      "[3000]\tvalid_0's auc: 0.7865                          \n",
      "[3500]\tvalid_0's auc: 0.786507                        \n",
      "[4000]\tvalid_0's auc: 0.786411                        \n",
      "Early stopping, best iteration is:                    \n",
      "[3430]\tvalid_0's auc: 0.786513\n",
      "  0%|          | 0/10 [03:35<?, ?trial/s, best loss=?]"
     ]
    },
    {
     "name": "stderr",
     "output_type": "stream",
     "text": [
      "4it [03:37, 53.55s/it]\n",
      "\u001b[A\n"
     ]
    },
    {
     "name": "stdout",
     "output_type": "stream",
     "text": [
      "Training until validation scores don't improve for 1000 rounds\n",
      "[500]\tvalid_0's auc: 0.774243                         \n",
      "[1000]\tvalid_0's auc: 0.782845                        \n",
      "[1500]\tvalid_0's auc: 0.785173                        \n",
      "[2000]\tvalid_0's auc: 0.786012                        \n",
      "[2500]\tvalid_0's auc: 0.786281                        \n",
      "[3000]\tvalid_0's auc: 0.786313                        \n",
      "[3500]\tvalid_0's auc: 0.786284                        \n",
      "Early stopping, best iteration is:                    \n",
      "[2975]\tvalid_0's auc: 0.786316\n",
      "  0%|          | 0/10 [04:31<?, ?trial/s, best loss=?]"
     ]
    },
    {
     "name": "stderr",
     "output_type": "stream",
     "text": [
      "5it [04:32, 54.08s/it]\n",
      "\u001b[A\n",
      "5it [04:32, 54.55s/it]\n"
     ]
    },
    {
     "name": "stdout",
     "output_type": "stream",
     "text": [
      "AUC 0.78748+-0.00128.                                 \n",
      "Params: \n",
      "clf__bagging_fraction: 0.700\n",
      "clf__colsample_bytree: 0.567\n",
      "clf__feature_fraction: 0.900\n",
      "clf__lambda_l1: 0.016\n",
      "clf__learning_rate: 0.016\n",
      "clf__min_child_weight: 3.762\n",
      "clf__num_leaves: 34.000\n",
      " 10%|█         | 1/10 [04:32<40:55, 272.79s/trial, best loss: 0.21252020843685515]"
     ]
    },
    {
     "name": "stderr",
     "output_type": "stream",
     "text": [
      "0it [00:00, ?it/s]\n",
      "\u001b[A\n"
     ]
    },
    {
     "name": "stdout",
     "output_type": "stream",
     "text": [
      "Training until validation scores don't improve for 1000 rounds                    \n",
      "[500]\tvalid_0's auc: 0.777072                                                     \n",
      "[1000]\tvalid_0's auc: 0.783946                                                    \n",
      "[1500]\tvalid_0's auc: 0.785733                                                    \n",
      "[2000]\tvalid_0's auc: 0.786346                                                    \n",
      "[2500]\tvalid_0's auc: 0.786461                                                    \n",
      "[3000]\tvalid_0's auc: 0.786426                                                    \n",
      "[3500]\tvalid_0's auc: 0.786389                                                    \n",
      "Early stopping, best iteration is:                                                \n",
      "[2500]\tvalid_0's auc: 0.786461\n",
      " 10%|█         | 1/10 [05:23<40:55, 272.79s/trial, best loss: 0.21252020843685515]"
     ]
    },
    {
     "name": "stderr",
     "output_type": "stream",
     "text": [
      "1it [00:52, 52.05s/it]\n",
      "\u001b[A\n"
     ]
    },
    {
     "name": "stdout",
     "output_type": "stream",
     "text": [
      "Training until validation scores don't improve for 1000 rounds                    \n",
      "[500]\tvalid_0's auc: 0.779                                                        \n",
      "[1000]\tvalid_0's auc: 0.786244                                                    \n",
      "[1500]\tvalid_0's auc: 0.788116                                                    \n",
      "[2000]\tvalid_0's auc: 0.78873                                                     \n",
      "[2500]\tvalid_0's auc: 0.78886                                                     \n",
      "[3000]\tvalid_0's auc: 0.788901                                                    \n",
      "[3500]\tvalid_0's auc: 0.788904                                                    \n",
      "[4000]\tvalid_0's auc: 0.788864                                                    \n",
      "Early stopping, best iteration is:                                                \n",
      "[3075]\tvalid_0's auc: 0.788907\n",
      " 10%|█         | 1/10 [06:21<40:55, 272.79s/trial, best loss: 0.21252020843685515]"
     ]
    },
    {
     "name": "stderr",
     "output_type": "stream",
     "text": [
      "2it [01:50, 53.99s/it]\n",
      "\u001b[A\n"
     ]
    },
    {
     "name": "stdout",
     "output_type": "stream",
     "text": [
      "Training until validation scores don't improve for 1000 rounds                    \n",
      "[500]\tvalid_0's auc: 0.780057                                                     \n",
      "[1000]\tvalid_0's auc: 0.786824                                                    \n",
      "[1500]\tvalid_0's auc: 0.788529                                                    \n",
      "[2000]\tvalid_0's auc: 0.788954                                                    \n",
      "[2500]\tvalid_0's auc: 0.789048                                                    \n",
      "[3000]\tvalid_0's auc: 0.789062                                                    \n",
      "[3500]\tvalid_0's auc: 0.789006                                                    \n",
      "Early stopping, best iteration is:                                                \n",
      "[2720]\tvalid_0's auc: 0.789088\n",
      " 10%|█         | 1/10 [07:13<40:55, 272.79s/trial, best loss: 0.21252020843685515]"
     ]
    },
    {
     "name": "stderr",
     "output_type": "stream",
     "text": [
      "3it [02:42, 53.34s/it]\n",
      "\u001b[A\n"
     ]
    },
    {
     "name": "stdout",
     "output_type": "stream",
     "text": [
      "Training until validation scores don't improve for 1000 rounds                    \n",
      "[500]\tvalid_0's auc: 0.77752                                                      \n",
      "[1000]\tvalid_0's auc: 0.784147                                                    \n",
      "[1500]\tvalid_0's auc: 0.785779                                                    \n",
      "[2000]\tvalid_0's auc: 0.78622                                                     \n",
      "[2500]\tvalid_0's auc: 0.78634                                                     \n",
      "[3000]\tvalid_0's auc: 0.786326                                                    \n",
      "[3500]\tvalid_0's auc: 0.786264                                                    \n",
      "Early stopping, best iteration is:                                                \n",
      "[2660]\tvalid_0's auc: 0.786353\n",
      " 10%|█         | 1/10 [08:06<40:55, 272.79s/trial, best loss: 0.21252020843685515]"
     ]
    },
    {
     "name": "stderr",
     "output_type": "stream",
     "text": [
      "4it [03:35, 53.18s/it]\n",
      "\u001b[A\n"
     ]
    },
    {
     "name": "stdout",
     "output_type": "stream",
     "text": [
      "Training until validation scores don't improve for 1000 rounds                    \n",
      "[500]\tvalid_0's auc: 0.776289                                                     \n",
      "[1000]\tvalid_0's auc: 0.783701                                                    \n",
      "[1500]\tvalid_0's auc: 0.785665                                                    \n",
      "[2000]\tvalid_0's auc: 0.786174                                                    \n",
      "[2500]\tvalid_0's auc: 0.786277                                                    \n",
      "[3000]\tvalid_0's auc: 0.786323                                                    \n",
      "[3500]\tvalid_0's auc: 0.786324                                                    \n",
      "Early stopping, best iteration is:                                                \n",
      "[2935]\tvalid_0's auc: 0.786331\n",
      " 10%|█         | 1/10 [09:02<40:55, 272.79s/trial, best loss: 0.21252020843685515]"
     ]
    },
    {
     "name": "stderr",
     "output_type": "stream",
     "text": [
      "5it [04:31, 54.13s/it]\n",
      "\u001b[A\n",
      "5it [04:31, 54.31s/it]\n"
     ]
    },
    {
     "name": "stdout",
     "output_type": "stream",
     "text": [
      "AUC 0.78743+-0.00128.                                                             \n",
      "Params: \n",
      "clf__bagging_fraction: 0.900\n",
      "clf__colsample_bytree: 0.719\n",
      "clf__feature_fraction: 0.800\n",
      "clf__lambda_l1: 0.447\n",
      "clf__learning_rate: 0.018\n",
      "clf__min_child_weight: 8.150\n",
      "clf__num_leaves: 98.000\n",
      " 20%|██        | 2/10 [09:04<36:19, 272.43s/trial, best loss: 0.21252020843685515]"
     ]
    },
    {
     "name": "stderr",
     "output_type": "stream",
     "text": [
      "0it [00:00, ?it/s]\n",
      "\u001b[A\n"
     ]
    },
    {
     "name": "stdout",
     "output_type": "stream",
     "text": [
      "Training until validation scores don't improve for 1000 rounds                    \n",
      "[500]\tvalid_0's auc: 0.784183                                                     \n",
      "[1000]\tvalid_0's auc: 0.782551                                                    \n",
      "Early stopping, best iteration is:                                                \n",
      "[194]\tvalid_0's auc: 0.78498\n",
      " 20%|██        | 2/10 [09:20<36:19, 272.43s/trial, best loss: 0.21252020843685515]"
     ]
    },
    {
     "name": "stderr",
     "output_type": "stream",
     "text": [
      "1it [00:16, 16.21s/it]\n",
      "\u001b[A\n"
     ]
    },
    {
     "name": "stdout",
     "output_type": "stream",
     "text": [
      "Training until validation scores don't improve for 1000 rounds                    \n",
      "[500]\tvalid_0's auc: 0.786547                                                     \n",
      "[1000]\tvalid_0's auc: 0.785686                                                    \n",
      "Early stopping, best iteration is:                                                \n",
      "[199]\tvalid_0's auc: 0.787303\n",
      " 20%|██        | 2/10 [09:35<36:19, 272.43s/trial, best loss: 0.21252020843685515]"
     ]
    },
    {
     "name": "stderr",
     "output_type": "stream",
     "text": [
      "2it [00:31, 16.04s/it]\n",
      "\u001b[A\n"
     ]
    },
    {
     "name": "stdout",
     "output_type": "stream",
     "text": [
      "Training until validation scores don't improve for 1000 rounds                    \n",
      "[500]\tvalid_0's auc: 0.785978                                                     \n",
      "[1000]\tvalid_0's auc: 0.784279                                                    \n",
      "Early stopping, best iteration is:                                                \n",
      "[173]\tvalid_0's auc: 0.787258\n",
      " 20%|██        | 2/10 [09:52<36:19, 272.43s/trial, best loss: 0.21252020843685515]"
     ]
    },
    {
     "name": "stderr",
     "output_type": "stream",
     "text": [
      "3it [00:48, 16.15s/it]\n",
      "\u001b[A\n"
     ]
    },
    {
     "name": "stdout",
     "output_type": "stream",
     "text": [
      "Training until validation scores don't improve for 1000 rounds                    \n",
      "[500]\tvalid_0's auc: 0.784015                                                     \n",
      "[1000]\tvalid_0's auc: 0.78203                                                     \n",
      "Early stopping, best iteration is:                                                \n",
      "[194]\tvalid_0's auc: 0.784935\n",
      " 20%|██        | 2/10 [10:08<36:19, 272.43s/trial, best loss: 0.21252020843685515]"
     ]
    },
    {
     "name": "stderr",
     "output_type": "stream",
     "text": [
      "4it [01:04, 16.12s/it]\n",
      "\u001b[A\n"
     ]
    },
    {
     "name": "stdout",
     "output_type": "stream",
     "text": [
      "Training until validation scores don't improve for 1000 rounds                    \n",
      "[500]\tvalid_0's auc: 0.783858                                                     \n",
      "[1000]\tvalid_0's auc: 0.782416                                                    \n",
      "Early stopping, best iteration is:                                                \n",
      "[230]\tvalid_0's auc: 0.784779\n",
      " 20%|██        | 2/10 [10:24<36:19, 272.43s/trial, best loss: 0.21252020843685515]"
     ]
    },
    {
     "name": "stderr",
     "output_type": "stream",
     "text": [
      "5it [01:20, 16.01s/it]\n",
      "\u001b[A\n",
      "5it [01:20, 16.01s/it]\n"
     ]
    },
    {
     "name": "stdout",
     "output_type": "stream",
     "text": [
      "AUC 0.78585+-0.00117.                                                             \n",
      "Params: \n",
      "clf__bagging_fraction: 0.700\n",
      "clf__colsample_bytree: 0.492\n",
      "clf__feature_fraction: 0.800\n",
      "clf__lambda_l1: 0.124\n",
      "clf__learning_rate: 0.229\n",
      "clf__min_child_weight: 1.800\n",
      "clf__num_leaves: 39.000\n",
      " 30%|███       | 3/10 [10:24<25:03, 214.73s/trial, best loss: 0.21252020843685515]"
     ]
    },
    {
     "name": "stderr",
     "output_type": "stream",
     "text": [
      "0it [00:00, ?it/s]\n",
      "\u001b[A\n"
     ]
    },
    {
     "name": "stdout",
     "output_type": "stream",
     "text": [
      "Training until validation scores don't improve for 1000 rounds                    \n",
      "[500]\tvalid_0's auc: 0.784738                                                     \n",
      "[1000]\tvalid_0's auc: 0.783731                                                    \n",
      "Early stopping, best iteration is:                                                \n",
      "[337]\tvalid_0's auc: 0.785298\n",
      " 30%|███       | 3/10 [10:42<25:03, 214.73s/trial, best loss: 0.21252020843685515]"
     ]
    },
    {
     "name": "stderr",
     "output_type": "stream",
     "text": [
      "1it [00:18, 18.57s/it]\n",
      "\u001b[A\n"
     ]
    },
    {
     "name": "stdout",
     "output_type": "stream",
     "text": [
      "Training until validation scores don't improve for 1000 rounds                    \n",
      "[500]\tvalid_0's auc: 0.787563                                                     \n",
      "[1000]\tvalid_0's auc: 0.786634                                                    \n",
      "Early stopping, best iteration is:                                                \n",
      "[282]\tvalid_0's auc: 0.788026\n",
      " 30%|███       | 3/10 [11:01<25:03, 214.73s/trial, best loss: 0.21252020843685515]"
     ]
    },
    {
     "name": "stderr",
     "output_type": "stream",
     "text": [
      "2it [00:36, 18.48s/it]\n",
      "\u001b[A\n"
     ]
    },
    {
     "name": "stdout",
     "output_type": "stream",
     "text": [
      "Training until validation scores don't improve for 1000 rounds                    \n",
      "[500]\tvalid_0's auc: 0.787448                                                     \n",
      "[1000]\tvalid_0's auc: 0.78594                                                     \n",
      "Early stopping, best iteration is:                                                \n",
      "[272]\tvalid_0's auc: 0.787827\n",
      " 30%|███       | 3/10 [11:17<25:03, 214.73s/trial, best loss: 0.21252020843685515]"
     ]
    },
    {
     "name": "stderr",
     "output_type": "stream",
     "text": [
      "3it [00:53, 17.99s/it]\n",
      "\u001b[A\n"
     ]
    },
    {
     "name": "stdout",
     "output_type": "stream",
     "text": [
      "Training until validation scores don't improve for 1000 rounds                    \n",
      "[500]\tvalid_0's auc: 0.784866                                                     \n",
      "[1000]\tvalid_0's auc: 0.783215                                                    \n",
      "Early stopping, best iteration is:                                                \n",
      "[222]\tvalid_0's auc: 0.785212\n",
      " 30%|███       | 3/10 [11:33<25:03, 214.73s/trial, best loss: 0.21252020843685515]"
     ]
    },
    {
     "name": "stderr",
     "output_type": "stream",
     "text": [
      "4it [01:09, 17.36s/it]\n",
      "\u001b[A\n"
     ]
    },
    {
     "name": "stdout",
     "output_type": "stream",
     "text": [
      "Training until validation scores don't improve for 1000 rounds                    \n",
      "[500]\tvalid_0's auc: 0.784368                                                     \n",
      "[1000]\tvalid_0's auc: 0.783082                                                    \n",
      "Early stopping, best iteration is:                                                \n",
      "[295]\tvalid_0's auc: 0.784728\n",
      " 30%|███       | 3/10 [11:50<25:03, 214.73s/trial, best loss: 0.21252020843685515]"
     ]
    },
    {
     "name": "stderr",
     "output_type": "stream",
     "text": [
      "5it [01:26, 17.26s/it]\n",
      "\u001b[A\n",
      "5it [01:26, 17.32s/it]\n"
     ]
    },
    {
     "name": "stdout",
     "output_type": "stream",
     "text": [
      "AUC 0.78622+-0.00141.                                                             \n",
      "Params: \n",
      "clf__bagging_fraction: 0.700\n",
      "clf__colsample_bytree: 0.520\n",
      "clf__feature_fraction: 0.900\n",
      "clf__lambda_l1: 0.051\n",
      "clf__learning_rate: 0.175\n",
      "clf__min_child_weight: 8.802\n",
      "clf__num_leaves: 61.000\n",
      " 40%|████      | 4/10 [11:51<17:37, 176.31s/trial, best loss: 0.21252020843685515]"
     ]
    },
    {
     "name": "stderr",
     "output_type": "stream",
     "text": [
      "0it [00:00, ?it/s]\n",
      "\u001b[A\n"
     ]
    },
    {
     "name": "stdout",
     "output_type": "stream",
     "text": [
      "Training until validation scores don't improve for 1000 rounds                    \n",
      "[500]\tvalid_0's auc: 0.781459                                                     \n",
      "[1000]\tvalid_0's auc: 0.778258                                                    \n",
      "Early stopping, best iteration is:                                                \n",
      "[156]\tvalid_0's auc: 0.783517\n",
      " 40%|████      | 4/10 [12:05<17:37, 176.31s/trial, best loss: 0.21252020843685515]"
     ]
    },
    {
     "name": "stderr",
     "output_type": "stream",
     "text": [
      "1it [00:14, 14.60s/it]\n",
      "\u001b[A\n"
     ]
    },
    {
     "name": "stdout",
     "output_type": "stream",
     "text": [
      "Training until validation scores don't improve for 1000 rounds                    \n",
      "[500]\tvalid_0's auc: 0.783363                                                     \n",
      "[1000]\tvalid_0's auc: 0.780969                                                    \n",
      "Early stopping, best iteration is:                                                \n",
      "[122]\tvalid_0's auc: 0.785602\n",
      " 40%|████      | 4/10 [12:19<17:37, 176.31s/trial, best loss: 0.21252020843685515]"
     ]
    },
    {
     "name": "stderr",
     "output_type": "stream",
     "text": [
      "2it [00:28, 14.44s/it]\n",
      "\u001b[A\n"
     ]
    },
    {
     "name": "stdout",
     "output_type": "stream",
     "text": [
      "Training until validation scores don't improve for 1000 rounds                    \n",
      "[500]\tvalid_0's auc: 0.78361                                                      \n",
      "[1000]\tvalid_0's auc: 0.780092                                                    \n",
      "Early stopping, best iteration is:                                                \n",
      "[112]\tvalid_0's auc: 0.785976\n",
      " 40%|████      | 4/10 [12:32<17:37, 176.31s/trial, best loss: 0.21252020843685515]"
     ]
    },
    {
     "name": "stderr",
     "output_type": "stream",
     "text": [
      "3it [00:41, 13.98s/it]\n",
      "\u001b[A\n"
     ]
    },
    {
     "name": "stdout",
     "output_type": "stream",
     "text": [
      "Training until validation scores don't improve for 1000 rounds                    \n",
      "[500]\tvalid_0's auc: 0.781004                                                     \n",
      "[1000]\tvalid_0's auc: 0.776989                                                    \n",
      "Early stopping, best iteration is:                                                \n",
      "[140]\tvalid_0's auc: 0.783929\n",
      " 40%|████      | 4/10 [12:45<17:37, 176.31s/trial, best loss: 0.21252020843685515]"
     ]
    },
    {
     "name": "stderr",
     "output_type": "stream",
     "text": [
      "4it [00:54, 13.72s/it]\n",
      "\u001b[A\n"
     ]
    },
    {
     "name": "stdout",
     "output_type": "stream",
     "text": [
      "Training until validation scores don't improve for 1000 rounds                    \n",
      "[500]\tvalid_0's auc: 0.780718                                                     \n",
      "[1000]\tvalid_0's auc: 0.778022                                                    \n",
      "Early stopping, best iteration is:                                                \n",
      "[167]\tvalid_0's auc: 0.782849\n",
      " 40%|████      | 4/10 [12:59<17:37, 176.31s/trial, best loss: 0.21252020843685515]"
     ]
    },
    {
     "name": "stderr",
     "output_type": "stream",
     "text": [
      "5it [01:08, 13.70s/it]\n",
      "\u001b[A\n",
      "5it [01:08, 13.67s/it]\n"
     ]
    },
    {
     "name": "stdout",
     "output_type": "stream",
     "text": [
      "AUC 0.78437+-0.00121.                                                             \n",
      "Params: \n",
      "clf__bagging_fraction: 0.600\n",
      "clf__colsample_bytree: 0.379\n",
      "clf__feature_fraction: 0.800\n",
      "clf__lambda_l1: 0.046\n",
      "clf__learning_rate: 0.357\n",
      "clf__min_child_weight: 8.449\n",
      "clf__num_leaves: 12.000\n",
      " 50%|█████     | 5/10 [12:59<11:59, 143.92s/trial, best loss: 0.21252020843685515]"
     ]
    },
    {
     "name": "stderr",
     "output_type": "stream",
     "text": [
      "0it [00:00, ?it/s]\n",
      "\u001b[A\n"
     ]
    },
    {
     "name": "stdout",
     "output_type": "stream",
     "text": [
      "Training until validation scores don't improve for 1000 rounds                    \n",
      "[500]\tvalid_0's auc: 0.781838                                                     \n",
      "[1000]\tvalid_0's auc: 0.78605                                                     \n",
      "[1500]\tvalid_0's auc: 0.786625                                                    \n",
      "[2000]\tvalid_0's auc: 0.786648                                                    \n",
      "[2500]\tvalid_0's auc: 0.786535                                                    \n",
      "Early stopping, best iteration is:                                                \n",
      "[1666]\tvalid_0's auc: 0.786663\n",
      " 50%|█████     | 5/10 [13:29<11:59, 143.92s/trial, best loss: 0.21252020843685515]"
     ]
    },
    {
     "name": "stderr",
     "output_type": "stream",
     "text": [
      "1it [00:31, 31.22s/it]\n",
      "\u001b[A\n"
     ]
    },
    {
     "name": "stdout",
     "output_type": "stream",
     "text": [
      "Training until validation scores don't improve for 1000 rounds                    \n",
      "[500]\tvalid_0's auc: 0.784045                                                     \n",
      "[1000]\tvalid_0's auc: 0.788398                                                    \n",
      "[1500]\tvalid_0's auc: 0.789042                                                    \n",
      "[2000]\tvalid_0's auc: 0.789128                                                    \n",
      "[2500]\tvalid_0's auc: 0.789079                                                    \n",
      "[3000]\tvalid_0's auc: 0.78898                                                     \n",
      "Early stopping, best iteration is:                                                \n",
      "[2016]\tvalid_0's auc: 0.789137\n",
      " 50%|█████     | 5/10 [14:04<11:59, 143.92s/trial, best loss: 0.21252020843685515]"
     ]
    },
    {
     "name": "stderr",
     "output_type": "stream",
     "text": [
      "2it [01:05, 32.22s/it]\n",
      "\u001b[A\n"
     ]
    },
    {
     "name": "stdout",
     "output_type": "stream",
     "text": [
      "Training until validation scores don't improve for 1000 rounds                    \n",
      "[500]\tvalid_0's auc: 0.784698                                                     \n",
      "[1000]\tvalid_0's auc: 0.788688                                                    \n",
      "[1500]\tvalid_0's auc: 0.789128                                                    \n",
      "[2000]\tvalid_0's auc: 0.789037                                                    \n",
      "[2500]\tvalid_0's auc: 0.788906                                                    \n",
      "Early stopping, best iteration is:                                                \n",
      "[1613]\tvalid_0's auc: 0.789161\n",
      " 50%|█████     | 5/10 [14:34<11:59, 143.92s/trial, best loss: 0.21252020843685515]"
     ]
    },
    {
     "name": "stderr",
     "output_type": "stream",
     "text": [
      "3it [01:36, 31.63s/it]\n",
      "\u001b[A\n"
     ]
    },
    {
     "name": "stdout",
     "output_type": "stream",
     "text": [
      "Training until validation scores don't improve for 1000 rounds                    \n",
      "[500]\tvalid_0's auc: 0.782048                                                     \n",
      "[1000]\tvalid_0's auc: 0.785884                                                    \n",
      "[1500]\tvalid_0's auc: 0.786396                                                    \n",
      "[2000]\tvalid_0's auc: 0.786412                                                    \n",
      "[2500]\tvalid_0's auc: 0.786339                                                    \n",
      "Early stopping, best iteration is:                                                \n",
      "[1791]\tvalid_0's auc: 0.786445\n",
      " 50%|█████     | 5/10 [15:07<11:59, 143.92s/trial, best loss: 0.21252020843685515]"
     ]
    },
    {
     "name": "stderr",
     "output_type": "stream",
     "text": [
      "4it [02:09, 32.14s/it]\n",
      "\u001b[A\n"
     ]
    },
    {
     "name": "stdout",
     "output_type": "stream",
     "text": [
      "Training until validation scores don't improve for 1000 rounds                    \n",
      "[500]\tvalid_0's auc: 0.781364                                                     \n",
      "[1000]\tvalid_0's auc: 0.785807                                                    \n",
      "[1500]\tvalid_0's auc: 0.786412                                                    \n",
      "[2000]\tvalid_0's auc: 0.78643                                                     \n",
      "[2500]\tvalid_0's auc: 0.78641                                                     \n",
      "Early stopping, best iteration is:                                                \n",
      "[1756]\tvalid_0's auc: 0.786478\n",
      " 50%|█████     | 5/10 [15:40<11:59, 143.92s/trial, best loss: 0.21252020843685515]"
     ]
    },
    {
     "name": "stderr",
     "output_type": "stream",
     "text": [
      "5it [02:42, 32.40s/it]\n",
      "\u001b[A\n",
      "5it [02:42, 32.47s/it]\n"
     ]
    },
    {
     "name": "stdout",
     "output_type": "stream",
     "text": [
      "AUC 0.78758+-0.00129.                                                             \n",
      "Params: \n",
      "clf__bagging_fraction: 0.600\n",
      "clf__colsample_bytree: 0.813\n",
      "clf__feature_fraction: 0.600\n",
      "clf__lambda_l1: 0.017\n",
      "clf__learning_rate: 0.026\n",
      "clf__min_child_weight: 9.744\n",
      "clf__num_leaves: 74.000\n",
      " 60%|██████    | 6/10 [15:41<09:57, 149.46s/trial, best loss: 0.21242300080278187]"
     ]
    },
    {
     "name": "stderr",
     "output_type": "stream",
     "text": [
      "0it [00:00, ?it/s]\n",
      "\u001b[A\n"
     ]
    },
    {
     "name": "stdout",
     "output_type": "stream",
     "text": [
      "Training until validation scores don't improve for 1000 rounds                    \n",
      "[500]\tvalid_0's auc: 0.785851                                                     \n",
      "[1000]\tvalid_0's auc: 0.785417                                                    \n",
      "Early stopping, best iteration is:                                                \n",
      "[458]\tvalid_0's auc: 0.785888\n",
      " 60%|██████    | 6/10 [15:58<09:57, 149.46s/trial, best loss: 0.21242300080278187]"
     ]
    },
    {
     "name": "stderr",
     "output_type": "stream",
     "text": [
      "1it [00:17, 17.18s/it]\n",
      "\u001b[A\n"
     ]
    },
    {
     "name": "stdout",
     "output_type": "stream",
     "text": [
      "Training until validation scores don't improve for 1000 rounds                    \n",
      "[500]\tvalid_0's auc: 0.788363                                                     \n",
      "[1000]\tvalid_0's auc: 0.787855                                                    \n",
      "Early stopping, best iteration is:                                                \n",
      "[471]\tvalid_0's auc: 0.788461\n",
      " 60%|██████    | 6/10 [16:15<09:57, 149.46s/trial, best loss: 0.21242300080278187]"
     ]
    },
    {
     "name": "stderr",
     "output_type": "stream",
     "text": [
      "2it [00:34, 17.16s/it]\n",
      "\u001b[A\n"
     ]
    },
    {
     "name": "stdout",
     "output_type": "stream",
     "text": [
      "Training until validation scores don't improve for 1000 rounds                    \n",
      "[500]\tvalid_0's auc: 0.78829                                                      \n",
      "[1000]\tvalid_0's auc: 0.787655                                                    \n",
      "Early stopping, best iteration is:                                                \n",
      "[355]\tvalid_0's auc: 0.788462\n",
      " 60%|██████    | 6/10 [16:31<09:57, 149.46s/trial, best loss: 0.21242300080278187]"
     ]
    },
    {
     "name": "stderr",
     "output_type": "stream",
     "text": [
      "3it [00:49, 16.66s/it]\n",
      "\u001b[A\n"
     ]
    },
    {
     "name": "stdout",
     "output_type": "stream",
     "text": [
      "Training until validation scores don't improve for 1000 rounds                    \n",
      "[500]\tvalid_0's auc: 0.786008                                                     \n",
      "[1000]\tvalid_0's auc: 0.78539                                                     \n",
      "Early stopping, best iteration is:                                                \n",
      "[443]\tvalid_0's auc: 0.786064\n",
      " 60%|██████    | 6/10 [16:47<09:57, 149.46s/trial, best loss: 0.21242300080278187]"
     ]
    },
    {
     "name": "stderr",
     "output_type": "stream",
     "text": [
      "4it [01:06, 16.62s/it]\n",
      "\u001b[A\n"
     ]
    },
    {
     "name": "stdout",
     "output_type": "stream",
     "text": [
      "Training until validation scores don't improve for 1000 rounds                    \n",
      "[500]\tvalid_0's auc: 0.785755                                                     \n",
      "[1000]\tvalid_0's auc: 0.785349                                                    \n",
      "[1500]\tvalid_0's auc: 0.78461                                                     \n",
      "Early stopping, best iteration is:                                                \n",
      "[538]\tvalid_0's auc: 0.785789\n",
      " 60%|██████    | 6/10 [17:05<09:57, 149.46s/trial, best loss: 0.21242300080278187]"
     ]
    },
    {
     "name": "stderr",
     "output_type": "stream",
     "text": [
      "5it [01:24, 17.02s/it]\n",
      "\u001b[A\n",
      "5it [01:24, 16.85s/it]\n"
     ]
    },
    {
     "name": "stdout",
     "output_type": "stream",
     "text": [
      "AUC 0.78693+-0.00125.                                                             \n",
      "Params: \n",
      "clf__bagging_fraction: 0.500\n",
      "clf__colsample_bytree: 0.314\n",
      "clf__feature_fraction: 0.900\n",
      "clf__lambda_l1: 0.245\n",
      "clf__learning_rate: 0.092\n",
      "clf__min_child_weight: 5.506\n",
      "clf__num_leaves: 52.000\n",
      " 70%|███████   | 7/10 [17:06<06:29, 129.92s/trial, best loss: 0.21242300080278187]"
     ]
    },
    {
     "name": "stderr",
     "output_type": "stream",
     "text": [
      "0it [00:00, ?it/s]\n",
      "\u001b[A\n"
     ]
    },
    {
     "name": "stdout",
     "output_type": "stream",
     "text": [
      "Training until validation scores don't improve for 1000 rounds                    \n",
      "[500]\tvalid_0's auc: 0.763444                                                     \n",
      "[1000]\tvalid_0's auc: 0.777578                                                    \n",
      "[1500]\tvalid_0's auc: 0.782176                                                    \n",
      "[2000]\tvalid_0's auc: 0.784353                                                    \n",
      "[2500]\tvalid_0's auc: 0.785476                                                    \n",
      "[3000]\tvalid_0's auc: 0.786085                                                    \n",
      "[3500]\tvalid_0's auc: 0.786385                                                    \n",
      "[4000]\tvalid_0's auc: 0.786541                                                    \n",
      "[4500]\tvalid_0's auc: 0.78659                                                     \n",
      "[5000]\tvalid_0's auc: 0.786578                                                    \n",
      "Did not meet early stopping. Best iteration is:                                   \n",
      "[4644]\tvalid_0's auc: 0.7866\n",
      " 70%|███████   | 7/10 [18:07<06:29, 129.92s/trial, best loss: 0.21242300080278187]"
     ]
    },
    {
     "name": "stderr",
     "output_type": "stream",
     "text": [
      "1it [01:03, 63.88s/it]\n",
      "\u001b[A\n"
     ]
    },
    {
     "name": "stdout",
     "output_type": "stream",
     "text": [
      "Training until validation scores don't improve for 1000 rounds                    \n",
      "[500]\tvalid_0's auc: 0.765766                                                     \n",
      "[1000]\tvalid_0's auc: 0.779393                                                    \n",
      "[1500]\tvalid_0's auc: 0.784389                                                    \n",
      "[2000]\tvalid_0's auc: 0.786697                                                    \n",
      "[2500]\tvalid_0's auc: 0.787944                                                    \n",
      "[3000]\tvalid_0's auc: 0.788484                                                    \n",
      "[3500]\tvalid_0's auc: 0.788771                                                    \n",
      "[4000]\tvalid_0's auc: 0.788915                                                    \n",
      "[4500]\tvalid_0's auc: 0.789019                                                    \n",
      "[5000]\tvalid_0's auc: 0.789048                                                    \n",
      "Did not meet early stopping. Best iteration is:                                   \n",
      "[4984]\tvalid_0's auc: 0.789056\n",
      " 70%|███████   | 7/10 [19:11<06:29, 129.92s/trial, best loss: 0.21242300080278187]"
     ]
    },
    {
     "name": "stderr",
     "output_type": "stream",
     "text": [
      "2it [02:08, 64.10s/it]\n",
      "\u001b[A\n"
     ]
    },
    {
     "name": "stdout",
     "output_type": "stream",
     "text": [
      "Training until validation scores don't improve for 1000 rounds                    \n",
      "[500]\tvalid_0's auc: 0.766118                                                     \n",
      "[1000]\tvalid_0's auc: 0.78045                                                     \n",
      "[1500]\tvalid_0's auc: 0.785079                                                    \n",
      "[2000]\tvalid_0's auc: 0.787262                                                    \n",
      "[2500]\tvalid_0's auc: 0.788326                                                    \n",
      "[3000]\tvalid_0's auc: 0.788823                                                    \n",
      "[3500]\tvalid_0's auc: 0.789109                                                    \n",
      "[4000]\tvalid_0's auc: 0.789226                                                    \n",
      "[4500]\tvalid_0's auc: 0.789266                                                    \n",
      "[5000]\tvalid_0's auc: 0.789244                                                    \n",
      "Did not meet early stopping. Best iteration is:                                   \n",
      "[4305]\tvalid_0's auc: 0.789284\n",
      " 70%|███████   | 7/10 [20:23<06:29, 129.92s/trial, best loss: 0.21242300080278187]"
     ]
    },
    {
     "name": "stderr",
     "output_type": "stream",
     "text": [
      "3it [03:20, 66.37s/it]\n",
      "\u001b[A\n"
     ]
    },
    {
     "name": "stdout",
     "output_type": "stream",
     "text": [
      "Training until validation scores don't improve for 1000 rounds                    \n",
      "[500]\tvalid_0's auc: 0.764825                                                     \n",
      "[1000]\tvalid_0's auc: 0.778062                                                    \n",
      "[1500]\tvalid_0's auc: 0.782507                                                    \n",
      "[2000]\tvalid_0's auc: 0.784631                                                    \n",
      "[2500]\tvalid_0's auc: 0.785717                                                    \n",
      "[3000]\tvalid_0's auc: 0.786186                                                    \n",
      "[3500]\tvalid_0's auc: 0.786446                                                    \n",
      "[4000]\tvalid_0's auc: 0.78656                                                     \n",
      "[4500]\tvalid_0's auc: 0.786621                                                    \n",
      "[5000]\tvalid_0's auc: 0.786625                                                    \n",
      "Did not meet early stopping. Best iteration is:                                   \n",
      "[4670]\tvalid_0's auc: 0.786632\n",
      " 70%|███████   | 7/10 [21:35<06:29, 129.92s/trial, best loss: 0.21242300080278187]"
     ]
    },
    {
     "name": "stderr",
     "output_type": "stream",
     "text": [
      "4it [04:32, 68.28s/it]\n",
      "\u001b[A\n"
     ]
    },
    {
     "name": "stdout",
     "output_type": "stream",
     "text": [
      "Training until validation scores don't improve for 1000 rounds                    \n",
      "[500]\tvalid_0's auc: 0.762881                                                     \n",
      "[1000]\tvalid_0's auc: 0.77702                                                     \n",
      "[1500]\tvalid_0's auc: 0.781843                                                    \n",
      "[2000]\tvalid_0's auc: 0.784202                                                    \n",
      "[2500]\tvalid_0's auc: 0.78543                                                     \n",
      "[3000]\tvalid_0's auc: 0.786058                                                    \n",
      "[3500]\tvalid_0's auc: 0.786356                                                    \n",
      "[4000]\tvalid_0's auc: 0.786497                                                    \n",
      "[4500]\tvalid_0's auc: 0.78656                                                     \n",
      "[5000]\tvalid_0's auc: 0.786558                                                    \n",
      "Did not meet early stopping. Best iteration is:                                   \n",
      "[4790]\tvalid_0's auc: 0.78659\n",
      " 70%|███████   | 7/10 [22:50<06:29, 129.92s/trial, best loss: 0.21242300080278187]"
     ]
    },
    {
     "name": "stderr",
     "output_type": "stream",
     "text": [
      "5it [05:47, 70.10s/it]\n",
      "\u001b[A\n",
      "5it [05:47, 69.45s/it]\n"
     ]
    },
    {
     "name": "stdout",
     "output_type": "stream",
     "text": [
      "AUC 0.78763+-0.00126.                                                             \n",
      "Params: \n",
      "clf__bagging_fraction: 0.600\n",
      "clf__colsample_bytree: 0.418\n",
      "clf__feature_fraction: 0.900\n",
      "clf__lambda_l1: 0.016\n",
      "clf__learning_rate: 0.009\n",
      "clf__min_child_weight: 7.577\n",
      "clf__num_leaves: 79.000\n",
      " 80%|████████  | 8/10 [22:53<06:30, 195.13s/trial, best loss: 0.21236755207045555]"
     ]
    },
    {
     "name": "stderr",
     "output_type": "stream",
     "text": [
      "0it [00:00, ?it/s]\n",
      "\u001b[A\n"
     ]
    },
    {
     "name": "stdout",
     "output_type": "stream",
     "text": [
      "Training until validation scores don't improve for 1000 rounds                    \n",
      "[500]\tvalid_0's auc: 0.786057                                                     \n",
      "[1000]\tvalid_0's auc: 0.785662                                                    \n",
      "[1500]\tvalid_0's auc: 0.785231                                                    \n",
      "Early stopping, best iteration is:                                                \n",
      "[619]\tvalid_0's auc: 0.786114\n",
      " 80%|████████  | 8/10 [23:19<06:30, 195.13s/trial, best loss: 0.21236755207045555]"
     ]
    },
    {
     "name": "stderr",
     "output_type": "stream",
     "text": [
      "1it [00:26, 26.61s/it]\n",
      "\u001b[A\n"
     ]
    },
    {
     "name": "stdout",
     "output_type": "stream",
     "text": [
      "Training until validation scores don't improve for 1000 rounds                    \n",
      "[500]\tvalid_0's auc: 0.788473                                                     \n",
      "[1000]\tvalid_0's auc: 0.788337                                                    \n",
      "[1500]\tvalid_0's auc: 0.787814                                                    \n",
      "Early stopping, best iteration is:                                                \n",
      "[599]\tvalid_0's auc: 0.788513\n",
      " 80%|████████  | 8/10 [23:44<06:30, 195.13s/trial, best loss: 0.21236755207045555]"
     ]
    },
    {
     "name": "stderr",
     "output_type": "stream",
     "text": [
      "2it [00:51, 26.00s/it]\n",
      "\u001b[A\n"
     ]
    },
    {
     "name": "stdout",
     "output_type": "stream",
     "text": [
      "Training until validation scores don't improve for 1000 rounds                    \n",
      "[500]\tvalid_0's auc: 0.788526                                                     \n",
      "[1000]\tvalid_0's auc: 0.788254                                                    \n",
      "[1500]\tvalid_0's auc: 0.787703                                                    \n",
      "Early stopping, best iteration is:                                                \n",
      "[523]\tvalid_0's auc: 0.788589\n",
      " 80%|████████  | 8/10 [24:06<06:30, 195.13s/trial, best loss: 0.21236755207045555]"
     ]
    },
    {
     "name": "stderr",
     "output_type": "stream",
     "text": [
      "3it [01:13, 25.02s/it]\n",
      "\u001b[A\n"
     ]
    },
    {
     "name": "stdout",
     "output_type": "stream",
     "text": [
      "Training until validation scores don't improve for 1000 rounds                    \n",
      "[500]\tvalid_0's auc: 0.785999                                                     \n",
      "[1000]\tvalid_0's auc: 0.785578                                                    \n",
      "Early stopping, best iteration is:                                                \n",
      "[495]\tvalid_0's auc: 0.786023\n",
      " 80%|████████  | 8/10 [24:28<06:30, 195.13s/trial, best loss: 0.21236755207045555]"
     ]
    },
    {
     "name": "stderr",
     "output_type": "stream",
     "text": [
      "4it [01:35, 23.89s/it]\n",
      "\u001b[A\n"
     ]
    },
    {
     "name": "stdout",
     "output_type": "stream",
     "text": [
      "Training until validation scores don't improve for 1000 rounds                    \n",
      "[500]\tvalid_0's auc: 0.785899                                                     \n",
      "[1000]\tvalid_0's auc: 0.785818                                                    \n",
      "[1500]\tvalid_0's auc: 0.785281                                                    \n",
      "Early stopping, best iteration is:                                                \n",
      "[612]\tvalid_0's auc: 0.785936\n",
      " 80%|████████  | 8/10 [24:50<06:30, 195.13s/trial, best loss: 0.21236755207045555]"
     ]
    },
    {
     "name": "stderr",
     "output_type": "stream",
     "text": [
      "5it [01:57, 23.52s/it]\n",
      "\u001b[A\n",
      "5it [01:57, 23.56s/it]\n"
     ]
    },
    {
     "name": "stdout",
     "output_type": "stream",
     "text": [
      "AUC 0.78703+-0.00124.                                                             \n",
      "Params: \n",
      "clf__bagging_fraction: 0.800\n",
      "clf__colsample_bytree: 0.514\n",
      "clf__feature_fraction: 1.000\n",
      "clf__lambda_l1: 0.170\n",
      "clf__learning_rate: 0.083\n",
      "clf__min_child_weight: 6.214\n",
      "clf__num_leaves: 81.000\n",
      " 90%|█████████ | 9/10 [24:51<02:51, 171.95s/trial, best loss: 0.21236755207045555]"
     ]
    },
    {
     "name": "stderr",
     "output_type": "stream",
     "text": [
      "0it [00:00, ?it/s]\n",
      "\u001b[A\n"
     ]
    },
    {
     "name": "stdout",
     "output_type": "stream",
     "text": [
      "Training until validation scores don't improve for 1000 rounds                    \n",
      "[500]\tvalid_0's auc: 0.783664                                                     \n",
      "[1000]\tvalid_0's auc: 0.781924                                                    \n",
      "Early stopping, best iteration is:                                                \n",
      "[164]\tvalid_0's auc: 0.784725\n",
      " 90%|█████████ | 9/10 [25:06<02:51, 171.95s/trial, best loss: 0.21236755207045555]"
     ]
    },
    {
     "name": "stderr",
     "output_type": "stream",
     "text": [
      "1it [00:15, 15.78s/it]\n",
      "\u001b[A\n"
     ]
    },
    {
     "name": "stdout",
     "output_type": "stream",
     "text": [
      "Training until validation scores don't improve for 1000 rounds                    \n",
      "[500]\tvalid_0's auc: 0.785879                                                     \n",
      "[1000]\tvalid_0's auc: 0.784237                                                    \n",
      "Early stopping, best iteration is:                                                \n",
      "[180]\tvalid_0's auc: 0.786669\n",
      " 90%|█████████ | 9/10 [25:22<02:51, 171.95s/trial, best loss: 0.21236755207045555]"
     ]
    },
    {
     "name": "stderr",
     "output_type": "stream",
     "text": [
      "2it [00:31, 15.80s/it]\n",
      "\u001b[A\n"
     ]
    },
    {
     "name": "stdout",
     "output_type": "stream",
     "text": [
      "Training until validation scores don't improve for 1000 rounds                    \n",
      "[500]\tvalid_0's auc: 0.785361                                                     \n",
      "[1000]\tvalid_0's auc: 0.783066                                                    \n",
      "Early stopping, best iteration is:                                                \n",
      "[192]\tvalid_0's auc: 0.786997\n",
      " 90%|█████████ | 9/10 [25:38<02:51, 171.95s/trial, best loss: 0.21236755207045555]"
     ]
    },
    {
     "name": "stderr",
     "output_type": "stream",
     "text": [
      "3it [00:47, 15.89s/it]\n",
      "\u001b[A\n"
     ]
    },
    {
     "name": "stdout",
     "output_type": "stream",
     "text": [
      "Training until validation scores don't improve for 1000 rounds                    \n",
      "[500]\tvalid_0's auc: 0.782431                                                     \n",
      "[1000]\tvalid_0's auc: 0.780208                                                    \n",
      "Early stopping, best iteration is:                                                \n",
      "[126]\tvalid_0's auc: 0.783822\n",
      " 90%|█████████ | 9/10 [25:54<02:51, 171.95s/trial, best loss: 0.21236755207045555]"
     ]
    },
    {
     "name": "stderr",
     "output_type": "stream",
     "text": [
      "4it [01:03, 15.75s/it]\n",
      "\u001b[A\n"
     ]
    },
    {
     "name": "stdout",
     "output_type": "stream",
     "text": [
      "Training until validation scores don't improve for 1000 rounds                    \n",
      "[500]\tvalid_0's auc: 0.783432                                                     \n",
      "[1000]\tvalid_0's auc: 0.781335                                                    \n",
      "Early stopping, best iteration is:                                                \n",
      "[185]\tvalid_0's auc: 0.784669\n",
      " 90%|█████████ | 9/10 [26:10<02:51, 171.95s/trial, best loss: 0.21236755207045555]"
     ]
    },
    {
     "name": "stderr",
     "output_type": "stream",
     "text": [
      "5it [01:19, 15.82s/it]\n",
      "\u001b[A\n",
      "5it [01:19, 15.83s/it]\n"
     ]
    },
    {
     "name": "stdout",
     "output_type": "stream",
     "text": [
      "AUC 0.78538+-0.00124.                                                             \n",
      "Params: \n",
      "clf__bagging_fraction: 0.800\n",
      "clf__colsample_bytree: 0.971\n",
      "clf__feature_fraction: 0.500\n",
      "clf__lambda_l1: 0.360\n",
      "clf__learning_rate: 0.296\n",
      "clf__min_child_weight: 7.139\n",
      "clf__num_leaves: 49.000\n",
      "100%|██████████| 10/10 [26:10<00:00, 157.05s/trial, best loss: 0.21236755207045555]\n"
     ]
    }
   ],
   "source": [
    "from hyperopt import hp, tpe\n",
    "from hyperopt.fmin import fmin\n",
    "from hyperopt.pyll.base import scope\n",
    "from hyperopt import space_eval\n",
    "import numpy as np\n",
    "from tqdm import tqdm\n",
    "from sklearn.metrics import roc_auc_score\n",
    "from sklearn.model_selection import StratifiedKFold\n",
    "\n",
    "\n",
    "def make_objective(pipeline, df):\n",
    "    \n",
    "    def objective(params):\n",
    "                \n",
    "        pipeline.set_params(**params)\n",
    "        skf = StratifiedKFold(n_splits=5, shuffle=True, random_state=42)\n",
    "        \n",
    "        scores = []\n",
    "        for train_idx, val_idx in tqdm(skf.split(df, df[\"target\"])):\n",
    "            \n",
    "            df_train, df_val = df.loc[train_idx, :], df.loc[val_idx, :]\n",
    "            transformers = Pipeline(pipeline.steps[:-1]).fit(df_train, df_train['target'])\n",
    "            X_val, y_val = transformers.transform(df_val), df_val['target']\n",
    "            \n",
    "            fit_args = {\n",
    "                \"clf__early_stopping_rounds\": 1000, \n",
    "                \"clf__eval_set\": (X_val, y_val),\n",
    "                \"clf__verbose\": 500,\n",
    "                \"clf__eval_metric\": 'auc',\n",
    "            }\n",
    "            \n",
    "            pipeline.fit(df_train, df_train['target'], **fit_args)\n",
    "            prob = pipeline.predict_proba(df_val)[:, 1]\n",
    "            scores.append(roc_auc_score(y_val, prob))\n",
    "            \n",
    "        score = np.mean(scores)\n",
    "        print(\"AUC {:.5f}+-{:.5f}.\\n\".format(np.mean(scores), np.std(scores)) + \n",
    "              \"Params: \\n\" + \n",
    "              \"\\n\".join([\"{}: {:.3f}\".format(k, params[k]) for k in params]))\n",
    "        return 1 - score\n",
    "    \n",
    "    return objective\n",
    "\n",
    "space = {\n",
    "        \"clf__learning_rate\": hp.loguniform(\"clf__learning_rate\", np.log(0.005), np.log(0.5)),\n",
    "        'clf__lambda_l1': hp.loguniform('clf__lambda_l1', np.log(0.005), np.log(0.5)),\n",
    "        \"clf__num_leaves\": hp.choice(\"clf__num_leaves\", np.linspace(8, 128, 50, dtype=int)),\n",
    "        \"clf__feature_fraction\": hp.quniform(\"clf__feature_fraction\", 0.5, 1.0, 0.1),\n",
    "        \"clf__bagging_fraction\": hp.quniform(\"clf__bagging_fraction\", 0.5, 1.0, 0.1),\n",
    "        \"clf__min_child_weight\": hp.uniform('clf__min_child_weight', 0.5, 10),\n",
    "        'clf__colsample_bytree': hp.uniform('clf__colsample_bytree', 0.3, 1.0),\n",
    "    }\n",
    "\n",
    "best = fmin(fn=make_objective(pipeline, df),\n",
    "            space=space,\n",
    "            algo=tpe.suggest,\n",
    "            max_evals=10)\n",
    "\n",
    "best_params = space_eval(space, best)"
   ]
  },
  {
   "cell_type": "code",
   "execution_count": 10,
   "metadata": {},
   "outputs": [
    {
     "name": "stdout",
     "output_type": "stream",
     "text": [
      "Best params: \n",
      "clf__bagging_fraction: 0.600\n",
      "clf__colsample_bytree: 0.418\n",
      "clf__feature_fraction: 0.900\n",
      "clf__lambda_l1: 0.016\n",
      "clf__learning_rate: 0.009\n",
      "clf__min_child_weight: 7.577\n",
      "clf__num_leaves: 79.000\n"
     ]
    }
   ],
   "source": [
    "print(\"Best params: \\n\" + \"\\n\".join([\"{}: {:.3f}\".format(k, best_params[k]) for k in best_params]))"
   ]
  },
  {
   "cell_type": "code",
   "execution_count": 11,
   "metadata": {
    "scrolled": true
   },
   "outputs": [
    {
     "name": "stderr",
     "output_type": "stream",
     "text": [
      "\r",
      "0it [00:00, ?it/s]"
     ]
    },
    {
     "name": "stdout",
     "output_type": "stream",
     "text": [
      "Training until validation scores don't improve for 1000 rounds\n",
      "[500]\tvalid_0's auc: 0.763444\n",
      "[1000]\tvalid_0's auc: 0.777578\n",
      "[1500]\tvalid_0's auc: 0.782176\n",
      "[2000]\tvalid_0's auc: 0.784353\n",
      "[2500]\tvalid_0's auc: 0.785476\n",
      "[3000]\tvalid_0's auc: 0.786085\n",
      "[3500]\tvalid_0's auc: 0.786385\n",
      "[4000]\tvalid_0's auc: 0.786541\n",
      "[4500]\tvalid_0's auc: 0.78659\n",
      "[5000]\tvalid_0's auc: 0.786578\n",
      "Did not meet early stopping. Best iteration is:\n",
      "[4644]\tvalid_0's auc: 0.7866\n"
     ]
    },
    {
     "name": "stderr",
     "output_type": "stream",
     "text": [
      "\r",
      "1it [01:13, 73.65s/it]"
     ]
    },
    {
     "name": "stdout",
     "output_type": "stream",
     "text": [
      "Training until validation scores don't improve for 1000 rounds\n",
      "[500]\tvalid_0's auc: 0.765766\n",
      "[1000]\tvalid_0's auc: 0.779393\n",
      "[1500]\tvalid_0's auc: 0.784389\n",
      "[2000]\tvalid_0's auc: 0.786697\n",
      "[2500]\tvalid_0's auc: 0.787944\n",
      "[3000]\tvalid_0's auc: 0.788484\n",
      "[3500]\tvalid_0's auc: 0.788771\n",
      "[4000]\tvalid_0's auc: 0.788915\n",
      "[4500]\tvalid_0's auc: 0.789019\n",
      "[5000]\tvalid_0's auc: 0.789048\n",
      "Did not meet early stopping. Best iteration is:\n",
      "[4984]\tvalid_0's auc: 0.789056\n"
     ]
    },
    {
     "name": "stderr",
     "output_type": "stream",
     "text": [
      "\r",
      "2it [02:31, 74.78s/it]"
     ]
    },
    {
     "name": "stdout",
     "output_type": "stream",
     "text": [
      "Training until validation scores don't improve for 1000 rounds\n",
      "[500]\tvalid_0's auc: 0.766118\n",
      "[1000]\tvalid_0's auc: 0.78045\n",
      "[1500]\tvalid_0's auc: 0.785079\n",
      "[2000]\tvalid_0's auc: 0.787262\n",
      "[2500]\tvalid_0's auc: 0.788326\n",
      "[3000]\tvalid_0's auc: 0.788823\n",
      "[3500]\tvalid_0's auc: 0.789109\n",
      "[4000]\tvalid_0's auc: 0.789226\n",
      "[4500]\tvalid_0's auc: 0.789266\n",
      "[5000]\tvalid_0's auc: 0.789244\n",
      "Did not meet early stopping. Best iteration is:\n",
      "[4305]\tvalid_0's auc: 0.789284\n"
     ]
    },
    {
     "name": "stderr",
     "output_type": "stream",
     "text": [
      "\r",
      "3it [04:08, 81.67s/it]"
     ]
    },
    {
     "name": "stdout",
     "output_type": "stream",
     "text": [
      "Training until validation scores don't improve for 1000 rounds\n",
      "[500]\tvalid_0's auc: 0.764825\n",
      "[1000]\tvalid_0's auc: 0.778062\n",
      "[1500]\tvalid_0's auc: 0.782507\n",
      "[2000]\tvalid_0's auc: 0.784631\n",
      "[2500]\tvalid_0's auc: 0.785717\n",
      "[3000]\tvalid_0's auc: 0.786186\n",
      "[3500]\tvalid_0's auc: 0.786446\n",
      "[4000]\tvalid_0's auc: 0.78656\n",
      "[4500]\tvalid_0's auc: 0.786621\n",
      "[5000]\tvalid_0's auc: 0.786625\n",
      "Did not meet early stopping. Best iteration is:\n",
      "[4670]\tvalid_0's auc: 0.786632\n"
     ]
    },
    {
     "name": "stderr",
     "output_type": "stream",
     "text": [
      "\r",
      "4it [05:47, 86.74s/it]"
     ]
    },
    {
     "name": "stdout",
     "output_type": "stream",
     "text": [
      "Training until validation scores don't improve for 1000 rounds\n",
      "[500]\tvalid_0's auc: 0.762881\n",
      "[1000]\tvalid_0's auc: 0.77702\n",
      "[1500]\tvalid_0's auc: 0.781843\n",
      "[2000]\tvalid_0's auc: 0.784202\n",
      "[2500]\tvalid_0's auc: 0.78543\n",
      "[3000]\tvalid_0's auc: 0.786058\n",
      "[3500]\tvalid_0's auc: 0.786356\n",
      "[4000]\tvalid_0's auc: 0.786497\n",
      "[4500]\tvalid_0's auc: 0.78656\n",
      "[5000]\tvalid_0's auc: 0.786558\n",
      "Did not meet early stopping. Best iteration is:\n",
      "[4790]\tvalid_0's auc: 0.78659\n"
     ]
    },
    {
     "name": "stderr",
     "output_type": "stream",
     "text": [
      "5it [07:31, 90.38s/it]\n"
     ]
    }
   ],
   "source": [
    "from sklearn.model_selection import StratifiedKFold\n",
    "from tqdm import tqdm\n",
    "\n",
    "folds = 5\n",
    "skf = StratifiedKFold(n_splits=folds, shuffle=True, random_state=42)\n",
    "pipeline.set_params(**best_params)\n",
    "df_test['target'] = 0\n",
    "\n",
    "for train_idx, val_idx in tqdm(skf.split(df, df['target'])):\n",
    "    df_train = df.loc[train_idx, :]\n",
    "    df_val = df.loc[val_idx, :]\n",
    "    X_val, y_val = Pipeline(pipeline.steps[:-1]).fit(df_train, df_train['target'])\\\n",
    "                                                    .transform(df_val), df_val['target']\n",
    "    fit_args = {\n",
    "        \"clf__early_stopping_rounds\": 1000, \n",
    "        \"clf__eval_set\": (X_val, y_val),\n",
    "        \"clf__verbose\": 500,\n",
    "        \"clf__eval_metric\": 'auc'\n",
    "    }\n",
    "        \n",
    "    pipeline.fit(df_train, df_train['target'], **fit_args)\n",
    "    prob = pipeline.predict_proba(df_val)[:, 1]\n",
    "    score = roc_auc_score(y_val, prob)\n",
    "    \n",
    "    df_test['target'] += pipeline.predict_proba(df_test)[:, 1]\n"
   ]
  },
  {
   "cell_type": "code",
   "execution_count": 12,
   "metadata": {},
   "outputs": [
    {
     "name": "stdout",
     "output_type": "stream",
     "text": [
      "id,target\r\n",
      "600000,0.10387206060714602\r\n",
      "600001,0.2675943182020537\r\n",
      "600002,0.1818472226517094\r\n",
      "600003,0.10811305099184843\r\n"
     ]
    }
   ],
   "source": [
    "df_test['target'] /= folds\n",
    "df_test[['id', 'target']].to_csv('../data/submission_lgbm.csv', index=False)\n",
    "!head -n 5 ../data/submission_lgbm.csv"
   ]
  },
  {
   "cell_type": "code",
   "execution_count": null,
   "metadata": {},
   "outputs": [],
   "source": []
  }
 ],
 "metadata": {
  "kernelspec": {
   "display_name": "cfec2",
   "language": "python",
   "name": "cfec2"
  },
  "language_info": {
   "codemirror_mode": {
    "name": "ipython",
    "version": 3
   },
   "file_extension": ".py",
   "mimetype": "text/x-python",
   "name": "python",
   "nbconvert_exporter": "python",
   "pygments_lexer": "ipython3",
   "version": "3.7.6"
  }
 },
 "nbformat": 4,
 "nbformat_minor": 4
}
