{
 "cells": [
  {
   "cell_type": "code",
   "execution_count": 1,
   "metadata": {},
   "outputs": [],
   "source": [
    "%load_ext autoreload\n",
    "%autoreload 2"
   ]
  },
  {
   "cell_type": "code",
   "execution_count": 2,
   "metadata": {},
   "outputs": [],
   "source": [
    "import pandas as pd"
   ]
  },
  {
   "cell_type": "code",
   "execution_count": 3,
   "metadata": {},
   "outputs": [
    {
     "name": "stdout",
     "output_type": "stream",
     "text": [
      "CPU times: user 2.25 s, sys: 190 ms, total: 2.44 s\n",
      "Wall time: 2.45 s\n"
     ]
    },
    {
     "data": {
      "text/html": [
       "<div>\n",
       "<style scoped>\n",
       "    .dataframe tbody tr th:only-of-type {\n",
       "        vertical-align: middle;\n",
       "    }\n",
       "\n",
       "    .dataframe tbody tr th {\n",
       "        vertical-align: top;\n",
       "    }\n",
       "\n",
       "    .dataframe thead th {\n",
       "        text-align: right;\n",
       "    }\n",
       "</style>\n",
       "<table border=\"1\" class=\"dataframe\">\n",
       "  <thead>\n",
       "    <tr style=\"text-align: right;\">\n",
       "      <th></th>\n",
       "      <th>id</th>\n",
       "      <th>bin_0</th>\n",
       "      <th>bin_1</th>\n",
       "      <th>bin_2</th>\n",
       "      <th>bin_3</th>\n",
       "      <th>bin_4</th>\n",
       "      <th>nom_0</th>\n",
       "      <th>nom_1</th>\n",
       "      <th>nom_2</th>\n",
       "      <th>nom_3</th>\n",
       "      <th>...</th>\n",
       "      <th>nom_9</th>\n",
       "      <th>ord_0</th>\n",
       "      <th>ord_1</th>\n",
       "      <th>ord_2</th>\n",
       "      <th>ord_3</th>\n",
       "      <th>ord_4</th>\n",
       "      <th>ord_5</th>\n",
       "      <th>day</th>\n",
       "      <th>month</th>\n",
       "      <th>target</th>\n",
       "    </tr>\n",
       "  </thead>\n",
       "  <tbody>\n",
       "    <tr>\n",
       "      <th>0</th>\n",
       "      <td>0</td>\n",
       "      <td>0.0</td>\n",
       "      <td>0.0</td>\n",
       "      <td>0.0</td>\n",
       "      <td>F</td>\n",
       "      <td>N</td>\n",
       "      <td>Red</td>\n",
       "      <td>Trapezoid</td>\n",
       "      <td>Hamster</td>\n",
       "      <td>Russia</td>\n",
       "      <td>...</td>\n",
       "      <td>02e7c8990</td>\n",
       "      <td>3.0</td>\n",
       "      <td>Contributor</td>\n",
       "      <td>Hot</td>\n",
       "      <td>c</td>\n",
       "      <td>U</td>\n",
       "      <td>Pw</td>\n",
       "      <td>6.0</td>\n",
       "      <td>3.0</td>\n",
       "      <td>0</td>\n",
       "    </tr>\n",
       "    <tr>\n",
       "      <th>1</th>\n",
       "      <td>1</td>\n",
       "      <td>1.0</td>\n",
       "      <td>1.0</td>\n",
       "      <td>0.0</td>\n",
       "      <td>F</td>\n",
       "      <td>Y</td>\n",
       "      <td>Red</td>\n",
       "      <td>Star</td>\n",
       "      <td>Axolotl</td>\n",
       "      <td>NaN</td>\n",
       "      <td>...</td>\n",
       "      <td>f37df64af</td>\n",
       "      <td>3.0</td>\n",
       "      <td>Grandmaster</td>\n",
       "      <td>Warm</td>\n",
       "      <td>e</td>\n",
       "      <td>X</td>\n",
       "      <td>pE</td>\n",
       "      <td>7.0</td>\n",
       "      <td>7.0</td>\n",
       "      <td>0</td>\n",
       "    </tr>\n",
       "    <tr>\n",
       "      <th>2</th>\n",
       "      <td>2</td>\n",
       "      <td>0.0</td>\n",
       "      <td>1.0</td>\n",
       "      <td>0.0</td>\n",
       "      <td>F</td>\n",
       "      <td>N</td>\n",
       "      <td>Red</td>\n",
       "      <td>NaN</td>\n",
       "      <td>Hamster</td>\n",
       "      <td>Canada</td>\n",
       "      <td>...</td>\n",
       "      <td>NaN</td>\n",
       "      <td>3.0</td>\n",
       "      <td>NaN</td>\n",
       "      <td>Freezing</td>\n",
       "      <td>n</td>\n",
       "      <td>P</td>\n",
       "      <td>eN</td>\n",
       "      <td>5.0</td>\n",
       "      <td>9.0</td>\n",
       "      <td>0</td>\n",
       "    </tr>\n",
       "    <tr>\n",
       "      <th>3</th>\n",
       "      <td>3</td>\n",
       "      <td>NaN</td>\n",
       "      <td>0.0</td>\n",
       "      <td>0.0</td>\n",
       "      <td>F</td>\n",
       "      <td>N</td>\n",
       "      <td>Red</td>\n",
       "      <td>Circle</td>\n",
       "      <td>Hamster</td>\n",
       "      <td>Finland</td>\n",
       "      <td>...</td>\n",
       "      <td>f9d456e57</td>\n",
       "      <td>1.0</td>\n",
       "      <td>Novice</td>\n",
       "      <td>Lava Hot</td>\n",
       "      <td>a</td>\n",
       "      <td>C</td>\n",
       "      <td>NaN</td>\n",
       "      <td>3.0</td>\n",
       "      <td>3.0</td>\n",
       "      <td>0</td>\n",
       "    </tr>\n",
       "    <tr>\n",
       "      <th>4</th>\n",
       "      <td>4</td>\n",
       "      <td>0.0</td>\n",
       "      <td>NaN</td>\n",
       "      <td>0.0</td>\n",
       "      <td>T</td>\n",
       "      <td>N</td>\n",
       "      <td>Red</td>\n",
       "      <td>Triangle</td>\n",
       "      <td>Hamster</td>\n",
       "      <td>Costa Rica</td>\n",
       "      <td>...</td>\n",
       "      <td>c5361037c</td>\n",
       "      <td>3.0</td>\n",
       "      <td>Grandmaster</td>\n",
       "      <td>Cold</td>\n",
       "      <td>h</td>\n",
       "      <td>C</td>\n",
       "      <td>OZ</td>\n",
       "      <td>5.0</td>\n",
       "      <td>12.0</td>\n",
       "      <td>0</td>\n",
       "    </tr>\n",
       "  </tbody>\n",
       "</table>\n",
       "<p>5 rows × 25 columns</p>\n",
       "</div>"
      ],
      "text/plain": [
       "   id  bin_0  bin_1  bin_2 bin_3 bin_4 nom_0      nom_1    nom_2       nom_3  \\\n",
       "0   0    0.0    0.0    0.0     F     N   Red  Trapezoid  Hamster      Russia   \n",
       "1   1    1.0    1.0    0.0     F     Y   Red       Star  Axolotl         NaN   \n",
       "2   2    0.0    1.0    0.0     F     N   Red        NaN  Hamster      Canada   \n",
       "3   3    NaN    0.0    0.0     F     N   Red     Circle  Hamster     Finland   \n",
       "4   4    0.0    NaN    0.0     T     N   Red   Triangle  Hamster  Costa Rica   \n",
       "\n",
       "   ...      nom_9 ord_0        ord_1     ord_2 ord_3 ord_4  ord_5  day month  \\\n",
       "0  ...  02e7c8990   3.0  Contributor       Hot     c     U     Pw  6.0   3.0   \n",
       "1  ...  f37df64af   3.0  Grandmaster      Warm     e     X     pE  7.0   7.0   \n",
       "2  ...        NaN   3.0          NaN  Freezing     n     P     eN  5.0   9.0   \n",
       "3  ...  f9d456e57   1.0       Novice  Lava Hot     a     C    NaN  3.0   3.0   \n",
       "4  ...  c5361037c   3.0  Grandmaster      Cold     h     C     OZ  5.0  12.0   \n",
       "\n",
       "  target  \n",
       "0      0  \n",
       "1      0  \n",
       "2      0  \n",
       "3      0  \n",
       "4      0  \n",
       "\n",
       "[5 rows x 25 columns]"
      ]
     },
     "execution_count": 3,
     "metadata": {},
     "output_type": "execute_result"
    }
   ],
   "source": [
    "%%time\n",
    "df = pd.read_csv('../data/train.csv')\n",
    "df_test = pd.read_csv('../data/test.csv')\n",
    "df.head()"
   ]
  },
  {
   "cell_type": "markdown",
   "metadata": {},
   "source": [
    "# Preporcess data"
   ]
  },
  {
   "cell_type": "code",
   "execution_count": 4,
   "metadata": {},
   "outputs": [
    {
     "name": "stderr",
     "output_type": "stream",
     "text": [
      "10it [00:39,  3.93s/it]\n"
     ]
    }
   ],
   "source": [
    "from sklearn.model_selection import StratifiedKFold\n",
    "import category_encoders as ce\n",
    "from tqdm import tqdm\n",
    "import numpy as np\n",
    "import datetime\n",
    "import itertools\n",
    "\n",
    "mapping_ord1 = {'Unknown': 0, 'Novice': 1, 'Contributor': 2, 'Expert': 3, 'Master': 4, 'Grandmaster': 5}\n",
    "mapping_ord2 = {'Unknown': 0, 'Freezing': 1, 'Cold': 2, 'Warm': 3, 'Hot': 4, 'Boiling Hot': 5, 'Lava Hot': 6}\n",
    "mapping_ord3 = dict([(v, i) for i, v in enumerate(sorted(set(df['ord_3'].fillna(\"0\"))))])\n",
    "mapping_ord4 = dict([(v, i) for i, v in enumerate(sorted(set(df['ord_4'].fillna(\"0\"))))])\n",
    "mapping_ord5 = dict([(v, i) for i, v in enumerate(sorted(set(df['ord_5'].fillna(\"0\"))))])\n",
    "\n",
    "\n",
    "def preprocess_data(df):\n",
    "    \n",
    "    df[\"nom_0_nom_1\"] = df[\"nom_0\"] + df[\"nom_1\"]\n",
    "    df[\"nom_3_ord_1\"] = df[\"nom_0\"] + df[\"ord_1\"]\n",
    "    \n",
    "    df['ord_0'] = df['ord_0'].fillna(0)\n",
    "    df['ord_1'] =  df['ord_1'].fillna('Unknown').map(mapping_ord1)\n",
    "    df['ord_2'] =  df['ord_2'].fillna('Unknown').map(mapping_ord2)\n",
    "    df['ord_3'] =  df['ord_3'].fillna('0').map(mapping_ord3)\n",
    "    df['ord_4'] =  df['ord_4'].fillna('0').map(mapping_ord4)\n",
    "    df['ord_5'] =  df['ord_5'].fillna('0').map(mapping_ord5)\n",
    "    df['bin_3'] = df['bin_3'].fillna('U').map({\"T\": 1, \"F\": 0, \"U\": np.nan})\n",
    "    df['bin_4'] = df['bin_4'].fillna('U').map({\"Y\": 1, \"N\": 0, \"U\": np.nan})\n",
    "\n",
    "    df['day_sin'] = np.sin(df.day*(2.*np.pi/24))\n",
    "    df['day_cos'] = np.cos(df.day*(2.*np.pi/24))\n",
    "    df['month_sin'] = np.sin((df.month-1)*(2.*np.pi/12))\n",
    "    df['month_cos'] = np.cos((df.month-1)*(2.*np.pi/12))\n",
    "    \n",
    "    return df\n",
    "\n",
    "def encode(df, df_test, cols):\n",
    "    cols_enc = list(map(lambda x: x + \"_enc\", cols))\n",
    "    for c in cols_enc:\n",
    "        df[c] = np.nan\n",
    "        df_test[c] = np.nan\n",
    "        \n",
    "    skf = StratifiedKFold(n_splits=10, random_state=42, shuffle=True)\n",
    "    \n",
    "    for train_idx, oof_idx in tqdm(skf.split(df, df[\"target\"])):\n",
    "        enc = ce.TargetEncoder(cols = cols, smoothing=0.3)\n",
    "        enc.fit(df.loc[train_idx, cols], df.loc[train_idx, \"target\"])\n",
    "        df.loc[oof_idx, cols_enc] = enc.transform(df.loc[oof_idx, cols]).values\n",
    "    \n",
    "    enc = ce.TargetEncoder(cols = cols, smoothing=0.3)\n",
    "    enc.fit(df[cols], df[\"target\"])\n",
    "    df_test[cols_enc] = enc.transform(df_test[cols])\n",
    "    return df, df_test, cols_enc\n",
    "    \n",
    "df = preprocess_data(df)\n",
    "df_test = preprocess_data(df_test)\n",
    "\n",
    "binary = ['bin_0', 'bin_1', 'bin_2', 'bin_3', 'bin_4']\n",
    "ordinal  = ['ord_0', 'ord_1', 'ord_2', 'ord_3', 'ord_4', 'ord_5']\n",
    "low_card = ['nom_0', 'nom_1', 'nom_2', 'nom_3', 'nom_4']\n",
    "high_card = ['nom_5', 'nom_6', 'nom_7', 'nom_8', 'nom_9', \"nom_0_nom_1\", \"nom_3_ord_1\"]\n",
    "date = ['day', 'month']\n",
    "cyclic = ['day_sin', 'day_cos', 'month_sin', 'month_cos']\n",
    "\n",
    "df, df_test, cat_enc =  encode(df, df_test, high_card + low_card + date)\n",
    "features = binary + ordinal + cat_enc + cyclic"
   ]
  },
  {
   "cell_type": "code",
   "execution_count": 5,
   "metadata": {},
   "outputs": [
    {
     "data": {
      "text/html": [
       "<div>\n",
       "<style scoped>\n",
       "    .dataframe tbody tr th:only-of-type {\n",
       "        vertical-align: middle;\n",
       "    }\n",
       "\n",
       "    .dataframe tbody tr th {\n",
       "        vertical-align: top;\n",
       "    }\n",
       "\n",
       "    .dataframe thead th {\n",
       "        text-align: right;\n",
       "    }\n",
       "</style>\n",
       "<table border=\"1\" class=\"dataframe\">\n",
       "  <thead>\n",
       "    <tr style=\"text-align: right;\">\n",
       "      <th></th>\n",
       "      <th>id</th>\n",
       "      <th>bin_0</th>\n",
       "      <th>bin_1</th>\n",
       "      <th>bin_2</th>\n",
       "      <th>bin_3</th>\n",
       "      <th>bin_4</th>\n",
       "      <th>nom_0</th>\n",
       "      <th>nom_1</th>\n",
       "      <th>nom_2</th>\n",
       "      <th>nom_3</th>\n",
       "      <th>...</th>\n",
       "      <th>nom_9_enc</th>\n",
       "      <th>nom_0_nom_1_enc</th>\n",
       "      <th>nom_3_ord_1_enc</th>\n",
       "      <th>nom_0_enc</th>\n",
       "      <th>nom_1_enc</th>\n",
       "      <th>nom_2_enc</th>\n",
       "      <th>nom_3_enc</th>\n",
       "      <th>nom_4_enc</th>\n",
       "      <th>day_enc</th>\n",
       "      <th>month_enc</th>\n",
       "    </tr>\n",
       "  </thead>\n",
       "  <tbody>\n",
       "    <tr>\n",
       "      <th>0</th>\n",
       "      <td>0</td>\n",
       "      <td>0.0</td>\n",
       "      <td>0.0</td>\n",
       "      <td>0.0</td>\n",
       "      <td>0.0</td>\n",
       "      <td>0.0</td>\n",
       "      <td>Red</td>\n",
       "      <td>Trapezoid</td>\n",
       "      <td>Hamster</td>\n",
       "      <td>Russia</td>\n",
       "      <td>...</td>\n",
       "      <td>0.171123</td>\n",
       "      <td>0.219889</td>\n",
       "      <td>0.168903</td>\n",
       "      <td>0.183116</td>\n",
       "      <td>0.225354</td>\n",
       "      <td>0.168057</td>\n",
       "      <td>0.219869</td>\n",
       "      <td>0.207528</td>\n",
       "      <td>0.200237</td>\n",
       "      <td>0.146438</td>\n",
       "    </tr>\n",
       "    <tr>\n",
       "      <th>1</th>\n",
       "      <td>1</td>\n",
       "      <td>1.0</td>\n",
       "      <td>1.0</td>\n",
       "      <td>0.0</td>\n",
       "      <td>0.0</td>\n",
       "      <td>1.0</td>\n",
       "      <td>Red</td>\n",
       "      <td>Star</td>\n",
       "      <td>Axolotl</td>\n",
       "      <td>NaN</td>\n",
       "      <td>...</td>\n",
       "      <td>0.147679</td>\n",
       "      <td>0.122500</td>\n",
       "      <td>0.228065</td>\n",
       "      <td>0.183024</td>\n",
       "      <td>0.130305</td>\n",
       "      <td>0.200561</td>\n",
       "      <td>0.185587</td>\n",
       "      <td>0.179620</td>\n",
       "      <td>0.212574</td>\n",
       "      <td>0.208655</td>\n",
       "    </tr>\n",
       "    <tr>\n",
       "      <th>2</th>\n",
       "      <td>2</td>\n",
       "      <td>0.0</td>\n",
       "      <td>1.0</td>\n",
       "      <td>0.0</td>\n",
       "      <td>0.0</td>\n",
       "      <td>0.0</td>\n",
       "      <td>Red</td>\n",
       "      <td>NaN</td>\n",
       "      <td>Hamster</td>\n",
       "      <td>Canada</td>\n",
       "      <td>...</td>\n",
       "      <td>0.188596</td>\n",
       "      <td>0.183130</td>\n",
       "      <td>0.184976</td>\n",
       "      <td>0.183116</td>\n",
       "      <td>0.181924</td>\n",
       "      <td>0.168057</td>\n",
       "      <td>0.160406</td>\n",
       "      <td>0.207528</td>\n",
       "      <td>0.163968</td>\n",
       "      <td>0.212740</td>\n",
       "    </tr>\n",
       "    <tr>\n",
       "      <th>3</th>\n",
       "      <td>3</td>\n",
       "      <td>NaN</td>\n",
       "      <td>0.0</td>\n",
       "      <td>0.0</td>\n",
       "      <td>0.0</td>\n",
       "      <td>0.0</td>\n",
       "      <td>Red</td>\n",
       "      <td>Circle</td>\n",
       "      <td>Hamster</td>\n",
       "      <td>Finland</td>\n",
       "      <td>...</td>\n",
       "      <td>0.269231</td>\n",
       "      <td>0.176106</td>\n",
       "      <td>0.151445</td>\n",
       "      <td>0.183027</td>\n",
       "      <td>0.179732</td>\n",
       "      <td>0.168284</td>\n",
       "      <td>0.179400</td>\n",
       "      <td>0.179624</td>\n",
       "      <td>0.163910</td>\n",
       "      <td>0.146364</td>\n",
       "    </tr>\n",
       "    <tr>\n",
       "      <th>4</th>\n",
       "      <td>4</td>\n",
       "      <td>0.0</td>\n",
       "      <td>NaN</td>\n",
       "      <td>0.0</td>\n",
       "      <td>1.0</td>\n",
       "      <td>0.0</td>\n",
       "      <td>Red</td>\n",
       "      <td>Triangle</td>\n",
       "      <td>Hamster</td>\n",
       "      <td>Costa Rica</td>\n",
       "      <td>...</td>\n",
       "      <td>0.255446</td>\n",
       "      <td>0.154720</td>\n",
       "      <td>0.228840</td>\n",
       "      <td>0.183206</td>\n",
       "      <td>0.157499</td>\n",
       "      <td>0.167818</td>\n",
       "      <td>0.202551</td>\n",
       "      <td>0.187077</td>\n",
       "      <td>0.163213</td>\n",
       "      <td>0.225034</td>\n",
       "    </tr>\n",
       "  </tbody>\n",
       "</table>\n",
       "<p>5 rows × 45 columns</p>\n",
       "</div>"
      ],
      "text/plain": [
       "   id  bin_0  bin_1  bin_2  bin_3  bin_4 nom_0      nom_1    nom_2  \\\n",
       "0   0    0.0    0.0    0.0    0.0    0.0   Red  Trapezoid  Hamster   \n",
       "1   1    1.0    1.0    0.0    0.0    1.0   Red       Star  Axolotl   \n",
       "2   2    0.0    1.0    0.0    0.0    0.0   Red        NaN  Hamster   \n",
       "3   3    NaN    0.0    0.0    0.0    0.0   Red     Circle  Hamster   \n",
       "4   4    0.0    NaN    0.0    1.0    0.0   Red   Triangle  Hamster   \n",
       "\n",
       "        nom_3  ... nom_9_enc nom_0_nom_1_enc nom_3_ord_1_enc nom_0_enc  \\\n",
       "0      Russia  ...  0.171123        0.219889        0.168903  0.183116   \n",
       "1         NaN  ...  0.147679        0.122500        0.228065  0.183024   \n",
       "2      Canada  ...  0.188596        0.183130        0.184976  0.183116   \n",
       "3     Finland  ...  0.269231        0.176106        0.151445  0.183027   \n",
       "4  Costa Rica  ...  0.255446        0.154720        0.228840  0.183206   \n",
       "\n",
       "  nom_1_enc nom_2_enc  nom_3_enc  nom_4_enc   day_enc  month_enc  \n",
       "0  0.225354  0.168057   0.219869   0.207528  0.200237   0.146438  \n",
       "1  0.130305  0.200561   0.185587   0.179620  0.212574   0.208655  \n",
       "2  0.181924  0.168057   0.160406   0.207528  0.163968   0.212740  \n",
       "3  0.179732  0.168284   0.179400   0.179624  0.163910   0.146364  \n",
       "4  0.157499  0.167818   0.202551   0.187077  0.163213   0.225034  \n",
       "\n",
       "[5 rows x 45 columns]"
      ]
     },
     "execution_count": 5,
     "metadata": {},
     "output_type": "execute_result"
    }
   ],
   "source": [
    "df.head()"
   ]
  },
  {
   "cell_type": "code",
   "execution_count": 6,
   "metadata": {},
   "outputs": [
    {
     "data": {
      "text/plain": [
       "(600000, 45)"
      ]
     },
     "execution_count": 6,
     "metadata": {},
     "output_type": "execute_result"
    }
   ],
   "source": [
    "df.shape"
   ]
  },
  {
   "cell_type": "markdown",
   "metadata": {},
   "source": [
    "# Learn model"
   ]
  },
  {
   "cell_type": "code",
   "execution_count": 7,
   "metadata": {},
   "outputs": [],
   "source": [
    "from sklearn.base import BaseEstimator, TransformerMixin\n",
    "\n",
    "class ColumnSelector(BaseEstimator, TransformerMixin):\n",
    "    \n",
    "    def __init__(self, columns):\n",
    "        self.columns = columns\n",
    "\n",
    "    def fit(self, X, y=None):\n",
    "        return self\n",
    "\n",
    "    def transform(self, X):\n",
    "        assert isinstance(X, pd.DataFrame)\n",
    "\n",
    "        try:\n",
    "            return X[self.columns]\n",
    "        except KeyError:\n",
    "            cols_error = list(set(self.columns) - set(X.columns))\n",
    "            raise KeyError(\"The DataFrame does not include the columns: %s\" % cols_error)"
   ]
  },
  {
   "cell_type": "code",
   "execution_count": 8,
   "metadata": {},
   "outputs": [],
   "source": [
    "from lightgbm import LGBMClassifier\n",
    "from sklearn.pipeline import Pipeline\n",
    "from sklearn.compose import make_column_transformer\n",
    "import category_encoders as ce\n",
    " \n",
    "params = {\n",
    "        'clf__objective': 'binary',\n",
    "        'clf__boosting_type': 'gbdt', \n",
    "        'clf__metric': 'auc',\n",
    "        'clf__learning_rate': 0.01,\n",
    "        \"clf__bagging_freq\": 5,\n",
    "        \"clf__bagging_fraction\": 0.8,\n",
    "        \"clf__min_data_in_leaf\": 30,\n",
    "        \"clf__min_sum_hessian_in_leaf\": 5,\n",
    "        \"clf__use_two_round_loading\": False,\n",
    "        \"clf__feature_fraction\": 0.8,\n",
    "        'clf__verbose': 1,\n",
    "        \"clf__lambda_l1\": 0.1,\n",
    "        \"clf__n_estimators\": 5000,\n",
    "        \"clf__is_unbalance\": True\n",
    "    }\n",
    "\n",
    "                        \n",
    "pipeline = Pipeline(steps=[('sel', ColumnSelector(features)), \n",
    "                           ('clf', LGBMClassifier())]).set_params(**params)"
   ]
  },
  {
   "cell_type": "code",
   "execution_count": 9,
   "metadata": {
    "scrolled": true
   },
   "outputs": [
    {
     "name": "stdout",
     "output_type": "stream",
     "text": [
      "\r",
      "  0%|          | 0/20 [00:00<?, ?trial/s, best loss=?]"
     ]
    },
    {
     "name": "stderr",
     "output_type": "stream",
     "text": [
      "0it [00:00, ?it/s]\n",
      "\u001b[A\n"
     ]
    },
    {
     "name": "stdout",
     "output_type": "stream",
     "text": [
      "Training until validation scores don't improve for 500 rounds\n",
      "[500]\tvalid_0's auc: 0.754427                         \n",
      "[1000]\tvalid_0's auc: 0.771993                        \n",
      "[1500]\tvalid_0's auc: 0.77842                         \n",
      "[2000]\tvalid_0's auc: 0.781569                        \n",
      "[2500]\tvalid_0's auc: 0.783919                        \n",
      "[3000]\tvalid_0's auc: 0.785282                        \n",
      "[3500]\tvalid_0's auc: 0.786194                        \n",
      "[4000]\tvalid_0's auc: 0.786803                        \n",
      "[4500]\tvalid_0's auc: 0.7872                          \n",
      "[5000]\tvalid_0's auc: 0.787445                        \n",
      "Did not meet early stopping. Best iteration is:       \n",
      "[4976]\tvalid_0's auc: 0.787446\n",
      "  0%|          | 0/20 [00:43<?, ?trial/s, best loss=?]"
     ]
    },
    {
     "name": "stderr",
     "output_type": "stream",
     "text": [
      "1it [00:44, 44.66s/it]\n",
      "\u001b[A\n"
     ]
    },
    {
     "name": "stdout",
     "output_type": "stream",
     "text": [
      "Training until validation scores don't improve for 500 rounds\n",
      "[500]\tvalid_0's auc: 0.755407                         \n",
      "[1000]\tvalid_0's auc: 0.773913                        \n",
      "[1500]\tvalid_0's auc: 0.780216                        \n",
      "[2000]\tvalid_0's auc: 0.783447                        \n",
      "[2500]\tvalid_0's auc: 0.785753                        \n",
      "[3000]\tvalid_0's auc: 0.787231                        \n",
      "[3500]\tvalid_0's auc: 0.788183                        \n",
      "[4000]\tvalid_0's auc: 0.788849                        \n",
      "[4500]\tvalid_0's auc: 0.789246                        \n",
      "[5000]\tvalid_0's auc: 0.789532                        \n",
      "Did not meet early stopping. Best iteration is:       \n",
      "[4990]\tvalid_0's auc: 0.789536\n",
      "  0%|          | 0/20 [01:32<?, ?trial/s, best loss=?]"
     ]
    },
    {
     "name": "stderr",
     "output_type": "stream",
     "text": [
      "2it [01:33, 46.01s/it]\n",
      "\u001b[A\n"
     ]
    },
    {
     "name": "stdout",
     "output_type": "stream",
     "text": [
      "Training until validation scores don't improve for 500 rounds\n",
      "[500]\tvalid_0's auc: 0.756753                         \n",
      "[1000]\tvalid_0's auc: 0.774864                        \n",
      "[1500]\tvalid_0's auc: 0.781227                        \n",
      "[2000]\tvalid_0's auc: 0.784339                        \n",
      "[2500]\tvalid_0's auc: 0.786449                        \n",
      "[3000]\tvalid_0's auc: 0.787923                        \n",
      "[3500]\tvalid_0's auc: 0.78883                         \n",
      "[4000]\tvalid_0's auc: 0.789358                        \n",
      "[4500]\tvalid_0's auc: 0.789744                        \n",
      "[5000]\tvalid_0's auc: 0.789999                        \n",
      "Did not meet early stopping. Best iteration is:       \n",
      "[5000]\tvalid_0's auc: 0.789999\n",
      "  0%|          | 0/20 [02:20<?, ?trial/s, best loss=?]"
     ]
    },
    {
     "name": "stderr",
     "output_type": "stream",
     "text": [
      "3it [02:21, 46.58s/it]\n",
      "\u001b[A\n"
     ]
    },
    {
     "name": "stdout",
     "output_type": "stream",
     "text": [
      "Training until validation scores don't improve for 500 rounds\n",
      "[500]\tvalid_0's auc: 0.75544                          \n",
      "[1000]\tvalid_0's auc: 0.772595                        \n",
      "[1500]\tvalid_0's auc: 0.778715                        \n",
      "[2000]\tvalid_0's auc: 0.78182                         \n",
      "[2500]\tvalid_0's auc: 0.783918                        \n",
      "[3000]\tvalid_0's auc: 0.785349                        \n",
      "[3500]\tvalid_0's auc: 0.786326                        \n",
      "[4000]\tvalid_0's auc: 0.786822                        \n",
      "[4500]\tvalid_0's auc: 0.787208                        \n",
      "[5000]\tvalid_0's auc: 0.78742                         \n",
      "Did not meet early stopping. Best iteration is:       \n",
      "[4989]\tvalid_0's auc: 0.787421\n",
      "  0%|          | 0/20 [03:05<?, ?trial/s, best loss=?]"
     ]
    },
    {
     "name": "stderr",
     "output_type": "stream",
     "text": [
      "4it [03:06, 46.11s/it]\n",
      "\u001b[A\n"
     ]
    },
    {
     "name": "stdout",
     "output_type": "stream",
     "text": [
      "Training until validation scores don't improve for 500 rounds\n",
      "[500]\tvalid_0's auc: 0.752769                         \n",
      "[1000]\tvalid_0's auc: 0.77057                         \n",
      "[1500]\tvalid_0's auc: 0.776966                        \n",
      "[2000]\tvalid_0's auc: 0.780323                        \n",
      "[2500]\tvalid_0's auc: 0.782575                        \n",
      "[3000]\tvalid_0's auc: 0.78413                         \n",
      "[3500]\tvalid_0's auc: 0.785013                        \n",
      "[4000]\tvalid_0's auc: 0.785592                        \n",
      "[4500]\tvalid_0's auc: 0.785992                        \n",
      "[5000]\tvalid_0's auc: 0.786325                        \n",
      "Did not meet early stopping. Best iteration is:       \n",
      "[4999]\tvalid_0's auc: 0.786325\n",
      "  0%|          | 0/20 [03:50<?, ?trial/s, best loss=?]"
     ]
    },
    {
     "name": "stderr",
     "output_type": "stream",
     "text": [
      "5it [03:52, 45.94s/it]\n",
      "\u001b[A\n",
      "5it [03:52, 46.46s/it]\n"
     ]
    },
    {
     "name": "stdout",
     "output_type": "stream",
     "text": [
      "AUC 0.78815+-0.00139.                                 \n",
      "Params: \n",
      "clf__bagging_fraction: 0.700\n",
      "clf__colsample_bytree: 0.648\n",
      "clf__feature_fraction: 0.800\n",
      "clf__lambda_l1: 0.442\n",
      "clf__learning_rate: 0.019\n",
      "clf__max_depth: 1.000\n",
      "clf__min_child_weight: 7.276\n",
      "clf__num_leaves: 128.000\n",
      "  5%|▌         | 1/20 [03:52<1:13:34, 232.33s/trial, best loss: 0.21185451692444046]"
     ]
    },
    {
     "name": "stderr",
     "output_type": "stream",
     "text": [
      "0it [00:00, ?it/s]\n",
      "\u001b[A\n"
     ]
    },
    {
     "name": "stdout",
     "output_type": "stream",
     "text": [
      "Training until validation scores don't improve for 500 rounds                       \n",
      "[500]\tvalid_0's auc: 0.760699                                                       \n",
      "[1000]\tvalid_0's auc: 0.776185                                                      \n",
      "[1500]\tvalid_0's auc: 0.781476                                                      \n",
      "[2000]\tvalid_0's auc: 0.784231                                                      \n",
      "[2500]\tvalid_0's auc: 0.785803                                                      \n",
      "[3000]\tvalid_0's auc: 0.786569                                                      \n",
      "[3500]\tvalid_0's auc: 0.786993                                                      \n",
      "[4000]\tvalid_0's auc: 0.787223                                                      \n",
      "[4500]\tvalid_0's auc: 0.787343                                                      \n",
      "[5000]\tvalid_0's auc: 0.787417                                                      \n",
      "Did not meet early stopping. Best iteration is:                                     \n",
      "[4966]\tvalid_0's auc: 0.78742\n",
      "  5%|▌         | 1/20 [04:50<1:13:34, 232.33s/trial, best loss: 0.21185451692444046]"
     ]
    },
    {
     "name": "stderr",
     "output_type": "stream",
     "text": [
      "1it [01:01, 61.11s/it]\n",
      "\u001b[A\n"
     ]
    },
    {
     "name": "stdout",
     "output_type": "stream",
     "text": [
      "Training until validation scores don't improve for 500 rounds                       \n",
      "[500]\tvalid_0's auc: 0.76228                                                        \n",
      "[1000]\tvalid_0's auc: 0.777739                                                      \n",
      "[1500]\tvalid_0's auc: 0.783058                                                      \n",
      "[2000]\tvalid_0's auc: 0.78593                                                       \n",
      "[2500]\tvalid_0's auc: 0.78748                                                       \n",
      "[3000]\tvalid_0's auc: 0.788358                                                      \n",
      "[3500]\tvalid_0's auc: 0.788813                                                      \n",
      "[4000]\tvalid_0's auc: 0.789038                                                      \n",
      "[4500]\tvalid_0's auc: 0.789195                                                      \n",
      "[5000]\tvalid_0's auc: 0.789257                                                      \n",
      "Did not meet early stopping. Best iteration is:                                     \n",
      "[4994]\tvalid_0's auc: 0.789268\n",
      "  5%|▌         | 1/20 [05:52<1:13:34, 232.33s/trial, best loss: 0.21185451692444046]"
     ]
    },
    {
     "name": "stderr",
     "output_type": "stream",
     "text": [
      "2it [02:03, 61.35s/it]\n",
      "\u001b[A\n"
     ]
    },
    {
     "name": "stdout",
     "output_type": "stream",
     "text": [
      "Training until validation scores don't improve for 500 rounds                       \n",
      "[500]\tvalid_0's auc: 0.762854                                                       \n",
      "[1000]\tvalid_0's auc: 0.778627                                                      \n",
      "[1500]\tvalid_0's auc: 0.784143                                                      \n",
      "[2000]\tvalid_0's auc: 0.786737                                                      \n",
      "[2500]\tvalid_0's auc: 0.788198                                                      \n",
      "[3000]\tvalid_0's auc: 0.788965                                                      \n",
      "[3500]\tvalid_0's auc: 0.789383                                                      \n",
      "[4000]\tvalid_0's auc: 0.789572                                                      \n",
      "[4500]\tvalid_0's auc: 0.789663                                                      \n",
      "[5000]\tvalid_0's auc: 0.789744                                                      \n",
      "Did not meet early stopping. Best iteration is:                                     \n",
      "[4999]\tvalid_0's auc: 0.789744\n",
      "  5%|▌         | 1/20 [06:50<1:13:34, 232.33s/trial, best loss: 0.21185451692444046]"
     ]
    },
    {
     "name": "stderr",
     "output_type": "stream",
     "text": [
      "3it [03:00, 60.27s/it]\n",
      "\u001b[A\n"
     ]
    },
    {
     "name": "stdout",
     "output_type": "stream",
     "text": [
      "Training until validation scores don't improve for 500 rounds                       \n",
      "[500]\tvalid_0's auc: 0.761759                                                       \n",
      "[1000]\tvalid_0's auc: 0.776278                                                      \n",
      "[1500]\tvalid_0's auc: 0.781455                                                      \n",
      "[2000]\tvalid_0's auc: 0.784077                                                      \n",
      "[2500]\tvalid_0's auc: 0.785522                                                      \n",
      "[3000]\tvalid_0's auc: 0.786239                                                      \n",
      "[3500]\tvalid_0's auc: 0.786657                                                      \n",
      "[4000]\tvalid_0's auc: 0.786799                                                      \n",
      "[4500]\tvalid_0's auc: 0.786884                                                      \n",
      "[5000]\tvalid_0's auc: 0.786917                                                      \n",
      "Did not meet early stopping. Best iteration is:                                     \n",
      "[4885]\tvalid_0's auc: 0.786926\n",
      "  5%|▌         | 1/20 [07:49<1:13:34, 232.33s/trial, best loss: 0.21185451692444046]"
     ]
    },
    {
     "name": "stderr",
     "output_type": "stream",
     "text": [
      "4it [03:59, 59.81s/it]\n",
      "\u001b[A\n"
     ]
    },
    {
     "name": "stdout",
     "output_type": "stream",
     "text": [
      "Training until validation scores don't improve for 500 rounds                       \n",
      "[500]\tvalid_0's auc: 0.759376                                                       \n",
      "[1000]\tvalid_0's auc: 0.774872                                                      \n",
      "[1500]\tvalid_0's auc: 0.780314                                                      \n",
      "[2000]\tvalid_0's auc: 0.783249                                                      \n",
      "[2500]\tvalid_0's auc: 0.78483                                                       \n",
      "[3000]\tvalid_0's auc: 0.785665                                                      \n",
      "[3500]\tvalid_0's auc: 0.78609                                                       \n",
      "[4000]\tvalid_0's auc: 0.786363                                                      \n",
      "[4500]\tvalid_0's auc: 0.786524                                                      \n",
      "[5000]\tvalid_0's auc: 0.786595                                                      \n",
      "Did not meet early stopping. Best iteration is:                                     \n",
      "[5000]\tvalid_0's auc: 0.786595\n",
      "  5%|▌         | 1/20 [08:49<1:13:34, 232.33s/trial, best loss: 0.21185451692444046]"
     ]
    },
    {
     "name": "stderr",
     "output_type": "stream",
     "text": [
      "5it [05:00, 60.09s/it]\n",
      "\u001b[A\n",
      "5it [05:00, 60.05s/it]\n"
     ]
    },
    {
     "name": "stdout",
     "output_type": "stream",
     "text": [
      "AUC 0.78799+-0.00127.                                                               \n",
      "Params: \n",
      "clf__bagging_fraction: 0.500\n",
      "clf__colsample_bytree: 0.495\n",
      "clf__feature_fraction: 0.800\n",
      "clf__lambda_l1: 0.102\n",
      "clf__learning_rate: 0.007\n",
      "clf__max_depth: 3.000\n",
      "clf__min_child_weight: 2.421\n",
      "clf__num_leaves: 83.000\n",
      " 10%|█         | 2/20 [08:52<1:15:48, 252.72s/trial, best loss: 0.21185451692444046]"
     ]
    },
    {
     "name": "stderr",
     "output_type": "stream",
     "text": [
      "0it [00:00, ?it/s]\n",
      "\u001b[A\n"
     ]
    },
    {
     "name": "stdout",
     "output_type": "stream",
     "text": [
      "Training until validation scores don't improve for 500 rounds                       \n",
      "[500]\tvalid_0's auc: 0.785943                                                       \n",
      "Early stopping, best iteration is:                                                  \n",
      "[321]\tvalid_0's auc: 0.786301\n",
      " 10%|█         | 2/20 [09:07<1:15:48, 252.72s/trial, best loss: 0.21185451692444046]"
     ]
    },
    {
     "name": "stderr",
     "output_type": "stream",
     "text": [
      "1it [00:15, 15.42s/it]\n",
      "\u001b[A\n"
     ]
    },
    {
     "name": "stdout",
     "output_type": "stream",
     "text": [
      "Training until validation scores don't improve for 500 rounds                       \n",
      "[500]\tvalid_0's auc: 0.787591                                                       \n",
      "Early stopping, best iteration is:                                                  \n",
      "[421]\tvalid_0's auc: 0.787754\n",
      " 10%|█         | 2/20 [09:25<1:15:48, 252.72s/trial, best loss: 0.21185451692444046]"
     ]
    },
    {
     "name": "stderr",
     "output_type": "stream",
     "text": [
      "2it [00:32, 16.06s/it]\n",
      "\u001b[A\n"
     ]
    },
    {
     "name": "stdout",
     "output_type": "stream",
     "text": [
      "Training until validation scores don't improve for 500 rounds                       \n",
      "[500]\tvalid_0's auc: 0.787914                                                       \n",
      "Early stopping, best iteration is:                                                  \n",
      "[333]\tvalid_0's auc: 0.788252\n",
      " 10%|█         | 2/20 [09:39<1:15:48, 252.72s/trial, best loss: 0.21185451692444046]"
     ]
    },
    {
     "name": "stderr",
     "output_type": "stream",
     "text": [
      "3it [00:47, 15.58s/it]\n",
      "\u001b[A\n"
     ]
    },
    {
     "name": "stdout",
     "output_type": "stream",
     "text": [
      "Training until validation scores don't improve for 500 rounds                       \n",
      "[500]\tvalid_0's auc: 0.785172                                                       \n",
      "Early stopping, best iteration is:                                                  \n",
      "[362]\tvalid_0's auc: 0.785481\n",
      " 10%|█         | 2/20 [09:53<1:15:48, 252.72s/trial, best loss: 0.21185451692444046]"
     ]
    },
    {
     "name": "stderr",
     "output_type": "stream",
     "text": [
      "4it [01:01, 15.05s/it]\n",
      "\u001b[A\n"
     ]
    },
    {
     "name": "stdout",
     "output_type": "stream",
     "text": [
      "Training until validation scores don't improve for 500 rounds                       \n",
      "[500]\tvalid_0's auc: 0.785261                                                       \n",
      "Early stopping, best iteration is:                                                  \n",
      "[412]\tvalid_0's auc: 0.785419\n",
      " 10%|█         | 2/20 [10:08<1:15:48, 252.72s/trial, best loss: 0.21185451692444046]"
     ]
    },
    {
     "name": "stderr",
     "output_type": "stream",
     "text": [
      "5it [01:15, 14.94s/it]\n",
      "\u001b[A\n",
      "5it [01:15, 15.19s/it]\n"
     ]
    },
    {
     "name": "stdout",
     "output_type": "stream",
     "text": [
      "AUC 0.78664+-0.00117.                                                               \n",
      "Params: \n",
      "clf__bagging_fraction: 0.800\n",
      "clf__colsample_bytree: 0.331\n",
      "clf__feature_fraction: 0.900\n",
      "clf__lambda_l1: 0.211\n",
      "clf__learning_rate: 0.087\n",
      "clf__max_depth: 4.000\n",
      "clf__min_child_weight: 9.797\n",
      "clf__num_leaves: 93.000\n",
      " 15%|█▌        | 3/20 [10:08<56:34, 199.70s/trial, best loss: 0.21185451692444046]  "
     ]
    },
    {
     "name": "stderr",
     "output_type": "stream",
     "text": [
      "0it [00:00, ?it/s]\n",
      "\u001b[A\n"
     ]
    },
    {
     "name": "stdout",
     "output_type": "stream",
     "text": [
      "Training until validation scores don't improve for 500 rounds                     \n",
      "[500]\tvalid_0's auc: 0.782137                                                     \n",
      "[1000]\tvalid_0's auc: 0.786536                                                    \n",
      "[1500]\tvalid_0's auc: 0.787042                                                    \n",
      "[2000]\tvalid_0's auc: 0.787067                                                    \n",
      "Early stopping, best iteration is:                                                \n",
      "[1814]\tvalid_0's auc: 0.7871\n",
      " 15%|█▌        | 3/20 [10:44<56:34, 199.70s/trial, best loss: 0.21185451692444046]"
     ]
    },
    {
     "name": "stderr",
     "output_type": "stream",
     "text": [
      "1it [00:37, 37.44s/it]\n",
      "\u001b[A\n"
     ]
    },
    {
     "name": "stdout",
     "output_type": "stream",
     "text": [
      "Training until validation scores don't improve for 500 rounds                     \n",
      "[500]\tvalid_0's auc: 0.783313                                                     \n",
      "[1000]\tvalid_0's auc: 0.788225                                                    \n",
      "[1500]\tvalid_0's auc: 0.788879                                                    \n",
      "[2000]\tvalid_0's auc: 0.788924                                                    \n",
      "Early stopping, best iteration is:                                                \n",
      "[1754]\tvalid_0's auc: 0.788951\n",
      " 15%|█▌        | 3/20 [11:21<56:34, 199.70s/trial, best loss: 0.21185451692444046]"
     ]
    },
    {
     "name": "stderr",
     "output_type": "stream",
     "text": [
      "2it [01:13, 37.06s/it]\n",
      "\u001b[A\n"
     ]
    },
    {
     "name": "stdout",
     "output_type": "stream",
     "text": [
      "Training until validation scores don't improve for 500 rounds                     \n",
      "[500]\tvalid_0's auc: 0.784308                                                     \n",
      "[1000]\tvalid_0's auc: 0.788669                                                    \n",
      "[1500]\tvalid_0's auc: 0.789156                                                    \n",
      "[2000]\tvalid_0's auc: 0.789243                                                    \n",
      "Early stopping, best iteration is:                                                \n",
      "[1985]\tvalid_0's auc: 0.789246\n",
      " 15%|█▌        | 3/20 [11:59<56:34, 199.70s/trial, best loss: 0.21185451692444046]"
     ]
    },
    {
     "name": "stderr",
     "output_type": "stream",
     "text": [
      "3it [01:52, 37.50s/it]\n",
      "\u001b[A\n"
     ]
    },
    {
     "name": "stdout",
     "output_type": "stream",
     "text": [
      "Training until validation scores don't improve for 500 rounds                     \n",
      "[500]\tvalid_0's auc: 0.781854                                                     \n",
      "[1000]\tvalid_0's auc: 0.786093                                                    \n",
      "[1500]\tvalid_0's auc: 0.786572                                                    \n",
      "[2000]\tvalid_0's auc: 0.786593                                                    \n",
      "[2500]\tvalid_0's auc: 0.786555                                                    \n",
      "Early stopping, best iteration is:                                                \n",
      "[2104]\tvalid_0's auc: 0.786615\n",
      " 15%|█▌        | 3/20 [12:39<56:34, 199.70s/trial, best loss: 0.21185451692444046]"
     ]
    },
    {
     "name": "stderr",
     "output_type": "stream",
     "text": [
      "4it [02:32, 38.38s/it]\n",
      "\u001b[A\n"
     ]
    },
    {
     "name": "stdout",
     "output_type": "stream",
     "text": [
      "Training until validation scores don't improve for 500 rounds                     \n",
      "[500]\tvalid_0's auc: 0.78061                                                      \n",
      "[1000]\tvalid_0's auc: 0.785381                                                    \n",
      "[1500]\tvalid_0's auc: 0.786008                                                    \n",
      "[2000]\tvalid_0's auc: 0.786116                                                    \n",
      "Early stopping, best iteration is:                                                \n",
      "[1935]\tvalid_0's auc: 0.78613\n",
      " 15%|█▌        | 3/20 [13:18<56:34, 199.70s/trial, best loss: 0.21185451692444046]"
     ]
    },
    {
     "name": "stderr",
     "output_type": "stream",
     "text": [
      "5it [03:11, 38.43s/it]\n",
      "\u001b[A\n",
      "5it [03:11, 38.22s/it]\n"
     ]
    },
    {
     "name": "stdout",
     "output_type": "stream",
     "text": [
      "AUC 0.78761+-0.00126.                                                             \n",
      "Params: \n",
      "clf__bagging_fraction: 0.900\n",
      "clf__colsample_bytree: 0.505\n",
      "clf__feature_fraction: 1.000\n",
      "clf__lambda_l1: 0.081\n",
      "clf__learning_rate: 0.022\n",
      "clf__max_depth: 6.000\n",
      "clf__min_child_weight: 5.073\n",
      "clf__num_leaves: 8.000\n",
      " 20%|██        | 4/20 [13:19<52:34, 197.14s/trial, best loss: 0.21185451692444046]"
     ]
    },
    {
     "name": "stderr",
     "output_type": "stream",
     "text": [
      "0it [00:00, ?it/s]\n",
      "\u001b[A\n"
     ]
    },
    {
     "name": "stdout",
     "output_type": "stream",
     "text": [
      "Training until validation scores don't improve for 500 rounds                     \n",
      "[500]\tvalid_0's auc: 0.779653                                                     \n",
      "[1000]\tvalid_0's auc: 0.785894                                                    \n",
      "[1500]\tvalid_0's auc: 0.787418                                                    \n",
      "[2000]\tvalid_0's auc: 0.78787                                                     \n",
      "[2500]\tvalid_0's auc: 0.788011                                                    \n",
      "[3000]\tvalid_0's auc: 0.788057                                                    \n",
      "[3500]\tvalid_0's auc: 0.78808                                                     \n",
      "Early stopping, best iteration is:                                                \n",
      "[3290]\tvalid_0's auc: 0.788096\n",
      " 20%|██        | 4/20 [13:50<52:34, 197.14s/trial, best loss: 0.21185451692444046]"
     ]
    },
    {
     "name": "stderr",
     "output_type": "stream",
     "text": [
      "1it [00:31, 31.98s/it]\n",
      "\u001b[A\n"
     ]
    },
    {
     "name": "stdout",
     "output_type": "stream",
     "text": [
      "Training until validation scores don't improve for 500 rounds                     \n",
      "[500]\tvalid_0's auc: 0.78119                                                      \n",
      "[1000]\tvalid_0's auc: 0.787832                                                    \n",
      "[1500]\tvalid_0's auc: 0.789459                                                    \n",
      "[2000]\tvalid_0's auc: 0.789974                                                    \n",
      "[2500]\tvalid_0's auc: 0.790107                                                    \n",
      "[3000]\tvalid_0's auc: 0.790118                                                    \n",
      "Early stopping, best iteration is:                                                \n",
      "[2771]\tvalid_0's auc: 0.79015\n",
      " 20%|██        | 4/20 [14:18<52:34, 197.14s/trial, best loss: 0.21185451692444046]"
     ]
    },
    {
     "name": "stderr",
     "output_type": "stream",
     "text": [
      "2it [00:59, 30.69s/it]\n",
      "\u001b[A\n"
     ]
    },
    {
     "name": "stdout",
     "output_type": "stream",
     "text": [
      "Training until validation scores don't improve for 500 rounds                     \n",
      "[500]\tvalid_0's auc: 0.782189                                                     \n",
      "[1000]\tvalid_0's auc: 0.788565                                                    \n",
      "[1500]\tvalid_0's auc: 0.789927                                                    \n",
      "[2000]\tvalid_0's auc: 0.790306                                                    \n",
      "[2500]\tvalid_0's auc: 0.790378                                                    \n",
      "[3000]\tvalid_0's auc: 0.790489                                                    \n",
      "[3500]\tvalid_0's auc: 0.79057                                                     \n",
      "[4000]\tvalid_0's auc: 0.790585                                                    \n",
      "[4500]\tvalid_0's auc: 0.7906                                                      \n",
      "Early stopping, best iteration is:                                                \n",
      "[4187]\tvalid_0's auc: 0.79063\n",
      " 20%|██        | 4/20 [14:57<52:34, 197.14s/trial, best loss: 0.21185451692444046]"
     ]
    },
    {
     "name": "stderr",
     "output_type": "stream",
     "text": [
      "3it [01:38, 33.21s/it]\n",
      "\u001b[A\n"
     ]
    },
    {
     "name": "stdout",
     "output_type": "stream",
     "text": [
      "Training until validation scores don't improve for 500 rounds                     \n",
      "[500]\tvalid_0's auc: 0.779639                                                     \n",
      "[1000]\tvalid_0's auc: 0.785909                                                    \n",
      "[1500]\tvalid_0's auc: 0.78735                                                     \n",
      "[2000]\tvalid_0's auc: 0.787684                                                    \n",
      "[2500]\tvalid_0's auc: 0.787772                                                    \n",
      "[3000]\tvalid_0's auc: 0.787764                                                    \n",
      "[3500]\tvalid_0's auc: 0.787816                                                    \n",
      "Early stopping, best iteration is:                                                \n",
      "[3280]\tvalid_0's auc: 0.787842\n",
      " 20%|██        | 4/20 [15:29<52:34, 197.14s/trial, best loss: 0.21185451692444046]"
     ]
    },
    {
     "name": "stderr",
     "output_type": "stream",
     "text": [
      "4it [02:10, 32.86s/it]\n",
      "\u001b[A\n"
     ]
    },
    {
     "name": "stdout",
     "output_type": "stream",
     "text": [
      "Training until validation scores don't improve for 500 rounds                     \n",
      "[500]\tvalid_0's auc: 0.778352                                                     \n",
      "[1000]\tvalid_0's auc: 0.784691                                                    \n",
      "[1500]\tvalid_0's auc: 0.786288                                                    \n",
      "[2000]\tvalid_0's auc: 0.786668                                                    \n",
      "[2500]\tvalid_0's auc: 0.786857                                                    \n",
      "[3000]\tvalid_0's auc: 0.786945                                                    \n",
      "[3500]\tvalid_0's auc: 0.786978                                                    \n",
      "Early stopping, best iteration is:                                                \n",
      "[3205]\tvalid_0's auc: 0.787018\n",
      " 20%|██        | 4/20 [16:00<52:34, 197.14s/trial, best loss: 0.21185451692444046]"
     ]
    },
    {
     "name": "stderr",
     "output_type": "stream",
     "text": [
      "5it [02:42, 32.37s/it]\n",
      "\u001b[A\n",
      "5it [02:42, 32.41s/it]\n"
     ]
    },
    {
     "name": "stdout",
     "output_type": "stream",
     "text": [
      "AUC 0.78875+-0.00140.                                                             \n",
      "Params: \n",
      "clf__bagging_fraction: 0.600\n",
      "clf__colsample_bytree: 0.307\n",
      "clf__feature_fraction: 0.800\n",
      "clf__lambda_l1: 0.006\n",
      "clf__learning_rate: 0.063\n",
      "clf__max_depth: 1.000\n",
      "clf__min_child_weight: 1.473\n",
      "clf__num_leaves: 110.000\n",
      " 25%|██▌       | 5/20 [16:01<46:39, 186.62s/trial, best loss: 0.21125288283071575]"
     ]
    },
    {
     "name": "stderr",
     "output_type": "stream",
     "text": [
      "0it [00:00, ?it/s]\n",
      "\u001b[A\n"
     ]
    },
    {
     "name": "stdout",
     "output_type": "stream",
     "text": [
      "Training until validation scores don't improve for 500 rounds                     \n",
      "[500]\tvalid_0's auc: 0.779631                                                     \n",
      "[1000]\tvalid_0's auc: 0.785405                                                    \n",
      "[1500]\tvalid_0's auc: 0.786614                                                    \n",
      "[2000]\tvalid_0's auc: 0.786864                                                    \n",
      "[2500]\tvalid_0's auc: 0.786897                                                    \n",
      "Early stopping, best iteration is:                                                \n",
      "[2232]\tvalid_0's auc: 0.786901\n",
      " 25%|██▌       | 5/20 [16:34<46:39, 186.62s/trial, best loss: 0.21125288283071575]"
     ]
    },
    {
     "name": "stderr",
     "output_type": "stream",
     "text": [
      "1it [00:33, 33.58s/it]\n",
      "\u001b[A\n"
     ]
    },
    {
     "name": "stdout",
     "output_type": "stream",
     "text": [
      "Training until validation scores don't improve for 500 rounds                     \n",
      "[500]\tvalid_0's auc: 0.781198                                                     \n",
      "[1000]\tvalid_0's auc: 0.787166                                                    \n",
      "[1500]\tvalid_0's auc: 0.788534                                                    \n",
      "[2000]\tvalid_0's auc: 0.788865                                                    \n",
      "[2500]\tvalid_0's auc: 0.788921                                                    \n",
      "[3000]\tvalid_0's auc: 0.788913                                                    \n",
      "Early stopping, best iteration is:                                                \n",
      "[2502]\tvalid_0's auc: 0.788923\n",
      " 25%|██▌       | 5/20 [17:10<46:39, 186.62s/trial, best loss: 0.21125288283071575]"
     ]
    },
    {
     "name": "stderr",
     "output_type": "stream",
     "text": [
      "2it [01:10, 34.50s/it]\n",
      "\u001b[A\n"
     ]
    },
    {
     "name": "stdout",
     "output_type": "stream",
     "text": [
      "Training until validation scores don't improve for 500 rounds                     \n",
      "[500]\tvalid_0's auc: 0.782302                                                     \n",
      "[1000]\tvalid_0's auc: 0.787978                                                    \n",
      "[1500]\tvalid_0's auc: 0.78911                                                     \n",
      "[2000]\tvalid_0's auc: 0.78931                                                     \n",
      "[2500]\tvalid_0's auc: 0.789356                                                    \n",
      "[3000]\tvalid_0's auc: 0.78934                                                     \n",
      "Early stopping, best iteration is:                                                \n",
      "[2669]\tvalid_0's auc: 0.789369\n",
      " 25%|██▌       | 5/20 [17:49<46:39, 186.62s/trial, best loss: 0.21125288283071575]"
     ]
    },
    {
     "name": "stderr",
     "output_type": "stream",
     "text": [
      "3it [01:49, 35.82s/it]\n",
      "\u001b[A\n"
     ]
    },
    {
     "name": "stdout",
     "output_type": "stream",
     "text": [
      "Training until validation scores don't improve for 500 rounds                     \n",
      "[500]\tvalid_0's auc: 0.779848                                                     \n",
      "[1000]\tvalid_0's auc: 0.785341                                                    \n",
      "[1500]\tvalid_0's auc: 0.786365                                                    \n",
      "[2000]\tvalid_0's auc: 0.786575                                                    \n",
      "[2500]\tvalid_0's auc: 0.786583                                                    \n",
      "Early stopping, best iteration is:                                                \n",
      "[2240]\tvalid_0's auc: 0.78661\n",
      " 25%|██▌       | 5/20 [18:23<46:39, 186.62s/trial, best loss: 0.21125288283071575]"
     ]
    },
    {
     "name": "stderr",
     "output_type": "stream",
     "text": [
      "4it [02:22, 35.12s/it]\n",
      "\u001b[A\n"
     ]
    },
    {
     "name": "stdout",
     "output_type": "stream",
     "text": [
      "Training until validation scores don't improve for 500 rounds                     \n",
      "[500]\tvalid_0's auc: 0.778339                                                     \n",
      "[1000]\tvalid_0's auc: 0.784538                                                    \n",
      "[1500]\tvalid_0's auc: 0.785869                                                    \n",
      "[2000]\tvalid_0's auc: 0.786205                                                    \n",
      "[2500]\tvalid_0's auc: 0.786314                                                    \n",
      "[3000]\tvalid_0's auc: 0.786371                                                    \n",
      "[3500]\tvalid_0's auc: 0.786357                                                    \n",
      "Early stopping, best iteration is:                                                \n",
      "[3295]\tvalid_0's auc: 0.786377\n",
      " 25%|██▌       | 5/20 [19:08<46:39, 186.62s/trial, best loss: 0.21125288283071575]"
     ]
    },
    {
     "name": "stderr",
     "output_type": "stream",
     "text": [
      "5it [03:08, 38.30s/it]\n",
      "\u001b[A\n",
      "5it [03:08, 37.67s/it]\n"
     ]
    },
    {
     "name": "stdout",
     "output_type": "stream",
     "text": [
      "AUC 0.78764+-0.00125.                                                             \n",
      "Params: \n",
      "clf__bagging_fraction: 1.000\n",
      "clf__colsample_bytree: 0.853\n",
      "clf__feature_fraction: 0.600\n",
      "clf__lambda_l1: 0.145\n",
      "clf__learning_rate: 0.021\n",
      "clf__max_depth: 3.000\n",
      "clf__min_child_weight: 7.378\n",
      "clf__num_leaves: 115.000\n",
      " 30%|███       | 6/20 [19:10<43:40, 187.15s/trial, best loss: 0.21125288283071575]"
     ]
    },
    {
     "name": "stderr",
     "output_type": "stream",
     "text": [
      "0it [00:00, ?it/s]\n",
      "\u001b[A\n"
     ]
    },
    {
     "name": "stdout",
     "output_type": "stream",
     "text": [
      "Training until validation scores don't improve for 500 rounds                     \n",
      "[500]\tvalid_0's auc: 0.783287                                                     \n",
      "Early stopping, best iteration is:                                                \n",
      "[202]\tvalid_0's auc: 0.784913\n",
      " 30%|███       | 6/20 [19:23<43:40, 187.15s/trial, best loss: 0.21125288283071575]"
     ]
    },
    {
     "name": "stderr",
     "output_type": "stream",
     "text": [
      "1it [00:13, 13.22s/it]\n",
      "\u001b[A\n"
     ]
    },
    {
     "name": "stdout",
     "output_type": "stream",
     "text": [
      "Training until validation scores don't improve for 500 rounds                     \n",
      "[500]\tvalid_0's auc: 0.785044                                                     \n",
      "Early stopping, best iteration is:                                                \n",
      "[179]\tvalid_0's auc: 0.786726\n",
      " 30%|███       | 6/20 [19:35<43:40, 187.15s/trial, best loss: 0.21125288283071575]"
     ]
    },
    {
     "name": "stderr",
     "output_type": "stream",
     "text": [
      "2it [00:25, 13.08s/it]\n",
      "\u001b[A\n"
     ]
    },
    {
     "name": "stdout",
     "output_type": "stream",
     "text": [
      "Training until validation scores don't improve for 500 rounds                     \n",
      "[500]\tvalid_0's auc: 0.785069                                                     \n",
      "Early stopping, best iteration is:                                                \n",
      "[199]\tvalid_0's auc: 0.787137\n",
      " 30%|███       | 6/20 [19:48<43:40, 187.15s/trial, best loss: 0.21125288283071575]"
     ]
    },
    {
     "name": "stderr",
     "output_type": "stream",
     "text": [
      "3it [00:38, 13.06s/it]\n",
      "\u001b[A\n"
     ]
    },
    {
     "name": "stdout",
     "output_type": "stream",
     "text": [
      "Training until validation scores don't improve for 500 rounds                     \n",
      "[500]\tvalid_0's auc: 0.782175                                                     \n",
      "Early stopping, best iteration is:                                                \n",
      "[239]\tvalid_0's auc: 0.783976\n",
      " 30%|███       | 6/20 [20:02<43:40, 187.15s/trial, best loss: 0.21125288283071575]"
     ]
    },
    {
     "name": "stderr",
     "output_type": "stream",
     "text": [
      "4it [00:52, 13.29s/it]\n",
      "\u001b[A\n"
     ]
    },
    {
     "name": "stdout",
     "output_type": "stream",
     "text": [
      "Training until validation scores don't improve for 500 rounds                     \n",
      "[500]\tvalid_0's auc: 0.783302                                                     \n",
      "Early stopping, best iteration is:                                                \n",
      "[187]\tvalid_0's auc: 0.784502\n",
      " 30%|███       | 6/20 [20:15<43:40, 187.15s/trial, best loss: 0.21125288283071575]"
     ]
    },
    {
     "name": "stderr",
     "output_type": "stream",
     "text": [
      "5it [01:05, 13.19s/it]\n",
      "\u001b[A\n",
      "5it [01:05, 13.16s/it]\n"
     ]
    },
    {
     "name": "stdout",
     "output_type": "stream",
     "text": [
      "AUC 0.78545+-0.00125.                                                             \n",
      "Params: \n",
      "clf__bagging_fraction: 0.800\n",
      "clf__colsample_bytree: 0.512\n",
      "clf__feature_fraction: 0.900\n",
      "clf__lambda_l1: 0.092\n",
      "clf__learning_rate: 0.111\n",
      "clf__max_depth: 5.000\n",
      "clf__min_child_weight: 8.787\n",
      "clf__num_leaves: 79.000\n",
      " 35%|███▌      | 7/20 [20:16<32:39, 150.75s/trial, best loss: 0.21125288283071575]"
     ]
    },
    {
     "name": "stderr",
     "output_type": "stream",
     "text": [
      "0it [00:00, ?it/s]\n",
      "\u001b[A\n"
     ]
    },
    {
     "name": "stdout",
     "output_type": "stream",
     "text": [
      "Training until validation scores don't improve for 500 rounds                     \n",
      "[500]\tvalid_0's auc: 0.784963                                                     \n",
      "[1000]\tvalid_0's auc: 0.787064                                                    \n",
      "[1500]\tvalid_0's auc: 0.787172                                                    \n",
      "Early stopping, best iteration is:                                                \n",
      "[1450]\tvalid_0's auc: 0.787196\n",
      " 35%|███▌      | 7/20 [20:41<32:39, 150.75s/trial, best loss: 0.21125288283071575]"
     ]
    },
    {
     "name": "stderr",
     "output_type": "stream",
     "text": [
      "1it [00:25, 25.90s/it]\n",
      "\u001b[A\n"
     ]
    },
    {
     "name": "stdout",
     "output_type": "stream",
     "text": [
      "Training until validation scores don't improve for 500 rounds                     \n",
      "[500]\tvalid_0's auc: 0.786693                                                     \n",
      "[1000]\tvalid_0's auc: 0.788868                                                    \n",
      "[1500]\tvalid_0's auc: 0.788996                                                    \n",
      "Early stopping, best iteration is:                                                \n",
      "[1454]\tvalid_0's auc: 0.789028\n",
      " 35%|███▌      | 7/20 [21:06<32:39, 150.75s/trial, best loss: 0.21125288283071575]"
     ]
    },
    {
     "name": "stderr",
     "output_type": "stream",
     "text": [
      "2it [00:51, 25.88s/it]\n",
      "\u001b[A\n"
     ]
    },
    {
     "name": "stdout",
     "output_type": "stream",
     "text": [
      "Training until validation scores don't improve for 500 rounds                     \n",
      "[500]\tvalid_0's auc: 0.787454                                                     \n",
      "[1000]\tvalid_0's auc: 0.78937                                                     \n",
      "[1500]\tvalid_0's auc: 0.789348                                                    \n",
      "Early stopping, best iteration is:                                                \n",
      "[1093]\tvalid_0's auc: 0.789423\n",
      " 35%|███▌      | 7/20 [21:28<32:39, 150.75s/trial, best loss: 0.21125288283071575]"
     ]
    },
    {
     "name": "stderr",
     "output_type": "stream",
     "text": [
      "3it [01:13, 24.55s/it]\n",
      "\u001b[A\n"
     ]
    },
    {
     "name": "stdout",
     "output_type": "stream",
     "text": [
      "Training until validation scores don't improve for 500 rounds                     \n",
      "[500]\tvalid_0's auc: 0.784958                                                     \n",
      "[1000]\tvalid_0's auc: 0.786629                                                    \n",
      "[1500]\tvalid_0's auc: 0.786703                                                    \n",
      "Early stopping, best iteration is:                                                \n",
      "[1425]\tvalid_0's auc: 0.78673\n",
      " 35%|███▌      | 7/20 [21:53<32:39, 150.75s/trial, best loss: 0.21125288283071575]"
     ]
    },
    {
     "name": "stderr",
     "output_type": "stream",
     "text": [
      "4it [01:38, 24.89s/it]\n",
      "\u001b[A\n"
     ]
    },
    {
     "name": "stdout",
     "output_type": "stream",
     "text": [
      "Training until validation scores don't improve for 500 rounds                     \n",
      "[500]\tvalid_0's auc: 0.784008                                                     \n",
      "[1000]\tvalid_0's auc: 0.786305                                                    \n",
      "[1500]\tvalid_0's auc: 0.786481                                                    \n",
      "[2000]\tvalid_0's auc: 0.786474                                                    \n",
      "Early stopping, best iteration is:                                                \n",
      "[1575]\tvalid_0's auc: 0.786505\n",
      " 35%|███▌      | 7/20 [22:21<32:39, 150.75s/trial, best loss: 0.21125288283071575]"
     ]
    },
    {
     "name": "stderr",
     "output_type": "stream",
     "text": [
      "5it [02:06, 25.62s/it]\n",
      "\u001b[A\n",
      "5it [02:06, 25.24s/it]\n"
     ]
    },
    {
     "name": "stdout",
     "output_type": "stream",
     "text": [
      "AUC 0.78778+-0.00121.                                                             \n",
      "Params: \n",
      "clf__bagging_fraction: 0.800\n",
      "clf__colsample_bytree: 0.647\n",
      "clf__feature_fraction: 0.800\n",
      "clf__lambda_l1: 0.009\n",
      "clf__learning_rate: 0.036\n",
      "clf__max_depth: 3.000\n",
      "clf__min_child_weight: 6.363\n",
      "clf__num_leaves: 79.000\n",
      " 40%|████      | 8/20 [22:22<28:40, 143.39s/trial, best loss: 0.21125288283071575]"
     ]
    },
    {
     "name": "stderr",
     "output_type": "stream",
     "text": [
      "0it [00:00, ?it/s]\n",
      "\u001b[A\n"
     ]
    },
    {
     "name": "stdout",
     "output_type": "stream",
     "text": [
      "Training until validation scores don't improve for 500 rounds                     \n",
      "[500]\tvalid_0's auc: 0.784383                                                     \n",
      "Early stopping, best iteration is:                                                \n",
      "[317]\tvalid_0's auc: 0.784936\n",
      " 40%|████      | 8/20 [22:37<28:40, 143.39s/trial, best loss: 0.21125288283071575]"
     ]
    },
    {
     "name": "stderr",
     "output_type": "stream",
     "text": [
      "1it [00:15, 15.87s/it]\n",
      "\u001b[A\n"
     ]
    },
    {
     "name": "stdout",
     "output_type": "stream",
     "text": [
      "Training until validation scores don't improve for 500 rounds                     \n",
      "[500]\tvalid_0's auc: 0.786542                                                     \n",
      "Early stopping, best iteration is:                                                \n",
      "[277]\tvalid_0's auc: 0.787223\n",
      " 40%|████      | 8/20 [22:52<28:40, 143.39s/trial, best loss: 0.21125288283071575]"
     ]
    },
    {
     "name": "stderr",
     "output_type": "stream",
     "text": [
      "2it [00:31, 15.67s/it]\n",
      "\u001b[A\n"
     ]
    },
    {
     "name": "stdout",
     "output_type": "stream",
     "text": [
      "Training until validation scores don't improve for 500 rounds                     \n",
      "[500]\tvalid_0's auc: 0.786601                                                     \n",
      "Early stopping, best iteration is:                                                \n",
      "[246]\tvalid_0's auc: 0.787459\n",
      " 40%|████      | 8/20 [23:07<28:40, 143.39s/trial, best loss: 0.21125288283071575]"
     ]
    },
    {
     "name": "stderr",
     "output_type": "stream",
     "text": [
      "3it [00:45, 15.30s/it]\n",
      "\u001b[A\n"
     ]
    },
    {
     "name": "stdout",
     "output_type": "stream",
     "text": [
      "Training until validation scores don't improve for 500 rounds                     \n",
      "[500]\tvalid_0's auc: 0.783681                                                     \n",
      "Early stopping, best iteration is:                                                \n",
      "[210]\tvalid_0's auc: 0.78459\n",
      " 40%|████      | 8/20 [23:21<28:40, 143.39s/trial, best loss: 0.21125288283071575]"
     ]
    },
    {
     "name": "stderr",
     "output_type": "stream",
     "text": [
      "4it [00:59, 14.89s/it]\n",
      "\u001b[A\n"
     ]
    },
    {
     "name": "stdout",
     "output_type": "stream",
     "text": [
      "Training until validation scores don't improve for 500 rounds                     \n",
      "[500]\tvalid_0's auc: 0.784479                                                     \n",
      "Early stopping, best iteration is:                                                \n",
      "[280]\tvalid_0's auc: 0.784777\n",
      " 40%|████      | 8/20 [23:36<28:40, 143.39s/trial, best loss: 0.21125288283071575]"
     ]
    },
    {
     "name": "stderr",
     "output_type": "stream",
     "text": [
      "5it [01:14, 14.92s/it]\n",
      "\u001b[A\n",
      "5it [01:14, 14.89s/it]\n"
     ]
    },
    {
     "name": "stdout",
     "output_type": "stream",
     "text": [
      "AUC 0.78580+-0.00127.                                                             \n",
      "Params: \n",
      "clf__bagging_fraction: 0.800\n",
      "clf__colsample_bytree: 0.408\n",
      "clf__feature_fraction: 1.000\n",
      "clf__lambda_l1: 0.158\n",
      "clf__learning_rate: 0.079\n",
      "clf__max_depth: 5.000\n",
      "clf__min_child_weight: 1.319\n",
      "clf__num_leaves: 66.000\n",
      " 45%|████▌     | 9/20 [23:36<22:29, 122.72s/trial, best loss: 0.21125288283071575]"
     ]
    },
    {
     "name": "stderr",
     "output_type": "stream",
     "text": [
      "0it [00:00, ?it/s]\n",
      "\u001b[A\n"
     ]
    },
    {
     "name": "stdout",
     "output_type": "stream",
     "text": [
      "Training until validation scores don't improve for 500 rounds                     \n",
      "[500]\tvalid_0's auc: 0.755684                                                     \n",
      "[1000]\tvalid_0's auc: 0.772939                                                    \n",
      "[1500]\tvalid_0's auc: 0.77927                                                     \n",
      "[2000]\tvalid_0's auc: 0.782372                                                    \n",
      "[2500]\tvalid_0's auc: 0.784261                                                    \n",
      "[3000]\tvalid_0's auc: 0.78538                                                     \n",
      "[3500]\tvalid_0's auc: 0.786085                                                    \n",
      "[4000]\tvalid_0's auc: 0.786533                                                    \n",
      "[4500]\tvalid_0's auc: 0.786809                                                    \n",
      "[5000]\tvalid_0's auc: 0.786954                                                    \n",
      "Did not meet early stopping. Best iteration is:                                   \n",
      "[5000]\tvalid_0's auc: 0.786954\n",
      " 45%|████▌     | 9/20 [24:47<22:29, 122.72s/trial, best loss: 0.21125288283071575]"
     ]
    },
    {
     "name": "stderr",
     "output_type": "stream",
     "text": [
      "1it [01:13, 73.84s/it]\n",
      "\u001b[A\n"
     ]
    },
    {
     "name": "stdout",
     "output_type": "stream",
     "text": [
      "Training until validation scores don't improve for 500 rounds                     \n",
      "[500]\tvalid_0's auc: 0.757332                                                     \n",
      "[1000]\tvalid_0's auc: 0.774666                                                    \n",
      "[1500]\tvalid_0's auc: 0.780709                                                    \n",
      "[2000]\tvalid_0's auc: 0.783862                                                    \n",
      "[2500]\tvalid_0's auc: 0.785815                                                    \n",
      "[3000]\tvalid_0's auc: 0.787054                                                    \n",
      "[3500]\tvalid_0's auc: 0.787823                                                    \n",
      "[4000]\tvalid_0's auc: 0.788289                                                    \n",
      "[4500]\tvalid_0's auc: 0.788569                                                    \n",
      "[5000]\tvalid_0's auc: 0.78877                                                     \n",
      "Did not meet early stopping. Best iteration is:                                   \n",
      "[4992]\tvalid_0's auc: 0.78877\n",
      " 45%|████▌     | 9/20 [26:03<22:29, 122.72s/trial, best loss: 0.21125288283071575]"
     ]
    },
    {
     "name": "stderr",
     "output_type": "stream",
     "text": [
      "2it [02:29, 74.41s/it]\n",
      "\u001b[A\n"
     ]
    },
    {
     "name": "stdout",
     "output_type": "stream",
     "text": [
      "Training until validation scores don't improve for 500 rounds                     \n",
      "[500]\tvalid_0's auc: 0.757961                                                     \n",
      "[1000]\tvalid_0's auc: 0.775329                                                    \n",
      "[1500]\tvalid_0's auc: 0.781826                                                    \n",
      "[2000]\tvalid_0's auc: 0.784946                                                    \n",
      "[2500]\tvalid_0's auc: 0.786779                                                    \n",
      "[3000]\tvalid_0's auc: 0.787859                                                    \n",
      "[3500]\tvalid_0's auc: 0.788531                                                    \n",
      "[4000]\tvalid_0's auc: 0.788956                                                    \n",
      "[4500]\tvalid_0's auc: 0.789172                                                    \n",
      "[5000]\tvalid_0's auc: 0.789316                                                    \n",
      "Did not meet early stopping. Best iteration is:                                   \n",
      "[5000]\tvalid_0's auc: 0.789316\n",
      " 45%|████▌     | 9/20 [27:19<22:29, 122.72s/trial, best loss: 0.21125288283071575]"
     ]
    },
    {
     "name": "stderr",
     "output_type": "stream",
     "text": [
      "3it [03:46, 75.01s/it]\n",
      "\u001b[A\n"
     ]
    },
    {
     "name": "stdout",
     "output_type": "stream",
     "text": [
      "Training until validation scores don't improve for 500 rounds                     \n",
      "[500]\tvalid_0's auc: 0.756846                                                     \n",
      "[1000]\tvalid_0's auc: 0.773348                                                    \n",
      "[1500]\tvalid_0's auc: 0.779344                                                    \n",
      "[2000]\tvalid_0's auc: 0.782385                                                    \n",
      "[2500]\tvalid_0's auc: 0.784203                                                    \n",
      "[3000]\tvalid_0's auc: 0.785259                                                    \n",
      "[3500]\tvalid_0's auc: 0.785893                                                    \n",
      "[4000]\tvalid_0's auc: 0.786244                                                    \n",
      "[4500]\tvalid_0's auc: 0.786437                                                    \n",
      "[5000]\tvalid_0's auc: 0.78658                                                     \n",
      "Did not meet early stopping. Best iteration is:                                   \n",
      "[4996]\tvalid_0's auc: 0.786581\n",
      " 45%|████▌     | 9/20 [28:34<22:29, 122.72s/trial, best loss: 0.21125288283071575]"
     ]
    },
    {
     "name": "stderr",
     "output_type": "stream",
     "text": [
      "4it [05:00, 74.98s/it]\n",
      "\u001b[A\n"
     ]
    },
    {
     "name": "stdout",
     "output_type": "stream",
     "text": [
      "Training until validation scores don't improve for 500 rounds                     \n",
      "[500]\tvalid_0's auc: 0.754056                                                     \n",
      "[1000]\tvalid_0's auc: 0.771447                                                    \n",
      "[1500]\tvalid_0's auc: 0.777828                                                    \n",
      "[2000]\tvalid_0's auc: 0.781276                                                    \n",
      "[2500]\tvalid_0's auc: 0.783347                                                    \n",
      "[3000]\tvalid_0's auc: 0.784571                                                    \n",
      "[3500]\tvalid_0's auc: 0.785255                                                    \n",
      "[4000]\tvalid_0's auc: 0.785708                                                    \n",
      "[4500]\tvalid_0's auc: 0.785971                                                    \n",
      "[5000]\tvalid_0's auc: 0.786146                                                    \n",
      "Did not meet early stopping. Best iteration is:                                   \n",
      "[4999]\tvalid_0's auc: 0.786146\n",
      " 45%|████▌     | 9/20 [29:49<22:29, 122.72s/trial, best loss: 0.21125288283071575]"
     ]
    },
    {
     "name": "stderr",
     "output_type": "stream",
     "text": [
      "5it [06:15, 74.92s/it]\n",
      "\u001b[A\n",
      "5it [06:15, 75.14s/it]\n"
     ]
    },
    {
     "name": "stdout",
     "output_type": "stream",
     "text": [
      "AUC 0.78755+-0.00125.                                                             \n",
      "Params: \n",
      "clf__bagging_fraction: 0.900\n",
      "clf__colsample_bytree: 0.979\n",
      "clf__feature_fraction: 0.900\n",
      "clf__lambda_l1: 0.197\n",
      "clf__learning_rate: 0.006\n",
      "clf__max_depth: 3.000\n",
      "clf__min_child_weight: 5.820\n",
      "clf__num_leaves: 81.000\n",
      " 50%|█████     | 10/20 [29:52<33:06, 198.62s/trial, best loss: 0.21125288283071575]"
     ]
    },
    {
     "name": "stderr",
     "output_type": "stream",
     "text": [
      "0it [00:00, ?it/s]\n",
      "\u001b[A\n"
     ]
    },
    {
     "name": "stdout",
     "output_type": "stream",
     "text": [
      "Training until validation scores don't improve for 500 rounds                      \n",
      "[500]\tvalid_0's auc: 0.777405                                                      \n",
      "[1000]\tvalid_0's auc: 0.785029                                                     \n",
      "[1500]\tvalid_0's auc: 0.786807                                                     \n",
      "[2000]\tvalid_0's auc: 0.787246                                                     \n",
      "[2500]\tvalid_0's auc: 0.787365                                                     \n",
      "[3000]\tvalid_0's auc: 0.787364                                                     \n",
      "[3500]\tvalid_0's auc: 0.787356                                                     \n",
      "Early stopping, best iteration is:                                                 \n",
      "[3150]\tvalid_0's auc: 0.787373\n",
      " 50%|█████     | 10/20 [30:40<33:06, 198.62s/trial, best loss: 0.21125288283071575]"
     ]
    },
    {
     "name": "stderr",
     "output_type": "stream",
     "text": [
      "1it [00:50, 50.47s/it]\n",
      "\u001b[A\n"
     ]
    },
    {
     "name": "stdout",
     "output_type": "stream",
     "text": [
      "Training until validation scores don't improve for 500 rounds                      \n",
      "[500]\tvalid_0's auc: 0.77865                                                       \n",
      "[1000]\tvalid_0's auc: 0.786463                                                     \n",
      "[1500]\tvalid_0's auc: 0.788417                                                     \n",
      "[2000]\tvalid_0's auc: 0.788933                                                     \n",
      "[2500]\tvalid_0's auc: 0.789049                                                     \n",
      "[3000]\tvalid_0's auc: 0.789077                                                     \n",
      "[3500]\tvalid_0's auc: 0.789095                                                     \n",
      "Early stopping, best iteration is:                                                 \n",
      "[3344]\tvalid_0's auc: 0.789107\n",
      " 50%|█████     | 10/20 [31:32<33:06, 198.62s/trial, best loss: 0.21125288283071575]"
     ]
    },
    {
     "name": "stderr",
     "output_type": "stream",
     "text": [
      "2it [01:42, 51.01s/it]\n",
      "\u001b[A\n"
     ]
    },
    {
     "name": "stdout",
     "output_type": "stream",
     "text": [
      "Training until validation scores don't improve for 500 rounds                      \n",
      "[500]\tvalid_0's auc: 0.779599                                                      \n",
      "[1000]\tvalid_0's auc: 0.787267                                                     \n",
      "[1500]\tvalid_0's auc: 0.789004                                                     \n",
      "[2000]\tvalid_0's auc: 0.789358                                                     \n",
      "[2500]\tvalid_0's auc: 0.789432                                                     \n",
      "[3000]\tvalid_0's auc: 0.789451                                                     \n",
      "[3500]\tvalid_0's auc: 0.789436                                                     \n",
      "Early stopping, best iteration is:                                                 \n",
      "[3169]\tvalid_0's auc: 0.789461\n",
      " 50%|█████     | 10/20 [32:23<33:06, 198.62s/trial, best loss: 0.21125288283071575]"
     ]
    },
    {
     "name": "stderr",
     "output_type": "stream",
     "text": [
      "3it [02:33, 50.83s/it]\n",
      "\u001b[A\n"
     ]
    },
    {
     "name": "stdout",
     "output_type": "stream",
     "text": [
      "Training until validation scores don't improve for 500 rounds                      \n",
      "[500]\tvalid_0's auc: 0.777276                                                      \n",
      "[1000]\tvalid_0's auc: 0.784584                                                     \n",
      "[1500]\tvalid_0's auc: 0.786209                                                     \n",
      "[2000]\tvalid_0's auc: 0.786592                                                     \n",
      "[2500]\tvalid_0's auc: 0.786668                                                     \n",
      "Early stopping, best iteration is:                                                 \n",
      "[2442]\tvalid_0's auc: 0.786676\n",
      " 50%|█████     | 10/20 [33:06<33:06, 198.62s/trial, best loss: 0.21125288283071575]"
     ]
    },
    {
     "name": "stderr",
     "output_type": "stream",
     "text": [
      "4it [03:15, 48.35s/it]\n",
      "\u001b[A\n"
     ]
    },
    {
     "name": "stdout",
     "output_type": "stream",
     "text": [
      "Training until validation scores don't improve for 500 rounds                      \n",
      "[500]\tvalid_0's auc: 0.775759                                                      \n",
      "[1000]\tvalid_0's auc: 0.783854                                                     \n",
      "[1500]\tvalid_0's auc: 0.785828                                                     \n",
      "[2000]\tvalid_0's auc: 0.786285                                                     \n",
      "[2500]\tvalid_0's auc: 0.786428                                                     \n",
      "[3000]\tvalid_0's auc: 0.786464                                                     \n",
      "[3500]\tvalid_0's auc: 0.786502                                                     \n",
      "[4000]\tvalid_0's auc: 0.786537                                                     \n",
      "[4500]\tvalid_0's auc: 0.786542                                                     \n",
      "Early stopping, best iteration is:                                                 \n",
      "[4190]\tvalid_0's auc: 0.786563\n",
      " 50%|█████     | 10/20 [34:06<33:06, 198.62s/trial, best loss: 0.21125288283071575]"
     ]
    },
    {
     "name": "stderr",
     "output_type": "stream",
     "text": [
      "5it [04:16, 52.18s/it]\n",
      "\u001b[A\n",
      "5it [04:16, 51.37s/it]\n"
     ]
    },
    {
     "name": "stdout",
     "output_type": "stream",
     "text": [
      "AUC 0.78784+-0.00122.                                                              \n",
      "Params: \n",
      "clf__bagging_fraction: 0.800\n",
      "clf__colsample_bytree: 0.704\n",
      "clf__feature_fraction: 0.600\n",
      "clf__lambda_l1: 0.018\n",
      "clf__learning_rate: 0.013\n",
      "clf__max_depth: 5.000\n",
      "clf__min_child_weight: 8.597\n",
      "clf__num_leaves: 10.000\n",
      " 55%|█████▌    | 11/20 [34:09<32:24, 216.10s/trial, best loss: 0.21125288283071575]"
     ]
    },
    {
     "name": "stderr",
     "output_type": "stream",
     "text": [
      "0it [00:00, ?it/s]\n",
      "\u001b[A\n"
     ]
    },
    {
     "name": "stdout",
     "output_type": "stream",
     "text": [
      "Training until validation scores don't improve for 500 rounds                      \n",
      "[500]\tvalid_0's auc: 0.787608                                                      \n",
      "[1000]\tvalid_0's auc: 0.787833                                                     \n",
      "[1500]\tvalid_0's auc: 0.787764                                                     \n",
      "Early stopping, best iteration is:                                                 \n",
      "[1155]\tvalid_0's auc: 0.787912\n",
      " 55%|█████▌    | 11/20 [34:23<32:24, 216.10s/trial, best loss: 0.21125288283071575]"
     ]
    },
    {
     "name": "stderr",
     "output_type": "stream",
     "text": [
      "1it [00:15, 15.07s/it]\n",
      "\u001b[A\n"
     ]
    },
    {
     "name": "stdout",
     "output_type": "stream",
     "text": [
      "Training until validation scores don't improve for 500 rounds                      \n",
      "[500]\tvalid_0's auc: 0.78966                                                       \n",
      "[1000]\tvalid_0's auc: 0.78986                                                      \n",
      "[1500]\tvalid_0's auc: 0.78985                                                      \n",
      "Early stopping, best iteration is:                                                 \n",
      "[1036]\tvalid_0's auc: 0.789904\n",
      " 55%|█████▌    | 11/20 [34:37<32:24, 216.10s/trial, best loss: 0.21125288283071575]"
     ]
    },
    {
     "name": "stderr",
     "output_type": "stream",
     "text": [
      "2it [00:28, 14.69s/it]\n",
      "\u001b[A\n"
     ]
    },
    {
     "name": "stdout",
     "output_type": "stream",
     "text": [
      "Training until validation scores don't improve for 500 rounds                      \n",
      "[500]\tvalid_0's auc: 0.790163                                                      \n",
      "[1000]\tvalid_0's auc: 0.790454                                                     \n",
      "[1500]\tvalid_0's auc: 0.790428                                                     \n",
      "Early stopping, best iteration is:                                                 \n",
      "[1370]\tvalid_0's auc: 0.790523\n",
      " 55%|█████▌    | 11/20 [34:53<32:24, 216.10s/trial, best loss: 0.21125288283071575]"
     ]
    },
    {
     "name": "stderr",
     "output_type": "stream",
     "text": [
      "3it [00:45, 15.15s/it]\n",
      "\u001b[A\n"
     ]
    },
    {
     "name": "stdout",
     "output_type": "stream",
     "text": [
      "Training until validation scores don't improve for 500 rounds                      \n",
      "[500]\tvalid_0's auc: 0.787435                                                      \n",
      "[1000]\tvalid_0's auc: 0.787699                                                     \n",
      "[1500]\tvalid_0's auc: 0.787739                                                     \n",
      "[2000]\tvalid_0's auc: 0.787708                                                     \n",
      "[2500]\tvalid_0's auc: 0.787716                                                     \n",
      "Early stopping, best iteration is:                                                 \n",
      "[2199]\tvalid_0's auc: 0.787827\n",
      " 55%|█████▌    | 11/20 [35:17<32:24, 216.10s/trial, best loss: 0.21125288283071575]"
     ]
    },
    {
     "name": "stderr",
     "output_type": "stream",
     "text": [
      "4it [01:08, 17.61s/it]\n",
      "\u001b[A\n"
     ]
    },
    {
     "name": "stdout",
     "output_type": "stream",
     "text": [
      "Training until validation scores don't improve for 500 rounds                      \n",
      "[500]\tvalid_0's auc: 0.786664                                                      \n",
      "[1000]\tvalid_0's auc: 0.787033                                                     \n",
      "[1500]\tvalid_0's auc: 0.787115                                                     \n",
      "Early stopping, best iteration is:                                                 \n",
      "[1314]\tvalid_0's auc: 0.787168\n",
      " 55%|█████▌    | 11/20 [35:33<32:24, 216.10s/trial, best loss: 0.21125288283071575]"
     ]
    },
    {
     "name": "stderr",
     "output_type": "stream",
     "text": [
      "5it [01:24, 17.18s/it]\n",
      "\u001b[A\n",
      "5it [01:24, 16.92s/it]\n"
     ]
    },
    {
     "name": "stdout",
     "output_type": "stream",
     "text": [
      "AUC 0.78867+-0.00130.                                                              \n",
      "Params: \n",
      "clf__bagging_fraction: 0.600\n",
      "clf__colsample_bytree: 0.862\n",
      "clf__feature_fraction: 0.900\n",
      "clf__lambda_l1: 0.051\n",
      "clf__learning_rate: 0.319\n",
      "clf__max_depth: 1.000\n",
      "clf__min_child_weight: 6.662\n",
      "clf__num_leaves: 98.000\n",
      " 60%|██████    | 12/20 [35:34<23:33, 176.67s/trial, best loss: 0.21125288283071575]"
     ]
    },
    {
     "name": "stderr",
     "output_type": "stream",
     "text": [
      "0it [00:00, ?it/s]\n",
      "\u001b[A\n"
     ]
    },
    {
     "name": "stdout",
     "output_type": "stream",
     "text": [
      "Training until validation scores don't improve for 500 rounds                      \n",
      "[500]\tvalid_0's auc: 0.78544                                                       \n",
      "[1000]\tvalid_0's auc: 0.786185                                                     \n",
      "Early stopping, best iteration is:                                                 \n",
      "[903]\tvalid_0's auc: 0.786251\n",
      " 60%|██████    | 12/20 [35:57<23:33, 176.67s/trial, best loss: 0.21125288283071575]"
     ]
    },
    {
     "name": "stderr",
     "output_type": "stream",
     "text": [
      "1it [00:24, 24.36s/it]\n",
      "\u001b[A\n"
     ]
    },
    {
     "name": "stdout",
     "output_type": "stream",
     "text": [
      "Training until validation scores don't improve for 500 rounds                      \n",
      "[500]\tvalid_0's auc: 0.787191                                                      \n",
      "[1000]\tvalid_0's auc: 0.787998                                                     \n",
      "Early stopping, best iteration is:                                                 \n",
      "[928]\tvalid_0's auc: 0.78802\n",
      " 60%|██████    | 12/20 [36:22<23:33, 176.67s/trial, best loss: 0.21125288283071575]"
     ]
    },
    {
     "name": "stderr",
     "output_type": "stream",
     "text": [
      "2it [00:49, 24.53s/it]\n",
      "\u001b[A\n"
     ]
    },
    {
     "name": "stdout",
     "output_type": "stream",
     "text": [
      "Training until validation scores don't improve for 500 rounds                      \n",
      "[500]\tvalid_0's auc: 0.787859                                                      \n",
      "[1000]\tvalid_0's auc: 0.788488                                                     \n",
      "Early stopping, best iteration is:                                                 \n",
      "[745]\tvalid_0's auc: 0.788573\n",
      " 60%|██████    | 12/20 [36:44<23:33, 176.67s/trial, best loss: 0.21125288283071575]"
     ]
    },
    {
     "name": "stderr",
     "output_type": "stream",
     "text": [
      "3it [01:11, 23.89s/it]\n",
      "\u001b[A\n"
     ]
    },
    {
     "name": "stdout",
     "output_type": "stream",
     "text": [
      "Training until validation scores don't improve for 500 rounds                      \n",
      "[500]\tvalid_0's auc: 0.784924                                                      \n",
      "[1000]\tvalid_0's auc: 0.78549                                                      \n",
      "Early stopping, best iteration is:                                                 \n",
      "[952]\tvalid_0's auc: 0.785556\n",
      " 60%|██████    | 12/20 [37:09<23:33, 176.67s/trial, best loss: 0.21125288283071575]"
     ]
    },
    {
     "name": "stderr",
     "output_type": "stream",
     "text": [
      "4it [01:37, 24.36s/it]\n",
      "\u001b[A\n"
     ]
    },
    {
     "name": "stdout",
     "output_type": "stream",
     "text": [
      "Training until validation scores don't improve for 500 rounds                      \n",
      "[500]\tvalid_0's auc: 0.784527                                                      \n",
      "[1000]\tvalid_0's auc: 0.785401                                                     \n",
      "[1500]\tvalid_0's auc: 0.785225                                                     \n",
      "Early stopping, best iteration is:                                                 \n",
      "[1108]\tvalid_0's auc: 0.785456\n",
      " 60%|██████    | 12/20 [37:37<23:33, 176.67s/trial, best loss: 0.21125288283071575]"
     ]
    },
    {
     "name": "stderr",
     "output_type": "stream",
     "text": [
      "5it [02:05, 25.54s/it]\n",
      "\u001b[A\n",
      "5it [02:05, 25.09s/it]\n"
     ]
    },
    {
     "name": "stdout",
     "output_type": "stream",
     "text": [
      "AUC 0.78677+-0.00129.                                                              \n",
      "Params: \n",
      "clf__bagging_fraction: 0.600\n",
      "clf__colsample_bytree: 0.717\n",
      "clf__feature_fraction: 0.700\n",
      "clf__lambda_l1: 0.473\n",
      "clf__learning_rate: 0.021\n",
      "clf__max_depth: 6.000\n",
      "clf__min_child_weight: 4.270\n",
      "clf__num_leaves: 49.000\n",
      " 65%|██████▌   | 13/20 [37:39<18:49, 161.32s/trial, best loss: 0.21125288283071575]"
     ]
    },
    {
     "name": "stderr",
     "output_type": "stream",
     "text": [
      "0it [00:00, ?it/s]\n",
      "\u001b[A\n"
     ]
    },
    {
     "name": "stdout",
     "output_type": "stream",
     "text": [
      "Training until validation scores don't improve for 500 rounds                      \n",
      "[500]\tvalid_0's auc: 0.782908                                                      \n",
      "[1000]\tvalid_0's auc: 0.786343                                                     \n",
      "[1500]\tvalid_0's auc: 0.786684                                                     \n",
      "Early stopping, best iteration is:                                                 \n",
      "[1460]\tvalid_0's auc: 0.786719\n",
      " 65%|██████▌   | 13/20 [38:08<18:49, 161.32s/trial, best loss: 0.21125288283071575]"
     ]
    },
    {
     "name": "stderr",
     "output_type": "stream",
     "text": [
      "1it [00:30, 30.75s/it]\n",
      "\u001b[A\n"
     ]
    },
    {
     "name": "stdout",
     "output_type": "stream",
     "text": [
      "Training until validation scores don't improve for 500 rounds                      \n",
      "[500]\tvalid_0's auc: 0.784603                                                      \n",
      "[1000]\tvalid_0's auc: 0.788194                                                     \n",
      "[1500]\tvalid_0's auc: 0.788479                                                     \n",
      "[2000]\tvalid_0's auc: 0.78849                                                      \n",
      "Early stopping, best iteration is:                                                 \n",
      "[1873]\tvalid_0's auc: 0.788502\n",
      " 65%|██████▌   | 13/20 [38:45<18:49, 161.32s/trial, best loss: 0.21125288283071575]"
     ]
    },
    {
     "name": "stderr",
     "output_type": "stream",
     "text": [
      "2it [01:07, 32.58s/it]\n",
      "\u001b[A\n"
     ]
    },
    {
     "name": "stdout",
     "output_type": "stream",
     "text": [
      "Training until validation scores don't improve for 500 rounds                      \n",
      "[500]\tvalid_0's auc: 0.785353                                                      \n",
      "[1000]\tvalid_0's auc: 0.788637                                                     \n",
      "[1500]\tvalid_0's auc: 0.788795                                                     \n",
      "Early stopping, best iteration is:                                                 \n",
      "[1360]\tvalid_0's auc: 0.788835\n",
      " 65%|██████▌   | 13/20 [39:14<18:49, 161.32s/trial, best loss: 0.21125288283071575]"
     ]
    },
    {
     "name": "stderr",
     "output_type": "stream",
     "text": [
      "3it [01:36, 31.63s/it]\n",
      "\u001b[A\n"
     ]
    },
    {
     "name": "stdout",
     "output_type": "stream",
     "text": [
      "Training until validation scores don't improve for 500 rounds                      \n",
      "[500]\tvalid_0's auc: 0.782882                                                      \n",
      "[1000]\tvalid_0's auc: 0.785925                                                     \n",
      "[1500]\tvalid_0's auc: 0.786072                                                     \n",
      "Early stopping, best iteration is:                                                 \n",
      "[1243]\tvalid_0's auc: 0.786135\n",
      " 65%|██████▌   | 13/20 [39:42<18:49, 161.32s/trial, best loss: 0.21125288283071575]"
     ]
    },
    {
     "name": "stderr",
     "output_type": "stream",
     "text": [
      "4it [02:04, 30.48s/it]\n",
      "\u001b[A\n"
     ]
    },
    {
     "name": "stdout",
     "output_type": "stream",
     "text": [
      "Training until validation scores don't improve for 500 rounds                      \n",
      "[500]\tvalid_0's auc: 0.781841                                                      \n",
      "[1000]\tvalid_0's auc: 0.785455                                                     \n",
      "[1500]\tvalid_0's auc: 0.785746                                                     \n",
      "[2000]\tvalid_0's auc: 0.785775                                                     \n",
      "Early stopping, best iteration is:                                                 \n",
      "[1686]\tvalid_0's auc: 0.785849\n",
      " 65%|██████▌   | 13/20 [40:16<18:49, 161.32s/trial, best loss: 0.21125288283071575]"
     ]
    },
    {
     "name": "stderr",
     "output_type": "stream",
     "text": [
      "5it [02:38, 31.57s/it]\n",
      "\u001b[A\n",
      "5it [02:38, 31.78s/it]\n"
     ]
    },
    {
     "name": "stdout",
     "output_type": "stream",
     "text": [
      "AUC 0.78721+-0.00123.                                                              \n",
      "Params: \n",
      "clf__bagging_fraction: 0.600\n",
      "clf__colsample_bytree: 0.659\n",
      "clf__feature_fraction: 0.700\n",
      "clf__lambda_l1: 0.009\n",
      "clf__learning_rate: 0.016\n",
      "clf__max_depth: 5.000\n",
      "clf__min_child_weight: 9.801\n",
      "clf__num_leaves: 120.000\n",
      " 70%|███████   | 14/20 [40:18<16:03, 160.61s/trial, best loss: 0.21125288283071575]"
     ]
    },
    {
     "name": "stderr",
     "output_type": "stream",
     "text": [
      "0it [00:00, ?it/s]\n",
      "\u001b[A\n"
     ]
    },
    {
     "name": "stdout",
     "output_type": "stream",
     "text": [
      "Training until validation scores don't improve for 500 rounds                      \n",
      "[500]\tvalid_0's auc: 0.770092                                                      \n",
      "[1000]\tvalid_0's auc: 0.780826                                                     \n",
      "[1500]\tvalid_0's auc: 0.784437                                                     \n",
      "[2000]\tvalid_0's auc: 0.785906                                                     \n",
      "[2500]\tvalid_0's auc: 0.786526                                                     \n",
      "[3000]\tvalid_0's auc: 0.786763                                                     \n",
      "[3500]\tvalid_0's auc: 0.786827                                                     \n",
      "[4000]\tvalid_0's auc: 0.786879                                                     \n",
      "[4500]\tvalid_0's auc: 0.786905                                                     \n",
      "Early stopping, best iteration is:                                                 \n",
      "[4368]\tvalid_0's auc: 0.786922\n",
      " 70%|███████   | 14/20 [41:33<16:03, 160.61s/trial, best loss: 0.21125288283071575]"
     ]
    },
    {
     "name": "stderr",
     "output_type": "stream",
     "text": [
      "1it [01:18, 78.41s/it]\n",
      "\u001b[A\n"
     ]
    },
    {
     "name": "stdout",
     "output_type": "stream",
     "text": [
      "Training until validation scores don't improve for 500 rounds                      \n",
      "[500]\tvalid_0's auc: 0.771561                                                      \n",
      "[1000]\tvalid_0's auc: 0.782286                                                     \n",
      "[1500]\tvalid_0's auc: 0.786029                                                     \n",
      "[2000]\tvalid_0's auc: 0.787605                                                     \n",
      "[2500]\tvalid_0's auc: 0.78828                                                      \n",
      "[3000]\tvalid_0's auc: 0.788571                                                     \n",
      "[3500]\tvalid_0's auc: 0.78869                                                      \n",
      "[4000]\tvalid_0's auc: 0.788721                                                     \n",
      "[4500]\tvalid_0's auc: 0.788701                                                     \n",
      "Early stopping, best iteration is:                                                 \n",
      "[4116]\tvalid_0's auc: 0.78875\n",
      " 70%|███████   | 14/20 [42:48<16:03, 160.61s/trial, best loss: 0.21125288283071575]"
     ]
    },
    {
     "name": "stderr",
     "output_type": "stream",
     "text": [
      "2it [02:32, 77.26s/it]\n",
      "\u001b[A\n"
     ]
    },
    {
     "name": "stdout",
     "output_type": "stream",
     "text": [
      "Training until validation scores don't improve for 500 rounds                      \n",
      "[500]\tvalid_0's auc: 0.772118                                                      \n",
      "[1000]\tvalid_0's auc: 0.783325                                                     \n",
      "[1500]\tvalid_0's auc: 0.786883                                                     \n",
      "[2000]\tvalid_0's auc: 0.788214                                                     \n",
      "[2500]\tvalid_0's auc: 0.788782                                                     \n",
      "[3000]\tvalid_0's auc: 0.788971                                                     \n",
      "[3500]\tvalid_0's auc: 0.789033                                                     \n",
      "[4000]\tvalid_0's auc: 0.789079                                                     \n",
      "[4500]\tvalid_0's auc: 0.78907                                                      \n",
      "Early stopping, best iteration is:                                                 \n",
      "[4205]\tvalid_0's auc: 0.789095\n",
      " 70%|███████   | 14/20 [44:06<16:03, 160.61s/trial, best loss: 0.21125288283071575]"
     ]
    },
    {
     "name": "stderr",
     "output_type": "stream",
     "text": [
      "3it [03:50, 77.46s/it]\n",
      "\u001b[A\n"
     ]
    },
    {
     "name": "stdout",
     "output_type": "stream",
     "text": [
      "Training until validation scores don't improve for 500 rounds                      \n",
      "[500]\tvalid_0's auc: 0.770426                                                      \n",
      "[1000]\tvalid_0's auc: 0.780761                                                     \n",
      "[1500]\tvalid_0's auc: 0.784191                                                     \n",
      "[2000]\tvalid_0's auc: 0.785566                                                     \n",
      "[2500]\tvalid_0's auc: 0.786096                                                     \n",
      "[3000]\tvalid_0's auc: 0.78621                                                      \n",
      "[3500]\tvalid_0's auc: 0.786275                                                     \n",
      "Early stopping, best iteration is:                                                 \n",
      "[3325]\tvalid_0's auc: 0.786284\n",
      " 70%|███████   | 14/20 [45:10<16:03, 160.61s/trial, best loss: 0.21125288283071575]"
     ]
    },
    {
     "name": "stderr",
     "output_type": "stream",
     "text": [
      "4it [04:54, 73.28s/it]\n",
      "\u001b[A\n"
     ]
    },
    {
     "name": "stdout",
     "output_type": "stream",
     "text": [
      "Training until validation scores don't improve for 500 rounds                      \n",
      "[500]\tvalid_0's auc: 0.768525                                                      \n",
      "[1000]\tvalid_0's auc: 0.779594                                                     \n",
      "[1500]\tvalid_0's auc: 0.783492                                                     \n",
      "[2000]\tvalid_0's auc: 0.785082                                                     \n",
      "[2500]\tvalid_0's auc: 0.785734                                                     \n",
      "[3000]\tvalid_0's auc: 0.78602                                                      \n",
      "[3500]\tvalid_0's auc: 0.78612                                                      \n",
      "[4000]\tvalid_0's auc: 0.786214                                                     \n",
      "[4500]\tvalid_0's auc: 0.786287                                                     \n",
      "[5000]\tvalid_0's auc: 0.786306                                                     \n",
      "Did not meet early stopping. Best iteration is:                                    \n",
      "[4745]\tvalid_0's auc: 0.786314\n",
      " 70%|███████   | 14/20 [46:37<16:03, 160.61s/trial, best loss: 0.21125288283071575]"
     ]
    },
    {
     "name": "stderr",
     "output_type": "stream",
     "text": [
      "5it [06:22, 77.78s/it]\n",
      "\u001b[A\n",
      "5it [06:22, 76.55s/it]\n"
     ]
    },
    {
     "name": "stdout",
     "output_type": "stream",
     "text": [
      "AUC 0.78747+-0.00121.                                                              \n",
      "Params: \n",
      "clf__bagging_fraction: 0.800\n",
      "clf__colsample_bytree: 0.613\n",
      "clf__feature_fraction: 0.900\n",
      "clf__lambda_l1: 0.480\n",
      "clf__learning_rate: 0.008\n",
      "clf__max_depth: 4.000\n",
      "clf__min_child_weight: 1.031\n",
      "clf__num_leaves: 74.000\n",
      " 75%|███████▌  | 15/20 [46:41<18:56, 227.26s/trial, best loss: 0.21125288283071575]"
     ]
    },
    {
     "name": "stderr",
     "output_type": "stream",
     "text": [
      "0it [00:00, ?it/s]\n",
      "\u001b[A\n"
     ]
    },
    {
     "name": "stdout",
     "output_type": "stream",
     "text": [
      "Training until validation scores don't improve for 500 rounds                      \n",
      "[500]\tvalid_0's auc: 0.785432                                                      \n",
      "Early stopping, best iteration is:                                                 \n",
      "[306]\tvalid_0's auc: 0.78571\n",
      " 75%|███████▌  | 15/20 [46:57<18:56, 227.26s/trial, best loss: 0.21125288283071575]"
     ]
    },
    {
     "name": "stderr",
     "output_type": "stream",
     "text": [
      "1it [00:16, 16.51s/it]\n",
      "\u001b[A\n"
     ]
    },
    {
     "name": "stdout",
     "output_type": "stream",
     "text": [
      "Training until validation scores don't improve for 500 rounds                      \n",
      "[500]\tvalid_0's auc: 0.787376                                                      \n",
      "Early stopping, best iteration is:                                                 \n",
      "[365]\tvalid_0's auc: 0.78778\n",
      " 75%|███████▌  | 15/20 [47:14<18:56, 227.26s/trial, best loss: 0.21125288283071575]"
     ]
    },
    {
     "name": "stderr",
     "output_type": "stream",
     "text": [
      "2it [00:33, 16.63s/it]\n",
      "\u001b[A\n"
     ]
    },
    {
     "name": "stdout",
     "output_type": "stream",
     "text": [
      "Training until validation scores don't improve for 500 rounds                      \n",
      "[500]\tvalid_0's auc: 0.787973                                                      \n",
      "Early stopping, best iteration is:                                                 \n",
      "[335]\tvalid_0's auc: 0.788258\n",
      " 75%|███████▌  | 15/20 [47:30<18:56, 227.26s/trial, best loss: 0.21125288283071575]"
     ]
    },
    {
     "name": "stderr",
     "output_type": "stream",
     "text": [
      "3it [00:50, 16.63s/it]\n",
      "\u001b[A\n"
     ]
    },
    {
     "name": "stdout",
     "output_type": "stream",
     "text": [
      "Training until validation scores don't improve for 500 rounds                      \n",
      "[500]\tvalid_0's auc: 0.784707                                                      \n",
      "Early stopping, best iteration is:                                                 \n",
      "[283]\tvalid_0's auc: 0.7852\n",
      " 75%|███████▌  | 15/20 [47:45<18:56, 227.26s/trial, best loss: 0.21125288283071575]"
     ]
    },
    {
     "name": "stderr",
     "output_type": "stream",
     "text": [
      "4it [01:04, 15.95s/it]\n",
      "\u001b[A\n"
     ]
    },
    {
     "name": "stdout",
     "output_type": "stream",
     "text": [
      "Training until validation scores don't improve for 500 rounds                      \n",
      "[500]\tvalid_0's auc: 0.784826                                                      \n",
      "Early stopping, best iteration is:                                                 \n",
      "[440]\tvalid_0's auc: 0.784959\n",
      " 75%|███████▌  | 15/20 [48:01<18:56, 227.26s/trial, best loss: 0.21125288283071575]"
     ]
    },
    {
     "name": "stderr",
     "output_type": "stream",
     "text": [
      "5it [01:21, 16.16s/it]\n",
      "\u001b[A\n",
      "5it [01:21, 16.21s/it]\n"
     ]
    },
    {
     "name": "stdout",
     "output_type": "stream",
     "text": [
      "AUC 0.78638+-0.00137.                                                              \n",
      "Params: \n",
      "clf__bagging_fraction: 0.800\n",
      "clf__colsample_bytree: 0.726\n",
      "clf__feature_fraction: 0.600\n",
      "clf__lambda_l1: 0.203\n",
      "clf__learning_rate: 0.071\n",
      "clf__max_depth: 5.000\n",
      "clf__min_child_weight: 8.772\n",
      "clf__num_leaves: 86.000\n",
      " 80%|████████  | 16/20 [48:02<12:13, 183.41s/trial, best loss: 0.21125288283071575]"
     ]
    },
    {
     "name": "stderr",
     "output_type": "stream",
     "text": [
      "0it [00:00, ?it/s]\n",
      "\u001b[A\n"
     ]
    },
    {
     "name": "stdout",
     "output_type": "stream",
     "text": [
      "Training until validation scores don't improve for 500 rounds                      \n",
      "[500]\tvalid_0's auc: 0.786102                                                      \n",
      "Early stopping, best iteration is:                                                 \n",
      "[338]\tvalid_0's auc: 0.786248\n",
      " 80%|████████  | 16/20 [48:12<12:13, 183.41s/trial, best loss: 0.21125288283071575]"
     ]
    },
    {
     "name": "stderr",
     "output_type": "stream",
     "text": [
      "1it [00:10, 10.51s/it]\n",
      "\u001b[A\n"
     ]
    },
    {
     "name": "stdout",
     "output_type": "stream",
     "text": [
      "Training until validation scores don't improve for 500 rounds                      \n",
      "[500]\tvalid_0's auc: 0.787969                                                      \n",
      "Early stopping, best iteration is:                                                 \n",
      "[320]\tvalid_0's auc: 0.788285\n",
      " 80%|████████  | 16/20 [48:22<12:13, 183.41s/trial, best loss: 0.21125288283071575]"
     ]
    },
    {
     "name": "stderr",
     "output_type": "stream",
     "text": [
      "2it [00:19, 10.19s/it]\n",
      "\u001b[A\n"
     ]
    },
    {
     "name": "stdout",
     "output_type": "stream",
     "text": [
      "Training until validation scores don't improve for 500 rounds                      \n",
      "[500]\tvalid_0's auc: 0.788626                                                      \n",
      "Early stopping, best iteration is:                                                 \n",
      "[288]\tvalid_0's auc: 0.788979\n",
      " 80%|████████  | 16/20 [48:30<12:13, 183.41s/trial, best loss: 0.21125288283071575]"
     ]
    },
    {
     "name": "stderr",
     "output_type": "stream",
     "text": [
      "3it [00:28,  9.76s/it]\n",
      "\u001b[A\n"
     ]
    },
    {
     "name": "stdout",
     "output_type": "stream",
     "text": [
      "Training until validation scores don't improve for 500 rounds                      \n",
      "[500]\tvalid_0's auc: 0.785429                                                      \n",
      "Early stopping, best iteration is:                                                 \n",
      "[254]\tvalid_0's auc: 0.785751\n",
      " 80%|████████  | 16/20 [48:39<12:13, 183.41s/trial, best loss: 0.21125288283071575]"
     ]
    },
    {
     "name": "stderr",
     "output_type": "stream",
     "text": [
      "4it [00:37,  9.34s/it]\n",
      "\u001b[A\n"
     ]
    },
    {
     "name": "stdout",
     "output_type": "stream",
     "text": [
      "Training until validation scores don't improve for 500 rounds                      \n",
      "[500]\tvalid_0's auc: 0.785009                                                      \n",
      "Early stopping, best iteration is:                                                 \n",
      "[397]\tvalid_0's auc: 0.785188\n",
      " 80%|████████  | 16/20 [48:49<12:13, 183.41s/trial, best loss: 0.21125288283071575]"
     ]
    },
    {
     "name": "stderr",
     "output_type": "stream",
     "text": [
      "5it [00:47,  9.52s/it]\n",
      "\u001b[A\n",
      "5it [00:47,  9.41s/it]\n"
     ]
    },
    {
     "name": "stdout",
     "output_type": "stream",
     "text": [
      "AUC 0.78689+-0.00148.                                                              \n",
      "Params: \n",
      "clf__bagging_fraction: 0.600\n",
      "clf__colsample_bytree: 0.444\n",
      "clf__feature_fraction: 0.700\n",
      "clf__lambda_l1: 0.014\n",
      "clf__learning_rate: 0.310\n",
      "clf__max_depth: 2.000\n",
      "clf__min_child_weight: 1.576\n",
      "clf__num_leaves: 56.000\n",
      " 85%|████████▌ | 17/20 [48:49<07:07, 142.51s/trial, best loss: 0.21125288283071575]"
     ]
    },
    {
     "name": "stderr",
     "output_type": "stream",
     "text": [
      "0it [00:00, ?it/s]\n",
      "\u001b[A\n"
     ]
    },
    {
     "name": "stdout",
     "output_type": "stream",
     "text": [
      "Training until validation scores don't improve for 500 rounds                      \n",
      "[500]\tvalid_0's auc: 0.775838                                                      \n",
      "Early stopping, best iteration is:                                                 \n",
      "[99]\tvalid_0's auc: 0.782934\n",
      " 85%|████████▌ | 17/20 [49:00<07:07, 142.51s/trial, best loss: 0.21125288283071575]"
     ]
    },
    {
     "name": "stderr",
     "output_type": "stream",
     "text": [
      "1it [00:11, 11.76s/it]\n",
      "\u001b[A\n"
     ]
    },
    {
     "name": "stdout",
     "output_type": "stream",
     "text": [
      "Training until validation scores don't improve for 500 rounds                      \n",
      "[500]\tvalid_0's auc: 0.776462                                                      \n",
      "Early stopping, best iteration is:                                                 \n",
      "[100]\tvalid_0's auc: 0.784004\n",
      " 85%|████████▌ | 17/20 [49:14<07:07, 142.51s/trial, best loss: 0.21125288283071575]"
     ]
    },
    {
     "name": "stderr",
     "output_type": "stream",
     "text": [
      "2it [00:24, 12.20s/it]\n",
      "\u001b[A\n"
     ]
    },
    {
     "name": "stdout",
     "output_type": "stream",
     "text": [
      "Training until validation scores don't improve for 500 rounds                      \n",
      "[500]\tvalid_0's auc: 0.774885                                                      \n",
      "Early stopping, best iteration is:                                                 \n",
      "[99]\tvalid_0's auc: 0.784698\n",
      " 85%|████████▌ | 17/20 [49:27<07:07, 142.51s/trial, best loss: 0.21125288283071575]"
     ]
    },
    {
     "name": "stderr",
     "output_type": "stream",
     "text": [
      "3it [00:38, 12.48s/it]\n",
      "\u001b[A\n"
     ]
    },
    {
     "name": "stdout",
     "output_type": "stream",
     "text": [
      "Training until validation scores don't improve for 500 rounds                      \n",
      "[500]\tvalid_0's auc: 0.774195                                                      \n",
      "Early stopping, best iteration is:                                                 \n",
      "[78]\tvalid_0's auc: 0.782283\n",
      " 85%|████████▌ | 17/20 [49:39<07:07, 142.51s/trial, best loss: 0.21125288283071575]"
     ]
    },
    {
     "name": "stderr",
     "output_type": "stream",
     "text": [
      "4it [00:50, 12.32s/it]\n",
      "\u001b[A\n"
     ]
    },
    {
     "name": "stdout",
     "output_type": "stream",
     "text": [
      "Training until validation scores don't improve for 500 rounds                      \n",
      "[500]\tvalid_0's auc: 0.773559                                                      \n",
      "Early stopping, best iteration is:                                                 \n",
      "[106]\tvalid_0's auc: 0.781788\n",
      " 85%|████████▌ | 17/20 [49:51<07:07, 142.51s/trial, best loss: 0.21125288283071575]"
     ]
    },
    {
     "name": "stderr",
     "output_type": "stream",
     "text": [
      "5it [01:02, 12.22s/it]\n",
      "\u001b[A\n",
      "5it [01:02, 12.41s/it]\n"
     ]
    },
    {
     "name": "stdout",
     "output_type": "stream",
     "text": [
      "AUC 0.78314+-0.00108.                                                              \n",
      "Params: \n",
      "clf__bagging_fraction: 0.700\n",
      "clf__colsample_bytree: 0.996\n",
      "clf__feature_fraction: 0.800\n",
      "clf__lambda_l1: 0.425\n",
      "clf__learning_rate: 0.165\n",
      "clf__max_depth: 6.000\n",
      "clf__min_child_weight: 1.041\n",
      "clf__num_leaves: 113.000\n",
      " 90%|█████████ | 18/20 [49:51<03:56, 118.39s/trial, best loss: 0.21125288283071575]"
     ]
    },
    {
     "name": "stderr",
     "output_type": "stream",
     "text": [
      "0it [00:00, ?it/s]\n",
      "\u001b[A\n"
     ]
    },
    {
     "name": "stdout",
     "output_type": "stream",
     "text": [
      "Training until validation scores don't improve for 500 rounds                      \n",
      "[500]\tvalid_0's auc: 0.772795                                                      \n",
      "[1000]\tvalid_0's auc: 0.782177                                                     \n",
      "[1500]\tvalid_0's auc: 0.785068                                                     \n",
      "[2000]\tvalid_0's auc: 0.78599                                                      \n",
      "[2500]\tvalid_0's auc: 0.786358                                                     \n",
      "[3000]\tvalid_0's auc: 0.786445                                                     \n",
      "[3500]\tvalid_0's auc: 0.786438                                                     \n",
      "Early stopping, best iteration is:                                                 \n",
      "[3162]\tvalid_0's auc: 0.786456\n",
      " 90%|█████████ | 18/20 [51:02<03:56, 118.39s/trial, best loss: 0.21125288283071575]"
     ]
    },
    {
     "name": "stderr",
     "output_type": "stream",
     "text": [
      "1it [01:14, 74.53s/it]\n",
      "\u001b[A\n"
     ]
    },
    {
     "name": "stdout",
     "output_type": "stream",
     "text": [
      "Training until validation scores don't improve for 500 rounds                      \n",
      "[500]\tvalid_0's auc: 0.774515                                                      \n",
      "[1000]\tvalid_0's auc: 0.783785                                                     \n",
      "[1500]\tvalid_0's auc: 0.78683                                                      \n",
      "[2000]\tvalid_0's auc: 0.787905                                                     \n",
      "[2500]\tvalid_0's auc: 0.788238                                                     \n",
      "[3000]\tvalid_0's auc: 0.788383                                                     \n",
      "[3500]\tvalid_0's auc: 0.788396                                                     \n",
      "Early stopping, best iteration is:                                                 \n",
      "[3321]\tvalid_0's auc: 0.788423\n",
      " 90%|█████████ | 18/20 [52:47<03:56, 118.39s/trial, best loss: 0.21125288283071575]"
     ]
    },
    {
     "name": "stderr",
     "output_type": "stream",
     "text": [
      "2it [03:00, 83.87s/it]\n",
      "\u001b[A\n"
     ]
    },
    {
     "name": "stdout",
     "output_type": "stream",
     "text": [
      "Training until validation scores don't improve for 500 rounds                      \n",
      "[500]\tvalid_0's auc: 0.774952                                                      \n",
      "[1000]\tvalid_0's auc: 0.784543                                                     \n",
      "[1500]\tvalid_0's auc: 0.787383                                                     \n",
      "[2000]\tvalid_0's auc: 0.788305                                                     \n",
      "[2500]\tvalid_0's auc: 0.788574                                                     \n",
      "[3000]\tvalid_0's auc: 0.788665                                                     \n",
      "[3500]\tvalid_0's auc: 0.788692                                                     \n",
      "[4000]\tvalid_0's auc: 0.788653                                                     \n",
      "Early stopping, best iteration is:                                                 \n",
      "[3605]\tvalid_0's auc: 0.788711\n",
      " 90%|█████████ | 18/20 [54:48<03:56, 118.39s/trial, best loss: 0.21125288283071575]"
     ]
    },
    {
     "name": "stderr",
     "output_type": "stream",
     "text": [
      "3it [05:01, 95.00s/it]\n",
      "\u001b[A\n"
     ]
    },
    {
     "name": "stdout",
     "output_type": "stream",
     "text": [
      "Training until validation scores don't improve for 500 rounds                      \n",
      "[500]\tvalid_0's auc: 0.773129                                                      \n",
      "[1000]\tvalid_0's auc: 0.781945                                                     \n",
      "[1500]\tvalid_0's auc: 0.784765                                                     \n",
      "[2000]\tvalid_0's auc: 0.785616                                                     \n",
      "[2500]\tvalid_0's auc: 0.785866                                                     \n",
      "[3000]\tvalid_0's auc: 0.785854                                                     \n",
      "Early stopping, best iteration is:                                                 \n",
      "[2705]\tvalid_0's auc: 0.785878\n",
      " 90%|█████████ | 18/20 [56:26<03:56, 118.39s/trial, best loss: 0.21125288283071575]"
     ]
    },
    {
     "name": "stderr",
     "output_type": "stream",
     "text": [
      "4it [06:38, 95.76s/it]\n",
      "\u001b[A\n"
     ]
    },
    {
     "name": "stdout",
     "output_type": "stream",
     "text": [
      "Training until validation scores don't improve for 500 rounds                      \n",
      "[500]\tvalid_0's auc: 0.771444                                                      \n",
      "[1000]\tvalid_0's auc: 0.781105                                                     \n",
      "[1500]\tvalid_0's auc: 0.784257                                                     \n",
      "[2000]\tvalid_0's auc: 0.785349                                                     \n",
      "[2500]\tvalid_0's auc: 0.785755                                                     \n",
      "[3000]\tvalid_0's auc: 0.785908                                                     \n",
      "[3500]\tvalid_0's auc: 0.785954                                                     \n",
      "[4000]\tvalid_0's auc: 0.785982                                                     \n",
      "[4500]\tvalid_0's auc: 0.785983                                                     \n",
      "Early stopping, best iteration is:                                                 \n",
      "[4177]\tvalid_0's auc: 0.786011\n",
      " 90%|█████████ | 18/20 [58:39<03:56, 118.39s/trial, best loss: 0.21125288283071575]"
     ]
    },
    {
     "name": "stderr",
     "output_type": "stream",
     "text": [
      "5it [08:52, 107.32s/it]\n",
      "\u001b[A\n",
      "5it [08:52, 106.60s/it]\n"
     ]
    },
    {
     "name": "stdout",
     "output_type": "stream",
     "text": [
      "AUC 0.78710+-0.00122.                                                              \n",
      "Params: \n",
      "clf__bagging_fraction: 0.800\n",
      "clf__colsample_bytree: 0.547\n",
      "clf__feature_fraction: 0.800\n",
      "clf__lambda_l1: 0.028\n",
      "clf__learning_rate: 0.007\n",
      "clf__max_depth: 5.000\n",
      "clf__min_child_weight: 1.130\n",
      "clf__num_leaves: 93.000\n",
      " 95%|█████████▌| 19/20 [58:44<04:02, 242.78s/trial, best loss: 0.21125288283071575]"
     ]
    },
    {
     "name": "stderr",
     "output_type": "stream",
     "text": [
      "0it [00:00, ?it/s]\n",
      "\u001b[A\n"
     ]
    },
    {
     "name": "stdout",
     "output_type": "stream",
     "text": [
      "Training until validation scores don't improve for 500 rounds                      \n",
      "[500]\tvalid_0's auc: 0.786545                                                      \n",
      "[1000]\tvalid_0's auc: 0.786321                                                     \n",
      "Early stopping, best iteration is:                                                 \n",
      "[648]\tvalid_0's auc: 0.786607\n",
      " 95%|█████████▌| 19/20 [59:09<04:02, 242.78s/trial, best loss: 0.21125288283071575]"
     ]
    },
    {
     "name": "stderr",
     "output_type": "stream",
     "text": [
      "1it [00:25, 25.34s/it]\n",
      "\u001b[A\n"
     ]
    },
    {
     "name": "stdout",
     "output_type": "stream",
     "text": [
      "Training until validation scores don't improve for 500 rounds                      \n",
      "[500]\tvalid_0's auc: 0.788044                                                      \n",
      "[1000]\tvalid_0's auc: 0.788021                                                     \n",
      "Early stopping, best iteration is:                                                 \n",
      "[703]\tvalid_0's auc: 0.788262\n",
      " 95%|█████████▌| 19/20 [59:29<04:02, 242.78s/trial, best loss: 0.21125288283071575]"
     ]
    },
    {
     "name": "stderr",
     "output_type": "stream",
     "text": [
      "2it [00:45, 23.78s/it]\n",
      "\u001b[A\n"
     ]
    },
    {
     "name": "stdout",
     "output_type": "stream",
     "text": [
      "Training until validation scores don't improve for 500 rounds                      \n",
      "[500]\tvalid_0's auc: 0.788426                                                      \n",
      "[1000]\tvalid_0's auc: 0.788098                                                     \n",
      "Early stopping, best iteration is:                                                 \n",
      "[561]\tvalid_0's auc: 0.788492\n",
      " 95%|█████████▌| 19/20 [59:49<04:02, 242.78s/trial, best loss: 0.21125288283071575]"
     ]
    },
    {
     "name": "stderr",
     "output_type": "stream",
     "text": [
      "3it [01:05, 22.57s/it]\n",
      "\u001b[A\n"
     ]
    },
    {
     "name": "stdout",
     "output_type": "stream",
     "text": [
      "Training until validation scores don't improve for 500 rounds                      \n",
      "[500]\tvalid_0's auc: 0.785658                                                      \n",
      "[1000]\tvalid_0's auc: 0.785372                                                     \n",
      "Early stopping, best iteration is:                                                   \n",
      "[563]\tvalid_0's auc: 0.785736\n",
      " 95%|█████████▌| 19/20 [1:00:08<04:02, 242.78s/trial, best loss: 0.21125288283071575]"
     ]
    },
    {
     "name": "stderr",
     "output_type": "stream",
     "text": [
      "4it [01:24, 21.57s/it]\n",
      "\u001b[A\n"
     ]
    },
    {
     "name": "stdout",
     "output_type": "stream",
     "text": [
      "Training until validation scores don't improve for 500 rounds                        \n",
      "[500]\tvalid_0's auc: 0.785396                                                        \n",
      "[1000]\tvalid_0's auc: 0.785558                                                       \n",
      "Early stopping, best iteration is:                                                   \n",
      "[710]\tvalid_0's auc: 0.785638\n",
      " 95%|█████████▌| 19/20 [1:00:29<04:02, 242.78s/trial, best loss: 0.21125288283071575]"
     ]
    },
    {
     "name": "stderr",
     "output_type": "stream",
     "text": [
      "5it [01:45, 21.54s/it]\n",
      "\u001b[A\n",
      "5it [01:45, 21.19s/it]\n"
     ]
    },
    {
     "name": "stdout",
     "output_type": "stream",
     "text": [
      "AUC 0.78695+-0.00122.                                                                \n",
      "Params: \n",
      "clf__bagging_fraction: 0.800\n",
      "clf__colsample_bytree: 0.908\n",
      "clf__feature_fraction: 1.000\n",
      "clf__lambda_l1: 0.146\n",
      "clf__learning_rate: 0.047\n",
      "clf__max_depth: 4.000\n",
      "clf__min_child_weight: 0.628\n",
      "clf__num_leaves: 32.000\n",
      "100%|██████████| 20/20 [1:00:30<00:00, 181.53s/trial, best loss: 0.21125288283071575]\n"
     ]
    }
   ],
   "source": [
    "from hyperopt import hp, tpe\n",
    "from hyperopt.fmin import fmin\n",
    "from hyperopt.pyll.base import scope\n",
    "from hyperopt import space_eval\n",
    "import numpy as np\n",
    "from tqdm import tqdm\n",
    "from sklearn.metrics import roc_auc_score\n",
    "from sklearn.model_selection import StratifiedKFold\n",
    "\n",
    "\n",
    "def make_objective(pipeline, df):\n",
    "    \n",
    "    def objective(params):\n",
    "                \n",
    "        pipeline.set_params(**params)\n",
    "        skf = StratifiedKFold(n_splits=5, shuffle=True, random_state=42)\n",
    "        \n",
    "        scores = []\n",
    "        for train_idx, val_idx in tqdm(skf.split(df, df[\"target\"])):\n",
    "            \n",
    "            df_train, df_val = df.loc[train_idx, :], df.loc[val_idx, :]\n",
    "            transformers = Pipeline(pipeline.steps[:-1]).fit(df_train, df_train['target'])\n",
    "            X_val, y_val = transformers.transform(df_val), df_val['target']\n",
    "            \n",
    "            fit_args = {\n",
    "                \"clf__early_stopping_rounds\": 500, \n",
    "                \"clf__eval_set\": (X_val, y_val),\n",
    "                \"clf__verbose\": 500,\n",
    "                \"clf__eval_metric\": 'auc',\n",
    "            }\n",
    "            \n",
    "            pipeline.fit(df_train, df_train['target'], **fit_args)\n",
    "            prob = pipeline.predict_proba(df_val)[:, 1]\n",
    "            scores.append(roc_auc_score(y_val, prob))\n",
    "            \n",
    "        score = np.mean(scores)\n",
    "        print(\"AUC {:.5f}+-{:.5f}.\\n\".format(np.mean(scores), np.std(scores)) + \n",
    "              \"Params: \\n\" + \n",
    "              \"\\n\".join([\"{}: {:.3f}\".format(k, params[k]) for k in params]))\n",
    "        return 1 - score\n",
    "    \n",
    "    return objective\n",
    "\n",
    "space = {\n",
    "        \"clf__max_depth\": hp.choice(\"clf__max_depth\", [1,2,3,4,5,6]),\n",
    "        \"clf__learning_rate\": hp.loguniform(\"clf__learning_rate\", np.log(0.005), np.log(0.5)),\n",
    "        'clf__lambda_l1': hp.loguniform('clf__lambda_l1', np.log(0.005), np.log(0.5)),\n",
    "        \"clf__num_leaves\": hp.choice(\"clf__num_leaves\", np.linspace(8, 128, 50, dtype=int)),\n",
    "        \"clf__feature_fraction\": hp.quniform(\"clf__feature_fraction\", 0.5, 1.0, 0.1),\n",
    "        \"clf__bagging_fraction\": hp.quniform(\"clf__bagging_fraction\", 0.5, 1.0, 0.1),\n",
    "        \"clf__min_child_weight\": hp.uniform('clf__min_child_weight', 0.5, 10),\n",
    "        'clf__colsample_bytree': hp.uniform('clf__colsample_bytree', 0.3, 1.0),\n",
    "    }\n",
    "\n",
    "best = fmin(fn=make_objective(pipeline, df),\n",
    "            space=space,\n",
    "            algo=tpe.suggest,\n",
    "            max_evals=20)\n",
    "\n",
    "best_params = space_eval(space, best)"
   ]
  },
  {
   "cell_type": "code",
   "execution_count": 10,
   "metadata": {},
   "outputs": [
    {
     "name": "stdout",
     "output_type": "stream",
     "text": [
      "Best params: \n",
      "clf__bagging_fraction: 0.600\n",
      "clf__colsample_bytree: 0.307\n",
      "clf__feature_fraction: 0.800\n",
      "clf__lambda_l1: 0.006\n",
      "clf__learning_rate: 0.063\n",
      "clf__max_depth: 1.000\n",
      "clf__min_child_weight: 1.473\n",
      "clf__num_leaves: 110.000\n"
     ]
    }
   ],
   "source": [
    "print(\"Best params: \\n\" + \"\\n\".join([\"{}: {:.3f}\".format(k, best_params[k]) for k in best_params]))"
   ]
  },
  {
   "cell_type": "code",
   "execution_count": 11,
   "metadata": {
    "scrolled": true
   },
   "outputs": [
    {
     "name": "stderr",
     "output_type": "stream",
     "text": [
      "\r",
      "0it [00:00, ?it/s]"
     ]
    },
    {
     "name": "stdout",
     "output_type": "stream",
     "text": [
      "Training until validation scores don't improve for 500 rounds\n",
      "[500]\tvalid_0's auc: 0.783978\n",
      "[1000]\tvalid_0's auc: 0.789184\n",
      "[1500]\tvalid_0's auc: 0.790144\n",
      "[2000]\tvalid_0's auc: 0.790417\n",
      "[2500]\tvalid_0's auc: 0.790582\n",
      "[3000]\tvalid_0's auc: 0.79059\n",
      "Early stopping, best iteration is:\n",
      "[2757]\tvalid_0's auc: 0.79065\n"
     ]
    },
    {
     "name": "stderr",
     "output_type": "stream",
     "text": [
      "\r",
      "1it [00:23, 23.09s/it]"
     ]
    },
    {
     "name": "stdout",
     "output_type": "stream",
     "text": [
      "Training until validation scores don't improve for 500 rounds\n",
      "[500]\tvalid_0's auc: 0.786184\n",
      "[1000]\tvalid_0's auc: 0.792877\n",
      "[1500]\tvalid_0's auc: 0.794003\n",
      "[2000]\tvalid_0's auc: 0.794163\n",
      "[2500]\tvalid_0's auc: 0.794166\n",
      "Early stopping, best iteration is:\n",
      "[2358]\tvalid_0's auc: 0.794244\n"
     ]
    },
    {
     "name": "stderr",
     "output_type": "stream",
     "text": [
      "\r",
      "2it [00:44, 22.52s/it]"
     ]
    },
    {
     "name": "stdout",
     "output_type": "stream",
     "text": [
      "Training until validation scores don't improve for 500 rounds\n",
      "[500]\tvalid_0's auc: 0.779512\n",
      "[1000]\tvalid_0's auc: 0.784343\n",
      "[1500]\tvalid_0's auc: 0.785334\n",
      "[2000]\tvalid_0's auc: 0.785329\n",
      "Early stopping, best iteration is:\n",
      "[1603]\tvalid_0's auc: 0.785493\n"
     ]
    },
    {
     "name": "stderr",
     "output_type": "stream",
     "text": [
      "\r",
      "3it [01:01, 20.84s/it]"
     ]
    },
    {
     "name": "stdout",
     "output_type": "stream",
     "text": [
      "Training until validation scores don't improve for 500 rounds\n",
      "[500]\tvalid_0's auc: 0.783505\n",
      "[1000]\tvalid_0's auc: 0.788823\n",
      "[1500]\tvalid_0's auc: 0.790376\n",
      "[2000]\tvalid_0's auc: 0.790757\n",
      "[2500]\tvalid_0's auc: 0.79105\n",
      "[3000]\tvalid_0's auc: 0.791104\n",
      "[3500]\tvalid_0's auc: 0.791262\n",
      "[4000]\tvalid_0's auc: 0.791314\n",
      "[4500]\tvalid_0's auc: 0.791389\n",
      "[5000]\tvalid_0's auc: 0.791468\n",
      "Did not meet early stopping. Best iteration is:\n",
      "[4679]\tvalid_0's auc: 0.791534\n"
     ]
    },
    {
     "name": "stderr",
     "output_type": "stream",
     "text": [
      "\r",
      "4it [01:37, 25.44s/it]"
     ]
    },
    {
     "name": "stdout",
     "output_type": "stream",
     "text": [
      "Training until validation scores don't improve for 500 rounds\n",
      "[500]\tvalid_0's auc: 0.770751\n",
      "[1000]\tvalid_0's auc: 0.77753\n",
      "[1500]\tvalid_0's auc: 0.77923\n",
      "[2000]\tvalid_0's auc: 0.779671\n",
      "[2500]\tvalid_0's auc: 0.779817\n",
      "[3000]\tvalid_0's auc: 0.780028\n",
      "[3500]\tvalid_0's auc: 0.780075\n",
      "[4000]\tvalid_0's auc: 0.780058\n",
      "Early stopping, best iteration is:\n",
      "[3880]\tvalid_0's auc: 0.780137\n"
     ]
    },
    {
     "name": "stderr",
     "output_type": "stream",
     "text": [
      "\r",
      "5it [02:08, 27.16s/it]"
     ]
    },
    {
     "name": "stdout",
     "output_type": "stream",
     "text": [
      "Training until validation scores don't improve for 500 rounds\n",
      "[500]\tvalid_0's auc: 0.775496\n",
      "[1000]\tvalid_0's auc: 0.782601\n",
      "[1500]\tvalid_0's auc: 0.784511\n",
      "[2000]\tvalid_0's auc: 0.78526\n",
      "[2500]\tvalid_0's auc: 0.785416\n",
      "Early stopping, best iteration is:\n",
      "[2393]\tvalid_0's auc: 0.785461\n"
     ]
    },
    {
     "name": "stderr",
     "output_type": "stream",
     "text": [
      "\r",
      "6it [02:29, 25.30s/it]"
     ]
    },
    {
     "name": "stdout",
     "output_type": "stream",
     "text": [
      "Training until validation scores don't improve for 500 rounds\n",
      "[500]\tvalid_0's auc: 0.781678\n",
      "[1000]\tvalid_0's auc: 0.787518\n",
      "[1500]\tvalid_0's auc: 0.788919\n",
      "[2000]\tvalid_0's auc: 0.789254\n",
      "[2500]\tvalid_0's auc: 0.789451\n",
      "[3000]\tvalid_0's auc: 0.789521\n",
      "Early stopping, best iteration is:\n",
      "[2944]\tvalid_0's auc: 0.789627\n"
     ]
    },
    {
     "name": "stderr",
     "output_type": "stream",
     "text": [
      "\r",
      "7it [02:56, 25.76s/it]"
     ]
    },
    {
     "name": "stdout",
     "output_type": "stream",
     "text": [
      "Training until validation scores don't improve for 500 rounds\n",
      "[500]\tvalid_0's auc: 0.78752\n",
      "[1000]\tvalid_0's auc: 0.794343\n",
      "[1500]\tvalid_0's auc: 0.795926\n",
      "[2000]\tvalid_0's auc: 0.796271\n",
      "[2500]\tvalid_0's auc: 0.796325\n",
      "Early stopping, best iteration is:\n",
      "[2405]\tvalid_0's auc: 0.796392\n"
     ]
    },
    {
     "name": "stderr",
     "output_type": "stream",
     "text": [
      "\r",
      "8it [03:17, 24.39s/it]"
     ]
    },
    {
     "name": "stdout",
     "output_type": "stream",
     "text": [
      "Training until validation scores don't improve for 500 rounds\n",
      "[500]\tvalid_0's auc: 0.771416\n",
      "[1000]\tvalid_0's auc: 0.77885\n",
      "[1500]\tvalid_0's auc: 0.780802\n",
      "[2000]\tvalid_0's auc: 0.781446\n",
      "[2500]\tvalid_0's auc: 0.781723\n",
      "[3000]\tvalid_0's auc: 0.781736\n",
      "Early stopping, best iteration is:\n",
      "[2590]\tvalid_0's auc: 0.781826\n"
     ]
    },
    {
     "name": "stderr",
     "output_type": "stream",
     "text": [
      "\r",
      "9it [03:39, 23.63s/it]"
     ]
    },
    {
     "name": "stdout",
     "output_type": "stream",
     "text": [
      "Training until validation scores don't improve for 500 rounds\n",
      "[500]\tvalid_0's auc: 0.775119\n",
      "[1000]\tvalid_0's auc: 0.782377\n",
      "[1500]\tvalid_0's auc: 0.78465\n",
      "[2000]\tvalid_0's auc: 0.785196\n",
      "[2500]\tvalid_0's auc: 0.785224\n",
      "Early stopping, best iteration is:\n",
      "[2407]\tvalid_0's auc: 0.785324\n"
     ]
    },
    {
     "name": "stderr",
     "output_type": "stream",
     "text": [
      "\r",
      "10it [04:01, 23.15s/it]"
     ]
    },
    {
     "name": "stdout",
     "output_type": "stream",
     "text": [
      "Training until validation scores don't improve for 500 rounds\n",
      "[500]\tvalid_0's auc: 0.789468\n",
      "[1000]\tvalid_0's auc: 0.795256\n",
      "[1500]\tvalid_0's auc: 0.796508\n",
      "[2000]\tvalid_0's auc: 0.796754\n",
      "[2500]\tvalid_0's auc: 0.796793\n",
      "[3000]\tvalid_0's auc: 0.796887\n",
      "Early stopping, best iteration is:\n",
      "[2783]\tvalid_0's auc: 0.796923\n"
     ]
    },
    {
     "name": "stderr",
     "output_type": "stream",
     "text": [
      "\r",
      "11it [04:27, 23.95s/it]"
     ]
    },
    {
     "name": "stdout",
     "output_type": "stream",
     "text": [
      "Training until validation scores don't improve for 500 rounds\n",
      "[500]\tvalid_0's auc: 0.780942\n",
      "[1000]\tvalid_0's auc: 0.787886\n",
      "[1500]\tvalid_0's auc: 0.789253\n",
      "[2000]\tvalid_0's auc: 0.789436\n",
      "Early stopping, best iteration is:\n",
      "[1926]\tvalid_0's auc: 0.789492\n"
     ]
    },
    {
     "name": "stderr",
     "output_type": "stream",
     "text": [
      "\r",
      "12it [04:46, 22.69s/it]"
     ]
    },
    {
     "name": "stdout",
     "output_type": "stream",
     "text": [
      "Training until validation scores don't improve for 500 rounds\n",
      "[500]\tvalid_0's auc: 0.782037\n",
      "[1000]\tvalid_0's auc: 0.787613\n",
      "[1500]\tvalid_0's auc: 0.788651\n",
      "[2000]\tvalid_0's auc: 0.788901\n",
      "[2500]\tvalid_0's auc: 0.788953\n",
      "Early stopping, best iteration is:\n",
      "[2310]\tvalid_0's auc: 0.789022\n"
     ]
    },
    {
     "name": "stderr",
     "output_type": "stream",
     "text": [
      "\r",
      "13it [05:14, 24.24s/it]"
     ]
    },
    {
     "name": "stdout",
     "output_type": "stream",
     "text": [
      "Training until validation scores don't improve for 500 rounds\n",
      "[500]\tvalid_0's auc: 0.779123\n",
      "[1000]\tvalid_0's auc: 0.786647\n",
      "[1500]\tvalid_0's auc: 0.7885\n",
      "[2000]\tvalid_0's auc: 0.789122\n",
      "[2500]\tvalid_0's auc: 0.789353\n",
      "[3000]\tvalid_0's auc: 0.789397\n",
      "Early stopping, best iteration is:\n",
      "[2878]\tvalid_0's auc: 0.789513\n"
     ]
    },
    {
     "name": "stderr",
     "output_type": "stream",
     "text": [
      "\r",
      "14it [05:41, 24.93s/it]"
     ]
    },
    {
     "name": "stdout",
     "output_type": "stream",
     "text": [
      "Training until validation scores don't improve for 500 rounds\n",
      "[500]\tvalid_0's auc: 0.780271\n",
      "[1000]\tvalid_0's auc: 0.786976\n",
      "[1500]\tvalid_0's auc: 0.788824\n",
      "[2000]\tvalid_0's auc: 0.78927\n",
      "[2500]\tvalid_0's auc: 0.78934\n",
      "[3000]\tvalid_0's auc: 0.789346\n",
      "[3500]\tvalid_0's auc: 0.789488\n",
      "[4000]\tvalid_0's auc: 0.789506\n",
      "[4500]\tvalid_0's auc: 0.789504\n",
      "Early stopping, best iteration is:\n",
      "[4425]\tvalid_0's auc: 0.789611\n"
     ]
    },
    {
     "name": "stderr",
     "output_type": "stream",
     "text": [
      "\r",
      "15it [06:29, 31.90s/it]"
     ]
    },
    {
     "name": "stdout",
     "output_type": "stream",
     "text": [
      "Training until validation scores don't improve for 500 rounds\n",
      "[500]\tvalid_0's auc: 0.784426\n",
      "[1000]\tvalid_0's auc: 0.790939\n",
      "[1500]\tvalid_0's auc: 0.792679\n",
      "[2000]\tvalid_0's auc: 0.793076\n",
      "[2500]\tvalid_0's auc: 0.793047\n",
      "Early stopping, best iteration is:\n",
      "[2225]\tvalid_0's auc: 0.793163\n"
     ]
    },
    {
     "name": "stderr",
     "output_type": "stream",
     "text": [
      "\r",
      "16it [06:50, 28.66s/it]"
     ]
    },
    {
     "name": "stdout",
     "output_type": "stream",
     "text": [
      "Training until validation scores don't improve for 500 rounds\n",
      "[500]\tvalid_0's auc: 0.780454\n",
      "[1000]\tvalid_0's auc: 0.786269\n",
      "[1500]\tvalid_0's auc: 0.787857\n",
      "[2000]\tvalid_0's auc: 0.788374\n",
      "[2500]\tvalid_0's auc: 0.788562\n",
      "[3000]\tvalid_0's auc: 0.788728\n",
      "Early stopping, best iteration is:\n",
      "[2917]\tvalid_0's auc: 0.788791\n"
     ]
    },
    {
     "name": "stderr",
     "output_type": "stream",
     "text": [
      "\r",
      "17it [07:16, 27.78s/it]"
     ]
    },
    {
     "name": "stdout",
     "output_type": "stream",
     "text": [
      "Training until validation scores don't improve for 500 rounds\n",
      "[500]\tvalid_0's auc: 0.777047\n",
      "[1000]\tvalid_0's auc: 0.784216\n",
      "[1500]\tvalid_0's auc: 0.785896\n",
      "[2000]\tvalid_0's auc: 0.786645\n",
      "[2500]\tvalid_0's auc: 0.786781\n",
      "[3000]\tvalid_0's auc: 0.786921\n",
      "[3500]\tvalid_0's auc: 0.78687\n",
      "Early stopping, best iteration is:\n",
      "[3280]\tvalid_0's auc: 0.786971\n"
     ]
    },
    {
     "name": "stderr",
     "output_type": "stream",
     "text": [
      "\r",
      "18it [07:44, 27.88s/it]"
     ]
    },
    {
     "name": "stdout",
     "output_type": "stream",
     "text": [
      "Training until validation scores don't improve for 500 rounds\n",
      "[500]\tvalid_0's auc: 0.779827\n",
      "[1000]\tvalid_0's auc: 0.786896\n",
      "[1500]\tvalid_0's auc: 0.788473\n",
      "[2000]\tvalid_0's auc: 0.789117\n",
      "[2500]\tvalid_0's auc: 0.789416\n",
      "[3000]\tvalid_0's auc: 0.789559\n",
      "[3500]\tvalid_0's auc: 0.789643\n",
      "[4000]\tvalid_0's auc: 0.789744\n",
      "[4500]\tvalid_0's auc: 0.789829\n",
      "[5000]\tvalid_0's auc: 0.78988\n",
      "Did not meet early stopping. Best iteration is:\n",
      "[4905]\tvalid_0's auc: 0.789926\n"
     ]
    },
    {
     "name": "stderr",
     "output_type": "stream",
     "text": [
      "\r",
      "19it [08:21, 30.65s/it]"
     ]
    },
    {
     "name": "stdout",
     "output_type": "stream",
     "text": [
      "Training until validation scores don't improve for 500 rounds\n",
      "[500]\tvalid_0's auc: 0.780292\n",
      "[1000]\tvalid_0's auc: 0.787977\n",
      "[1500]\tvalid_0's auc: 0.790232\n",
      "[2000]\tvalid_0's auc: 0.790772\n",
      "[2500]\tvalid_0's auc: 0.790956\n",
      "Early stopping, best iteration is:\n",
      "[2418]\tvalid_0's auc: 0.791053\n"
     ]
    },
    {
     "name": "stderr",
     "output_type": "stream",
     "text": [
      "\r",
      "20it [08:43, 27.99s/it]"
     ]
    },
    {
     "name": "stdout",
     "output_type": "stream",
     "text": [
      "Training until validation scores don't improve for 500 rounds\n",
      "[500]\tvalid_0's auc: 0.780684\n",
      "[1000]\tvalid_0's auc: 0.787101\n",
      "[1500]\tvalid_0's auc: 0.789026\n",
      "[2000]\tvalid_0's auc: 0.789566\n",
      "[2500]\tvalid_0's auc: 0.789672\n",
      "Early stopping, best iteration is:\n",
      "[2313]\tvalid_0's auc: 0.789715\n"
     ]
    },
    {
     "name": "stderr",
     "output_type": "stream",
     "text": [
      "\r",
      "21it [09:07, 26.75s/it]"
     ]
    },
    {
     "name": "stdout",
     "output_type": "stream",
     "text": [
      "Training until validation scores don't improve for 500 rounds\n",
      "[500]\tvalid_0's auc: 0.781175\n",
      "[1000]\tvalid_0's auc: 0.785913\n",
      "[1500]\tvalid_0's auc: 0.786909\n",
      "[2000]\tvalid_0's auc: 0.787034\n",
      "[2500]\tvalid_0's auc: 0.786955\n",
      "Early stopping, best iteration is:\n",
      "[2080]\tvalid_0's auc: 0.787057\n"
     ]
    },
    {
     "name": "stderr",
     "output_type": "stream",
     "text": [
      "\r",
      "22it [09:52, 32.31s/it]"
     ]
    },
    {
     "name": "stdout",
     "output_type": "stream",
     "text": [
      "Training until validation scores don't improve for 500 rounds\n",
      "[500]\tvalid_0's auc: 0.777113\n",
      "[1000]\tvalid_0's auc: 0.782938\n",
      "[1500]\tvalid_0's auc: 0.784761\n",
      "[2000]\tvalid_0's auc: 0.785341\n",
      "[2500]\tvalid_0's auc: 0.785636\n",
      "[3000]\tvalid_0's auc: 0.785718\n",
      "[3500]\tvalid_0's auc: 0.785784\n",
      "Early stopping, best iteration is:\n",
      "[3331]\tvalid_0's auc: 0.785816\n"
     ]
    },
    {
     "name": "stderr",
     "output_type": "stream",
     "text": [
      "\r",
      "23it [10:40, 37.00s/it]"
     ]
    },
    {
     "name": "stdout",
     "output_type": "stream",
     "text": [
      "Training until validation scores don't improve for 500 rounds\n",
      "[500]\tvalid_0's auc: 0.783492\n",
      "[1000]\tvalid_0's auc: 0.790067\n",
      "[1500]\tvalid_0's auc: 0.791699\n",
      "[2000]\tvalid_0's auc: 0.792012\n",
      "[2500]\tvalid_0's auc: 0.792326\n",
      "[3000]\tvalid_0's auc: 0.792388\n",
      "[3500]\tvalid_0's auc: 0.792288\n",
      "Early stopping, best iteration is:\n",
      "[3369]\tvalid_0's auc: 0.792427\n"
     ]
    },
    {
     "name": "stderr",
     "output_type": "stream",
     "text": [
      "\r",
      "24it [11:06, 33.59s/it]"
     ]
    },
    {
     "name": "stdout",
     "output_type": "stream",
     "text": [
      "Training until validation scores don't improve for 500 rounds\n",
      "[500]\tvalid_0's auc: 0.778543\n",
      "[1000]\tvalid_0's auc: 0.784484\n",
      "[1500]\tvalid_0's auc: 0.785751\n",
      "[2000]\tvalid_0's auc: 0.786076\n",
      "[2500]\tvalid_0's auc: 0.786052\n",
      "Early stopping, best iteration is:\n",
      "[2179]\tvalid_0's auc: 0.786159\n"
     ]
    },
    {
     "name": "stderr",
     "output_type": "stream",
     "text": [
      "\r",
      "25it [11:26, 29.59s/it]"
     ]
    },
    {
     "name": "stdout",
     "output_type": "stream",
     "text": [
      "Training until validation scores don't improve for 500 rounds\n",
      "[500]\tvalid_0's auc: 0.789387\n",
      "[1000]\tvalid_0's auc: 0.796955\n",
      "[1500]\tvalid_0's auc: 0.799179\n",
      "[2000]\tvalid_0's auc: 0.799642\n",
      "[2500]\tvalid_0's auc: 0.799978\n",
      "[3000]\tvalid_0's auc: 0.79998\n",
      "[3500]\tvalid_0's auc: 0.800052\n",
      "[4000]\tvalid_0's auc: 0.800069\n",
      "[4500]\tvalid_0's auc: 0.800183\n",
      "[5000]\tvalid_0's auc: 0.800181\n",
      "Did not meet early stopping. Best iteration is:\n",
      "[4801]\tvalid_0's auc: 0.800245\n"
     ]
    },
    {
     "name": "stderr",
     "output_type": "stream",
     "text": [
      "\r",
      "26it [12:02, 31.64s/it]"
     ]
    },
    {
     "name": "stdout",
     "output_type": "stream",
     "text": [
      "Training until validation scores don't improve for 500 rounds\n",
      "[500]\tvalid_0's auc: 0.780395\n",
      "[1000]\tvalid_0's auc: 0.786051\n",
      "[1500]\tvalid_0's auc: 0.787577\n",
      "[2000]\tvalid_0's auc: 0.787691\n",
      "[2500]\tvalid_0's auc: 0.787777\n",
      "Early stopping, best iteration is:\n",
      "[2370]\tvalid_0's auc: 0.787829\n"
     ]
    },
    {
     "name": "stderr",
     "output_type": "stream",
     "text": [
      "\r",
      "27it [12:24, 28.65s/it]"
     ]
    },
    {
     "name": "stdout",
     "output_type": "stream",
     "text": [
      "Training until validation scores don't improve for 500 rounds\n",
      "[500]\tvalid_0's auc: 0.786077\n",
      "[1000]\tvalid_0's auc: 0.791227\n",
      "[1500]\tvalid_0's auc: 0.792088\n",
      "[2000]\tvalid_0's auc: 0.79222\n",
      "[2500]\tvalid_0's auc: 0.792173\n",
      "Early stopping, best iteration is:\n",
      "[2170]\tvalid_0's auc: 0.792373\n"
     ]
    },
    {
     "name": "stderr",
     "output_type": "stream",
     "text": [
      "\r",
      "28it [12:48, 27.19s/it]"
     ]
    },
    {
     "name": "stdout",
     "output_type": "stream",
     "text": [
      "Training until validation scores don't improve for 500 rounds\n",
      "[500]\tvalid_0's auc: 0.778134\n",
      "[1000]\tvalid_0's auc: 0.785161\n",
      "[1500]\tvalid_0's auc: 0.78696\n",
      "[2000]\tvalid_0's auc: 0.787343\n",
      "Early stopping, best iteration is:\n",
      "[1815]\tvalid_0's auc: 0.787414\n"
     ]
    },
    {
     "name": "stderr",
     "output_type": "stream",
     "text": [
      "\r",
      "29it [13:12, 26.35s/it]"
     ]
    },
    {
     "name": "stdout",
     "output_type": "stream",
     "text": [
      "Training until validation scores don't improve for 500 rounds\n",
      "[500]\tvalid_0's auc: 0.786666\n",
      "[1000]\tvalid_0's auc: 0.794377\n",
      "[1500]\tvalid_0's auc: 0.796479\n",
      "[2000]\tvalid_0's auc: 0.796974\n",
      "[2500]\tvalid_0's auc: 0.797044\n",
      "[3000]\tvalid_0's auc: 0.797249\n",
      "[3500]\tvalid_0's auc: 0.797328\n",
      "Early stopping, best iteration is:\n",
      "[3263]\tvalid_0's auc: 0.797356\n"
     ]
    },
    {
     "name": "stderr",
     "output_type": "stream",
     "text": [
      "\r",
      "30it [13:45, 28.25s/it]"
     ]
    },
    {
     "name": "stdout",
     "output_type": "stream",
     "text": [
      "Training until validation scores don't improve for 500 rounds\n",
      "[500]\tvalid_0's auc: 0.779862\n",
      "[1000]\tvalid_0's auc: 0.787087\n",
      "[1500]\tvalid_0's auc: 0.788789\n",
      "[2000]\tvalid_0's auc: 0.789206\n",
      "[2500]\tvalid_0's auc: 0.789346\n",
      "Early stopping, best iteration is:\n",
      "[2353]\tvalid_0's auc: 0.789388\n"
     ]
    },
    {
     "name": "stderr",
     "output_type": "stream",
     "text": [
      "\r",
      "31it [14:06, 26.20s/it]"
     ]
    },
    {
     "name": "stdout",
     "output_type": "stream",
     "text": [
      "Training until validation scores don't improve for 500 rounds\n",
      "[500]\tvalid_0's auc: 0.774231\n",
      "[1000]\tvalid_0's auc: 0.780087\n",
      "[1500]\tvalid_0's auc: 0.781623\n",
      "[2000]\tvalid_0's auc: 0.782139\n",
      "[2500]\tvalid_0's auc: 0.782256\n",
      "[3000]\tvalid_0's auc: 0.782248\n",
      "Early stopping, best iteration is:\n",
      "[2725]\tvalid_0's auc: 0.782337\n"
     ]
    },
    {
     "name": "stderr",
     "output_type": "stream",
     "text": [
      "\r",
      "32it [14:36, 27.16s/it]"
     ]
    },
    {
     "name": "stdout",
     "output_type": "stream",
     "text": [
      "Training until validation scores don't improve for 500 rounds\n",
      "[500]\tvalid_0's auc: 0.768582\n",
      "[1000]\tvalid_0's auc: 0.775561\n",
      "[1500]\tvalid_0's auc: 0.777268\n",
      "[2000]\tvalid_0's auc: 0.777659\n",
      "[2500]\tvalid_0's auc: 0.777661\n",
      "Early stopping, best iteration is:\n",
      "[2273]\tvalid_0's auc: 0.777693\n"
     ]
    },
    {
     "name": "stderr",
     "output_type": "stream",
     "text": [
      "\r",
      "33it [14:56, 25.14s/it]"
     ]
    },
    {
     "name": "stdout",
     "output_type": "stream",
     "text": [
      "Training until validation scores don't improve for 500 rounds\n",
      "[500]\tvalid_0's auc: 0.785846\n",
      "[1000]\tvalid_0's auc: 0.792673\n",
      "[1500]\tvalid_0's auc: 0.79431\n",
      "[2000]\tvalid_0's auc: 0.794926\n",
      "[2500]\tvalid_0's auc: 0.795361\n",
      "[3000]\tvalid_0's auc: 0.795337\n",
      "Early stopping, best iteration is:\n",
      "[2845]\tvalid_0's auc: 0.795376\n"
     ]
    },
    {
     "name": "stderr",
     "output_type": "stream",
     "text": [
      "\r",
      "34it [15:21, 24.99s/it]"
     ]
    },
    {
     "name": "stdout",
     "output_type": "stream",
     "text": [
      "Training until validation scores don't improve for 500 rounds\n",
      "[500]\tvalid_0's auc: 0.771719\n",
      "[1000]\tvalid_0's auc: 0.777612\n",
      "[1500]\tvalid_0's auc: 0.779134\n",
      "[2000]\tvalid_0's auc: 0.779377\n",
      "[2500]\tvalid_0's auc: 0.779493\n",
      "[3000]\tvalid_0's auc: 0.779392\n",
      "Early stopping, best iteration is:\n",
      "[2550]\tvalid_0's auc: 0.779551\n"
     ]
    },
    {
     "name": "stderr",
     "output_type": "stream",
     "text": [
      "\r",
      "35it [15:43, 24.24s/it]"
     ]
    },
    {
     "name": "stdout",
     "output_type": "stream",
     "text": [
      "Training until validation scores don't improve for 500 rounds\n",
      "[500]\tvalid_0's auc: 0.785856\n",
      "[1000]\tvalid_0's auc: 0.79173\n",
      "[1500]\tvalid_0's auc: 0.793063\n",
      "[2000]\tvalid_0's auc: 0.79352\n",
      "[2500]\tvalid_0's auc: 0.793637\n",
      "[3000]\tvalid_0's auc: 0.793662\n",
      "[3500]\tvalid_0's auc: 0.793701\n",
      "[4000]\tvalid_0's auc: 0.793688\n",
      "[4500]\tvalid_0's auc: 0.793726\n",
      "[5000]\tvalid_0's auc: 0.793785\n",
      "Did not meet early stopping. Best iteration is:\n",
      "[4805]\tvalid_0's auc: 0.793788\n"
     ]
    },
    {
     "name": "stderr",
     "output_type": "stream",
     "text": [
      "\r",
      "36it [16:20, 27.95s/it]"
     ]
    },
    {
     "name": "stdout",
     "output_type": "stream",
     "text": [
      "Training until validation scores don't improve for 500 rounds\n",
      "[500]\tvalid_0's auc: 0.781753\n",
      "[1000]\tvalid_0's auc: 0.787894\n",
      "[1500]\tvalid_0's auc: 0.789241\n",
      "[2000]\tvalid_0's auc: 0.789328\n",
      "[2500]\tvalid_0's auc: 0.789451\n",
      "[3000]\tvalid_0's auc: 0.789542\n",
      "Early stopping, best iteration is:\n",
      "[2891]\tvalid_0's auc: 0.789626\n"
     ]
    },
    {
     "name": "stderr",
     "output_type": "stream",
     "text": [
      "\r",
      "37it [16:44, 26.95s/it]"
     ]
    },
    {
     "name": "stdout",
     "output_type": "stream",
     "text": [
      "Training until validation scores don't improve for 500 rounds\n",
      "[500]\tvalid_0's auc: 0.782831\n",
      "[1000]\tvalid_0's auc: 0.788642\n",
      "[1500]\tvalid_0's auc: 0.79017\n",
      "[2000]\tvalid_0's auc: 0.790394\n",
      "[2500]\tvalid_0's auc: 0.790391\n",
      "Early stopping, best iteration is:\n",
      "[2237]\tvalid_0's auc: 0.790471\n"
     ]
    },
    {
     "name": "stderr",
     "output_type": "stream",
     "text": [
      "\r",
      "38it [17:09, 26.14s/it]"
     ]
    },
    {
     "name": "stdout",
     "output_type": "stream",
     "text": [
      "Training until validation scores don't improve for 500 rounds\n",
      "[500]\tvalid_0's auc: 0.781948\n",
      "[1000]\tvalid_0's auc: 0.787316\n",
      "[1500]\tvalid_0's auc: 0.788463\n",
      "[2000]\tvalid_0's auc: 0.78871\n",
      "[2500]\tvalid_0's auc: 0.788838\n",
      "Early stopping, best iteration is:\n",
      "[2475]\tvalid_0's auc: 0.788885\n"
     ]
    },
    {
     "name": "stderr",
     "output_type": "stream",
     "text": [
      "\r",
      "39it [17:32, 25.32s/it]"
     ]
    },
    {
     "name": "stdout",
     "output_type": "stream",
     "text": [
      "Training until validation scores don't improve for 500 rounds\n",
      "[500]\tvalid_0's auc: 0.784037\n",
      "[1000]\tvalid_0's auc: 0.79031\n",
      "[1500]\tvalid_0's auc: 0.791547\n",
      "[2000]\tvalid_0's auc: 0.791983\n",
      "[2500]\tvalid_0's auc: 0.792046\n",
      "[3000]\tvalid_0's auc: 0.79209\n",
      "Early stopping, best iteration is:\n",
      "[2689]\tvalid_0's auc: 0.792181\n"
     ]
    },
    {
     "name": "stderr",
     "output_type": "stream",
     "text": [
      "\r",
      "40it [18:04, 27.42s/it]"
     ]
    },
    {
     "name": "stdout",
     "output_type": "stream",
     "text": [
      "Training until validation scores don't improve for 500 rounds\n",
      "[500]\tvalid_0's auc: 0.778383\n",
      "[1000]\tvalid_0's auc: 0.784479\n",
      "[1500]\tvalid_0's auc: 0.78644\n",
      "[2000]\tvalid_0's auc: 0.787084\n",
      "[2500]\tvalid_0's auc: 0.787256\n",
      "[3000]\tvalid_0's auc: 0.787347\n",
      "Early stopping, best iteration is:\n",
      "[2860]\tvalid_0's auc: 0.787423\n"
     ]
    },
    {
     "name": "stderr",
     "output_type": "stream",
     "text": [
      "\r",
      "41it [18:32, 27.49s/it]"
     ]
    },
    {
     "name": "stdout",
     "output_type": "stream",
     "text": [
      "Training until validation scores don't improve for 500 rounds\n",
      "[500]\tvalid_0's auc: 0.777927\n",
      "[1000]\tvalid_0's auc: 0.785257\n",
      "[1500]\tvalid_0's auc: 0.787273\n",
      "[2000]\tvalid_0's auc: 0.787688\n",
      "[2500]\tvalid_0's auc: 0.787883\n",
      "[3000]\tvalid_0's auc: 0.787993\n",
      "[3500]\tvalid_0's auc: 0.788145\n",
      "[4000]\tvalid_0's auc: 0.788166\n",
      "[4500]\tvalid_0's auc: 0.788248\n",
      "[5000]\tvalid_0's auc: 0.78819\n",
      "Did not meet early stopping. Best iteration is:\n",
      "[4689]\tvalid_0's auc: 0.788359\n"
     ]
    },
    {
     "name": "stderr",
     "output_type": "stream",
     "text": [
      "\r",
      "42it [19:06, 29.40s/it]"
     ]
    },
    {
     "name": "stdout",
     "output_type": "stream",
     "text": [
      "Training until validation scores don't improve for 500 rounds\n",
      "[500]\tvalid_0's auc: 0.774481\n",
      "[1000]\tvalid_0's auc: 0.781205\n",
      "[1500]\tvalid_0's auc: 0.782604\n",
      "[2000]\tvalid_0's auc: 0.782828\n",
      "[2500]\tvalid_0's auc: 0.783003\n",
      "[3000]\tvalid_0's auc: 0.783229\n",
      "[3500]\tvalid_0's auc: 0.783305\n",
      "[4000]\tvalid_0's auc: 0.783359\n",
      "[4500]\tvalid_0's auc: 0.783451\n",
      "[5000]\tvalid_0's auc: 0.783484\n",
      "Did not meet early stopping. Best iteration is:\n",
      "[4795]\tvalid_0's auc: 0.783546\n"
     ]
    },
    {
     "name": "stderr",
     "output_type": "stream",
     "text": [
      "\r",
      "43it [19:40, 30.89s/it]"
     ]
    },
    {
     "name": "stdout",
     "output_type": "stream",
     "text": [
      "Training until validation scores don't improve for 500 rounds\n",
      "[500]\tvalid_0's auc: 0.7857\n",
      "[1000]\tvalid_0's auc: 0.792242\n",
      "[1500]\tvalid_0's auc: 0.793883\n",
      "[2000]\tvalid_0's auc: 0.794216\n",
      "[2500]\tvalid_0's auc: 0.794271\n",
      "[3000]\tvalid_0's auc: 0.794478\n",
      "[3500]\tvalid_0's auc: 0.794514\n",
      "Early stopping, best iteration is:\n",
      "[3230]\tvalid_0's auc: 0.794586\n"
     ]
    },
    {
     "name": "stderr",
     "output_type": "stream",
     "text": [
      "\r",
      "44it [20:07, 29.70s/it]"
     ]
    },
    {
     "name": "stdout",
     "output_type": "stream",
     "text": [
      "Training until validation scores don't improve for 500 rounds\n",
      "[500]\tvalid_0's auc: 0.776232\n",
      "[1000]\tvalid_0's auc: 0.784653\n",
      "[1500]\tvalid_0's auc: 0.786326\n",
      "[2000]\tvalid_0's auc: 0.786751\n",
      "[2500]\tvalid_0's auc: 0.786843\n",
      "Early stopping, best iteration is:\n",
      "[2230]\tvalid_0's auc: 0.786893\n"
     ]
    },
    {
     "name": "stderr",
     "output_type": "stream",
     "text": [
      "\r",
      "45it [20:26, 26.49s/it]"
     ]
    },
    {
     "name": "stdout",
     "output_type": "stream",
     "text": [
      "Training until validation scores don't improve for 500 rounds\n",
      "[500]\tvalid_0's auc: 0.775344\n",
      "[1000]\tvalid_0's auc: 0.781108\n",
      "[1500]\tvalid_0's auc: 0.7826\n",
      "[2000]\tvalid_0's auc: 0.783015\n",
      "[2500]\tvalid_0's auc: 0.783212\n",
      "Early stopping, best iteration is:\n",
      "[2490]\tvalid_0's auc: 0.783244\n"
     ]
    },
    {
     "name": "stderr",
     "output_type": "stream",
     "text": [
      "\r",
      "46it [20:47, 24.66s/it]"
     ]
    },
    {
     "name": "stdout",
     "output_type": "stream",
     "text": [
      "Training until validation scores don't improve for 500 rounds\n",
      "[500]\tvalid_0's auc: 0.776458\n",
      "[1000]\tvalid_0's auc: 0.781037\n",
      "[1500]\tvalid_0's auc: 0.782001\n",
      "[2000]\tvalid_0's auc: 0.782374\n",
      "[2500]\tvalid_0's auc: 0.782583\n",
      "[3000]\tvalid_0's auc: 0.782574\n",
      "[3500]\tvalid_0's auc: 0.782655\n",
      "Early stopping, best iteration is:\n",
      "[3355]\tvalid_0's auc: 0.782746\n"
     ]
    },
    {
     "name": "stderr",
     "output_type": "stream",
     "text": [
      "\r",
      "47it [21:13, 25.13s/it]"
     ]
    },
    {
     "name": "stdout",
     "output_type": "stream",
     "text": [
      "Training until validation scores don't improve for 500 rounds\n",
      "[500]\tvalid_0's auc: 0.78659\n",
      "[1000]\tvalid_0's auc: 0.793357\n",
      "[1500]\tvalid_0's auc: 0.79481\n",
      "[2000]\tvalid_0's auc: 0.795187\n",
      "[2500]\tvalid_0's auc: 0.795102\n",
      "Early stopping, best iteration is:\n",
      "[2066]\tvalid_0's auc: 0.795256\n"
     ]
    },
    {
     "name": "stderr",
     "output_type": "stream",
     "text": [
      "\r",
      "48it [21:31, 22.93s/it]"
     ]
    },
    {
     "name": "stdout",
     "output_type": "stream",
     "text": [
      "Training until validation scores don't improve for 500 rounds\n",
      "[500]\tvalid_0's auc: 0.778251\n",
      "[1000]\tvalid_0's auc: 0.785687\n",
      "[1500]\tvalid_0's auc: 0.787702\n",
      "[2000]\tvalid_0's auc: 0.78822\n",
      "[2500]\tvalid_0's auc: 0.788405\n",
      "[3000]\tvalid_0's auc: 0.788563\n",
      "Early stopping, best iteration is:\n",
      "[2917]\tvalid_0's auc: 0.788657\n"
     ]
    },
    {
     "name": "stderr",
     "output_type": "stream",
     "text": [
      "\r",
      "49it [21:54, 23.05s/it]"
     ]
    },
    {
     "name": "stdout",
     "output_type": "stream",
     "text": [
      "Training until validation scores don't improve for 500 rounds\n",
      "[500]\tvalid_0's auc: 0.776445\n",
      "[1000]\tvalid_0's auc: 0.782818\n",
      "[1500]\tvalid_0's auc: 0.785007\n",
      "[2000]\tvalid_0's auc: 0.785363\n",
      "[2500]\tvalid_0's auc: 0.785692\n",
      "[3000]\tvalid_0's auc: 0.785595\n",
      "Early stopping, best iteration is:\n",
      "[2558]\tvalid_0's auc: 0.785707\n"
     ]
    },
    {
     "name": "stderr",
     "output_type": "stream",
     "text": [
      "50it [22:15, 26.71s/it]\n"
     ]
    }
   ],
   "source": [
    "from sklearn.model_selection import StratifiedKFold\n",
    "from tqdm import tqdm\n",
    "\n",
    "folds = 50\n",
    "skf = StratifiedKFold(n_splits=folds, shuffle=True, random_state=42)\n",
    "pipeline.set_params(**best_params)\n",
    "df_test['target'] = 0\n",
    "\n",
    "for train_idx, val_idx in tqdm(skf.split(df, df['target'])):\n",
    "    df_train = df.loc[train_idx, :]\n",
    "    df_val = df.loc[val_idx, :]\n",
    "    X_val, y_val = Pipeline(pipeline.steps[:-1]).fit(df_train, df_train['target'])\\\n",
    "                                                    .transform(df_val), df_val['target']\n",
    "    fit_args = {\n",
    "        \"clf__early_stopping_rounds\": 500, \n",
    "        \"clf__eval_set\": (X_val, y_val),\n",
    "        \"clf__verbose\": 500,\n",
    "        \"clf__eval_metric\": 'auc'\n",
    "    }\n",
    "        \n",
    "    pipeline.fit(df_train, df_train['target'], **fit_args)\n",
    "    prob = pipeline.predict_proba(df_val)[:, 1]\n",
    "    score = roc_auc_score(y_val, prob)\n",
    "    \n",
    "    df_test['target'] += pipeline.predict_proba(df_test)[:, 1]\n"
   ]
  },
  {
   "cell_type": "code",
   "execution_count": 12,
   "metadata": {},
   "outputs": [
    {
     "name": "stdout",
     "output_type": "stream",
     "text": [
      "id,target\r\n",
      "600000,0.374122485210922\r\n",
      "600001,0.5983712415087725\r\n",
      "600002,0.4304930025513145\r\n",
      "600003,0.3404663496448673\r\n"
     ]
    }
   ],
   "source": [
    "df_test['target'] /= folds\n",
    "df_test[['id', 'target']].to_csv('../data/submission_lgbm.csv', index=False)\n",
    "!head -n 5 ../data/submission_lgbm.csv"
   ]
  },
  {
   "cell_type": "code",
   "execution_count": null,
   "metadata": {},
   "outputs": [],
   "source": []
  }
 ],
 "metadata": {
  "kernelspec": {
   "display_name": "cfec2",
   "language": "python",
   "name": "cfec2"
  },
  "language_info": {
   "codemirror_mode": {
    "name": "ipython",
    "version": 3
   },
   "file_extension": ".py",
   "mimetype": "text/x-python",
   "name": "python",
   "nbconvert_exporter": "python",
   "pygments_lexer": "ipython3",
   "version": "3.7.6"
  }
 },
 "nbformat": 4,
 "nbformat_minor": 4
}
