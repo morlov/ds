{
 "cells": [
  {
   "cell_type": "code",
   "execution_count": 1,
   "metadata": {},
   "outputs": [],
   "source": [
    "%load_ext autoreload\n",
    "%autoreload 2"
   ]
  },
  {
   "cell_type": "code",
   "execution_count": 2,
   "metadata": {},
   "outputs": [
    {
     "name": "stderr",
     "output_type": "stream",
     "text": [
      "Using TensorFlow backend.\n"
     ]
    }
   ],
   "source": [
    "import pandas as pd\n",
    "import numpy as np\n",
    "import tensorflow as tf\n",
    "from tqdm import tqdm\n",
    "from sklearn.model_selection import StratifiedKFold\n",
    "from sklearn import metrics, preprocessing\n",
    "from tensorflow.keras import layers\n",
    "from tensorflow.keras import optimizers\n",
    "from keras import optimizers\n",
    "from tensorflow.keras.models import Model, load_model\n",
    "from tensorflow.keras.callbacks import EarlyStopping, ReduceLROnPlateau\n",
    "from tensorflow.keras import backend as K\n",
    "from tensorflow.keras import utils\n",
    "from sklearn.model_selection import StratifiedKFold\n",
    "import category_encoders as ce\n",
    "import numpy as np\n",
    "import datetime\n",
    "import itertools\n",
    "from keras import regularizers"
   ]
  },
  {
   "cell_type": "code",
   "execution_count": 3,
   "metadata": {},
   "outputs": [
    {
     "name": "stderr",
     "output_type": "stream",
     "text": [
      "100%|██████████| 23/23 [00:20<00:00,  1.10it/s]\n"
     ]
    }
   ],
   "source": [
    "df = pd.read_csv('../data/train.csv')\n",
    "df_test = pd.read_csv('../data/test.csv')\n",
    "\n",
    "mapping_ord1 = {'Unknown': 0, 'Novice': 1, 'Contributor': 2, 'Expert': 3, 'Master': 4, 'Grandmaster': 5}\n",
    "mapping_ord2 = {'Unknown': 0, 'Freezing': 1, 'Cold': 2, 'Warm': 3, 'Hot': 4, 'Boiling Hot': 5, 'Lava Hot': 6}\n",
    "mapping_ord3 = dict([(v, i) for i, v in enumerate(sorted(set(df['ord_3'].fillna(\"0\"))))])\n",
    "mapping_ord4 = dict([(v, i) for i, v in enumerate(sorted(set(df['ord_4'].fillna(\"0\"))))])\n",
    "mapping_ord5 = dict([(v, i) for i, v in enumerate(sorted(set(df['ord_5'].fillna(\"0\"))))])\n",
    "\n",
    "def preprocess_data(df):\n",
    "    df['ord_0'] = df['ord_0'].fillna(0)\n",
    "    df['ord_1'] =  df['ord_1'].fillna('Unknown').map(mapping_ord1)\n",
    "    df['ord_2'] =  df['ord_2'].fillna('Unknown').map(mapping_ord2)\n",
    "    df['ord_3'] =  df['ord_3'].fillna('0').map(mapping_ord3)\n",
    "    df['ord_4'] =  df['ord_4'].fillna('0').map(mapping_ord4)\n",
    "    df['ord_5'] =  df['ord_5'].fillna('0').map(mapping_ord5)\n",
    "    df['bin_3'] = df['bin_3'].fillna('U').map({\"T\": 1, \"F\": 0, \"U\": np.nan})\n",
    "    df['bin_4'] = df['bin_4'].fillna('U').map({\"Y\": 1, \"N\": 0, \"U\": np.nan})\n",
    "    return df\n",
    "    \n",
    "df = preprocess_data(df)\n",
    "df_test = preprocess_data(df_test)\n",
    "\n",
    "binary = ['bin_0', 'bin_1', 'bin_2', 'bin_3', 'bin_4']\n",
    "ordinal  = ['ord_0', 'ord_1', 'ord_2', 'ord_3', 'ord_4', 'ord_5']\n",
    "low_card = ['nom_0', 'nom_1', 'nom_2', 'nom_3', 'nom_4']\n",
    "high_card = ['nom_5', 'nom_6', 'nom_7', 'nom_8', 'nom_9']\n",
    "date = ['day', 'month']\n",
    "cyclic = ['day_sin', 'day_cos', 'month_sin', 'month_cos']\n",
    "\n",
    "features = high_card + low_card + date + ordinal + binary\n",
    "\n",
    "for c in tqdm(features):\n",
    "    enc = preprocessing.LabelEncoder()\n",
    "    enc.fit(pd.concat([df, df_test], sort=False)[c].fillna(-1).astype(str))\n",
    "    df[c] = enc.transform(df[c].fillna(-1).astype(str))\n",
    "    df_test[c] = enc.transform(df_test[c].fillna(-1).astype(str))"
   ]
  },
  {
   "cell_type": "code",
   "execution_count": 4,
   "metadata": {},
   "outputs": [
    {
     "data": {
      "text/html": [
       "<div>\n",
       "<style scoped>\n",
       "    .dataframe tbody tr th:only-of-type {\n",
       "        vertical-align: middle;\n",
       "    }\n",
       "\n",
       "    .dataframe tbody tr th {\n",
       "        vertical-align: top;\n",
       "    }\n",
       "\n",
       "    .dataframe thead th {\n",
       "        text-align: right;\n",
       "    }\n",
       "</style>\n",
       "<table border=\"1\" class=\"dataframe\">\n",
       "  <thead>\n",
       "    <tr style=\"text-align: right;\">\n",
       "      <th></th>\n",
       "      <th>id</th>\n",
       "      <th>bin_0</th>\n",
       "      <th>bin_1</th>\n",
       "      <th>bin_2</th>\n",
       "      <th>bin_3</th>\n",
       "      <th>bin_4</th>\n",
       "      <th>nom_0</th>\n",
       "      <th>nom_1</th>\n",
       "      <th>nom_2</th>\n",
       "      <th>nom_3</th>\n",
       "      <th>...</th>\n",
       "      <th>nom_9</th>\n",
       "      <th>ord_0</th>\n",
       "      <th>ord_1</th>\n",
       "      <th>ord_2</th>\n",
       "      <th>ord_3</th>\n",
       "      <th>ord_4</th>\n",
       "      <th>ord_5</th>\n",
       "      <th>day</th>\n",
       "      <th>month</th>\n",
       "      <th>target</th>\n",
       "    </tr>\n",
       "  </thead>\n",
       "  <tbody>\n",
       "    <tr>\n",
       "      <th>0</th>\n",
       "      <td>0</td>\n",
       "      <td>1</td>\n",
       "      <td>1</td>\n",
       "      <td>1</td>\n",
       "      <td>1</td>\n",
       "      <td>1</td>\n",
       "      <td>3</td>\n",
       "      <td>5</td>\n",
       "      <td>4</td>\n",
       "      <td>6</td>\n",
       "      <td>...</td>\n",
       "      <td>28</td>\n",
       "      <td>3</td>\n",
       "      <td>2</td>\n",
       "      <td>4</td>\n",
       "      <td>9</td>\n",
       "      <td>14</td>\n",
       "      <td>144</td>\n",
       "      <td>6</td>\n",
       "      <td>6</td>\n",
       "      <td>0</td>\n",
       "    </tr>\n",
       "    <tr>\n",
       "      <th>1</th>\n",
       "      <td>1</td>\n",
       "      <td>2</td>\n",
       "      <td>2</td>\n",
       "      <td>1</td>\n",
       "      <td>1</td>\n",
       "      <td>2</td>\n",
       "      <td>3</td>\n",
       "      <td>4</td>\n",
       "      <td>1</td>\n",
       "      <td>0</td>\n",
       "      <td>...</td>\n",
       "      <td>2113</td>\n",
       "      <td>3</td>\n",
       "      <td>5</td>\n",
       "      <td>3</td>\n",
       "      <td>11</td>\n",
       "      <td>17</td>\n",
       "      <td>59</td>\n",
       "      <td>7</td>\n",
       "      <td>10</td>\n",
       "      <td>0</td>\n",
       "    </tr>\n",
       "    <tr>\n",
       "      <th>2</th>\n",
       "      <td>2</td>\n",
       "      <td>1</td>\n",
       "      <td>2</td>\n",
       "      <td>1</td>\n",
       "      <td>1</td>\n",
       "      <td>1</td>\n",
       "      <td>3</td>\n",
       "      <td>0</td>\n",
       "      <td>4</td>\n",
       "      <td>1</td>\n",
       "      <td>...</td>\n",
       "      <td>0</td>\n",
       "      <td>3</td>\n",
       "      <td>0</td>\n",
       "      <td>1</td>\n",
       "      <td>6</td>\n",
       "      <td>8</td>\n",
       "      <td>9</td>\n",
       "      <td>5</td>\n",
       "      <td>12</td>\n",
       "      <td>0</td>\n",
       "    </tr>\n",
       "    <tr>\n",
       "      <th>3</th>\n",
       "      <td>3</td>\n",
       "      <td>0</td>\n",
       "      <td>1</td>\n",
       "      <td>1</td>\n",
       "      <td>1</td>\n",
       "      <td>1</td>\n",
       "      <td>3</td>\n",
       "      <td>1</td>\n",
       "      <td>4</td>\n",
       "      <td>4</td>\n",
       "      <td>...</td>\n",
       "      <td>2168</td>\n",
       "      <td>1</td>\n",
       "      <td>1</td>\n",
       "      <td>6</td>\n",
       "      <td>1</td>\n",
       "      <td>20</td>\n",
       "      <td>0</td>\n",
       "      <td>3</td>\n",
       "      <td>6</td>\n",
       "      <td>0</td>\n",
       "    </tr>\n",
       "    <tr>\n",
       "      <th>4</th>\n",
       "      <td>4</td>\n",
       "      <td>1</td>\n",
       "      <td>0</td>\n",
       "      <td>1</td>\n",
       "      <td>2</td>\n",
       "      <td>1</td>\n",
       "      <td>3</td>\n",
       "      <td>6</td>\n",
       "      <td>4</td>\n",
       "      <td>3</td>\n",
       "      <td>...</td>\n",
       "      <td>1748</td>\n",
       "      <td>3</td>\n",
       "      <td>5</td>\n",
       "      <td>2</td>\n",
       "      <td>14</td>\n",
       "      <td>20</td>\n",
       "      <td>138</td>\n",
       "      <td>5</td>\n",
       "      <td>4</td>\n",
       "      <td>0</td>\n",
       "    </tr>\n",
       "  </tbody>\n",
       "</table>\n",
       "<p>5 rows × 25 columns</p>\n",
       "</div>"
      ],
      "text/plain": [
       "   id  bin_0  bin_1  bin_2  bin_3  bin_4  nom_0  nom_1  nom_2  nom_3  ...  \\\n",
       "0   0      1      1      1      1      1      3      5      4      6  ...   \n",
       "1   1      2      2      1      1      2      3      4      1      0  ...   \n",
       "2   2      1      2      1      1      1      3      0      4      1  ...   \n",
       "3   3      0      1      1      1      1      3      1      4      4  ...   \n",
       "4   4      1      0      1      2      1      3      6      4      3  ...   \n",
       "\n",
       "   nom_9  ord_0  ord_1  ord_2  ord_3  ord_4  ord_5  day  month  target  \n",
       "0     28      3      2      4      9     14    144    6      6       0  \n",
       "1   2113      3      5      3     11     17     59    7     10       0  \n",
       "2      0      3      0      1      6      8      9    5     12       0  \n",
       "3   2168      1      1      6      1     20      0    3      6       0  \n",
       "4   1748      3      5      2     14     20    138    5      4       0  \n",
       "\n",
       "[5 rows x 25 columns]"
      ]
     },
     "execution_count": 4,
     "metadata": {},
     "output_type": "execute_result"
    }
   ],
   "source": [
    "df.head()"
   ]
  },
  {
   "cell_type": "code",
   "execution_count": 5,
   "metadata": {},
   "outputs": [],
   "source": [
    "def create_model(df, cols):    \n",
    "    \n",
    "    inputs = []\n",
    "    outputs = []\n",
    "        \n",
    "    for c in cols:\n",
    "        nunique = int(df[c].nunique())\n",
    "        emb_dim = int(min(np.ceil((nunique)/2), 64))\n",
    "        inp = layers.Input(shape=(1,))\n",
    "        out = layers.Embedding(nunique + 1, emb_dim, name=c)(inp)\n",
    "        out = layers.SpatialDropout1D(0.3)(out)\n",
    "            \n",
    "        out = layers.Reshape(target_shape=(emb_dim, ))(out)\n",
    "        inputs.append(inp)\n",
    "        outputs.append(out)\n",
    "    \n",
    "    x = layers.Concatenate()(outputs)\n",
    "    x = layers.BatchNormalization()(x)\n",
    "    \n",
    "    x = layers.Dense(256, activation=\"relu\")(x)\n",
    "    x = layers.Dropout(0.3)(x)\n",
    "    x = layers.BatchNormalization()(x)\n",
    "    \n",
    "    x = layers.Dense(256, activation=\"relu\")(x)\n",
    "    x = layers.Dropout(0.3)(x)\n",
    "    x = layers.BatchNormalization()(x)\n",
    "    \n",
    "    x = layers.Dense(256, activation=\"relu\")(x)\n",
    "    x = layers.Dropout(0.3)(x)\n",
    "    x = layers.BatchNormalization()(x)\n",
    "    \n",
    "    y = layers.Dense(2, activation=\"softmax\")(x)\n",
    "\n",
    "    model = Model(inputs=inputs, outputs=y)\n",
    "    \n",
    "    return model"
   ]
  },
  {
   "cell_type": "code",
   "execution_count": 6,
   "metadata": {},
   "outputs": [],
   "source": [
    "def auc(y_true, y_pred):\n",
    "    def fallback_auc(y_true, y_pred):\n",
    "        try:\n",
    "            return metrics.roc_auc_score(y_true, y_pred)\n",
    "        except:\n",
    "            return 0.5\n",
    "    return tf.py_function(fallback_auc, (y_true, y_pred), tf.double)"
   ]
  },
  {
   "cell_type": "code",
   "execution_count": 7,
   "metadata": {},
   "outputs": [],
   "source": [
    "def get_layer_output(X, model):\n",
    "    layer = Model(inputs=model.input, outputs=model.get_layer(\"embeddings\").output)\n",
    "    out = emd_layer.predict(X)\n",
    "    return out"
   ]
  },
  {
   "cell_type": "code",
   "execution_count": 11,
   "metadata": {
    "scrolled": true
   },
   "outputs": [
    {
     "name": "stderr",
     "output_type": "stream",
     "text": [
      "\r",
      "0it [00:00, ?it/s]"
     ]
    },
    {
     "name": "stdout",
     "output_type": "stream",
     "text": [
      "Train on 588000 samples, validate on 12000 samples\n",
      "Epoch 1/100\n",
      "588000/588000 [==============================] - 15s 26us/sample - loss: 0.4701 - auc: 0.6981 - val_loss: 0.4050 - val_auc: 0.7811\n",
      "Epoch 2/100\n",
      "588000/588000 [==============================] - 12s 21us/sample - loss: 0.4081 - auc: 0.7702 - val_loss: 0.3970 - val_auc: 0.7864\n",
      "Epoch 3/100\n",
      "588000/588000 [==============================] - 13s 22us/sample - loss: 0.4029 - auc: 0.7789 - val_loss: 0.3949 - val_auc: 0.7878\n",
      "Epoch 4/100\n",
      "588000/588000 [==============================] - 13s 21us/sample - loss: 0.4003 - auc: 0.7827 - val_loss: 0.3979 - val_auc: 0.7850\n",
      "Epoch 5/100\n",
      "588000/588000 [==============================] - 12s 20us/sample - loss: 0.3984 - auc: 0.7857 - val_loss: 0.3969 - val_auc: 0.7858\n",
      "Epoch 6/100\n",
      "587776/588000 [============================>.] - ETA: 0s - loss: 0.3962 - auc: 0.7889\n",
      "Epoch 00006: ReduceLROnPlateau reducing learning rate to 0.0005000000237487257.\n",
      "588000/588000 [==============================] - 13s 21us/sample - loss: 0.3962 - auc: 0.7889 - val_loss: 0.3996 - val_auc: 0.7844\n",
      "Epoch 7/100\n",
      "588000/588000 [==============================] - 12s 21us/sample - loss: 0.3888 - auc: 0.7994 - val_loss: 0.4004 - val_auc: 0.7818\n",
      "Epoch 8/100\n",
      "587776/588000 [============================>.] - ETA: 0s - loss: 0.3844 - auc: 0.8059Restoring model weights from the end of the best epoch.\n",
      "588000/588000 [==============================] - 12s 20us/sample - loss: 0.3845 - auc: 0.8058 - val_loss: 0.4036 - val_auc: 0.7771\n",
      "Epoch 00008: early stopping\n"
     ]
    },
    {
     "name": "stderr",
     "output_type": "stream",
     "text": [
      "\r",
      "1it [02:00, 120.22s/it]"
     ]
    },
    {
     "name": "stdout",
     "output_type": "stream",
     "text": [
      "Train on 588000 samples, validate on 12000 samples\n",
      "Epoch 1/100\n",
      "588000/588000 [==============================] - 14s 25us/sample - loss: 0.4731 - auc: 0.6974 - val_loss: 0.4084 - val_auc: 0.7872\n",
      "Epoch 2/100\n",
      "588000/588000 [==============================] - 11s 19us/sample - loss: 0.4082 - auc: 0.7702 - val_loss: 0.3972 - val_auc: 0.7942\n",
      "Epoch 3/100\n",
      "588000/588000 [==============================] - 11s 19us/sample - loss: 0.4030 - auc: 0.7784 - val_loss: 0.3942 - val_auc: 0.7933\n",
      "Epoch 4/100\n",
      "588000/588000 [==============================] - 12s 20us/sample - loss: 0.4001 - auc: 0.7828 - val_loss: 0.3976 - val_auc: 0.7923\n",
      "Epoch 5/100\n",
      "587776/588000 [============================>.] - ETA: 0s - loss: 0.3981 - auc: 0.7860\n",
      "Epoch 00005: ReduceLROnPlateau reducing learning rate to 0.0005000000237487257.\n",
      "588000/588000 [==============================] - 11s 20us/sample - loss: 0.3981 - auc: 0.7859 - val_loss: 0.3982 - val_auc: 0.7905\n",
      "Epoch 6/100\n",
      "588000/588000 [==============================] - 11s 19us/sample - loss: 0.3926 - auc: 0.7939 - val_loss: 0.3997 - val_auc: 0.7891\n",
      "Epoch 7/100\n",
      "587776/588000 [============================>.] - ETA: 0s - loss: 0.3898 - auc: 0.7981Restoring model weights from the end of the best epoch.\n",
      "588000/588000 [==============================] - 11s 19us/sample - loss: 0.3898 - auc: 0.7982 - val_loss: 0.4034 - val_auc: 0.7865\n",
      "Epoch 00007: early stopping\n"
     ]
    },
    {
     "name": "stderr",
     "output_type": "stream",
     "text": [
      "\r",
      "2it [03:41, 114.43s/it]"
     ]
    },
    {
     "name": "stdout",
     "output_type": "stream",
     "text": [
      "Train on 588000 samples, validate on 12000 samples\n",
      "Epoch 1/100\n",
      "588000/588000 [==============================] - 15s 25us/sample - loss: 0.4708 - auc: 0.6982 - val_loss: 0.4084 - val_auc: 0.7773\n",
      "Epoch 2/100\n",
      "588000/588000 [==============================] - 12s 20us/sample - loss: 0.4080 - auc: 0.7704 - val_loss: 0.4013 - val_auc: 0.7812\n",
      "Epoch 3/100\n",
      "588000/588000 [==============================] - 12s 20us/sample - loss: 0.4028 - auc: 0.7790 - val_loss: 0.4014 - val_auc: 0.7808\n",
      "Epoch 4/100\n",
      "588000/588000 [==============================] - 12s 20us/sample - loss: 0.4000 - auc: 0.7833 - val_loss: 0.4016 - val_auc: 0.7807\n",
      "Epoch 5/100\n",
      "587776/588000 [============================>.] - ETA: 0s - loss: 0.3980 - auc: 0.7860\n",
      "Epoch 00005: ReduceLROnPlateau reducing learning rate to 0.0005000000237487257.\n",
      "588000/588000 [==============================] - 11s 19us/sample - loss: 0.3980 - auc: 0.7860 - val_loss: 0.4027 - val_auc: 0.7794\n",
      "Epoch 6/100\n",
      "588000/588000 [==============================] - 12s 20us/sample - loss: 0.3926 - auc: 0.7938 - val_loss: 0.4045 - val_auc: 0.7776\n",
      "Epoch 7/100\n",
      "587776/588000 [============================>.] - ETA: 0s - loss: 0.3893 - auc: 0.7986Restoring model weights from the end of the best epoch.\n",
      "588000/588000 [==============================] - 12s 20us/sample - loss: 0.3893 - auc: 0.7986 - val_loss: 0.4070 - val_auc: 0.7739\n",
      "Epoch 00007: early stopping\n"
     ]
    },
    {
     "name": "stderr",
     "output_type": "stream",
     "text": [
      "\r",
      "3it [05:23, 110.74s/it]"
     ]
    },
    {
     "name": "stdout",
     "output_type": "stream",
     "text": [
      "Train on 588000 samples, validate on 12000 samples\n",
      "Epoch 1/100\n",
      "588000/588000 [==============================] - 15s 26us/sample - loss: 0.4709 - auc: 0.6989 - val_loss: 0.4062 - val_auc: 0.7842\n",
      "Epoch 2/100\n",
      "588000/588000 [==============================] - 13s 21us/sample - loss: 0.4082 - auc: 0.7702 - val_loss: 0.3987 - val_auc: 0.7866\n",
      "Epoch 3/100\n",
      "588000/588000 [==============================] - 13s 22us/sample - loss: 0.4029 - auc: 0.7786 - val_loss: 0.3978 - val_auc: 0.7875\n",
      "Epoch 4/100\n",
      "588000/588000 [==============================] - 14s 24us/sample - loss: 0.4004 - auc: 0.7827 - val_loss: 0.3990 - val_auc: 0.7867\n",
      "Epoch 5/100\n",
      "588000/588000 [==============================] - 14s 24us/sample - loss: 0.3981 - auc: 0.7860 - val_loss: 0.3986 - val_auc: 0.7858\n",
      "Epoch 6/100\n",
      "587776/588000 [============================>.] - ETA: 0s - loss: 0.3958 - auc: 0.7895- ETA: 1s \n",
      "Epoch 00006: ReduceLROnPlateau reducing learning rate to 0.0005000000237487257.\n",
      "588000/588000 [==============================] - 14s 23us/sample - loss: 0.3958 - auc: 0.7897 - val_loss: 0.4017 - val_auc: 0.7831\n",
      "Epoch 7/100\n",
      "588000/588000 [==============================] - 13s 23us/sample - loss: 0.3884 - auc: 0.7999 - val_loss: 0.4068 - val_auc: 0.7774\n",
      "Epoch 8/100\n",
      "586752/588000 [============================>.] - ETA: 0s - loss: 0.3845 - auc: 0.8054Restoring model weights from the end of the best epoch.\n",
      "588000/588000 [==============================] - 14s 24us/sample - loss: 0.3845 - auc: 0.8054 - val_loss: 0.4088 - val_auc: 0.7726\n",
      "Epoch 00008: early stopping\n"
     ]
    },
    {
     "name": "stderr",
     "output_type": "stream",
     "text": [
      "\r",
      "4it [07:32, 116.34s/it]"
     ]
    },
    {
     "name": "stdout",
     "output_type": "stream",
     "text": [
      "Train on 588000 samples, validate on 12000 samples\n",
      "Epoch 1/100\n",
      "588000/588000 [==============================] - 17s 29us/sample - loss: 0.4734 - auc: 0.6975 - val_loss: 0.4136 - val_auc: 0.7729\n",
      "Epoch 2/100\n",
      "588000/588000 [==============================] - 13s 22us/sample - loss: 0.4079 - auc: 0.7708 - val_loss: 0.4031 - val_auc: 0.7777\n",
      "Epoch 3/100\n",
      "588000/588000 [==============================] - 14s 23us/sample - loss: 0.4026 - auc: 0.7791 - val_loss: 0.4059 - val_auc: 0.7765\n",
      "Epoch 4/100\n",
      "588000/588000 [==============================] - 13s 23us/sample - loss: 0.4004 - auc: 0.7827 - val_loss: 0.4045 - val_auc: 0.7758\n",
      "Epoch 5/100\n",
      "585728/588000 [============================>.] - ETA: 0s - loss: 0.3985 - auc: 0.7856\n",
      "Epoch 00005: ReduceLROnPlateau reducing learning rate to 0.0005000000237487257.\n",
      "588000/588000 [==============================] - 14s 23us/sample - loss: 0.3985 - auc: 0.7856 - val_loss: 0.4057 - val_auc: 0.7724\n",
      "Epoch 6/100\n",
      "588000/588000 [==============================] - 14s 23us/sample - loss: 0.3928 - auc: 0.7933 - val_loss: 0.4085 - val_auc: 0.7712\n",
      "Epoch 7/100\n",
      "585728/588000 [============================>.] - ETA: 0s - loss: 0.3896 - auc: 0.7982Restoring model weights from the end of the best epoch.\n",
      "588000/588000 [==============================] - 13s 22us/sample - loss: 0.3896 - auc: 0.7982 - val_loss: 0.4108 - val_auc: 0.7680\n",
      "Epoch 00007: early stopping\n"
     ]
    },
    {
     "name": "stderr",
     "output_type": "stream",
     "text": [
      "\r",
      "5it [09:30, 116.72s/it]"
     ]
    },
    {
     "name": "stdout",
     "output_type": "stream",
     "text": [
      "Train on 588000 samples, validate on 12000 samples\n",
      "Epoch 1/100\n",
      "588000/588000 [==============================] - 16s 28us/sample - loss: 0.4686 - auc: 0.7018 - val_loss: 0.4166 - val_auc: 0.7793\n",
      "Epoch 2/100\n",
      "588000/588000 [==============================] - 13s 21us/sample - loss: 0.4077 - auc: 0.7711 - val_loss: 0.3994 - val_auc: 0.7833\n",
      "Epoch 3/100\n",
      "588000/588000 [==============================] - 13s 22us/sample - loss: 0.4029 - auc: 0.7788 - val_loss: 0.4015 - val_auc: 0.7816\n",
      "Epoch 4/100\n",
      "588000/588000 [==============================] - 13s 22us/sample - loss: 0.3998 - auc: 0.7834 - val_loss: 0.4000 - val_auc: 0.7821\n",
      "Epoch 5/100\n",
      "585728/588000 [============================>.] - ETA: 0s - loss: 0.3977 - auc: 0.7867\n",
      "Epoch 00005: ReduceLROnPlateau reducing learning rate to 0.0005000000237487257.\n",
      "588000/588000 [==============================] - 13s 23us/sample - loss: 0.3978 - auc: 0.7867 - val_loss: 0.4022 - val_auc: 0.7808\n",
      "Epoch 6/100\n",
      "588000/588000 [==============================] - 14s 24us/sample - loss: 0.3920 - auc: 0.7949 - val_loss: 0.4061 - val_auc: 0.7792\n",
      "Epoch 7/100\n",
      "587776/588000 [============================>.] - ETA: 0s - loss: 0.3889 - auc: 0.7994Restoring model weights from the end of the best epoch.\n",
      "588000/588000 [==============================] - 13s 23us/sample - loss: 0.3889 - auc: 0.7993 - val_loss: 0.4067 - val_auc: 0.7774\n",
      "Epoch 00007: early stopping\n"
     ]
    },
    {
     "name": "stderr",
     "output_type": "stream",
     "text": [
      "\r",
      "6it [11:27, 116.80s/it]"
     ]
    },
    {
     "name": "stdout",
     "output_type": "stream",
     "text": [
      "Train on 588000 samples, validate on 12000 samples\n",
      "Epoch 1/100\n",
      "588000/588000 [==============================] - 16s 28us/sample - loss: 0.4674 - auc: 0.7004 - val_loss: 0.4057 - val_auc: 0.7814\n",
      "Epoch 2/100\n",
      "588000/588000 [==============================] - 13s 22us/sample - loss: 0.4079 - auc: 0.7706 - val_loss: 0.3979 - val_auc: 0.7863\n",
      "Epoch 3/100\n",
      "588000/588000 [==============================] - 13s 22us/sample - loss: 0.4028 - auc: 0.7790 - val_loss: 0.3971 - val_auc: 0.7878\n",
      "Epoch 4/100\n",
      "588000/588000 [==============================] - 15s 25us/sample - loss: 0.4000 - auc: 0.7834 - val_loss: 0.3977 - val_auc: 0.7867\n",
      "Epoch 5/100\n",
      "588000/588000 [==============================] - 15s 25us/sample - loss: 0.3979 - auc: 0.7863 - val_loss: 0.3986 - val_auc: 0.7857\n",
      "Epoch 6/100\n",
      "586752/588000 [============================>.] - ETA: 0s - loss: 0.3953 - auc: 0.7902\n",
      "Epoch 00006: ReduceLROnPlateau reducing learning rate to 0.0005000000237487257.\n",
      "588000/588000 [==============================] - 13s 23us/sample - loss: 0.3953 - auc: 0.7901 - val_loss: 0.4014 - val_auc: 0.7820\n",
      "Epoch 7/100\n",
      "588000/588000 [==============================] - 14s 23us/sample - loss: 0.3877 - auc: 0.8009 - val_loss: 0.4073 - val_auc: 0.7761\n",
      "Epoch 8/100\n",
      "586752/588000 [============================>.] - ETA: 0s - loss: 0.3834 - auc: 0.8072Restoring model weights from the end of the best epoch.\n",
      "588000/588000 [==============================] - 13s 23us/sample - loss: 0.3833 - auc: 0.8072 - val_loss: 0.4102 - val_auc: 0.7724\n",
      "Epoch 00008: early stopping\n"
     ]
    },
    {
     "name": "stderr",
     "output_type": "stream",
     "text": [
      "\r",
      "7it [13:39, 121.38s/it]"
     ]
    },
    {
     "name": "stdout",
     "output_type": "stream",
     "text": [
      "Train on 588000 samples, validate on 12000 samples\n",
      "Epoch 1/100\n",
      "588000/588000 [==============================] - 16s 28us/sample - loss: 0.4720 - auc: 0.6958 - val_loss: 0.4050 - val_auc: 0.7846\n",
      "Epoch 2/100\n",
      "588000/588000 [==============================] - 13s 22us/sample - loss: 0.4081 - auc: 0.7701 - val_loss: 0.3929 - val_auc: 0.7929\n",
      "Epoch 3/100\n",
      "588000/588000 [==============================] - 13s 22us/sample - loss: 0.4029 - auc: 0.7789 - val_loss: 0.3934 - val_auc: 0.7936\n",
      "Epoch 4/100\n",
      "588000/588000 [==============================] - 13s 23us/sample - loss: 0.4001 - auc: 0.7826 - val_loss: 0.3937 - val_auc: 0.7934\n",
      "Epoch 5/100\n",
      "588000/588000 [==============================] - 13s 22us/sample - loss: 0.3983 - auc: 0.7856 - val_loss: 0.3958 - val_auc: 0.7903\n",
      "Epoch 6/100\n",
      "587776/588000 [============================>.] - ETA: 0s - loss: 0.3959 - auc: 0.7894\n",
      "Epoch 00006: ReduceLROnPlateau reducing learning rate to 0.0005000000237487257.\n",
      "588000/588000 [==============================] - 12s 21us/sample - loss: 0.3959 - auc: 0.7895 - val_loss: 0.3946 - val_auc: 0.7911\n",
      "Epoch 7/100\n",
      "588000/588000 [==============================] - 12s 21us/sample - loss: 0.3888 - auc: 0.7991 - val_loss: 0.3976 - val_auc: 0.7864\n",
      "Epoch 8/100\n",
      "587776/588000 [============================>.] - ETA: 0s - loss: 0.3845 - auc: 0.8058Restoring model weights from the end of the best epoch.\n",
      "588000/588000 [==============================] - 12s 21us/sample - loss: 0.3845 - auc: 0.8059 - val_loss: 0.3998 - val_auc: 0.7826\n",
      "Epoch 00008: early stopping\n"
     ]
    },
    {
     "name": "stderr",
     "output_type": "stream",
     "text": [
      "\r",
      "8it [15:43, 122.10s/it]"
     ]
    },
    {
     "name": "stdout",
     "output_type": "stream",
     "text": [
      "Train on 588000 samples, validate on 12000 samples\n",
      "Epoch 1/100\n",
      "588000/588000 [==============================] - 15s 25us/sample - loss: 0.4723 - auc: 0.6966 - val_loss: 0.4093 - val_auc: 0.7740\n",
      "Epoch 2/100\n",
      "588000/588000 [==============================] - 12s 21us/sample - loss: 0.4081 - auc: 0.7705 - val_loss: 0.4004 - val_auc: 0.7813\n",
      "Epoch 3/100\n",
      "588000/588000 [==============================] - 12s 20us/sample - loss: 0.4028 - auc: 0.7789 - val_loss: 0.4009 - val_auc: 0.7796\n",
      "Epoch 4/100\n",
      "588000/588000 [==============================] - 12s 20us/sample - loss: 0.4001 - auc: 0.7828 - val_loss: 0.4011 - val_auc: 0.7794\n",
      "Epoch 5/100\n",
      "587776/588000 [============================>.] - ETA: 0s - loss: 0.3985 - auc: 0.7855\n",
      "Epoch 00005: ReduceLROnPlateau reducing learning rate to 0.0005000000237487257.\n",
      "588000/588000 [==============================] - 12s 20us/sample - loss: 0.3985 - auc: 0.7855 - val_loss: 0.4020 - val_auc: 0.7783\n",
      "Epoch 6/100\n",
      "588000/588000 [==============================] - 11s 19us/sample - loss: 0.3924 - auc: 0.7940 - val_loss: 0.4030 - val_auc: 0.7766\n",
      "Epoch 7/100\n",
      "587776/588000 [============================>.] - ETA: 0s - loss: 0.3899 - auc: 0.7976Restoring model weights from the end of the best epoch.\n",
      "588000/588000 [==============================] - 12s 21us/sample - loss: 0.3900 - auc: 0.7976 - val_loss: 0.4044 - val_auc: 0.7739\n",
      "Epoch 00007: early stopping\n"
     ]
    },
    {
     "name": "stderr",
     "output_type": "stream",
     "text": [
      "\r",
      "9it [17:27, 116.65s/it]"
     ]
    },
    {
     "name": "stdout",
     "output_type": "stream",
     "text": [
      "Train on 588000 samples, validate on 12000 samples\n",
      "Epoch 1/100\n",
      "588000/588000 [==============================] - 17s 28us/sample - loss: 0.4703 - auc: 0.6999 - val_loss: 0.4079 - val_auc: 0.7769\n",
      "Epoch 2/100\n",
      "588000/588000 [==============================] - 12s 21us/sample - loss: 0.4074 - auc: 0.7715 - val_loss: 0.3999 - val_auc: 0.7818\n",
      "Epoch 3/100\n",
      "588000/588000 [==============================] - 12s 21us/sample - loss: 0.4027 - auc: 0.7790 - val_loss: 0.4003 - val_auc: 0.7820\n",
      "Epoch 4/100\n",
      "588000/588000 [==============================] - 12s 20us/sample - loss: 0.4002 - auc: 0.7825 - val_loss: 0.4020 - val_auc: 0.7817\n",
      "Epoch 5/100\n",
      "588000/588000 [==============================] - 12s 20us/sample - loss: 0.3982 - auc: 0.7859 - val_loss: 0.4022 - val_auc: 0.7813\n",
      "Epoch 6/100\n",
      "587776/588000 [============================>.] - ETA: 0s - loss: 0.3958 - auc: 0.7894\n",
      "Epoch 00006: ReduceLROnPlateau reducing learning rate to 0.0005000000237487257.\n",
      "588000/588000 [==============================] - 12s 20us/sample - loss: 0.3958 - auc: 0.7894 - val_loss: 0.4031 - val_auc: 0.7787\n",
      "Epoch 7/100\n",
      "588000/588000 [==============================] - 12s 20us/sample - loss: 0.3887 - auc: 0.7994 - val_loss: 0.4056 - val_auc: 0.7747\n",
      "Epoch 8/100\n",
      "587776/588000 [============================>.] - ETA: 0s - loss: 0.3844 - auc: 0.8059Restoring model weights from the end of the best epoch.\n",
      "588000/588000 [==============================] - 12s 20us/sample - loss: 0.3844 - auc: 0.8059 - val_loss: 0.4105 - val_auc: 0.7725\n",
      "Epoch 00008: early stopping\n"
     ]
    },
    {
     "name": "stderr",
     "output_type": "stream",
     "text": [
      "\r",
      "10it [19:25, 117.16s/it]"
     ]
    },
    {
     "name": "stdout",
     "output_type": "stream",
     "text": [
      "Train on 588000 samples, validate on 12000 samples\n",
      "Epoch 1/100\n",
      "588000/588000 [==============================] - 14s 24us/sample - loss: 0.4704 - auc: 0.6985 - val_loss: 0.4063 - val_auc: 0.7889\n",
      "Epoch 2/100\n",
      "588000/588000 [==============================] - 11s 20us/sample - loss: 0.4081 - auc: 0.7707 - val_loss: 0.3929 - val_auc: 0.7934\n",
      "Epoch 3/100\n",
      "588000/588000 [==============================] - 11s 19us/sample - loss: 0.4029 - auc: 0.7786 - val_loss: 0.3938 - val_auc: 0.7926\n",
      "Epoch 4/100\n",
      "588000/588000 [==============================] - 11s 19us/sample - loss: 0.4001 - auc: 0.7829 - val_loss: 0.3937 - val_auc: 0.7914\n",
      "Epoch 5/100\n",
      "587776/588000 [============================>.] - ETA: 0s - loss: 0.3982 - auc: 0.7859\n",
      "Epoch 00005: ReduceLROnPlateau reducing learning rate to 0.0005000000237487257.\n",
      "588000/588000 [==============================] - 11s 19us/sample - loss: 0.3982 - auc: 0.7859 - val_loss: 0.3954 - val_auc: 0.7899\n",
      "Epoch 6/100\n",
      "588000/588000 [==============================] - 11s 19us/sample - loss: 0.3923 - auc: 0.7943 - val_loss: 0.3966 - val_auc: 0.7878\n",
      "Epoch 7/100\n",
      "587776/588000 [============================>.] - ETA: 0s - loss: 0.3894 - auc: 0.7985Restoring model weights from the end of the best epoch.\n",
      "588000/588000 [==============================] - 11s 19us/sample - loss: 0.3894 - auc: 0.7985 - val_loss: 0.4010 - val_auc: 0.7855\n",
      "Epoch 00007: early stopping\n"
     ]
    },
    {
     "name": "stderr",
     "output_type": "stream",
     "text": [
      "\r",
      "11it [21:05, 112.10s/it]"
     ]
    },
    {
     "name": "stdout",
     "output_type": "stream",
     "text": [
      "Train on 588000 samples, validate on 12000 samples\n",
      "Epoch 1/100\n",
      "588000/588000 [==============================] - 15s 25us/sample - loss: 0.4694 - auc: 0.6991 - val_loss: 0.4037 - val_auc: 0.7808\n",
      "Epoch 2/100\n",
      "588000/588000 [==============================] - 13s 22us/sample - loss: 0.4077 - auc: 0.7710 - val_loss: 0.3972 - val_auc: 0.7864\n",
      "Epoch 3/100\n",
      "588000/588000 [==============================] - 13s 21us/sample - loss: 0.4029 - auc: 0.7788 - val_loss: 0.3977 - val_auc: 0.7840\n",
      "Epoch 4/100\n",
      "588000/588000 [==============================] - 13s 22us/sample - loss: 0.4002 - auc: 0.7829 - val_loss: 0.3975 - val_auc: 0.7846\n",
      "Epoch 5/100\n",
      "587776/588000 [============================>.] - ETA: 0s - loss: 0.3979 - auc: 0.7863\n",
      "Epoch 00005: ReduceLROnPlateau reducing learning rate to 0.0005000000237487257.\n",
      "588000/588000 [==============================] - 13s 22us/sample - loss: 0.3979 - auc: 0.7863 - val_loss: 0.3979 - val_auc: 0.7847\n",
      "Epoch 6/100\n",
      "588000/588000 [==============================] - 13s 22us/sample - loss: 0.3924 - auc: 0.7940 - val_loss: 0.4015 - val_auc: 0.7797\n",
      "Epoch 7/100\n",
      "587776/588000 [============================>.] - ETA: 0s - loss: 0.3894 - auc: 0.7982Restoring model weights from the end of the best epoch.\n",
      "588000/588000 [==============================] - 13s 22us/sample - loss: 0.3895 - auc: 0.7982 - val_loss: 0.4023 - val_auc: 0.7791\n",
      "Epoch 00007: early stopping\n"
     ]
    },
    {
     "name": "stderr",
     "output_type": "stream",
     "text": [
      "\r",
      "12it [22:55, 111.47s/it]"
     ]
    },
    {
     "name": "stdout",
     "output_type": "stream",
     "text": [
      "Train on 588000 samples, validate on 12000 samples\n",
      "Epoch 1/100\n",
      "588000/588000 [==============================] - 16s 27us/sample - loss: 0.4698 - auc: 0.6991 - val_loss: 0.4030 - val_auc: 0.7861\n",
      "Epoch 2/100\n",
      "588000/588000 [==============================] - 13s 22us/sample - loss: 0.4079 - auc: 0.7706 - val_loss: 0.3972 - val_auc: 0.7873\n",
      "Epoch 3/100\n",
      "588000/588000 [==============================] - 12s 20us/sample - loss: 0.4030 - auc: 0.7790 - val_loss: 0.3958 - val_auc: 0.7881\n",
      "Epoch 4/100\n",
      "588000/588000 [==============================] - 12s 21us/sample - loss: 0.3999 - auc: 0.7833 - val_loss: 0.3985 - val_auc: 0.7866\n",
      "Epoch 5/100\n",
      "588000/588000 [==============================] - 12s 20us/sample - loss: 0.3980 - auc: 0.7863 - val_loss: 0.3972 - val_auc: 0.7862\n",
      "Epoch 6/100\n",
      "587776/588000 [============================>.] - ETA: 0s - loss: 0.3954 - auc: 0.7899\n",
      "Epoch 00006: ReduceLROnPlateau reducing learning rate to 0.0005000000237487257.\n",
      "588000/588000 [==============================] - 13s 23us/sample - loss: 0.3954 - auc: 0.7899 - val_loss: 0.3998 - val_auc: 0.7846\n",
      "Epoch 7/100\n",
      "588000/588000 [==============================] - 12s 20us/sample - loss: 0.3882 - auc: 0.8002 - val_loss: 0.4030 - val_auc: 0.7792\n",
      "Epoch 8/100\n",
      "587776/588000 [============================>.] - ETA: 0s - loss: 0.3840 - auc: 0.8062Restoring model weights from the end of the best epoch.\n",
      "588000/588000 [==============================] - 12s 20us/sample - loss: 0.3840 - auc: 0.8062 - val_loss: 0.4070 - val_auc: 0.7748\n",
      "Epoch 00008: early stopping\n"
     ]
    },
    {
     "name": "stderr",
     "output_type": "stream",
     "text": [
      "\r",
      "13it [24:55, 113.88s/it]"
     ]
    },
    {
     "name": "stdout",
     "output_type": "stream",
     "text": [
      "Train on 588000 samples, validate on 12000 samples\n",
      "Epoch 1/100\n",
      "588000/588000 [==============================] - 15s 25us/sample - loss: 0.4703 - auc: 0.6999 - val_loss: 0.4152 - val_auc: 0.7826\n",
      "Epoch 2/100\n",
      "588000/588000 [==============================] - 12s 20us/sample - loss: 0.4078 - auc: 0.7712 - val_loss: 0.3977 - val_auc: 0.7859\n",
      "Epoch 3/100\n",
      "588000/588000 [==============================] - 12s 20us/sample - loss: 0.4026 - auc: 0.7794 - val_loss: 0.3982 - val_auc: 0.7850\n",
      "Epoch 4/100\n",
      "588000/588000 [==============================] - 12s 21us/sample - loss: 0.4002 - auc: 0.7828 - val_loss: 0.3980 - val_auc: 0.7866\n",
      "Epoch 5/100\n",
      "588000/588000 [==============================] - 12s 20us/sample - loss: 0.3983 - auc: 0.7857 - val_loss: 0.4020 - val_auc: 0.7829\n",
      "Epoch 6/100\n",
      "588000/588000 [==============================] - 12s 20us/sample - loss: 0.3956 - auc: 0.7894 - val_loss: 0.4012 - val_auc: 0.7815\n",
      "Epoch 7/100\n",
      "587776/588000 [============================>.] - ETA: 0s - loss: 0.3918 - auc: 0.7954\n",
      "Epoch 00007: ReduceLROnPlateau reducing learning rate to 0.0005000000237487257.\n",
      "588000/588000 [==============================] - 11s 20us/sample - loss: 0.3918 - auc: 0.7954 - val_loss: 0.4019 - val_auc: 0.7827\n",
      "Epoch 8/100\n",
      "588000/588000 [==============================] - 11s 20us/sample - loss: 0.3826 - auc: 0.8084 - val_loss: 0.4097 - val_auc: 0.7745\n",
      "Epoch 9/100\n",
      "587776/588000 [============================>.] - ETA: 0s - loss: 0.3775 - auc: 0.8150Restoring model weights from the end of the best epoch.\n",
      "588000/588000 [==============================] - 12s 20us/sample - loss: 0.3775 - auc: 0.8150 - val_loss: 0.4142 - val_auc: 0.7708\n",
      "Epoch 00009: early stopping\n"
     ]
    },
    {
     "name": "stderr",
     "output_type": "stream",
     "text": [
      "\r",
      "14it [27:00, 117.39s/it]"
     ]
    },
    {
     "name": "stdout",
     "output_type": "stream",
     "text": [
      "Train on 588000 samples, validate on 12000 samples\n",
      "Epoch 1/100\n",
      "588000/588000 [==============================] - 15s 25us/sample - loss: 0.4685 - auc: 0.7010 - val_loss: 0.4096 - val_auc: 0.7823\n",
      "Epoch 2/100\n",
      "588000/588000 [==============================] - 11s 19us/sample - loss: 0.4081 - auc: 0.7706 - val_loss: 0.3969 - val_auc: 0.7868\n",
      "Epoch 3/100\n",
      "588000/588000 [==============================] - 12s 20us/sample - loss: 0.4025 - auc: 0.7795 - val_loss: 0.3987 - val_auc: 0.7865\n",
      "Epoch 4/100\n",
      "588000/588000 [==============================] - 12s 20us/sample - loss: 0.4004 - auc: 0.7826 - val_loss: 0.3983 - val_auc: 0.7860\n",
      "Epoch 5/100\n",
      "587776/588000 [============================>.] - ETA: 0s - loss: 0.3979 - auc: 0.7861\n",
      "Epoch 00005: ReduceLROnPlateau reducing learning rate to 0.0005000000237487257.\n",
      "588000/588000 [==============================] - 12s 20us/sample - loss: 0.3979 - auc: 0.7861 - val_loss: 0.3982 - val_auc: 0.7852\n",
      "Epoch 6/100\n",
      "588000/588000 [==============================] - 12s 20us/sample - loss: 0.3920 - auc: 0.7948 - val_loss: 0.4023 - val_auc: 0.7826\n",
      "Epoch 7/100\n",
      "587776/588000 [============================>.] - ETA: 0s - loss: 0.3891 - auc: 0.7988Restoring model weights from the end of the best epoch.\n",
      "588000/588000 [==============================] - 12s 20us/sample - loss: 0.3892 - auc: 0.7988 - val_loss: 0.4040 - val_auc: 0.7797\n",
      "Epoch 00007: early stopping\n"
     ]
    },
    {
     "name": "stderr",
     "output_type": "stream",
     "text": [
      "\r",
      "15it [28:42, 112.71s/it]"
     ]
    },
    {
     "name": "stdout",
     "output_type": "stream",
     "text": [
      "Train on 588000 samples, validate on 12000 samples\n",
      "Epoch 1/100\n",
      "588000/588000 [==============================] - 14s 25us/sample - loss: 0.4738 - auc: 0.6943 - val_loss: 0.4062 - val_auc: 0.7858\n",
      "Epoch 2/100\n",
      "588000/588000 [==============================] - 12s 21us/sample - loss: 0.4083 - auc: 0.7701 - val_loss: 0.3948 - val_auc: 0.7914\n",
      "Epoch 3/100\n",
      "588000/588000 [==============================] - 15s 25us/sample - loss: 0.4028 - auc: 0.7790 - val_loss: 0.3943 - val_auc: 0.7930\n",
      "Epoch 4/100\n",
      "588000/588000 [==============================] - 15s 25us/sample - loss: 0.4008 - auc: 0.7818 - val_loss: 0.3949 - val_auc: 0.7924\n",
      "Epoch 5/100\n",
      "588000/588000 [==============================] - 15s 25us/sample - loss: 0.3984 - auc: 0.7856 - val_loss: 0.3986 - val_auc: 0.7889\n",
      "Epoch 6/100\n",
      "586752/588000 [============================>.] - ETA: 0s - loss: 0.3964 - auc: 0.7887\n",
      "Epoch 00006: ReduceLROnPlateau reducing learning rate to 0.0005000000237487257.\n",
      "588000/588000 [==============================] - 15s 25us/sample - loss: 0.3963 - auc: 0.7887 - val_loss: 0.3991 - val_auc: 0.7878\n",
      "Epoch 7/100\n",
      "588000/588000 [==============================] - 15s 25us/sample - loss: 0.3891 - auc: 0.7988 - val_loss: 0.4015 - val_auc: 0.7854\n",
      "Epoch 8/100\n",
      "586752/588000 [============================>.] - ETA: 0s - loss: 0.3848 - auc: 0.8053Restoring model weights from the end of the best epoch.\n",
      "588000/588000 [==============================] - 15s 25us/sample - loss: 0.3848 - auc: 0.8053 - val_loss: 0.4034 - val_auc: 0.7790\n",
      "Epoch 00008: early stopping\n"
     ]
    },
    {
     "name": "stderr",
     "output_type": "stream",
     "text": [
      "\r",
      "16it [31:00, 120.17s/it]"
     ]
    },
    {
     "name": "stdout",
     "output_type": "stream",
     "text": [
      "Train on 588000 samples, validate on 12000 samples\n",
      "Epoch 1/100\n",
      "588000/588000 [==============================] - 19s 32us/sample - loss: 0.4730 - auc: 0.6968 - val_loss: 0.4066 - val_auc: 0.7835\n",
      "Epoch 2/100\n",
      "588000/588000 [==============================] - 15s 25us/sample - loss: 0.4082 - auc: 0.7702 - val_loss: 0.3983 - val_auc: 0.7859\n",
      "Epoch 3/100\n",
      "588000/588000 [==============================] - 15s 25us/sample - loss: 0.4032 - auc: 0.7780 - val_loss: 0.3986 - val_auc: 0.7871\n",
      "Epoch 4/100\n",
      "588000/588000 [==============================] - 15s 25us/sample - loss: 0.4005 - auc: 0.7825 - val_loss: 0.4000 - val_auc: 0.7850\n",
      "Epoch 5/100\n",
      "588000/588000 [==============================] - 15s 25us/sample - loss: 0.3984 - auc: 0.7857 - val_loss: 0.3994 - val_auc: 0.7859\n",
      "Epoch 6/100\n",
      "586752/588000 [============================>.] - ETA: 0s - loss: 0.3959 - auc: 0.7894\n",
      "Epoch 00006: ReduceLROnPlateau reducing learning rate to 0.0005000000237487257.\n",
      "588000/588000 [==============================] - 15s 25us/sample - loss: 0.3960 - auc: 0.7893 - val_loss: 0.4021 - val_auc: 0.7834\n",
      "Epoch 7/100\n",
      "588000/588000 [==============================] - 15s 25us/sample - loss: 0.3893 - auc: 0.7985 - val_loss: 0.4035 - val_auc: 0.7812\n",
      "Epoch 8/100\n",
      "587776/588000 [============================>.] - ETA: 0s - loss: 0.3854 - auc: 0.8045Restoring model weights from the end of the best epoch.\n",
      "588000/588000 [==============================] - 15s 25us/sample - loss: 0.3854 - auc: 0.8045 - val_loss: 0.4084 - val_auc: 0.7764\n",
      "Epoch 00008: early stopping\n"
     ]
    },
    {
     "name": "stderr",
     "output_type": "stream",
     "text": [
      "\r",
      "17it [33:24, 127.47s/it]"
     ]
    },
    {
     "name": "stdout",
     "output_type": "stream",
     "text": [
      "Train on 588000 samples, validate on 12000 samples\n",
      "Epoch 1/100\n",
      "588000/588000 [==============================] - 19s 32us/sample - loss: 0.4716 - auc: 0.6973 - val_loss: 0.4061 - val_auc: 0.7809\n",
      "Epoch 2/100\n",
      "588000/588000 [==============================] - 15s 25us/sample - loss: 0.4081 - auc: 0.7705 - val_loss: 0.3977 - val_auc: 0.7850\n",
      "Epoch 3/100\n",
      "588000/588000 [==============================] - 15s 25us/sample - loss: 0.4034 - auc: 0.7778 - val_loss: 0.3982 - val_auc: 0.7840\n",
      "Epoch 4/100\n",
      "588000/588000 [==============================] - 15s 25us/sample - loss: 0.4004 - auc: 0.7825 - val_loss: 0.3985 - val_auc: 0.7835\n",
      "Epoch 5/100\n",
      "585728/588000 [============================>.] - ETA: 0s - loss: 0.3984 - auc: 0.7857\n",
      "Epoch 00005: ReduceLROnPlateau reducing learning rate to 0.0005000000237487257.\n",
      "588000/588000 [==============================] - 15s 25us/sample - loss: 0.3983 - auc: 0.7858 - val_loss: 0.4017 - val_auc: 0.7813\n",
      "Epoch 6/100\n",
      "588000/588000 [==============================] - 15s 25us/sample - loss: 0.3922 - auc: 0.7945 - val_loss: 0.4010 - val_auc: 0.7810\n",
      "Epoch 7/100\n",
      "586752/588000 [============================>.] - ETA: 0s - loss: 0.3894 - auc: 0.7985Restoring model weights from the end of the best epoch.\n",
      "588000/588000 [==============================] - 15s 25us/sample - loss: 0.3894 - auc: 0.7984 - val_loss: 0.4047 - val_auc: 0.7777\n",
      "Epoch 00007: early stopping\n"
     ]
    },
    {
     "name": "stderr",
     "output_type": "stream",
     "text": [
      "\r",
      "18it [35:32, 127.62s/it]"
     ]
    },
    {
     "name": "stdout",
     "output_type": "stream",
     "text": [
      "Train on 588000 samples, validate on 12000 samples\n",
      "Epoch 1/100\n",
      "588000/588000 [==============================] - 19s 32us/sample - loss: 0.4703 - auc: 0.6983 - val_loss: 0.4059 - val_auc: 0.7818\n",
      "Epoch 2/100\n",
      "588000/588000 [==============================] - 14s 25us/sample - loss: 0.4080 - auc: 0.7705 - val_loss: 0.3961 - val_auc: 0.7867\n",
      "Epoch 3/100\n",
      "588000/588000 [==============================] - 14s 25us/sample - loss: 0.4029 - auc: 0.7786 - val_loss: 0.3979 - val_auc: 0.7868\n",
      "Epoch 4/100\n",
      "588000/588000 [==============================] - 14s 25us/sample - loss: 0.3998 - auc: 0.7836 - val_loss: 0.3973 - val_auc: 0.7862\n",
      "Epoch 5/100\n",
      "588000/588000 [==============================] - 14s 25us/sample - loss: 0.3977 - auc: 0.7865 - val_loss: 0.3993 - val_auc: 0.7861\n",
      "Epoch 6/100\n",
      "586752/588000 [============================>.] - ETA: 0s - loss: 0.3957 - auc: 0.7898\n",
      "Epoch 00006: ReduceLROnPlateau reducing learning rate to 0.0005000000237487257.\n",
      "588000/588000 [==============================] - 14s 25us/sample - loss: 0.3957 - auc: 0.7897 - val_loss: 0.3994 - val_auc: 0.7840\n",
      "Epoch 7/100\n",
      "588000/588000 [==============================] - 14s 25us/sample - loss: 0.3883 - auc: 0.8000 - val_loss: 0.4051 - val_auc: 0.7811\n",
      "Epoch 8/100\n",
      "586752/588000 [============================>.] - ETA: 0s - loss: 0.3838 - auc: 0.8065Restoring model weights from the end of the best epoch.\n",
      "588000/588000 [==============================] - 15s 25us/sample - loss: 0.3838 - auc: 0.8064 - val_loss: 0.4068 - val_auc: 0.7768\n",
      "Epoch 00008: early stopping\n"
     ]
    },
    {
     "name": "stderr",
     "output_type": "stream",
     "text": [
      "\r",
      "19it [37:54, 131.93s/it]"
     ]
    },
    {
     "name": "stdout",
     "output_type": "stream",
     "text": [
      "Train on 588000 samples, validate on 12000 samples\n",
      "Epoch 1/100\n",
      "588000/588000 [==============================] - 19s 32us/sample - loss: 0.4706 - auc: 0.6992 - val_loss: 0.4070 - val_auc: 0.7805\n",
      "Epoch 2/100\n",
      "588000/588000 [==============================] - 15s 25us/sample - loss: 0.4083 - auc: 0.7699 - val_loss: 0.3979 - val_auc: 0.7886\n",
      "Epoch 3/100\n",
      "588000/588000 [==============================] - 15s 25us/sample - loss: 0.4029 - auc: 0.7787 - val_loss: 0.3977 - val_auc: 0.7892\n",
      "Epoch 4/100\n",
      "588000/588000 [==============================] - 15s 25us/sample - loss: 0.4001 - auc: 0.7829 - val_loss: 0.3991 - val_auc: 0.7886\n",
      "Epoch 5/100\n",
      "588000/588000 [==============================] - 15s 25us/sample - loss: 0.3980 - auc: 0.7860 - val_loss: 0.3988 - val_auc: 0.7857\n",
      "Epoch 6/100\n",
      "585728/588000 [============================>.] - ETA: 0s - loss: 0.3956 - auc: 0.7899\n",
      "Epoch 00006: ReduceLROnPlateau reducing learning rate to 0.0005000000237487257.\n",
      "588000/588000 [==============================] - 15s 25us/sample - loss: 0.3956 - auc: 0.7900 - val_loss: 0.4024 - val_auc: 0.7825\n",
      "Epoch 7/100\n",
      "588000/588000 [==============================] - 14s 23us/sample - loss: 0.3882 - auc: 0.8001 - val_loss: 0.4047 - val_auc: 0.7801\n",
      "Epoch 8/100\n",
      "586752/588000 [============================>.] - ETA: 0s - loss: 0.3836 - auc: 0.8070Restoring model weights from the end of the best epoch.\n",
      "588000/588000 [==============================] - 13s 21us/sample - loss: 0.3835 - auc: 0.8071 - val_loss: 0.4064 - val_auc: 0.7764\n",
      "Epoch 00008: early stopping\n"
     ]
    },
    {
     "name": "stderr",
     "output_type": "stream",
     "text": [
      "\r",
      "20it [40:12, 133.61s/it]"
     ]
    },
    {
     "name": "stdout",
     "output_type": "stream",
     "text": [
      "Train on 588000 samples, validate on 12000 samples\n",
      "Epoch 1/100\n",
      "588000/588000 [==============================] - 15s 25us/sample - loss: 0.4716 - auc: 0.6977 - val_loss: 0.4082 - val_auc: 0.7812\n",
      "Epoch 2/100\n",
      "588000/588000 [==============================] - 12s 20us/sample - loss: 0.4078 - auc: 0.7708 - val_loss: 0.3970 - val_auc: 0.7853\n",
      "Epoch 3/100\n",
      "588000/588000 [==============================] - 12s 20us/sample - loss: 0.4027 - auc: 0.7789 - val_loss: 0.3986 - val_auc: 0.7838\n",
      "Epoch 4/100\n",
      "588000/588000 [==============================] - 12s 20us/sample - loss: 0.4002 - auc: 0.7830 - val_loss: 0.3971 - val_auc: 0.7854\n",
      "Epoch 5/100\n",
      "587776/588000 [============================>.] - ETA: 0s - loss: 0.3979 - auc: 0.7863\n",
      "Epoch 00005: ReduceLROnPlateau reducing learning rate to 0.0005000000237487257.\n",
      "588000/588000 [==============================] - 12s 20us/sample - loss: 0.3979 - auc: 0.7863 - val_loss: 0.3995 - val_auc: 0.7835\n",
      "Epoch 6/100\n",
      "588000/588000 [==============================] - 12s 21us/sample - loss: 0.3926 - auc: 0.7940 - val_loss: 0.3999 - val_auc: 0.7838\n",
      "Epoch 7/100\n",
      "587776/588000 [============================>.] - ETA: 0s - loss: 0.3897 - auc: 0.7977Restoring model weights from the end of the best epoch.\n",
      "588000/588000 [==============================] - 12s 20us/sample - loss: 0.3897 - auc: 0.7977 - val_loss: 0.4045 - val_auc: 0.7795\n",
      "Epoch 00007: early stopping\n"
     ]
    },
    {
     "name": "stderr",
     "output_type": "stream",
     "text": [
      "\r",
      "21it [41:56, 124.84s/it]"
     ]
    },
    {
     "name": "stdout",
     "output_type": "stream",
     "text": [
      "Train on 588000 samples, validate on 12000 samples\n",
      "Epoch 1/100\n",
      "588000/588000 [==============================] - 15s 26us/sample - loss: 0.4726 - auc: 0.6951 - val_loss: 0.4078 - val_auc: 0.7810\n",
      "Epoch 2/100\n",
      "588000/588000 [==============================] - 12s 20us/sample - loss: 0.4078 - auc: 0.7707 - val_loss: 0.3988 - val_auc: 0.7850\n",
      "Epoch 3/100\n",
      "588000/588000 [==============================] - 12s 20us/sample - loss: 0.4026 - auc: 0.7791 - val_loss: 0.3995 - val_auc: 0.7852\n",
      "Epoch 4/100\n",
      "588000/588000 [==============================] - 12s 20us/sample - loss: 0.4004 - auc: 0.7827 - val_loss: 0.3994 - val_auc: 0.7834\n",
      "Epoch 5/100\n",
      "588000/588000 [==============================] - 12s 20us/sample - loss: 0.3980 - auc: 0.7860 - val_loss: 0.4061 - val_auc: 0.7807\n",
      "Epoch 6/100\n",
      "587776/588000 [============================>.] - ETA: 0s - loss: 0.3957 - auc: 0.7897\n",
      "Epoch 00006: ReduceLROnPlateau reducing learning rate to 0.0005000000237487257.\n",
      "588000/588000 [==============================] - 12s 20us/sample - loss: 0.3957 - auc: 0.7897 - val_loss: 0.4019 - val_auc: 0.7803\n",
      "Epoch 7/100\n",
      "588000/588000 [==============================] - 12s 20us/sample - loss: 0.3885 - auc: 0.7999 - val_loss: 0.4039 - val_auc: 0.7776\n",
      "Epoch 8/100\n",
      "587776/588000 [============================>.] - ETA: 0s - loss: 0.3841 - auc: 0.8062Restoring model weights from the end of the best epoch.\n",
      "588000/588000 [==============================] - 12s 20us/sample - loss: 0.3840 - auc: 0.8062 - val_loss: 0.4054 - val_auc: 0.7762\n",
      "Epoch 00008: early stopping\n"
     ]
    },
    {
     "name": "stderr",
     "output_type": "stream",
     "text": [
      "\r",
      "22it [43:53, 122.47s/it]"
     ]
    },
    {
     "name": "stdout",
     "output_type": "stream",
     "text": [
      "Train on 588000 samples, validate on 12000 samples\n",
      "Epoch 1/100\n",
      "588000/588000 [==============================] - 16s 26us/sample - loss: 0.4760 - auc: 0.6942 - val_loss: 0.4058 - val_auc: 0.7803\n",
      "Epoch 2/100\n",
      "588000/588000 [==============================] - 12s 21us/sample - loss: 0.4082 - auc: 0.7700 - val_loss: 0.3992 - val_auc: 0.7842\n",
      "Epoch 3/100\n",
      "588000/588000 [==============================] - 13s 23us/sample - loss: 0.4030 - auc: 0.7787 - val_loss: 0.3981 - val_auc: 0.7849\n",
      "Epoch 4/100\n",
      "588000/588000 [==============================] - 13s 22us/sample - loss: 0.4005 - auc: 0.7822 - val_loss: 0.3995 - val_auc: 0.7838\n",
      "Epoch 5/100\n",
      "588000/588000 [==============================] - 13s 22us/sample - loss: 0.3982 - auc: 0.7858 - val_loss: 0.4001 - val_auc: 0.7825\n",
      "Epoch 6/100\n",
      "587776/588000 [============================>.] - ETA: 0s - loss: 0.3957 - auc: 0.7896\n",
      "Epoch 00006: ReduceLROnPlateau reducing learning rate to 0.0005000000237487257.\n",
      "588000/588000 [==============================] - 13s 22us/sample - loss: 0.3957 - auc: 0.7897 - val_loss: 0.4001 - val_auc: 0.7822\n",
      "Epoch 7/100\n",
      "588000/588000 [==============================] - 13s 22us/sample - loss: 0.3887 - auc: 0.7994 - val_loss: 0.4030 - val_auc: 0.7783\n",
      "Epoch 8/100\n",
      "587776/588000 [============================>.] - ETA: 0s - loss: 0.3845 - auc: 0.8056Restoring model weights from the end of the best epoch.\n",
      "588000/588000 [==============================] - 13s 22us/sample - loss: 0.3844 - auc: 0.8056 - val_loss: 0.4047 - val_auc: 0.7761\n",
      "Epoch 00008: early stopping\n"
     ]
    },
    {
     "name": "stderr",
     "output_type": "stream",
     "text": [
      "\r",
      "23it [45:55, 122.46s/it]"
     ]
    },
    {
     "name": "stdout",
     "output_type": "stream",
     "text": [
      "Train on 588000 samples, validate on 12000 samples\n",
      "Epoch 1/100\n",
      "588000/588000 [==============================] - 16s 26us/sample - loss: 0.4720 - auc: 0.6971 - val_loss: 0.4091 - val_auc: 0.7858\n",
      "Epoch 2/100\n",
      "588000/588000 [==============================] - 13s 22us/sample - loss: 0.4080 - auc: 0.7706 - val_loss: 0.3966 - val_auc: 0.7893\n",
      "Epoch 3/100\n",
      "588000/588000 [==============================] - 12s 20us/sample - loss: 0.4029 - auc: 0.7789 - val_loss: 0.3964 - val_auc: 0.7894\n",
      "Epoch 4/100\n",
      "588000/588000 [==============================] - 12s 20us/sample - loss: 0.4004 - auc: 0.7827 - val_loss: 0.3960 - val_auc: 0.7872\n",
      "Epoch 5/100\n",
      "588000/588000 [==============================] - 12s 20us/sample - loss: 0.3975 - auc: 0.7869 - val_loss: 0.4000 - val_auc: 0.7835\n",
      "Epoch 6/100\n",
      "587776/588000 [============================>.] - ETA: 0s - loss: 0.3953 - auc: 0.7903\n",
      "Epoch 00006: ReduceLROnPlateau reducing learning rate to 0.0005000000237487257.\n",
      "588000/588000 [==============================] - 12s 20us/sample - loss: 0.3953 - auc: 0.7902 - val_loss: 0.4018 - val_auc: 0.7829\n",
      "Epoch 7/100\n",
      "588000/588000 [==============================] - 12s 20us/sample - loss: 0.3879 - auc: 0.8008 - val_loss: 0.4066 - val_auc: 0.7786\n",
      "Epoch 8/100\n",
      "587776/588000 [============================>.] - ETA: 0s - loss: 0.3831 - auc: 0.8074Restoring model weights from the end of the best epoch.\n",
      "588000/588000 [==============================] - 12s 20us/sample - loss: 0.3831 - auc: 0.8073 - val_loss: 0.4073 - val_auc: 0.7752\n",
      "Epoch 00008: early stopping\n"
     ]
    },
    {
     "name": "stderr",
     "output_type": "stream",
     "text": [
      "\r",
      "24it [47:53, 121.11s/it]"
     ]
    },
    {
     "name": "stdout",
     "output_type": "stream",
     "text": [
      "Train on 588000 samples, validate on 12000 samples\n",
      "Epoch 1/100\n",
      "588000/588000 [==============================] - 15s 25us/sample - loss: 0.4734 - auc: 0.6941 - val_loss: 0.4100 - val_auc: 0.7773\n",
      "Epoch 2/100\n",
      "588000/588000 [==============================] - 12s 20us/sample - loss: 0.4077 - auc: 0.7711 - val_loss: 0.4006 - val_auc: 0.7823\n",
      "Epoch 3/100\n",
      "588000/588000 [==============================] - 12s 21us/sample - loss: 0.4032 - auc: 0.7782 - val_loss: 0.3987 - val_auc: 0.7848\n",
      "Epoch 4/100\n",
      "588000/588000 [==============================] - 13s 21us/sample - loss: 0.3999 - auc: 0.7831 - val_loss: 0.4006 - val_auc: 0.7826\n",
      "Epoch 5/100\n",
      "588000/588000 [==============================] - 12s 20us/sample - loss: 0.3978 - auc: 0.7864 - val_loss: 0.4039 - val_auc: 0.7791\n",
      "Epoch 6/100\n",
      "587776/588000 [============================>.] - ETA: 0s - loss: 0.3955 - auc: 0.7900\n",
      "Epoch 00006: ReduceLROnPlateau reducing learning rate to 0.0005000000237487257.\n",
      "588000/588000 [==============================] - 12s 21us/sample - loss: 0.3955 - auc: 0.7899 - val_loss: 0.4030 - val_auc: 0.7784\n",
      "Epoch 7/100\n",
      "588000/588000 [==============================] - 12s 20us/sample - loss: 0.3876 - auc: 0.8011 - val_loss: 0.4064 - val_auc: 0.7738\n",
      "Epoch 8/100\n",
      "587776/588000 [============================>.] - ETA: 0s - loss: 0.3835 - auc: 0.8070Restoring model weights from the end of the best epoch.\n",
      "588000/588000 [==============================] - 12s 20us/sample - loss: 0.3834 - auc: 0.8071 - val_loss: 0.4089 - val_auc: 0.7711\n",
      "Epoch 00008: early stopping\n"
     ]
    },
    {
     "name": "stderr",
     "output_type": "stream",
     "text": [
      "\r",
      "25it [49:50, 119.75s/it]"
     ]
    },
    {
     "name": "stdout",
     "output_type": "stream",
     "text": [
      "Train on 588000 samples, validate on 12000 samples\n",
      "Epoch 1/100\n",
      "588000/588000 [==============================] - 15s 26us/sample - loss: 0.4712 - auc: 0.6982 - val_loss: 0.4027 - val_auc: 0.7887\n",
      "Epoch 2/100\n",
      "588000/588000 [==============================] - 12s 20us/sample - loss: 0.4078 - auc: 0.7709 - val_loss: 0.3922 - val_auc: 0.7956\n",
      "Epoch 3/100\n",
      "588000/588000 [==============================] - 12s 21us/sample - loss: 0.4032 - auc: 0.7783 - val_loss: 0.3900 - val_auc: 0.7959\n",
      "Epoch 4/100\n",
      "588000/588000 [==============================] - 12s 20us/sample - loss: 0.4003 - auc: 0.7827 - val_loss: 0.3913 - val_auc: 0.7963\n",
      "Epoch 5/100\n",
      "588000/588000 [==============================] - 12s 20us/sample - loss: 0.3981 - auc: 0.7860 - val_loss: 0.3906 - val_auc: 0.7949\n",
      "Epoch 6/100\n",
      "588000/588000 [==============================] - 12s 20us/sample - loss: 0.3960 - auc: 0.7889 - val_loss: 0.3923 - val_auc: 0.7945\n",
      "Epoch 7/100\n",
      "587776/588000 [============================>.] - ETA: 0s - loss: 0.3929 - auc: 0.7937\n",
      "Epoch 00007: ReduceLROnPlateau reducing learning rate to 0.0005000000237487257.\n",
      "588000/588000 [==============================] - 12s 21us/sample - loss: 0.3930 - auc: 0.7937 - val_loss: 0.3954 - val_auc: 0.7914\n",
      "Epoch 8/100\n",
      "588000/588000 [==============================] - 12s 20us/sample - loss: 0.3840 - auc: 0.8065 - val_loss: 0.3966 - val_auc: 0.7883\n",
      "Epoch 9/100\n",
      "587776/588000 [============================>.] - ETA: 0s - loss: 0.3788 - auc: 0.8136Restoring model weights from the end of the best epoch.\n",
      "588000/588000 [==============================] - 12s 20us/sample - loss: 0.3788 - auc: 0.8137 - val_loss: 0.4008 - val_auc: 0.7828\n",
      "Epoch 00009: early stopping\n"
     ]
    },
    {
     "name": "stderr",
     "output_type": "stream",
     "text": [
      "\r",
      "26it [51:58, 122.30s/it]"
     ]
    },
    {
     "name": "stdout",
     "output_type": "stream",
     "text": [
      "Train on 588000 samples, validate on 12000 samples\n",
      "Epoch 1/100\n",
      "588000/588000 [==============================] - 15s 25us/sample - loss: 0.4691 - auc: 0.6985 - val_loss: 0.4052 - val_auc: 0.7849\n",
      "Epoch 2/100\n",
      "588000/588000 [==============================] - 12s 20us/sample - loss: 0.4078 - auc: 0.7709 - val_loss: 0.3987 - val_auc: 0.7869\n",
      "Epoch 3/100\n",
      "588000/588000 [==============================] - 12s 20us/sample - loss: 0.4030 - auc: 0.7789 - val_loss: 0.3981 - val_auc: 0.7878\n",
      "Epoch 4/100\n",
      "588000/588000 [==============================] - 12s 20us/sample - loss: 0.3999 - auc: 0.7832 - val_loss: 0.3986 - val_auc: 0.7868\n",
      "Epoch 5/100\n",
      "588000/588000 [==============================] - 12s 20us/sample - loss: 0.3977 - auc: 0.7866 - val_loss: 0.3996 - val_auc: 0.7847\n",
      "Epoch 6/100\n",
      "587776/588000 [============================>.] - ETA: 0s - loss: 0.3956 - auc: 0.7899\n",
      "Epoch 00006: ReduceLROnPlateau reducing learning rate to 0.0005000000237487257.\n",
      "588000/588000 [==============================] - 12s 20us/sample - loss: 0.3956 - auc: 0.7899 - val_loss: 0.4027 - val_auc: 0.7812\n",
      "Epoch 7/100\n",
      "588000/588000 [==============================] - 12s 20us/sample - loss: 0.3880 - auc: 0.8007 - val_loss: 0.4049 - val_auc: 0.7776\n",
      "Epoch 8/100\n",
      "587776/588000 [============================>.] - ETA: 0s - loss: 0.3831 - auc: 0.8076Restoring model weights from the end of the best epoch.\n",
      "588000/588000 [==============================] - 12s 20us/sample - loss: 0.3830 - auc: 0.8075 - val_loss: 0.4081 - val_auc: 0.7710\n",
      "Epoch 00008: early stopping\n"
     ]
    },
    {
     "name": "stderr",
     "output_type": "stream",
     "text": [
      "\r",
      "27it [53:56, 121.00s/it]"
     ]
    },
    {
     "name": "stdout",
     "output_type": "stream",
     "text": [
      "Train on 588000 samples, validate on 12000 samples\n",
      "Epoch 1/100\n",
      "588000/588000 [==============================] - 19s 33us/sample - loss: 0.4669 - auc: 0.7020 - val_loss: 0.4068 - val_auc: 0.7875\n",
      "Epoch 2/100\n",
      "588000/588000 [==============================] - 15s 25us/sample - loss: 0.4076 - auc: 0.7714 - val_loss: 0.3985 - val_auc: 0.7899\n",
      "Epoch 3/100\n",
      "588000/588000 [==============================] - 15s 26us/sample - loss: 0.4024 - auc: 0.7797 - val_loss: 0.3993 - val_auc: 0.7884\n",
      "Epoch 4/100\n",
      "588000/588000 [==============================] - 12s 20us/sample - loss: 0.3997 - auc: 0.7838 - val_loss: 0.3993 - val_auc: 0.7888\n",
      "Epoch 5/100\n",
      "587776/588000 [============================>.] - ETA: 0s - loss: 0.3975 - auc: 0.7868\n",
      "Epoch 00005: ReduceLROnPlateau reducing learning rate to 0.0005000000237487257.\n",
      "588000/588000 [==============================] - 12s 20us/sample - loss: 0.3976 - auc: 0.7868 - val_loss: 0.4004 - val_auc: 0.7877\n",
      "Epoch 6/100\n",
      "588000/588000 [==============================] - 13s 22us/sample - loss: 0.3921 - auc: 0.7946 - val_loss: 0.4016 - val_auc: 0.7848\n",
      "Epoch 7/100\n",
      "587776/588000 [============================>.] - ETA: 0s - loss: 0.3891 - auc: 0.7990Restoring model weights from the end of the best epoch.\n",
      "588000/588000 [==============================] - 15s 25us/sample - loss: 0.3891 - auc: 0.7990 - val_loss: 0.4036 - val_auc: 0.7827\n",
      "Epoch 00007: early stopping\n"
     ]
    },
    {
     "name": "stderr",
     "output_type": "stream",
     "text": [
      "\r",
      "28it [55:57, 120.91s/it]"
     ]
    },
    {
     "name": "stdout",
     "output_type": "stream",
     "text": [
      "Train on 588000 samples, validate on 12000 samples\n",
      "Epoch 1/100\n",
      "588000/588000 [==============================] - 18s 31us/sample - loss: 0.4719 - auc: 0.6962 - val_loss: 0.4121 - val_auc: 0.7796\n",
      "Epoch 2/100\n",
      "588000/588000 [==============================] - 14s 24us/sample - loss: 0.4079 - auc: 0.7706 - val_loss: 0.3987 - val_auc: 0.7858\n",
      "Epoch 3/100\n",
      "588000/588000 [==============================] - 14s 24us/sample - loss: 0.4029 - auc: 0.7786 - val_loss: 0.4012 - val_auc: 0.7832\n",
      "Epoch 4/100\n",
      "588000/588000 [==============================] - 13s 23us/sample - loss: 0.4000 - auc: 0.7831 - val_loss: 0.4019 - val_auc: 0.7846\n",
      "Epoch 5/100\n",
      "586752/588000 [============================>.] - ETA: 0s - loss: 0.3976 - auc: 0.7867\n",
      "Epoch 00005: ReduceLROnPlateau reducing learning rate to 0.0005000000237487257.\n",
      "588000/588000 [==============================] - 13s 21us/sample - loss: 0.3976 - auc: 0.7866 - val_loss: 0.4052 - val_auc: 0.7797\n",
      "Epoch 6/100\n",
      "588000/588000 [==============================] - 12s 21us/sample - loss: 0.3919 - auc: 0.7948 - val_loss: 0.4057 - val_auc: 0.7800\n",
      "Epoch 7/100\n",
      "587776/588000 [============================>.] - ETA: 0s - loss: 0.3889 - auc: 0.7990Restoring model weights from the end of the best epoch.\n",
      "588000/588000 [==============================] - 12s 21us/sample - loss: 0.3889 - auc: 0.7990 - val_loss: 0.4089 - val_auc: 0.7782\n",
      "Epoch 00007: early stopping\n"
     ]
    },
    {
     "name": "stderr",
     "output_type": "stream",
     "text": [
      "\r",
      "29it [57:52, 119.13s/it]"
     ]
    },
    {
     "name": "stdout",
     "output_type": "stream",
     "text": [
      "Train on 588000 samples, validate on 12000 samples\n",
      "Epoch 1/100\n",
      "588000/588000 [==============================] - 15s 25us/sample - loss: 0.4730 - auc: 0.6944 - val_loss: 0.4027 - val_auc: 0.7873\n",
      "Epoch 2/100\n",
      "588000/588000 [==============================] - 11s 19us/sample - loss: 0.4083 - auc: 0.7699 - val_loss: 0.3936 - val_auc: 0.7932\n",
      "Epoch 3/100\n",
      "588000/588000 [==============================] - 12s 20us/sample - loss: 0.4029 - auc: 0.7784 - val_loss: 0.3941 - val_auc: 0.7938\n",
      "Epoch 4/100\n",
      "588000/588000 [==============================] - 12s 20us/sample - loss: 0.4003 - auc: 0.7828 - val_loss: 0.3948 - val_auc: 0.7928\n",
      "Epoch 5/100\n",
      "588000/588000 [==============================] - 11s 20us/sample - loss: 0.3987 - auc: 0.7850 - val_loss: 0.3948 - val_auc: 0.7915\n",
      "Epoch 6/100\n",
      "587776/588000 [============================>.] - ETA: 0s - loss: 0.3957 - auc: 0.7895\n",
      "Epoch 00006: ReduceLROnPlateau reducing learning rate to 0.0005000000237487257.\n",
      "588000/588000 [==============================] - 12s 20us/sample - loss: 0.3957 - auc: 0.7896 - val_loss: 0.3955 - val_auc: 0.7906\n",
      "Epoch 7/100\n",
      "588000/588000 [==============================] - 12s 20us/sample - loss: 0.3893 - auc: 0.7986 - val_loss: 0.3985 - val_auc: 0.7860\n",
      "Epoch 8/100\n",
      "587776/588000 [============================>.] - ETA: 0s - loss: 0.3855 - auc: 0.8042Restoring model weights from the end of the best epoch.\n",
      "588000/588000 [==============================] - 11s 20us/sample - loss: 0.3855 - auc: 0.8042 - val_loss: 0.4001 - val_auc: 0.7837\n",
      "Epoch 00008: early stopping\n"
     ]
    },
    {
     "name": "stderr",
     "output_type": "stream",
     "text": [
      "\r",
      "30it [59:45, 117.29s/it]"
     ]
    },
    {
     "name": "stdout",
     "output_type": "stream",
     "text": [
      "Train on 588000 samples, validate on 12000 samples\n",
      "Epoch 1/100\n",
      "588000/588000 [==============================] - 15s 25us/sample - loss: 0.4719 - auc: 0.6976 - val_loss: 0.4049 - val_auc: 0.7803\n",
      "Epoch 2/100\n",
      "588000/588000 [==============================] - 11s 19us/sample - loss: 0.4076 - auc: 0.7713 - val_loss: 0.3983 - val_auc: 0.7846\n",
      "Epoch 3/100\n",
      "588000/588000 [==============================] - 11s 20us/sample - loss: 0.4023 - auc: 0.7796 - val_loss: 0.3977 - val_auc: 0.7862\n",
      "Epoch 4/100\n",
      "588000/588000 [==============================] - 11s 19us/sample - loss: 0.4004 - auc: 0.7825 - val_loss: 0.3997 - val_auc: 0.7856\n",
      "Epoch 5/100\n",
      "588000/588000 [==============================] - 12s 20us/sample - loss: 0.3977 - auc: 0.7865 - val_loss: 0.3991 - val_auc: 0.7841\n",
      "Epoch 6/100\n",
      "587776/588000 [============================>.] - ETA: 0s - loss: 0.3958 - auc: 0.7896\n",
      "Epoch 00006: ReduceLROnPlateau reducing learning rate to 0.0005000000237487257.\n",
      "588000/588000 [==============================] - 11s 19us/sample - loss: 0.3958 - auc: 0.7896 - val_loss: 0.4018 - val_auc: 0.7822\n",
      "Epoch 7/100\n",
      "588000/588000 [==============================] - 11s 19us/sample - loss: 0.3882 - auc: 0.8001 - val_loss: 0.4033 - val_auc: 0.7780\n",
      "Epoch 8/100\n",
      "587776/588000 [============================>.] - ETA: 0s - loss: 0.3842 - auc: 0.8057Restoring model weights from the end of the best epoch.\n",
      "588000/588000 [==============================] - 12s 20us/sample - loss: 0.3842 - auc: 0.8058 - val_loss: 0.4054 - val_auc: 0.7741\n",
      "Epoch 00008: early stopping\n"
     ]
    },
    {
     "name": "stderr",
     "output_type": "stream",
     "text": [
      "\r",
      "31it [1:01:38, 115.90s/it]"
     ]
    },
    {
     "name": "stdout",
     "output_type": "stream",
     "text": [
      "Train on 588000 samples, validate on 12000 samples\n",
      "Epoch 1/100\n",
      "588000/588000 [==============================] - 14s 24us/sample - loss: 0.4727 - auc: 0.6980 - val_loss: 0.4164 - val_auc: 0.7745\n",
      "Epoch 2/100\n",
      "588000/588000 [==============================] - 12s 20us/sample - loss: 0.4078 - auc: 0.7709 - val_loss: 0.4022 - val_auc: 0.7782\n",
      "Epoch 3/100\n",
      "588000/588000 [==============================] - 12s 20us/sample - loss: 0.4026 - auc: 0.7794 - val_loss: 0.4040 - val_auc: 0.7771\n",
      "Epoch 4/100\n",
      "588000/588000 [==============================] - 11s 20us/sample - loss: 0.4000 - auc: 0.7832 - val_loss: 0.4055 - val_auc: 0.7771\n",
      "Epoch 5/100\n",
      "587776/588000 [============================>.] - ETA: 0s - loss: 0.3982 - auc: 0.7859\n",
      "Epoch 00005: ReduceLROnPlateau reducing learning rate to 0.0005000000237487257.\n",
      "588000/588000 [==============================] - 12s 20us/sample - loss: 0.3982 - auc: 0.7859 - val_loss: 0.4044 - val_auc: 0.7773\n",
      "Epoch 6/100\n",
      "588000/588000 [==============================] - 11s 19us/sample - loss: 0.3924 - auc: 0.7940 - val_loss: 0.4073 - val_auc: 0.7747\n",
      "Epoch 7/100\n",
      "587776/588000 [============================>.] - ETA: 0s - loss: 0.3891 - auc: 0.7989Restoring model weights from the end of the best epoch.\n",
      "588000/588000 [==============================] - 11s 19us/sample - loss: 0.3891 - auc: 0.7990 - val_loss: 0.4079 - val_auc: 0.7720\n",
      "Epoch 00007: early stopping\n"
     ]
    },
    {
     "name": "stderr",
     "output_type": "stream",
     "text": [
      "\r",
      "32it [1:03:19, 111.67s/it]"
     ]
    },
    {
     "name": "stdout",
     "output_type": "stream",
     "text": [
      "Train on 588000 samples, validate on 12000 samples\n",
      "Epoch 1/100\n",
      "588000/588000 [==============================] - 15s 25us/sample - loss: 0.4707 - auc: 0.6974 - val_loss: 0.4137 - val_auc: 0.7733\n",
      "Epoch 2/100\n",
      "588000/588000 [==============================] - 12s 21us/sample - loss: 0.4087 - auc: 0.7691 - val_loss: 0.4057 - val_auc: 0.7739\n",
      "Epoch 3/100\n",
      "588000/588000 [==============================] - 12s 21us/sample - loss: 0.4029 - auc: 0.7788 - val_loss: 0.4039 - val_auc: 0.7756\n",
      "Epoch 4/100\n",
      "588000/588000 [==============================] - 12s 20us/sample - loss: 0.4002 - auc: 0.7831 - val_loss: 0.4058 - val_auc: 0.7731\n",
      "Epoch 5/100\n",
      "588000/588000 [==============================] - 12s 21us/sample - loss: 0.3980 - auc: 0.7862 - val_loss: 0.4058 - val_auc: 0.7714\n",
      "Epoch 6/100\n",
      "587776/588000 [============================>.] - ETA: 0s - loss: 0.3954 - auc: 0.7899\n",
      "Epoch 00006: ReduceLROnPlateau reducing learning rate to 0.0005000000237487257.\n",
      "588000/588000 [==============================] - 12s 20us/sample - loss: 0.3954 - auc: 0.7900 - val_loss: 0.4110 - val_auc: 0.7710\n",
      "Epoch 7/100\n",
      "588000/588000 [==============================] - 12s 20us/sample - loss: 0.3884 - auc: 0.8001 - val_loss: 0.4107 - val_auc: 0.7666\n",
      "Epoch 8/100\n",
      "587776/588000 [============================>.] - ETA: 0s - loss: 0.3836 - auc: 0.8069Restoring model weights from the end of the best epoch.\n",
      "588000/588000 [==============================] - 12s 20us/sample - loss: 0.3835 - auc: 0.8069 - val_loss: 0.4146 - val_auc: 0.7661\n",
      "Epoch 00008: early stopping\n"
     ]
    },
    {
     "name": "stderr",
     "output_type": "stream",
     "text": [
      "\r",
      "33it [1:05:16, 113.29s/it]"
     ]
    },
    {
     "name": "stdout",
     "output_type": "stream",
     "text": [
      "Train on 588000 samples, validate on 12000 samples\n",
      "Epoch 1/100\n",
      "588000/588000 [==============================] - 16s 28us/sample - loss: 0.4682 - auc: 0.6992 - val_loss: 0.4014 - val_auc: 0.7879\n",
      "Epoch 2/100\n",
      "588000/588000 [==============================] - 14s 24us/sample - loss: 0.4078 - auc: 0.7709 - val_loss: 0.3947 - val_auc: 0.7910\n",
      "Epoch 3/100\n",
      "588000/588000 [==============================] - 13s 22us/sample - loss: 0.4029 - auc: 0.7787 - val_loss: 0.3935 - val_auc: 0.7930\n",
      "Epoch 4/100\n",
      "588000/588000 [==============================] - 15s 25us/sample - loss: 0.4003 - auc: 0.7825 - val_loss: 0.3931 - val_auc: 0.7929\n",
      "Epoch 5/100\n",
      "588000/588000 [==============================] - 14s 24us/sample - loss: 0.3976 - auc: 0.7868 - val_loss: 0.3972 - val_auc: 0.7897\n",
      "Epoch 6/100\n",
      "586752/588000 [============================>.] - ETA: 0s - loss: 0.3954 - auc: 0.7900\n",
      "Epoch 00006: ReduceLROnPlateau reducing learning rate to 0.0005000000237487257.\n",
      "588000/588000 [==============================] - 15s 25us/sample - loss: 0.3953 - auc: 0.7901 - val_loss: 0.3981 - val_auc: 0.7862\n",
      "Epoch 7/100\n",
      "588000/588000 [==============================] - 14s 24us/sample - loss: 0.3877 - auc: 0.8011 - val_loss: 0.3998 - val_auc: 0.7835\n",
      "Epoch 8/100\n",
      "585728/588000 [============================>.] - ETA: 0s - loss: 0.3830 - auc: 0.8077Restoring model weights from the end of the best epoch.\n",
      "588000/588000 [==============================] - 14s 24us/sample - loss: 0.3831 - auc: 0.8076 - val_loss: 0.4017 - val_auc: 0.7796\n",
      "Epoch 00008: early stopping\n"
     ]
    },
    {
     "name": "stderr",
     "output_type": "stream",
     "text": [
      "\r",
      "34it [1:07:34, 120.55s/it]"
     ]
    },
    {
     "name": "stdout",
     "output_type": "stream",
     "text": [
      "Train on 588000 samples, validate on 12000 samples\n",
      "Epoch 1/100\n",
      "588000/588000 [==============================] - 18s 30us/sample - loss: 0.4689 - auc: 0.7003 - val_loss: 0.4119 - val_auc: 0.7744\n",
      "Epoch 2/100\n",
      "588000/588000 [==============================] - 13s 23us/sample - loss: 0.4076 - auc: 0.7713 - val_loss: 0.4032 - val_auc: 0.7775\n",
      "Epoch 3/100\n",
      "588000/588000 [==============================] - 14s 23us/sample - loss: 0.4023 - auc: 0.7798 - val_loss: 0.4033 - val_auc: 0.7776\n",
      "Epoch 4/100\n",
      "588000/588000 [==============================] - 14s 23us/sample - loss: 0.4000 - auc: 0.7833 - val_loss: 0.4037 - val_auc: 0.7774\n",
      "Epoch 5/100\n",
      "585728/588000 [============================>.] - ETA: 0s - loss: 0.3980 - auc: 0.7864\n",
      "Epoch 00005: ReduceLROnPlateau reducing learning rate to 0.0005000000237487257.\n",
      "588000/588000 [==============================] - 14s 23us/sample - loss: 0.3979 - auc: 0.7865 - val_loss: 0.4039 - val_auc: 0.7769\n",
      "Epoch 6/100\n",
      "588000/588000 [==============================] - 14s 23us/sample - loss: 0.3922 - auc: 0.7946 - val_loss: 0.4050 - val_auc: 0.7754\n",
      "Epoch 7/100\n",
      "585728/588000 [============================>.] - ETA: 0s - loss: 0.3895 - auc: 0.7986Restoring model weights from the end of the best epoch.\n",
      "588000/588000 [==============================] - 13s 23us/sample - loss: 0.3894 - auc: 0.7986 - val_loss: 0.4083 - val_auc: 0.7722\n",
      "Epoch 00007: early stopping\n"
     ]
    },
    {
     "name": "stderr",
     "output_type": "stream",
     "text": [
      "\r",
      "35it [1:09:34, 120.57s/it]"
     ]
    },
    {
     "name": "stdout",
     "output_type": "stream",
     "text": [
      "Train on 588000 samples, validate on 12000 samples\n",
      "Epoch 1/100\n",
      "588000/588000 [==============================] - 16s 28us/sample - loss: 0.4706 - auc: 0.6993 - val_loss: 0.4078 - val_auc: 0.7872\n",
      "Epoch 2/100\n",
      "588000/588000 [==============================] - 14s 23us/sample - loss: 0.4077 - auc: 0.7713 - val_loss: 0.3954 - val_auc: 0.7903\n",
      "Epoch 3/100\n",
      "588000/588000 [==============================] - 14s 23us/sample - loss: 0.4028 - auc: 0.7790 - val_loss: 0.3966 - val_auc: 0.7899\n",
      "Epoch 4/100\n",
      "588000/588000 [==============================] - 13s 23us/sample - loss: 0.4000 - auc: 0.7831 - val_loss: 0.3967 - val_auc: 0.7902\n",
      "Epoch 5/100\n",
      "585728/588000 [============================>.] - ETA: 0s - loss: 0.3976 - auc: 0.7865\n",
      "Epoch 00005: ReduceLROnPlateau reducing learning rate to 0.0005000000237487257.\n",
      "588000/588000 [==============================] - 14s 23us/sample - loss: 0.3976 - auc: 0.7865 - val_loss: 0.3976 - val_auc: 0.7899\n",
      "Epoch 6/100\n",
      "588000/588000 [==============================] - 13s 23us/sample - loss: 0.3920 - auc: 0.7947 - val_loss: 0.3980 - val_auc: 0.7881\n",
      "Epoch 7/100\n",
      "587776/588000 [============================>.] - ETA: 0s - loss: 0.3889 - auc: 0.7990Restoring model weights from the end of the best epoch.\n",
      "588000/588000 [==============================] - 13s 23us/sample - loss: 0.3889 - auc: 0.7989 - val_loss: 0.4032 - val_auc: 0.7842\n",
      "Epoch 00007: early stopping\n"
     ]
    },
    {
     "name": "stderr",
     "output_type": "stream",
     "text": [
      "\r",
      "36it [1:11:34, 120.27s/it]"
     ]
    },
    {
     "name": "stdout",
     "output_type": "stream",
     "text": [
      "Train on 588000 samples, validate on 12000 samples\n",
      "Epoch 1/100\n",
      "588000/588000 [==============================] - 17s 29us/sample - loss: 0.4737 - auc: 0.6963 - val_loss: 0.4077 - val_auc: 0.7806\n",
      "Epoch 2/100\n",
      "588000/588000 [==============================] - 14s 24us/sample - loss: 0.4083 - auc: 0.7701 - val_loss: 0.3985 - val_auc: 0.7870\n",
      "Epoch 3/100\n",
      "588000/588000 [==============================] - 14s 24us/sample - loss: 0.4027 - auc: 0.7791 - val_loss: 0.3986 - val_auc: 0.7874\n",
      "Epoch 4/100\n",
      "588000/588000 [==============================] - 13s 23us/sample - loss: 0.4003 - auc: 0.7828 - val_loss: 0.4004 - val_auc: 0.7859\n",
      "Epoch 5/100\n",
      "588000/588000 [==============================] - 15s 25us/sample - loss: 0.3981 - auc: 0.7858 - val_loss: 0.4014 - val_auc: 0.7856\n",
      "Epoch 6/100\n",
      "587776/588000 [============================>.] - ETA: 0s - loss: 0.3955 - auc: 0.7899\n",
      "Epoch 00006: ReduceLROnPlateau reducing learning rate to 0.0005000000237487257.\n",
      "588000/588000 [==============================] - 14s 24us/sample - loss: 0.3955 - auc: 0.7898 - val_loss: 0.4015 - val_auc: 0.7845\n",
      "Epoch 7/100\n",
      "588000/588000 [==============================] - 14s 23us/sample - loss: 0.3888 - auc: 0.7993 - val_loss: 0.4067 - val_auc: 0.7816\n",
      "Epoch 8/100\n",
      "585728/588000 [============================>.] - ETA: 0s - loss: 0.3846 - auc: 0.8055Restoring model weights from the end of the best epoch.\n",
      "588000/588000 [==============================] - 13s 23us/sample - loss: 0.3845 - auc: 0.8055 - val_loss: 0.4082 - val_auc: 0.7759\n",
      "Epoch 00008: early stopping\n"
     ]
    },
    {
     "name": "stderr",
     "output_type": "stream",
     "text": [
      "\r",
      "37it [1:13:48, 124.42s/it]"
     ]
    },
    {
     "name": "stdout",
     "output_type": "stream",
     "text": [
      "Train on 588000 samples, validate on 12000 samples\n",
      "Epoch 1/100\n",
      "588000/588000 [==============================] - 16s 28us/sample - loss: 0.4728 - auc: 0.6966 - val_loss: 0.4041 - val_auc: 0.7854\n",
      "Epoch 2/100\n",
      "588000/588000 [==============================] - 13s 23us/sample - loss: 0.4084 - auc: 0.7699 - val_loss: 0.3983 - val_auc: 0.7879\n",
      "Epoch 3/100\n",
      "588000/588000 [==============================] - 13s 22us/sample - loss: 0.4026 - auc: 0.7792 - val_loss: 0.3980 - val_auc: 0.7869\n",
      "Epoch 4/100\n",
      "588000/588000 [==============================] - 13s 21us/sample - loss: 0.4002 - auc: 0.7828 - val_loss: 0.3985 - val_auc: 0.7861\n",
      "Epoch 5/100\n",
      "586752/588000 [============================>.] - ETA: 0s - loss: 0.3982 - auc: 0.7856\n",
      "Epoch 00005: ReduceLROnPlateau reducing learning rate to 0.0005000000237487257.\n",
      "588000/588000 [==============================] - 13s 22us/sample - loss: 0.3982 - auc: 0.7856 - val_loss: 0.3995 - val_auc: 0.7845\n",
      "Epoch 6/100\n",
      "588000/588000 [==============================] - 13s 22us/sample - loss: 0.3931 - auc: 0.7928 - val_loss: 0.4005 - val_auc: 0.7834\n",
      "Epoch 7/100\n",
      "587776/588000 [============================>.] - ETA: 0s - loss: 0.3904 - auc: 0.7971Restoring model weights from the end of the best epoch.\n",
      "588000/588000 [==============================] - 13s 22us/sample - loss: 0.3904 - auc: 0.7971 - val_loss: 0.4010 - val_auc: 0.7822\n",
      "Epoch 00007: early stopping\n"
     ]
    },
    {
     "name": "stderr",
     "output_type": "stream",
     "text": [
      "\r",
      "38it [1:15:41, 120.85s/it]"
     ]
    },
    {
     "name": "stdout",
     "output_type": "stream",
     "text": [
      "Train on 588000 samples, validate on 12000 samples\n",
      "Epoch 1/100\n",
      "588000/588000 [==============================] - 16s 28us/sample - loss: 0.4675 - auc: 0.7011 - val_loss: 0.4064 - val_auc: 0.7840\n",
      "Epoch 2/100\n",
      "588000/588000 [==============================] - 13s 23us/sample - loss: 0.4077 - auc: 0.7714 - val_loss: 0.3944 - val_auc: 0.7895\n",
      "Epoch 3/100\n",
      "588000/588000 [==============================] - 13s 22us/sample - loss: 0.4026 - auc: 0.7793 - val_loss: 0.3953 - val_auc: 0.7888\n",
      "Epoch 4/100\n",
      "588000/588000 [==============================] - 13s 22us/sample - loss: 0.4000 - auc: 0.7833 - val_loss: 0.3961 - val_auc: 0.7870\n",
      "Epoch 5/100\n",
      "587776/588000 [============================>.] - ETA: 0s - loss: 0.3976 - auc: 0.7868\n",
      "Epoch 00005: ReduceLROnPlateau reducing learning rate to 0.0005000000237487257.\n",
      "588000/588000 [==============================] - 13s 22us/sample - loss: 0.3976 - auc: 0.7868 - val_loss: 0.3970 - val_auc: 0.7865\n",
      "Epoch 6/100\n",
      "588000/588000 [==============================] - 13s 22us/sample - loss: 0.3921 - auc: 0.7944 - val_loss: 0.4004 - val_auc: 0.7849\n",
      "Epoch 7/100\n",
      "587776/588000 [============================>.] - ETA: 0s - loss: 0.3894 - auc: 0.7985Restoring model weights from the end of the best epoch.\n",
      "588000/588000 [==============================] - 13s 22us/sample - loss: 0.3894 - auc: 0.7985 - val_loss: 0.4034 - val_auc: 0.7820\n",
      "Epoch 00007: early stopping\n"
     ]
    },
    {
     "name": "stderr",
     "output_type": "stream",
     "text": [
      "\r",
      "39it [1:17:33, 118.43s/it]"
     ]
    },
    {
     "name": "stdout",
     "output_type": "stream",
     "text": [
      "Train on 588000 samples, validate on 12000 samples\n",
      "Epoch 1/100\n",
      "588000/588000 [==============================] - 17s 29us/sample - loss: 0.4712 - auc: 0.6986 - val_loss: 0.4076 - val_auc: 0.7827\n",
      "Epoch 2/100\n",
      "588000/588000 [==============================] - 13s 23us/sample - loss: 0.4081 - auc: 0.7704 - val_loss: 0.3959 - val_auc: 0.7892\n",
      "Epoch 3/100\n",
      "588000/588000 [==============================] - 13s 23us/sample - loss: 0.4031 - auc: 0.7785 - val_loss: 0.3972 - val_auc: 0.7883\n",
      "Epoch 4/100\n",
      "588000/588000 [==============================] - 14s 24us/sample - loss: 0.4005 - auc: 0.7824 - val_loss: 0.3955 - val_auc: 0.7891\n",
      "Epoch 5/100\n",
      "587776/588000 [============================>.] - ETA: 0s - loss: 0.3984 - auc: 0.7855\n",
      "Epoch 00005: ReduceLROnPlateau reducing learning rate to 0.0005000000237487257.\n",
      "588000/588000 [==============================] - 16s 27us/sample - loss: 0.3984 - auc: 0.7856 - val_loss: 0.3964 - val_auc: 0.7875\n",
      "Epoch 6/100\n",
      "588000/588000 [==============================] - 15s 25us/sample - loss: 0.3929 - auc: 0.7935 - val_loss: 0.3971 - val_auc: 0.7875\n",
      "Epoch 7/100\n",
      "586752/588000 [============================>.] - ETA: 0s - loss: 0.3903 - auc: 0.7971Restoring model weights from the end of the best epoch.\n",
      "588000/588000 [==============================] - 15s 25us/sample - loss: 0.3903 - auc: 0.7971 - val_loss: 0.3988 - val_auc: 0.7854\n",
      "Epoch 00007: early stopping\n"
     ]
    },
    {
     "name": "stderr",
     "output_type": "stream",
     "text": [
      "\r",
      "40it [1:19:36, 119.58s/it]"
     ]
    },
    {
     "name": "stdout",
     "output_type": "stream",
     "text": [
      "Train on 588000 samples, validate on 12000 samples\n",
      "Epoch 1/100\n",
      "588000/588000 [==============================] - 16s 27us/sample - loss: 0.4731 - auc: 0.6965 - val_loss: 0.4067 - val_auc: 0.7779\n",
      "Epoch 2/100\n",
      "588000/588000 [==============================] - 13s 21us/sample - loss: 0.4083 - auc: 0.7703 - val_loss: 0.3985 - val_auc: 0.7831\n",
      "Epoch 3/100\n",
      "588000/588000 [==============================] - 13s 22us/sample - loss: 0.4030 - auc: 0.7787 - val_loss: 0.3995 - val_auc: 0.7846\n",
      "Epoch 4/100\n",
      "588000/588000 [==============================] - 13s 22us/sample - loss: 0.4005 - auc: 0.7823 - val_loss: 0.3993 - val_auc: 0.7823\n",
      "Epoch 5/100\n",
      "588000/588000 [==============================] - 13s 22us/sample - loss: 0.3980 - auc: 0.7861 - val_loss: 0.4001 - val_auc: 0.7817\n",
      "Epoch 6/100\n",
      "586752/588000 [============================>.] - ETA: 0s - loss: 0.3956 - auc: 0.7897- ETA\n",
      "Epoch 00006: ReduceLROnPlateau reducing learning rate to 0.0005000000237487257.\n",
      "588000/588000 [==============================] - 13s 22us/sample - loss: 0.3956 - auc: 0.7896 - val_loss: 0.4020 - val_auc: 0.7806\n",
      "Epoch 7/100\n",
      "588000/588000 [==============================] - 13s 22us/sample - loss: 0.3886 - auc: 0.7995 - val_loss: 0.4069 - val_auc: 0.7762\n",
      "Epoch 8/100\n",
      "587776/588000 [============================>.] - ETA: 0s - loss: 0.3840 - auc: 0.8064Restoring model weights from the end of the best epoch.\n",
      "588000/588000 [==============================] - 13s 21us/sample - loss: 0.3840 - auc: 0.8064 - val_loss: 0.4079 - val_auc: 0.7734\n",
      "Epoch 00008: early stopping\n"
     ]
    },
    {
     "name": "stderr",
     "output_type": "stream",
     "text": [
      "\r",
      "41it [1:21:40, 121.06s/it]"
     ]
    },
    {
     "name": "stdout",
     "output_type": "stream",
     "text": [
      "Train on 588000 samples, validate on 12000 samples\n",
      "Epoch 1/100\n",
      "588000/588000 [==============================] - 18s 31us/sample - loss: 0.4707 - auc: 0.6964 - val_loss: 0.4070 - val_auc: 0.7809\n",
      "Epoch 2/100\n",
      "588000/588000 [==============================] - 14s 24us/sample - loss: 0.4076 - auc: 0.7714 - val_loss: 0.3988 - val_auc: 0.7833\n",
      "Epoch 3/100\n",
      "588000/588000 [==============================] - 14s 24us/sample - loss: 0.4026 - auc: 0.7792 - val_loss: 0.3980 - val_auc: 0.7852\n",
      "Epoch 4/100\n",
      "588000/588000 [==============================] - 14s 24us/sample - loss: 0.4003 - auc: 0.7822 - val_loss: 0.3992 - val_auc: 0.7836\n",
      "Epoch 5/100\n",
      "588000/588000 [==============================] - 14s 24us/sample - loss: 0.3983 - auc: 0.7857 - val_loss: 0.3996 - val_auc: 0.7811\n",
      "Epoch 6/100\n",
      "586752/588000 [============================>.] - ETA: 0s - loss: 0.3957 - auc: 0.7895\n",
      "Epoch 00006: ReduceLROnPlateau reducing learning rate to 0.0005000000237487257.\n",
      "588000/588000 [==============================] - 15s 26us/sample - loss: 0.3957 - auc: 0.7895 - val_loss: 0.4011 - val_auc: 0.7798\n",
      "Epoch 7/100\n",
      "588000/588000 [==============================] - 14s 25us/sample - loss: 0.3887 - auc: 0.7995 - val_loss: 0.4035 - val_auc: 0.7766\n",
      "Epoch 8/100\n",
      "587776/588000 [============================>.] - ETA: 0s - loss: 0.3850 - auc: 0.8050Restoring model weights from the end of the best epoch.\n",
      "588000/588000 [==============================] - 14s 24us/sample - loss: 0.3850 - auc: 0.8050 - val_loss: 0.4061 - val_auc: 0.7723\n",
      "Epoch 00008: early stopping\n"
     ]
    },
    {
     "name": "stderr",
     "output_type": "stream",
     "text": [
      "\r",
      "42it [1:23:57, 125.91s/it]"
     ]
    },
    {
     "name": "stdout",
     "output_type": "stream",
     "text": [
      "Train on 588000 samples, validate on 12000 samples\n",
      "Epoch 1/100\n",
      "588000/588000 [==============================] - 17s 28us/sample - loss: 0.4715 - auc: 0.6967 - val_loss: 0.4142 - val_auc: 0.7764\n",
      "Epoch 2/100\n",
      "588000/588000 [==============================] - 14s 24us/sample - loss: 0.4074 - auc: 0.7715 - val_loss: 0.4034 - val_auc: 0.7796\n",
      "Epoch 3/100\n",
      "588000/588000 [==============================] - 14s 24us/sample - loss: 0.4029 - auc: 0.7789 - val_loss: 0.4000 - val_auc: 0.7813\n",
      "Epoch 4/100\n",
      "588000/588000 [==============================] - 15s 25us/sample - loss: 0.4000 - auc: 0.7832 - val_loss: 0.4013 - val_auc: 0.7807\n",
      "Epoch 5/100\n",
      "588000/588000 [==============================] - 14s 23us/sample - loss: 0.3980 - auc: 0.7862 - val_loss: 0.4076 - val_auc: 0.7807\n",
      "Epoch 6/100\n",
      "587776/588000 [============================>.] - ETA: 0s - loss: 0.3953 - auc: 0.7902\n",
      "Epoch 00006: ReduceLROnPlateau reducing learning rate to 0.0005000000237487257.\n",
      "588000/588000 [==============================] - 14s 23us/sample - loss: 0.3953 - auc: 0.7903 - val_loss: 0.4033 - val_auc: 0.7785\n",
      "Epoch 7/100\n",
      "588000/588000 [==============================] - 13s 23us/sample - loss: 0.3878 - auc: 0.8007 - val_loss: 0.4084 - val_auc: 0.7745\n",
      "Epoch 8/100\n",
      "586752/588000 [============================>.] - ETA: 0s - loss: 0.3840 - auc: 0.8065Restoring model weights from the end of the best epoch.\n",
      "588000/588000 [==============================] - 14s 23us/sample - loss: 0.3840 - auc: 0.8066 - val_loss: 0.4131 - val_auc: 0.7709\n",
      "Epoch 00008: early stopping\n"
     ]
    },
    {
     "name": "stderr",
     "output_type": "stream",
     "text": [
      "\r",
      "43it [1:26:09, 127.69s/it]"
     ]
    },
    {
     "name": "stdout",
     "output_type": "stream",
     "text": [
      "Train on 588000 samples, validate on 12000 samples\n",
      "Epoch 1/100\n",
      "588000/588000 [==============================] - 17s 29us/sample - loss: 0.4707 - auc: 0.6983 - val_loss: 0.4019 - val_auc: 0.7883\n",
      "Epoch 2/100\n",
      "588000/588000 [==============================] - 13s 22us/sample - loss: 0.4080 - auc: 0.7704 - val_loss: 0.3950 - val_auc: 0.7893\n",
      "Epoch 3/100\n",
      "588000/588000 [==============================] - 13s 23us/sample - loss: 0.4029 - auc: 0.7792 - val_loss: 0.3943 - val_auc: 0.7891\n",
      "Epoch 4/100\n",
      "588000/588000 [==============================] - 13s 22us/sample - loss: 0.4005 - auc: 0.7822 - val_loss: 0.3959 - val_auc: 0.7886\n",
      "Epoch 5/100\n",
      "587776/588000 [============================>.] - ETA: 0s - loss: 0.3981 - auc: 0.7859\n",
      "Epoch 00005: ReduceLROnPlateau reducing learning rate to 0.0005000000237487257.\n",
      "588000/588000 [==============================] - 13s 22us/sample - loss: 0.3981 - auc: 0.7859 - val_loss: 0.3957 - val_auc: 0.7873\n",
      "Epoch 6/100\n",
      "588000/588000 [==============================] - 13s 22us/sample - loss: 0.3924 - auc: 0.7939 - val_loss: 0.3983 - val_auc: 0.7844\n",
      "Epoch 7/100\n",
      "586752/588000 [============================>.] - ETA: 0s - loss: 0.3897 - auc: 0.7979Restoring model weights from the end of the best epoch.\n",
      "588000/588000 [==============================] - 13s 22us/sample - loss: 0.3897 - auc: 0.7979 - val_loss: 0.3990 - val_auc: 0.7832\n",
      "Epoch 00007: early stopping\n"
     ]
    },
    {
     "name": "stderr",
     "output_type": "stream",
     "text": [
      "\r",
      "44it [1:28:03, 123.57s/it]"
     ]
    },
    {
     "name": "stdout",
     "output_type": "stream",
     "text": [
      "Train on 588000 samples, validate on 12000 samples\n",
      "Epoch 1/100\n",
      "588000/588000 [==============================] - 16s 28us/sample - loss: 0.4699 - auc: 0.6990 - val_loss: 0.4124 - val_auc: 0.7780\n",
      "Epoch 2/100\n",
      "588000/588000 [==============================] - 13s 21us/sample - loss: 0.4077 - auc: 0.7711 - val_loss: 0.4001 - val_auc: 0.7834\n",
      "Epoch 3/100\n",
      "588000/588000 [==============================] - 13s 22us/sample - loss: 0.4024 - auc: 0.7796 - val_loss: 0.3995 - val_auc: 0.7838\n",
      "Epoch 4/100\n",
      "588000/588000 [==============================] - 13s 22us/sample - loss: 0.4003 - auc: 0.7828 - val_loss: 0.4011 - val_auc: 0.7814\n",
      "Epoch 5/100\n",
      "588000/588000 [==============================] - 13s 22us/sample - loss: 0.3979 - auc: 0.7865 - val_loss: 0.4009 - val_auc: 0.7829\n",
      "Epoch 6/100\n",
      "587776/588000 [============================>.] - ETA: 0s - loss: 0.3953 - auc: 0.7903\n",
      "Epoch 00006: ReduceLROnPlateau reducing learning rate to 0.0005000000237487257.\n",
      "588000/588000 [==============================] - 13s 22us/sample - loss: 0.3952 - auc: 0.7904 - val_loss: 0.4040 - val_auc: 0.7801\n",
      "Epoch 7/100\n",
      "588000/588000 [==============================] - 13s 22us/sample - loss: 0.3877 - auc: 0.8010 - val_loss: 0.4102 - val_auc: 0.7737\n",
      "Epoch 8/100\n",
      "587776/588000 [============================>.] - ETA: 0s - loss: 0.3834 - auc: 0.8071Restoring model weights from the end of the best epoch.\n",
      "588000/588000 [==============================] - 13s 22us/sample - loss: 0.3834 - auc: 0.8071 - val_loss: 0.4117 - val_auc: 0.7688\n",
      "Epoch 00008: early stopping\n"
     ]
    },
    {
     "name": "stderr",
     "output_type": "stream",
     "text": [
      "\r",
      "45it [1:30:08, 123.82s/it]"
     ]
    },
    {
     "name": "stdout",
     "output_type": "stream",
     "text": [
      "Train on 588000 samples, validate on 12000 samples\n",
      "Epoch 1/100\n",
      "588000/588000 [==============================] - 17s 28us/sample - loss: 0.4700 - auc: 0.6998 - val_loss: 0.4104 - val_auc: 0.7760\n",
      "Epoch 2/100\n",
      "588000/588000 [==============================] - 13s 22us/sample - loss: 0.4078 - auc: 0.7710 - val_loss: 0.4016 - val_auc: 0.7804\n",
      "Epoch 3/100\n",
      "588000/588000 [==============================] - 13s 22us/sample - loss: 0.4028 - auc: 0.7789 - val_loss: 0.4028 - val_auc: 0.7786\n",
      "Epoch 4/100\n",
      "588000/588000 [==============================] - 13s 22us/sample - loss: 0.4002 - auc: 0.7829 - val_loss: 0.4023 - val_auc: 0.7809\n",
      "Epoch 5/100\n",
      "588000/588000 [==============================] - 13s 22us/sample - loss: 0.3975 - auc: 0.7866 - val_loss: 0.4045 - val_auc: 0.7778\n",
      "Epoch 6/100\n",
      "588000/588000 [==============================] - 13s 23us/sample - loss: 0.3952 - auc: 0.7903 - val_loss: 0.4047 - val_auc: 0.7773\n",
      "Epoch 7/100\n",
      "586752/588000 [============================>.] - ETA: 0s - loss: 0.3920 - auc: 0.7952\n",
      "Epoch 00007: ReduceLROnPlateau reducing learning rate to 0.0005000000237487257.\n",
      "588000/588000 [==============================] - 17s 29us/sample - loss: 0.3920 - auc: 0.7952 - val_loss: 0.4095 - val_auc: 0.7735\n",
      "Epoch 8/100\n",
      "588000/588000 [==============================] - 18s 31us/sample - loss: 0.3828 - auc: 0.8081 - val_loss: 0.4112 - val_auc: 0.7688\n",
      "Epoch 9/100\n",
      "586752/588000 [============================>.] - ETA: 0s - loss: 0.3773 - auc: 0.8155Restoring model weights from the end of the best epoch.\n",
      "588000/588000 [==============================] - 17s 29us/sample - loss: 0.3773 - auc: 0.8155 - val_loss: 0.4163 - val_auc: 0.7650\n",
      "Epoch 00009: early stopping\n"
     ]
    },
    {
     "name": "stderr",
     "output_type": "stream",
     "text": [
      "\r",
      "46it [1:32:46, 134.17s/it]"
     ]
    },
    {
     "name": "stdout",
     "output_type": "stream",
     "text": [
      "Train on 588000 samples, validate on 12000 samples\n",
      "Epoch 1/100\n",
      "588000/588000 [==============================] - 21s 36us/sample - loss: 0.4726 - auc: 0.6961 - val_loss: 0.4080 - val_auc: 0.7760\n",
      "Epoch 2/100\n",
      "588000/588000 [==============================] - 17s 28us/sample - loss: 0.4082 - auc: 0.7702 - val_loss: 0.4017 - val_auc: 0.7771\n",
      "Epoch 3/100\n",
      "588000/588000 [==============================] - 17s 28us/sample - loss: 0.4027 - auc: 0.7790 - val_loss: 0.4015 - val_auc: 0.7782\n",
      "Epoch 4/100\n",
      "588000/588000 [==============================] - 17s 28us/sample - loss: 0.4003 - auc: 0.7828 - val_loss: 0.4011 - val_auc: 0.7781\n",
      "Epoch 5/100\n",
      "588000/588000 [==============================] - 16s 28us/sample - loss: 0.3978 - auc: 0.7863 - val_loss: 0.4036 - val_auc: 0.7758\n",
      "Epoch 6/100\n",
      "586752/588000 [============================>.] - ETA: 0s - loss: 0.3953 - auc: 0.7900\n",
      "Epoch 00006: ReduceLROnPlateau reducing learning rate to 0.0005000000237487257.\n",
      "588000/588000 [==============================] - 17s 29us/sample - loss: 0.3954 - auc: 0.7900 - val_loss: 0.4035 - val_auc: 0.7741\n",
      "Epoch 7/100\n",
      "588000/588000 [==============================] - 15s 26us/sample - loss: 0.3885 - auc: 0.8000 - val_loss: 0.4103 - val_auc: 0.7691\n",
      "Epoch 8/100\n",
      "587776/588000 [============================>.] - ETA: 0s - loss: 0.3846 - auc: 0.8056Restoring model weights from the end of the best epoch.\n",
      "588000/588000 [==============================] - 14s 23us/sample - loss: 0.3846 - auc: 0.8056 - val_loss: 0.4118 - val_auc: 0.7650\n",
      "Epoch 00008: early stopping\n"
     ]
    },
    {
     "name": "stderr",
     "output_type": "stream",
     "text": [
      "\r",
      "47it [1:35:18, 139.52s/it]"
     ]
    },
    {
     "name": "stdout",
     "output_type": "stream",
     "text": [
      "Train on 588000 samples, validate on 12000 samples\n",
      "Epoch 1/100\n",
      "588000/588000 [==============================] - 16s 27us/sample - loss: 0.4720 - auc: 0.6971 - val_loss: 0.4019 - val_auc: 0.7863\n",
      "Epoch 2/100\n",
      "588000/588000 [==============================] - 13s 22us/sample - loss: 0.4080 - auc: 0.7705 - val_loss: 0.3940 - val_auc: 0.7918\n",
      "Epoch 3/100\n",
      "588000/588000 [==============================] - 13s 22us/sample - loss: 0.4029 - auc: 0.7789 - val_loss: 0.3935 - val_auc: 0.7916ss: \n",
      "Epoch 4/100\n",
      "588000/588000 [==============================] - 13s 22us/sample - loss: 0.4003 - auc: 0.7826 - val_loss: 0.3952 - val_auc: 0.7918\n",
      "Epoch 5/100\n",
      "587776/588000 [============================>.] - ETA: 0s - loss: 0.3982 - auc: 0.7859\n",
      "Epoch 00005: ReduceLROnPlateau reducing learning rate to 0.0005000000237487257.\n",
      "588000/588000 [==============================] - 13s 23us/sample - loss: 0.3982 - auc: 0.7859 - val_loss: 0.3965 - val_auc: 0.7908\n",
      "Epoch 6/100\n",
      "588000/588000 [==============================] - 13s 22us/sample - loss: 0.3927 - auc: 0.7936 - val_loss: 0.3972 - val_auc: 0.7889\n",
      "Epoch 7/100\n",
      "585728/588000 [============================>.] - ETA: 0s - loss: 0.3899 - auc: 0.7979Restoring model weights from the end of the best epoch.\n",
      "588000/588000 [==============================] - 13s 22us/sample - loss: 0.3899 - auc: 0.7978 - val_loss: 0.4000 - val_auc: 0.7868\n",
      "Epoch 00007: early stopping\n"
     ]
    },
    {
     "name": "stderr",
     "output_type": "stream",
     "text": [
      "\r",
      "48it [1:37:11, 131.54s/it]"
     ]
    },
    {
     "name": "stdout",
     "output_type": "stream",
     "text": [
      "Train on 588000 samples, validate on 12000 samples\n",
      "Epoch 1/100\n",
      "588000/588000 [==============================] - 16s 28us/sample - loss: 0.4716 - auc: 0.6966 - val_loss: 0.4099 - val_auc: 0.7785\n",
      "Epoch 2/100\n",
      "588000/588000 [==============================] - 13s 22us/sample - loss: 0.4081 - auc: 0.7707 - val_loss: 0.3984 - val_auc: 0.7869\n",
      "Epoch 3/100\n",
      "588000/588000 [==============================] - 13s 22us/sample - loss: 0.4030 - auc: 0.7788 - val_loss: 0.3984 - val_auc: 0.7871\n",
      "Epoch 4/100\n",
      "588000/588000 [==============================] - 13s 21us/sample - loss: 0.4001 - auc: 0.7831 - val_loss: 0.3986 - val_auc: 0.7865\n",
      "Epoch 5/100\n",
      "588000/588000 [==============================] - 13s 22us/sample - loss: 0.3979 - auc: 0.7864 - val_loss: 0.3997 - val_auc: 0.7855\n",
      "Epoch 6/100\n",
      "587776/588000 [============================>.] - ETA: 0s - loss: 0.3957 - auc: 0.7895\n",
      "Epoch 00006: ReduceLROnPlateau reducing learning rate to 0.0005000000237487257.\n",
      "588000/588000 [==============================] - 13s 21us/sample - loss: 0.3957 - auc: 0.7895 - val_loss: 0.4024 - val_auc: 0.7833\n",
      "Epoch 7/100\n",
      "588000/588000 [==============================] - 13s 22us/sample - loss: 0.3883 - auc: 0.8001 - val_loss: 0.4069 - val_auc: 0.7818\n",
      "Epoch 8/100\n",
      "587776/588000 [============================>.] - ETA: 0s - loss: 0.3833 - auc: 0.8074Restoring model weights from the end of the best epoch.\n",
      "588000/588000 [==============================] - 13s 22us/sample - loss: 0.3833 - auc: 0.8075 - val_loss: 0.4038 - val_auc: 0.7802\n",
      "Epoch 00008: early stopping\n"
     ]
    },
    {
     "name": "stderr",
     "output_type": "stream",
     "text": [
      "\r",
      "49it [1:39:15, 129.45s/it]"
     ]
    },
    {
     "name": "stdout",
     "output_type": "stream",
     "text": [
      "Train on 588000 samples, validate on 12000 samples\n",
      "Epoch 1/100\n",
      "588000/588000 [==============================] - 16s 27us/sample - loss: 0.4732 - auc: 0.6966 - val_loss: 0.4112 - val_auc: 0.7785\n",
      "Epoch 2/100\n",
      "588000/588000 [==============================] - 13s 22us/sample - loss: 0.4080 - auc: 0.7706 - val_loss: 0.4003 - val_auc: 0.7819\n",
      "Epoch 3/100\n",
      "588000/588000 [==============================] - 13s 22us/sample - loss: 0.4029 - auc: 0.7789 - val_loss: 0.4008 - val_auc: 0.7825\n",
      "Epoch 4/100\n",
      "588000/588000 [==============================] - 13s 21us/sample - loss: 0.4004 - auc: 0.7825 - val_loss: 0.4008 - val_auc: 0.7815\n",
      "Epoch 5/100\n",
      "588000/588000 [==============================] - 13s 21us/sample - loss: 0.3979 - auc: 0.7859 - val_loss: 0.4012 - val_auc: 0.7815\n",
      "Epoch 6/100\n",
      "587776/588000 [============================>.] - ETA: 0s - loss: 0.3959 - auc: 0.7893\n",
      "Epoch 00006: ReduceLROnPlateau reducing learning rate to 0.0005000000237487257.\n",
      "588000/588000 [==============================] - 13s 22us/sample - loss: 0.3958 - auc: 0.7893 - val_loss: 0.4031 - val_auc: 0.7787\n",
      "Epoch 7/100\n",
      "588000/588000 [==============================] - 16s 27us/sample - loss: 0.3889 - auc: 0.7991 - val_loss: 0.4068 - val_auc: 0.7760\n",
      "Epoch 8/100\n",
      "586752/588000 [============================>.] - ETA: 0s - loss: 0.3844 - auc: 0.8055Restoring model weights from the end of the best epoch.\n",
      "588000/588000 [==============================] - 16s 27us/sample - loss: 0.3844 - auc: 0.8055 - val_loss: 0.4069 - val_auc: 0.7733\n",
      "Epoch 00008: early stopping\n"
     ]
    },
    {
     "name": "stderr",
     "output_type": "stream",
     "text": [
      "50it [1:41:31, 121.84s/it]\n"
     ]
    }
   ],
   "source": [
    "from sklearn.metrics import roc_auc_score\n",
    "from sklearn.utils import class_weight\n",
    "from sklearn.model_selection import StratifiedKFold\n",
    "from tqdm import tqdm\n",
    "from sklearn.preprocessing import StandardScaler\n",
    "\n",
    "folds = 50\n",
    "skf = StratifiedKFold(n_splits=folds, shuffle=True, random_state=42)\n",
    "\n",
    "es = EarlyStopping(monitor='val_auc', min_delta=0.0001, patience=5, verbose=1, mode='max',  \n",
    "                   baseline=None,  restore_best_weights=True)\n",
    "\n",
    "rlr = ReduceLROnPlateau(monitor='val_auc', factor=0.5, patience=3, min_lr=1e-6, mode='max', verbose=1)\n",
    "\n",
    "df_test[\"target\"] = 0\n",
    "\n",
    "for train_idx, val_idx in tqdm(skf.split(df, df[\"target\"])):\n",
    "       \n",
    "    X_train = [df.loc[train_idx, f].values for f in features]\n",
    "    y_train = df.loc[train_idx, \"target\"].values\n",
    "    \n",
    "    X_val = [df.loc[val_idx, f].values for f in features]\n",
    "    y_val = df.loc[val_idx, \"target\"].values\n",
    "    \n",
    "    model = create_model(df, features)\n",
    "    model.compile(loss='binary_crossentropy', optimizer=\"adam\", metrics=[auc])\n",
    "    \n",
    "    class_weights = class_weight.compute_class_weight('balanced', [0, 1], y_train)\n",
    "\n",
    "    model.fit(X_train, utils.to_categorical(y_train), validation_data=(X_val, utils.to_categorical(y_val)),\n",
    "              verbose=1, batch_size=1024, callbacks=[es, rlr], epochs=100, class_weight=class_weights)\n",
    "       \n",
    "    X_test = [df_test.loc[:, f].values for f in features]\n",
    "    df_test[\"target\"] += model.predict(X_test)[:, 1]\n",
    " \n",
    "    K.clear_session()"
   ]
  },
  {
   "cell_type": "code",
   "execution_count": 12,
   "metadata": {},
   "outputs": [
    {
     "name": "stdout",
     "output_type": "stream",
     "text": [
      "id,target\r\n",
      "600000,0.13013943\r\n",
      "600001,0.28574654\r\n",
      "600002,0.17581375\r\n",
      "600003,0.15984708\r\n"
     ]
    }
   ],
   "source": [
    "df_test['target'] /= folds\n",
    "df_test[['id', 'target']].to_csv('../data/submission_entity_encoding.csv', index=False)\n",
    "!head -n 5 ../data/submission_entity_encoding.csv"
   ]
  },
  {
   "cell_type": "markdown",
   "metadata": {},
   "source": [
    "# Combine submissions"
   ]
  },
  {
   "cell_type": "code",
   "execution_count": 10,
   "metadata": {},
   "outputs": [],
   "source": [
    "import pandas as pd\n",
    "df1 = pd.read_csv('../data/submission_lgbm.csv')\n",
    "df2 = pd.read_csv('../data/submission_entity_encoding.csv')\n",
    "df3 = pd.read_csv('../data/submission_wv.csv')"
   ]
  },
  {
   "cell_type": "code",
   "execution_count": 11,
   "metadata": {},
   "outputs": [
    {
     "data": {
      "text/html": [
       "<div>\n",
       "<style scoped>\n",
       "    .dataframe tbody tr th:only-of-type {\n",
       "        vertical-align: middle;\n",
       "    }\n",
       "\n",
       "    .dataframe tbody tr th {\n",
       "        vertical-align: top;\n",
       "    }\n",
       "\n",
       "    .dataframe thead th {\n",
       "        text-align: right;\n",
       "    }\n",
       "</style>\n",
       "<table border=\"1\" class=\"dataframe\">\n",
       "  <thead>\n",
       "    <tr style=\"text-align: right;\">\n",
       "      <th></th>\n",
       "      <th>id</th>\n",
       "      <th>target</th>\n",
       "    </tr>\n",
       "  </thead>\n",
       "  <tbody>\n",
       "    <tr>\n",
       "      <th>0</th>\n",
       "      <td>600000</td>\n",
       "      <td>0.374122</td>\n",
       "    </tr>\n",
       "    <tr>\n",
       "      <th>1</th>\n",
       "      <td>600001</td>\n",
       "      <td>0.598371</td>\n",
       "    </tr>\n",
       "    <tr>\n",
       "      <th>2</th>\n",
       "      <td>600002</td>\n",
       "      <td>0.430493</td>\n",
       "    </tr>\n",
       "    <tr>\n",
       "      <th>3</th>\n",
       "      <td>600003</td>\n",
       "      <td>0.340466</td>\n",
       "    </tr>\n",
       "    <tr>\n",
       "      <th>4</th>\n",
       "      <td>600004</td>\n",
       "      <td>0.398753</td>\n",
       "    </tr>\n",
       "  </tbody>\n",
       "</table>\n",
       "</div>"
      ],
      "text/plain": [
       "       id    target\n",
       "0  600000  0.374122\n",
       "1  600001  0.598371\n",
       "2  600002  0.430493\n",
       "3  600003  0.340466\n",
       "4  600004  0.398753"
      ]
     },
     "execution_count": 11,
     "metadata": {},
     "output_type": "execute_result"
    }
   ],
   "source": [
    "df1.head()"
   ]
  },
  {
   "cell_type": "code",
   "execution_count": 12,
   "metadata": {},
   "outputs": [
    {
     "data": {
      "text/html": [
       "<div>\n",
       "<style scoped>\n",
       "    .dataframe tbody tr th:only-of-type {\n",
       "        vertical-align: middle;\n",
       "    }\n",
       "\n",
       "    .dataframe tbody tr th {\n",
       "        vertical-align: top;\n",
       "    }\n",
       "\n",
       "    .dataframe thead th {\n",
       "        text-align: right;\n",
       "    }\n",
       "</style>\n",
       "<table border=\"1\" class=\"dataframe\">\n",
       "  <thead>\n",
       "    <tr style=\"text-align: right;\">\n",
       "      <th></th>\n",
       "      <th>id</th>\n",
       "      <th>target</th>\n",
       "    </tr>\n",
       "  </thead>\n",
       "  <tbody>\n",
       "    <tr>\n",
       "      <th>0</th>\n",
       "      <td>600000</td>\n",
       "      <td>0.130139</td>\n",
       "    </tr>\n",
       "    <tr>\n",
       "      <th>1</th>\n",
       "      <td>600001</td>\n",
       "      <td>0.285747</td>\n",
       "    </tr>\n",
       "    <tr>\n",
       "      <th>2</th>\n",
       "      <td>600002</td>\n",
       "      <td>0.175814</td>\n",
       "    </tr>\n",
       "    <tr>\n",
       "      <th>3</th>\n",
       "      <td>600003</td>\n",
       "      <td>0.159847</td>\n",
       "    </tr>\n",
       "    <tr>\n",
       "      <th>4</th>\n",
       "      <td>600004</td>\n",
       "      <td>0.158463</td>\n",
       "    </tr>\n",
       "  </tbody>\n",
       "</table>\n",
       "</div>"
      ],
      "text/plain": [
       "       id    target\n",
       "0  600000  0.130139\n",
       "1  600001  0.285747\n",
       "2  600002  0.175814\n",
       "3  600003  0.159847\n",
       "4  600004  0.158463"
      ]
     },
     "execution_count": 12,
     "metadata": {},
     "output_type": "execute_result"
    }
   ],
   "source": [
    "df2.head()"
   ]
  },
  {
   "cell_type": "code",
   "execution_count": 13,
   "metadata": {},
   "outputs": [
    {
     "data": {
      "text/html": [
       "<div>\n",
       "<style scoped>\n",
       "    .dataframe tbody tr th:only-of-type {\n",
       "        vertical-align: middle;\n",
       "    }\n",
       "\n",
       "    .dataframe tbody tr th {\n",
       "        vertical-align: top;\n",
       "    }\n",
       "\n",
       "    .dataframe thead th {\n",
       "        text-align: right;\n",
       "    }\n",
       "</style>\n",
       "<table border=\"1\" class=\"dataframe\">\n",
       "  <thead>\n",
       "    <tr style=\"text-align: right;\">\n",
       "      <th></th>\n",
       "      <th>id</th>\n",
       "      <th>target</th>\n",
       "    </tr>\n",
       "  </thead>\n",
       "  <tbody>\n",
       "    <tr>\n",
       "      <th>0</th>\n",
       "      <td>600000</td>\n",
       "      <td>0.365186</td>\n",
       "    </tr>\n",
       "    <tr>\n",
       "      <th>1</th>\n",
       "      <td>600001</td>\n",
       "      <td>0.591646</td>\n",
       "    </tr>\n",
       "    <tr>\n",
       "      <th>2</th>\n",
       "      <td>600002</td>\n",
       "      <td>0.431123</td>\n",
       "    </tr>\n",
       "    <tr>\n",
       "      <th>3</th>\n",
       "      <td>600003</td>\n",
       "      <td>0.377906</td>\n",
       "    </tr>\n",
       "    <tr>\n",
       "      <th>4</th>\n",
       "      <td>600004</td>\n",
       "      <td>0.403135</td>\n",
       "    </tr>\n",
       "  </tbody>\n",
       "</table>\n",
       "</div>"
      ],
      "text/plain": [
       "       id    target\n",
       "0  600000  0.365186\n",
       "1  600001  0.591646\n",
       "2  600002  0.431123\n",
       "3  600003  0.377906\n",
       "4  600004  0.403135"
      ]
     },
     "execution_count": 13,
     "metadata": {},
     "output_type": "execute_result"
    }
   ],
   "source": [
    "df3.head()"
   ]
  },
  {
   "cell_type": "code",
   "execution_count": 14,
   "metadata": {},
   "outputs": [],
   "source": [
    "df2[\"target\"] = (0.3*df1[\"target\"] + 0.7*df2[\"target\"])"
   ]
  },
  {
   "cell_type": "code",
   "execution_count": 15,
   "metadata": {},
   "outputs": [
    {
     "name": "stdout",
     "output_type": "stream",
     "text": [
      "id,target\r\n",
      "600000,0.20333434656327662\r\n",
      "600001,0.3795339504526317\r\n",
      "600002,0.25221752576539436\r\n",
      "600003,0.2140328608934602\r\n"
     ]
    }
   ],
   "source": [
    "df2.to_csv('../data/submission_combine.csv', index=False)\n",
    "!head -n 5 ../data/submission_combine.csv"
   ]
  },
  {
   "cell_type": "code",
   "execution_count": null,
   "metadata": {},
   "outputs": [],
   "source": []
  }
 ],
 "metadata": {
  "kernelspec": {
   "display_name": "Python 3",
   "language": "python",
   "name": "python3"
  },
  "language_info": {
   "codemirror_mode": {
    "name": "ipython",
    "version": 3
   },
   "file_extension": ".py",
   "mimetype": "text/x-python",
   "name": "python",
   "nbconvert_exporter": "python",
   "pygments_lexer": "ipython3",
   "version": "3.7.6"
  }
 },
 "nbformat": 4,
 "nbformat_minor": 4
}
